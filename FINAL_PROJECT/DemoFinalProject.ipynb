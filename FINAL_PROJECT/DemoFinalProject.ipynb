{
  "nbformat": 4,
  "nbformat_minor": 0,
  "metadata": {
    "colab": {
      "name": "DemoFinalProject.ipynb",
      "provenance": [],
      "collapsed_sections": [],
      "include_colab_link": true
    },
    "kernelspec": {
      "name": "python3",
      "display_name": "Python 3"
    },
    "language_info": {
      "name": "python"
    }
  },
  "cells": [
    {
      "cell_type": "markdown",
      "metadata": {
        "id": "view-in-github",
        "colab_type": "text"
      },
      "source": [
        "<a href=\"https://colab.research.google.com/github/lphuong304/CS114.L21/blob/main/FINAL_PROJECT/DemoFinalProject.ipynb\" target=\"_parent\"><img src=\"https://colab.research.google.com/assets/colab-badge.svg\" alt=\"Open In Colab\"/></a>"
      ]
    },
    {
      "cell_type": "markdown",
      "metadata": {
        "id": "e-n3tPtnWZec"
      },
      "source": [
        "<h1 align=\"center\"><b>Đồ án cuối kỳ môn Máy học - CS112.L21</b></h1>\n",
        "<h1 align=\"center\"><b>MÔ HÌNH SIÊU THỊ KHÔNG THU NGÂN TRONG BỐI CẢNH THANH TOÁN ĐIỆN TỬ PHÁT TRIỂN MẠNH</b></h1>"
      ]
    },
    {
      "cell_type": "markdown",
      "metadata": {
        "id": "ca04d1GlbmC6"
      },
      "source": [
        "## 1. Giới thiệu\n",
        "* Bộ môn: Máy học - CS112.L21\n",
        "* Giảng viên:\n",
        "  * Lê Đình Duy\n",
        "  * Phạm Nguyễn Trường An\n",
        "* Thành viên nhóm:\n",
        "  * Nguyễn Ngọc Lan Phương - 19520227\n",
        "  * Nguyễn Quốc Huy - 19521623\n",
        "  * Hoàng Anh Tú - 19522450\n",
        "* Credit:\n",
        "1. [paper predict retail production](https://core.ac.uk/download/pdf/218819449.pdf)\n"
      ]
    },
    {
      "cell_type": "markdown",
      "metadata": {
        "id": "hRIFScBAjM_g"
      },
      "source": [
        "#2. Mô tả bài toán:\n",
        "* **Bối cảnh ứng dụng**: Trong thời đại công nghệ phát triển vượt trội,nhu cầu mua sắm của con người ngày càng cao, dù thương mại điển tử có phát triển mạnh thì hình thức mua sắm truyền thống vẫn là sự ;lựa chọn hàng đầu của con người. Dựa trên điều đó, chúng em nảy ra ý tườn vận dụng Machine Learning vào MÔ HÌNH SIÊU THỊ KHÔNG THU NGÂN.\n",
        "* **Tại sao lại là MÔ HÌNH SIÊU THỊ KHÔNG THU NGÂN? Lợi ích so với mô hình truyền thống?**\n",
        " Sản phẩm đồ án của chúng em sẽ mang đến những lợi ích như sau:\n",
        "  + Giúp đẩy nhan quy trình thanh thoán tại các cửa hàng, hạn chế việc chờ đợi xếp hàng. (Vì tốc độ của máy nhanh hơn thủ công)\n",
        "  + Cắt giảm chi phí nhân lực, giảm các trường hợp dịch vụ không được đánh giá cao do thái độ nhân viên.\n",
        "  + Tối ưu hóa trải nghiệm người dùng ở quá trình thanh toán.\n",
        "  + Đáng tin cậy hơn so với hình thức thanh toán thủ công\n",
        "* **INPUT**: Video các sản phẩm thương mại, quay trực diện.\n",
        "* **OUTPUT**: Tên sản phẩm thương mại + Số lượng + Gía tiền sản phẩm => Tổng tiền (Hình thức một hóa đơn)\n",
        "\n",
        "<a align = center>\n",
        "  <img src='https://drive.google.com/uc?export=view&id=1J9GDyPSjU-ka3o_NgELDZTFVgCeCmQWZ' align = center>\n",
        "  <div style=width: 130px; align = center>Ảnh thực tế: nhân viên thu ngân ở siêu thị</div>\n",
        "</a>\n",
        "\n",
        "<a align = center>\n",
        "  <img src='https://drive.google.com/uc?export=view&id=1WK7Ye8RuHFMncvd6EaA5Ccu2k2anw8Ij' style='width: 140px' align = center>\n",
        "  <div style=width: 130px; align = center>Ảnh minh họa: hoạt động của ứng dụng trong thực tế</div>\n",
        "</a>\n",
        "\n",
        "* **CÁCH LẤY DỮ LIỆU**: Vì dịch bệnh không cho phép nên chúng em sẽ ưu tiên đến siêu thị gần nhà và sẽ ưu tiên chủ yếu lấy data ở thương hiệu siêu thị đã thống nhất =>Siêu thị Bách Hóa Xanh. Crawl giá và tên sản phẩm thương mại từ web thương mại điện tử (www.bachhoaxanh.com), tiếp cận thực tế, quay clip ở địa phương.\n",
        "\n",
        "* **NHẬN DIỆN BÀI TOÁN**: Tracking Object In Video, CNN, DeepLearning và sử dụng yolov5 để detect.\n"
      ]
    },
    {
      "cell_type": "markdown",
      "metadata": {
        "id": "43M0eohkVEKy"
      },
      "source": [
        "#3. MÔ TẢ BỘ DỮ LIỆU:\n",
        "##3.1 Dữ liệu và cách thu thập:\n",
        "Vì một loại sản phẩm sẽ có nhiều thương hiệu (hạt nêm Ajingon, hạt nêm Knor,..) mỗi loại như vậy sẽ có hương vị,đặc điểm tính chất khác nhau(hạt nêm Ajingon có các loại gói 100g, 3kg, 2kg,...) nên số lượng data sẽ rất lớn, nên để kịp tiến độ cũng như nhận diện tên và giá của nhiều sản phẩm nhất có thể cũng như cập nhật giá thị trường đúng nhất chúng em dự định như sau. Dự đoán là nhận diện **500+** sản phẩm khác nhau (lưu ý với các loại trái cây, rau, thực phẩm chỉ tính đến các dạng sản phẩm đã đóng gói sẵn của một nhãn hàng)\n",
        "\n",
        "<a align = center>\n",
        "  <img src='https://drive.google.com/uc?export=view&id=1PBxTS1EtxH0qMnSe9MHTJBLmNkZsmRnO' style='width: 140px' align = center>\n",
        "  <div style=width: 130px; align = center>Ảnh minh họa: Ví dụ về các sản phẩm thuộc loại táo Dazzle 1kg được bán tại Siêu Thị Bách Hóa Xanh</div>\n",
        "</a>\n",
        "\n",
        "* Bộ dữ liệu dự tính sẽ bao gồm: \n",
        "  + Một dataset dạng bảng hiển thị tên sản phẩm + giá được cập nhật gần nhất với thời gian báo cáo đồ án được crawl từ web. \n",
        "  + 60 - 100 videos tham khảo từ google và quay trực tiếp tại siêu thị. \n",
        "  + 8000 - 10000 images.\n",
        "\n",
        "##3.2 Các thao tác tiền xử lý dữ liệu:\n",
        "\n",
        "##3.3 Phân chia (split) - train/dev/test\n",
        "\n",
        "\n"
      ]
    },
    {
      "cell_type": "markdown",
      "metadata": {
        "id": "M2uVfQnMeNDR"
      },
      "source": [
        "#4. Mô tả về đặc trưng"
      ]
    }
  ]
}