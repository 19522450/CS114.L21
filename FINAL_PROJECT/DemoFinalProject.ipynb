{
  "nbformat": 4,
  "nbformat_minor": 0,
  "metadata": {
    "colab": {
      "name": "DemoBaoCao.ipynb",
      "provenance": [],
      "collapsed_sections": [],
      "include_colab_link": true
    },
    "kernelspec": {
      "name": "python3",
      "display_name": "Python 3"
    },
    "language_info": {
      "name": "python"
    }
  },
  "cells": [
    {
      "cell_type": "markdown",
      "metadata": {
        "id": "view-in-github",
        "colab_type": "text"
      },
      "source": [
        "<a href=\"https://colab.research.google.com/github/lphuong304/CS114.L21/blob/main/FINAL_PROJECT/DemoFinalProject.ipynb\" target=\"_parent\"><img src=\"https://colab.research.google.com/assets/colab-badge.svg\" alt=\"Open In Colab\"/></a>"
      ]
    },
    {
      "cell_type": "markdown",
      "metadata": {
        "id": "lnRcjFKju65P"
      },
      "source": [
        "<h1 align=\"center\"><b>Đồ án cuối kỳ môn Máy học - CS112.L21</b></h1>\n",
        "<h1 align=\"center\"><b>Phân nhóm hình ảnh được lưu trên điện thoại di động</b></h1>\n",
        "\n",
        "---\n"
      ]
    },
    {
      "cell_type": "markdown",
      "metadata": {
        "id": "uxbzjKMYv99F"
      },
      "source": [
        "## 1. Giới thiệu\n",
        "* Bộ môn: Máy học - CS112.L21\n",
        "* Giảng viên:\n",
        "  * Lê Đình Duy\n",
        "  * Phạm Nguyễn Trường An\n",
        "* Thành viên nhóm:\n",
        "  * Nguyễn Ngọc Lan Phương - 19520227\n",
        "  * Nguyễn Quốc Huy - 19521623\n",
        "  * Hoàng Anh Tú - 19522450\n",
        "* Credit:\n",
        "1. [spliting data](https://viblo.asia/p/mle-04-how-to-split-dataset-maGK7WJDKj2)\n",
        "2. [image pre-processing](https://towardsdatascience.com/image-pre-processing-c1aec0be3edf)\n",
        "3. [feature selection](https://www.researchgate.net/publication/276499637_Feature_Selection_for_Image_Classification_Based_on_a_New_Ranking_Criterion)"
      ]
    },
    {
      "cell_type": "markdown",
      "metadata": {
        "id": "Lwookg0gwrMo"
      },
      "source": [
        "## 2. Mô tả bài toán\n",
        "* Với thời đại công nghệ phát triển vượt trội, nhu cầu về quản lý dữ liệu của con người ngày càng cao. Đi kèm với sự phát triển, để đáp ứng nhu cầu sống cho con người trở nên tiện lợi hơn, có \"tổ chức\" hơn, dễ dàng tìm kiếm quản lý dữ liệu của riêng mình, thật tốt nếu như chúng ta chỉ cần tải ảnh hoặc chụp ảnh thì ảnh sẽ được gắn nhãn phân loại cho chúng ta và sắp xếp chúng vào một nhóm thích hợp. Việc *truy xuất hình ảnh cũng dễ dàng hơn* sau khi được tự phân loại.\n",
        "* Chi tiết hơn, ví dụ như ảnh về bảng quy định, bảng hợp đồng, ... sẽ được phân vào loại *ảnh văn bản*. Ảnh những động vật chó, mèo, ... sẽ được phân vào nhóm *ảnh động vật*, v.v.\n",
        "* Chúng em hướng tới việc áp dụng các thuật toán thích hợp để tạo ra một * **model** có chức năng lưu, gắn nhãn và đưa về một nhóm thư mục các ảnh được chụp.\n",
        "  * **Input:** images (2d-array)\n",
        "  * **Output:** nhóm các images đã được phân loại\n",
        "* Bài toán thuộc Phân nhóm hình ảnh (*Image Classification*) - Học có giám sát (*Supervised*)"
      ]
    },
    {
      "cell_type": "markdown",
      "metadata": {
        "id": "bd0XECoev0u1"
      },
      "source": [
        "## 3. Mô tả về bộ dữ liệu\n",
        "* Dữ liệu huấn luyện sẽ được Crawl từ các websites chính thống như Google, Pinterest, ...\n",
        "* Dự liêu thu thập được đã được gắn nhãn sẵn và phân vào các folder ứng với mỗi nhãn. Ở đây, chúng em sẽ làm các nhóm hình cụ thể với các class được dự tính như sau:\n",
        "  * Ảnh động vật (chó, mèo, vịt, gà, heo, bò, ngựa, cá, thỏ,...)\n",
        "  * Ảnh văn bản (hợp đồng, đoạn văn, hóa đơn, lá thư,...)\n",
        "  * Ảnh mọi người\n",
        "  * Ảnh xe cộ (xe đạp, mô tô, ô tô, buýt, xe tải)\n",
        "  * Ảnh phong cảnh (biển, sông, hồ, đồng cỏ, sa mạc, núi)\n",
        "  * Ảnh côn trùng (sâu bọ, bươm bướm, chuồn chuồn,...)\n",
        "  * Ảnh ẩm thực\n",
        "  * Ảnh đồ vật (laptop, máy quạt, bàn, ghế,...)\n",
        "Đối với các bức ảnh chứa nhiều class, nó sẽ được phân vào các nhóm mà class được thể hiện nổi trội nhất.\n",
        "Mỗi class sẽ bao gồm từ $5-10$ **features** tùy tính chất của vật thể và chúng em vẫn đang trong quá trình tìm kiếm và xây dựng bộ datas tốt nhất có thể.\n",
        "* **Các thao tác tiền xử lý dữ liệu:**\n",
        "\n",
        "  * B1: Đọc hình ảnh, chuyển hình về 2d-array\n",
        "  * B2: Giảm độ nhiễu của hình ảnh (nhóm đề cao sử dụng Gaussian Blurring)\n",
        "  * B3: Phân đoạn hình ảnh (tách vật khỏi nền, loại bỏ nhiễu nhiều hơn)\n",
        "  * B4: Resize hình về cùng một kích cỡ, 64x64 hoặc 128x128\n",
        "  * B5: Đưa ảnh về 1d-array.\n",
        "\n",
        "  => Cuối cùng đưa tất cả ảnh vào cùng một 1d-array để tạo thành một bộ dữ liệu.\n",
        "\n",
        "* **Chia tỉ lệ:**\n",
        "  Tỉ lệ vàng của các tập dữ liệu này 70%-15%-15% hay 60%-20%-20%.\n",
        "\n",
        "  * Những tỉ lệ này đều phản ánh cho ta thấy phần lớn vẫn là Training set, phần còn lại được chia đều cho Dev set và Test set. \n",
        "\n",
        "  * Dev set và Test set tuy nhỏ hơn Training set nhưng về tỉ lệ cũng đã = 1/3 hay 1/4 so với Training set. \n",
        "\n",
        "  Lý do chia như trên: Vì lượng dữ liệu của ta nhỏ nên nếu sử dụng quá nhiều cho Training set, có thể trong quá trình phát triển mô hình, vô hình chung ta sẽ bị overfitting Dev set.\n"
      ]
    },
    {
      "cell_type": "markdown",
      "metadata": {
        "id": "W78KKy3r4_JN"
      },
      "source": [
        "## 4. Mô tả về đặc trưng\n"
      ]
    },
    {
      "cell_type": "markdown",
      "metadata": {
        "id": "DR0BJ14T9U0H"
      },
      "source": [
        "Một số yêu cầu đối với việc lựa chọn đặc trưng:\n",
        "\n",
        "* Tìm các đặc trưng phù hợp, vì nếu số lượng đặc trưng quá nhiều sẽ làm \"che khuất\" các \"tín hiệu\", ngược lại, nếu số lượng đặc trưng ít sẽ gây khó khăn trong phân loại ảnh\n",
        "* Phải giảm được độ phức tạp trong lúc tính toán tổng thể bằng giảm đa chiều của bài toán phân lớp. Vì số lượng đặc trưng có thể rất lớn\n",
        "\n",
        "Những đặc trưng chính:\n",
        "* Màu sắc\n",
        "* Kết cấu\n",
        "* Hình dạng\n",
        "* Thông tin không gian\n",
        "* Phân đoạn ảnh\n",
        "\n",
        "Cách để tìm ra Feature của từng class:\n",
        "* Sử dụng thuật toán SVM - RFE để truy xuất các đặc trưng. Trong phương pháp này, RelayF lọc ra nhiều tính năng nhiễu trong giai đoạn đầu. Sau đó dùng SVM để tìm ra feature của class bằng cách loại bỏ các feature nhỏ  (đầu tiên tìm tất cả feature rồi đệ quy để loại mấy thằng feature ít quan trọng hơn). Tiêu chí xếp loại feature dựa vào vector trọng số của SVM được tính theo công thức: \n",
        "\n",
        "$w = \\sum_{i=1}\\alpha_1\\gamma_1\\chi$"
      ]
    }
  ]
}