{
  "nbformat": 4,
  "nbformat_minor": 0,
  "metadata": {
    "colab": {
      "name": "BÀI TẬP COLAB SỐ 01 - 12/04/2021.ipynb",
      "provenance": [],
      "collapsed_sections": [],
      "include_colab_link": true
    },
    "kernelspec": {
      "name": "python3",
      "display_name": "Python 3"
    },
    "language_info": {
      "name": "python"
    }
  },
  "cells": [
    {
      "cell_type": "markdown",
      "metadata": {
        "id": "view-in-github",
        "colab_type": "text"
      },
      "source": [
        "<a href=\"https://colab.research.google.com/github/lphuong304/CS114.L21/blob/main/COLAB_ASSIGNMENTS/B%C3%80I_T%E1%BA%ACP_COLAB_S%E1%BB%90_01_12_04_2021.ipynb\" target=\"_parent\"><img src=\"https://colab.research.google.com/assets/colab-badge.svg\" alt=\"Open In Colab\"/></a>"
      ]
    },
    {
      "cell_type": "markdown",
      "metadata": {
        "id": "-Kv9BxR2Sq0d"
      },
      "source": [
        "**<h1><center><center><center>BÀI TẬP COLAB SỐ 01 - 12/04/2001</center></h1>**\n",
        "###LỚP: CS114.L21\n",
        "###NHÓM:\n",
        "1. Nguyễn Ngọc Lan Phương - *19520227*\n",
        "2. Hoàng Anh Tú - *19522450*\n",
        "3. Nguyễn Quốc Huy - *19521623*\n",
        "\n",
        "\n",
        "\n",
        "####Cre: Recognizing hand-written digits - [LINK](https://scikit-learn.org/stable/auto_examples/classification/plot_digits_classification.html#sphx-glr-auto-examples-classification-plot-digits-classification-py)"
      ]
    },
    {
      "cell_type": "markdown",
      "metadata": {
        "id": "9Otx9vIsZWUi"
      },
      "source": [
        "Ví dụ này sử dụng thư viện scikit-learn để nhận viện số viết tay (từ 0 - 9).\n",
        "\n",
        "Đầu tiên ta import các thư viện cần thiết."
      ]
    },
    {
      "cell_type": "code",
      "metadata": {
        "id": "0oBXh4rAUKeH",
        "colab": {
          "base_uri": "https://localhost:8080/"
        },
        "outputId": "141d754f-408e-4962-cbb9-4511ee9e44ad"
      },
      "source": [
        "print(__doc__)\n",
        "\n",
        "# Author: Gael Varoquaux <gael dot varoquaux at normalesup dot org>\n",
        "# License: BSD 3 clause\n",
        "\n",
        "# Standard scientific Python imports\n",
        "import matplotlib.pyplot as plt\n",
        "\n",
        "# Import datasets, classifiers and performance metrics\n",
        "from sklearn import datasets, svm, metrics\n",
        "from sklearn.model_selection import train_test_split\n"
      ],
      "execution_count": null,
      "outputs": [
        {
          "output_type": "stream",
          "text": [
            "Automatically created module for IPython interactive environment\n"
          ],
          "name": "stdout"
        }
      ]
    },
    {
      "cell_type": "markdown",
      "metadata": {
        "id": "LN8f5aFEagpm"
      },
      "source": [
        "###DỮ LIỆU CHỮ SỐ\n",
        "\n",
        "Tập dữ liệu chữ số bao gồm hình ảnh của các chữ số có độ phân giải là 8x8 pixel. Thuộc tính hình ảnh của tập dữ liệu là một mảng có kích thước 8x8 thể hiện thang độ xám của mỗi hình. Chúng ta sẽ sử dụng các mảng này để hình dung 4 hình ảnh đầu tiên.  Thuộc tính target của tập dữ liệu lưu trữ chữ số mà mỗi hình ảnh đại diện và điều này được bao gồm trong tiêu đề của 4 ô bên dưới. \n",
        "\n",
        "**Lưu ý**: nếu ta làm việc với tệp hình ảnh (ví dụ: tệp ‘png '), sử dụng **matplotlib.pyplot.imread** để tải hình ảnh."
      ]
    },
    {
      "cell_type": "code",
      "metadata": {
        "colab": {
          "base_uri": "https://localhost:8080/",
          "height": 168
        },
        "id": "qn_LRO8r3Vii",
        "outputId": "c443ab40-55b9-4acf-f831-ec78d50f13d9"
      },
      "source": [
        "digits = datasets.load_digits()\n",
        "\n",
        "_, axes = plt.subplots(nrows=1, ncols=4, figsize=(10, 3))\n",
        "for ax, image, label in zip(axes, digits.images, digits.target):\n",
        "    ax.set_axis_off()\n",
        "    ax.imshow(image, cmap=plt.cm.gray_r, interpolation='nearest')\n",
        "    ax.set_title('Training: %i' % label)"
      ],
      "execution_count": null,
      "outputs": [
        {
          "output_type": "display_data",
          "data": {
            "image/png": "[encoded data removed]",
            "text/plain": [
              "<Figure size 720x216 with 4 Axes>"
            ]
          },
          "metadata": {
            "tags": [],
            "needs_background": "light"
          }
        }
      ]
    },
    {
      "cell_type": "markdown",
      "metadata": {
        "id": "YSgpaiPLf6as"
      },
      "source": [
        "Truy xuất hình ảnh chữ số đầu tiên của bộ datasets:"
      ]
    },
    {
      "cell_type": "code",
      "metadata": {
        "colab": {
          "base_uri": "https://localhost:8080/",
          "height": 346
        },
        "id": "Q3kXKrLHfiZe",
        "outputId": "89e893db-a10d-44b4-b3d2-1cf9a4acda2f"
      },
      "source": [
        "plt.figure(1, figsize=(3, 3))\n",
        "plt.imshow(digits.images[-1], cmap=plt.cm.gray_r, interpolation='nearest')\n",
        "plt.show()\n",
        "digits.images[-1]"
      ],
      "execution_count": null,
      "outputs": [
        {
          "output_type": "display_data",
          "data": {
            "image/png": "[encoded data removed]",
            "text/plain": [
              "<Figure size 216x216 with 1 Axes>"
            ]
          },
          "metadata": {
            "tags": [],
            "needs_background": "light"
          }
        },
        {
          "output_type": "execute_result",
          "data": {
            "text/plain": [
              "array([[ 0.,  0., 10., 14.,  8.,  1.,  0.,  0.],\n",
              "       [ 0.,  2., 16., 14.,  6.,  1.,  0.,  0.],\n",
              "       [ 0.,  0., 15., 15.,  8., 15.,  0.,  0.],\n",
              "       [ 0.,  0.,  5., 16., 16., 10.,  0.,  0.],\n",
              "       [ 0.,  0., 12., 15., 15., 12.,  0.,  0.],\n",
              "       [ 0.,  4., 16.,  6.,  4., 16.,  6.,  0.],\n",
              "       [ 0.,  8., 16., 10.,  8., 16.,  8.,  0.],\n",
              "       [ 0.,  1.,  8., 12., 14., 12.,  1.,  0.]])"
            ]
          },
          "metadata": {
            "tags": []
          },
          "execution_count": 47
        }
      ]
    },
    {
      "cell_type": "markdown",
      "metadata": {
        "id": "3q58UeZsit6F"
      },
      "source": [
        "  Để xử lý hình ảnh có kích thước 8x8 như trên, ta phải chuyển nó về một vector đặc trưng có độ dài là 64."
      ]
    },
    {
      "cell_type": "markdown",
      "metadata": {
        "id": "m3XlUrymcbHm"
      },
      "source": [
        "###PHÂN LỚP\n",
        "Để tiến hành phân loại trên bộ dữ liệu này, ta cần \"làm phẳng\" các hình ảnh, chuyển từng mảng 2 chiều các giá trị thang độ xám từ kích thước là (8, 8) sang kích thước (64,).  Sau đó, toàn bộ tập dữ liệu sẽ có dạng là (n_samples, n_features).\n",
        "\n",
        "Trong đó:\n",
        "* n_samples là số lượng hình ảnh\n",
        "* n_features là tổng số pixel trong mỗi hình ảnh.\n"
      ]
    },
    {
      "cell_type": "code",
      "metadata": {
        "id": "4nmehE-p3alD"
      },
      "source": [
        "# flatten the images\n",
        "n_samples = len(digits.images)\n",
        "data = digits.images.reshape((n_samples, -1))"
      ],
      "execution_count": null,
      "outputs": []
    },
    {
      "cell_type": "markdown",
      "metadata": {
        "id": "yeGHiAUCzgLW"
      },
      "source": [
        "Sử dụng thư viện hỗ trợ giải thuật SVM (support vector metrics) trong scikit-learn là **SVC** để phân loại mẫu lớp với tham số $C = 0.001$"
      ]
    },
    {
      "cell_type": "code",
      "metadata": {
        "id": "9vDLsqtg0xmE"
      },
      "source": [
        "# Create a classifier: a support vector classifier\n",
        "clf = svm.SVC(gamma=0.001)\n",
        "#clf.fit(data[:n_samples], digits.target[:n_samples])"
      ],
      "execution_count": null,
      "outputs": []
    },
    {
      "cell_type": "markdown",
      "metadata": {
        "id": "vfS95kvQ037O"
      },
      "source": [
        "Ta sẽ chia tập dữ liệu **digits** một cách ngẫu nhiên theo tỉ lệ 50% dùng để traning, 50% dùng để test và demo hai tập trên. Lưu ý kích thước trả về "
      ]
    },
    {
      "cell_type": "code",
      "metadata": {
        "colab": {
          "base_uri": "https://localhost:8080/"
        },
        "id": "nC7hPz-g1ldr",
        "outputId": "7fcdb2d6-53d2-43a3-b07c-3b75bd2436a0"
      },
      "source": [
        "# Split data into 50% train and 50% test subsets\n",
        "X_train, X_test, y_train, y_test = train_test_split(\n",
        "    data, digits.target, test_size=0.5, shuffle=False)\n",
        "\n",
        "print('X_train',X_train[0])\n",
        "print('X_test', X_test[0])\n",
        "print('y_train',y_train[0])\n",
        "print('y_test', y_test[0])"
      ],
      "execution_count": null,
      "outputs": [
        {
          "output_type": "stream",
          "text": [
            "X_train [ 0.  0.  5. 13.  9.  1.  0.  0.  0.  0. 13. 15. 10. 15.  5.  0.  0.  3.\n",
            " 15.  2.  0. 11.  8.  0.  0.  4. 12.  0.  0.  8.  8.  0.  0.  5.  8.  0.\n",
            "  0.  9.  8.  0.  0.  4. 11.  0.  1. 12.  7.  0.  0.  2. 14.  5. 10. 12.\n",
            "  0.  0.  0.  0.  6. 13. 10.  0.  0.  0.]\n",
            "X_test [ 0.  0.  1. 11. 14. 15.  3.  0.  0.  1. 13. 16. 12. 16.  8.  0.  0.  8.\n",
            " 16.  4.  6. 16.  5.  0.  0.  5. 15. 11. 13. 14.  0.  0.  0.  0.  2. 12.\n",
            " 16. 13.  0.  0.  0.  0.  0. 13. 16. 16.  6.  0.  0.  0.  0. 16. 16. 16.\n",
            "  7.  0.  0.  0.  0. 11. 13. 12.  1.  0.]\n",
            "y_train 0\n",
            "y_test 8\n"
          ],
          "name": "stdout"
        }
      ]
    },
    {
      "cell_type": "markdown",
      "metadata": {
        "id": "_44dSf2_4c8D"
      },
      "source": [
        "Cho mẫu học từ tập dữ train và dự đoán trên tập dữ liệu test"
      ]
    },
    {
      "cell_type": "code",
      "metadata": {
        "id": "Wt5MxK054jJd"
      },
      "source": [
        "# Learn the digits on the train subset\n",
        "clf.fit(X_train, y_train)\n",
        "\n",
        "# Predict the value of the digit on the test subset\n",
        "predicted = clf.predict(X_test)"
      ],
      "execution_count": null,
      "outputs": []
    },
    {
      "cell_type": "markdown",
      "metadata": {
        "id": "rosehAkN5JTN"
      },
      "source": [
        "Để dễ hình dung hơn ta hiển thị giá trị chữ số và dự đoán chúng trên tiêu đề đối với 4 chữ số đầu tiên của tập dữ liệu test"
      ]
    },
    {
      "cell_type": "code",
      "metadata": {
        "colab": {
          "base_uri": "https://localhost:8080/",
          "height": 168
        },
        "id": "tgKLrGPk3fG0",
        "outputId": "edbd004b-4b1e-483e-f082-a909bd1cfd8d"
      },
      "source": [
        "_, axes = plt.subplots(nrows=1, ncols=4, figsize=(10, 3))\n",
        "for ax, image, prediction in zip(axes, X_test, predicted):\n",
        "    ax.set_axis_off()\n",
        "    image = image.reshape(8, 8)\n",
        "    ax.imshow(image, cmap=plt.cm.gray_r, interpolation='nearest')\n",
        "    ax.set_title(f'Prediction: {prediction}')"
      ],
      "execution_count": null,
      "outputs": [
        {
          "output_type": "display_data",
          "data": {
            "image/png": "[encoded data removed]",
            "text/plain": [
              "<Figure size 720x216 with 4 Axes>"
            ]
          },
          "metadata": {
            "tags": [],
            "needs_background": "light"
          }
        }
      ]
    },
    {
      "cell_type": "markdown",
      "metadata": {
        "id": "9w25dxcG5o0W"
      },
      "source": [
        "Module **metrics.classification_report** đánh giá tập train qua các chỉ số phân loại chính (precison, recall, f1-score, support)"
      ]
    },
    {
      "cell_type": "code",
      "metadata": {
        "colab": {
          "base_uri": "https://localhost:8080/"
        },
        "id": "3W_Sn9bm3jLT",
        "outputId": "9b1f02f7-66b3-4109-fee8-8706a9bc9cff"
      },
      "source": [
        "print(f\"Classification report for classifier {clf}:\\n\"\n",
        "      f\"{metrics.classification_report(y_test, predicted)}\\n\")"
      ],
      "execution_count": null,
      "outputs": [
        {
          "output_type": "stream",
          "text": [
            "Classification report for classifier SVC(C=1.0, break_ties=False, cache_size=200, class_weight=None, coef0=0.0,\n",
            "    decision_function_shape='ovr', degree=3, gamma=0.001, kernel='rbf',\n",
            "    max_iter=-1, probability=False, random_state=None, shrinking=True,\n",
            "    tol=0.001, verbose=False):\n",
            "              precision    recall  f1-score   support\n",
            "\n",
            "           0       1.00      0.99      0.99        88\n",
            "           1       0.99      0.97      0.98        91\n",
            "           2       0.99      0.99      0.99        86\n",
            "           3       0.98      0.87      0.92        91\n",
            "           4       0.99      0.96      0.97        92\n",
            "           5       0.95      0.97      0.96        91\n",
            "           6       0.99      0.99      0.99        91\n",
            "           7       0.96      0.99      0.97        89\n",
            "           8       0.94      1.00      0.97        88\n",
            "           9       0.93      0.98      0.95        92\n",
            "\n",
            "    accuracy                           0.97       899\n",
            "   macro avg       0.97      0.97      0.97       899\n",
            "weighted avg       0.97      0.97      0.97       899\n",
            "\n",
            "\n"
          ],
          "name": "stdout"
        }
      ]
    },
    {
      "cell_type": "markdown",
      "metadata": {
        "id": "XBaEKmgoDfvK"
      },
      "source": [
        "Để nhìn rõ hơn về các điểm dữ liệu trong hệ thống phân lớp chữ số này được phân loại đúng sai như thế nào, ta trực quan nó với Confusion Matrix."
      ]
    },
    {
      "cell_type": "code",
      "metadata": {
        "colab": {
          "base_uri": "https://localhost:8080/",
          "height": 493
        },
        "id": "qMUpIUbj3od2",
        "outputId": "172b2259-bb28-459a-cc05-6bad91df9657"
      },
      "source": [
        "disp = metrics.plot_confusion_matrix(clf, X_test, y_test)\n",
        "disp.figure_.suptitle(\"Confusion Matrix\")\n",
        "print(f\"Confusion matrix:\\n{disp.confusion_matrix}\")\n",
        "\n",
        "plt.show()"
      ],
      "execution_count": null,
      "outputs": [
        {
          "output_type": "stream",
          "text": [
            "Confusion matrix:\n",
            "[[87  0  0  0  1  0  0  0  0  0]\n",
            " [ 0 88  1  0  0  0  0  0  1  1]\n",
            " [ 0  0 85  1  0  0  0  0  0  0]\n",
            " [ 0  0  0 79  0  3  0  4  5  0]\n",
            " [ 0  0  0  0 88  0  0  0  0  4]\n",
            " [ 0  0  0  0  0 88  1  0  0  2]\n",
            " [ 0  1  0  0  0  0 90  0  0  0]\n",
            " [ 0  0  0  0  0  1  0 88  0  0]\n",
            " [ 0  0  0  0  0  0  0  0 88  0]\n",
            " [ 0  0  0  1  0  1  0  0  0 90]]\n"
          ],
          "name": "stdout"
        },
        {
          "output_type": "display_data",
          "data": {
            "image/png": "[encoded data removed]",
            "text/plain": [
              "<Figure size 432x288 with 2 Axes>"
            ]
          },
          "metadata": {
            "tags": [],
            "needs_background": "light"
          }
        }
      ]
    },
    {
      "cell_type": "markdown",
      "metadata": {
        "id": "1VpFTKQmyAVg"
      },
      "source": [
        "### DỰ ĐOÁN CHỮ SỐ TỪ ẢNH TẠO TỪ PAINT\n",
        "\n"
      ]
    },
    {
      "cell_type": "code",
      "metadata": {
        "id": "LjsGLXG83s55"
      },
      "source": [
        "from IPython.display import display, Javascript\n",
        "from google.colab.output import eval_js\n",
        "from base64 import b64decode\n",
        "\n",
        "def take_photo(filename='photo_1.jpg', quality=0.8):\n",
        "  js = Javascript('''\n",
        "    async function takePhoto(quality) {\n",
        "      const div = document.createElement('div');\n",
        "      const capture = document.createElement('button');\n",
        "      capture.textContent = 'Capture';\n",
        "      div.appendChild(capture);\n",
        "\n",
        "      const video = document.createElement('video');\n",
        "      video.style.display = 'block';\n",
        "      const stream = await navigator.mediaDevices.getUserMedia({video: true});\n",
        "\n",
        "      document.body.appendChild(div);\n",
        "      div.appendChild(video);\n",
        "      video.srcObject = stream;\n",
        "      await video.play();\n",
        "\n",
        "      // Resize the output to fit the video element.\n",
        "      google.colab.output.setIframeHeight(document.documentElement.scrollHeight, true);\n",
        "\n",
        "      // Wait for Capture to be clicked.\n",
        "      await new Promise((resolve) => capture.onclick = resolve);\n",
        "\n",
        "      const canvas = document.createElement('canvas');\n",
        "      canvas.width = video.videoWidth;\n",
        "      canvas.height = video.videoHeight;\n",
        "      canvas.getContext('2d').drawImage(video, 0, 0);\n",
        "      stream.getVideoTracks()[0].stop();\n",
        "      div.remove();\n",
        "      return canvas.toDataURL('image/jpeg', quality);\n",
        "    }\n",
        "    ''')\n",
        "  display(js)\n",
        "  data = eval_js('takePhoto({})'.format(quality))\n",
        "  binary = b64decode(data.split(',')[1])\n",
        "  with open(filename, 'wb') as f:\n",
        "    f.write(binary)\n",
        "  return filename"
      ],
      "execution_count": null,
      "outputs": []
    },
    {
      "cell_type": "code",
      "metadata": {
        "colab": {
          "base_uri": "https://localhost:8080/",
          "height": 514
        },
        "id": "1uN6tf5F3s58",
        "outputId": "798f9079-54bc-4d31-a53f-2ab33f29a75a"
      },
      "source": [
        "from IPython.display import Image\n",
        "try:\n",
        "  filename = take_photo()\n",
        "  print('Saved to {}'.format(filename))\n",
        "  \n",
        "  # Show the image which was just taken.\n",
        "  display(Image(filename))\n",
        "except Exception as err:\n",
        "  # Errors will be thrown if the user does not have a webcam or if they do not\n",
        "  # grant the page permission to access it.\n",
        "  print(str(err))"
      ],
      "execution_count": null,
      "outputs": [
        {
          "output_type": "display_data",
          "data": {
            "application/javascript": [
              "\n",
              "    async function takePhoto(quality) {\n",
              "      const div = document.createElement('div');\n",
              "      const capture = document.createElement('button');\n",
              "      capture.textContent = 'Capture';\n",
              "      div.appendChild(capture);\n",
              "\n",
              "      const video = document.createElement('video');\n",
              "      video.style.display = 'block';\n",
              "      const stream = await navigator.mediaDevices.getUserMedia({video: true});\n",
              "\n",
              "      document.body.appendChild(div);\n",
              "      div.appendChild(video);\n",
              "      video.srcObject = stream;\n",
              "      await video.play();\n",
              "\n",
              "      // Resize the output to fit the video element.\n",
              "      google.colab.output.setIframeHeight(document.documentElement.scrollHeight, true);\n",
              "\n",
              "      // Wait for Capture to be clicked.\n",
              "      await new Promise((resolve) => capture.onclick = resolve);\n",
              "\n",
              "      const canvas = document.createElement('canvas');\n",
              "      canvas.width = video.videoWidth;\n",
              "      canvas.height = video.videoHeight;\n",
              "      canvas.getContext('2d').drawImage(video, 0, 0);\n",
              "      stream.getVideoTracks()[0].stop();\n",
              "      div.remove();\n",
              "      return canvas.toDataURL('image/jpeg', quality);\n",
              "    }\n",
              "    "
            ],
            "text/plain": [
              "<IPython.core.display.Javascript object>"
            ]
          },
          "metadata": {
            "tags": []
          }
        },
        {
          "output_type": "stream",
          "text": [
            "Saved to photo_1.jpg\n"
          ],
          "name": "stdout"
        },
        {
          "output_type": "display_data",
          "data": {
            "image/jpeg": "[encoded data removed]",
            "text/plain": [
              "<IPython.core.display.Image object>"
            ]
          },
          "metadata": {
            "tags": []
          }
        }
      ]
    },
    {
      "cell_type": "markdown",
      "metadata": {
        "id": "lO5ff02UAMQ1"
      },
      "source": [
        "<a name =\"xulyhinhanh\"></a>\n",
        "#### ***Tiền xử lý hình ảnh***\n",
        "\n",
        "1. Vì hình ảnh trong bộ dữ liệu digits datastes là hình trắng đen (nền đen, chữ trắng) nên bước đầu chúng em chuyển hình ảnh sang màu trắng đen.\n",
        "2. Nhằm tránh mất mát dữ liệu trong quá trình resize hình về kích thước 8x8 pixels, chúng em crop hình dựa vào giá trị pixel của các màu (cụ thể là trắng và đen)\n",
        "* Pixel màu nền lớn hơn hoặc bằng 95\n",
        "* Pixel màu nét chữ bé hơn 95\n"
      ]
    },
    {
      "cell_type": "code",
      "metadata": {
        "colab": {
          "base_uri": "https://localhost:8080/",
          "height": 462
        },
        "id": "EfrAEbmD34yJ",
        "outputId": "34d9bf0c-0473-4779-96e3-22facad590f0"
      },
      "source": [
        "#Edit input image\n",
        "import cv2\n",
        "import numpy as np\n",
        "from google.colab.patches import cv2_imshow\n",
        "inImg = cv2.imread(\"/content/photo_1.jpg\", 0)\n",
        "inImg = 255 - inImg[:, :]\n",
        "\n",
        "maxUp = inImg.shape[0]//2\n",
        "maxDown = inImg.shape[0]//2\n",
        "maxLeft = inImg.shape[1]//2\n",
        "maxRight = inImg.shape[1]//2\n",
        "\n",
        "for i in range(inImg.shape[0]):\n",
        "  for j in range(inImg.shape[1]):\n",
        "    if inImg[i][j] > 160:\n",
        "      if maxUp >= i: maxUp = i\n",
        "      if maxDown <= i: maxDown = i\n",
        "      if maxLeft >= j: maxLeft = j\n",
        "      if maxRight <= j: maxRight = j\n",
        "\n",
        "editedImg = inImg[maxUp:maxDown+1, maxLeft:maxRight+1] \n",
        "resizeImg = cv2.resize(editedImg,(8,8))\n",
        "\n",
        "print('Trước khi resize: ',editedImg, sep='\\n')\n",
        "cv2_imshow(editedImg)"
      ],
      "execution_count": null,
      "outputs": [
        {
          "output_type": "stream",
          "text": [
            "Trước khi resize: \n",
            "[[66 66 65 ... 71 72 72]\n",
            " [68 66 67 ... 71 72 69]\n",
            " [65 64 66 ... 71 71 70]\n",
            " ...\n",
            " [79 79 80 ... 84 84 85]\n",
            " [81 81 81 ... 84 84 85]\n",
            " [82 81 81 ... 85 84 85]]\n"
          ],
          "name": "stdout"
        },
        {
          "output_type": "display_data",
          "data": {
            "image/png": "[encoded data removed]",
            "text/plain": [
              "<PIL.Image.Image image mode=L size=312x310 at 0x7F3565583210>"
            ]
          },
          "metadata": {
            "tags": []
          }
        }
      ]
    },
    {
      "cell_type": "markdown",
      "metadata": {
        "id": "-pmqtKhdCwoY"
      },
      "source": [
        "Xuất hình ảnh sau khi resize về kích thước (8,8) pixels"
      ]
    },
    {
      "cell_type": "code",
      "metadata": {
        "colab": {
          "base_uri": "https://localhost:8080/",
          "height": 185
        },
        "id": "hQ_6omDlxHEi",
        "outputId": "f2b896c2-cfa5-4fa0-8ccd-19fdb315c5d1"
      },
      "source": [
        "cv2_imshow(resizeImg)\n",
        "print('Sau khi resize: ',resizeImg, sep='\\n')"
      ],
      "execution_count": null,
      "outputs": [
        {
          "output_type": "display_data",
          "data": {
            "image/png": "[encoded data removed]",
            "text/plain": [
              "<PIL.Image.Image image mode=L size=8x8 at 0x7F3565582510>"
            ]
          },
          "metadata": {
            "tags": []
          }
        },
        {
          "output_type": "stream",
          "text": [
            "Sau khi resize: \n",
            "[[ 68  67  67  72 147 150  70  69]\n",
            " [ 70  71  78 168 111 169  72  72]\n",
            " [ 72  73 171 164  78 133  75  74]\n",
            " [ 75 163 162  79  96 141  77  77]\n",
            " [ 86 175  89  89 172 136  81  79]\n",
            " [145 164 169 169 175 178 173 155]\n",
            " [ 72  74  80  74 162 151  79  77]\n",
            " [ 79  79  83  83 168 113  81  82]]\n"
          ],
          "name": "stdout"
        }
      ]
    },
    {
      "cell_type": "markdown",
      "metadata": {
        "id": "O_l28hQeJtLZ"
      },
      "source": [
        "Đưa dữ liệu hình vào bộ dữ liệu ta được kết quả như sau\n",
        "\n",
        "**Lưu ý**: Yêu cầu để đạt được kết quả tốt nhất, dữ liệu đầu vào phụ thuộc nhiều vào giá trị pixel giữa nền và nét chữ số. "
      ]
    },
    {
      "cell_type": "code",
      "metadata": {
        "colab": {
          "base_uri": "https://localhost:8080/",
          "height": 227
        },
        "id": "zgmNxOcByRtj",
        "outputId": "a2d9e294-124a-40f5-f084-2b4fd662e8e6"
      },
      "source": [
        "data = resizeImg/16\n",
        "predicted = clf.predict(data.reshape(1,64))\n",
        "_, ax = plt.subplots(figsize=(4, 3))\n",
        "ax.set_axis_off()\n",
        "image = resizeImg\n",
        "ax.imshow(image, cmap=plt.cm.gray_r, interpolation='nearest')\n",
        "ax.set_title(f'Prediction: {predicted}')"
      ],
      "execution_count": null,
      "outputs": [
        {
          "output_type": "execute_result",
          "data": {
            "text/plain": [
              "Text(0.5, 1.0, 'Prediction: [4]')"
            ]
          },
          "metadata": {
            "tags": []
          },
          "execution_count": 200
        },
        {
          "output_type": "display_data",
          "data": {
            "image/png": "[encoded data removed]",
            "text/plain": [
              "<Figure size 288x216 with 1 Axes>"
            ]
          },
          "metadata": {
            "tags": [],
            "needs_background": "light"
          }
        }
      ]
    },
    {
      "cell_type": "markdown",
      "metadata": {
        "id": "QRLp4kpNRZra"
      },
      "source": [
        "### ***BÁO CÁO BÀI TẬP COLAB SỐ 01 - 12/04/2021***\n",
        "*1*. Kết quả chạy thực tế với webcam của laptop và giấy viết tay của các bạn có tốt không?\n",
        "\n",
        "Hình ảnh trong tập dữ liệu là hình đen trắng có kích thước (8,8) pixels nên bộ dữ liệu chỉ hoạt động tốt nhất trên những hình ảnh có cùng thuộc tính. Nên chúng em đã nghĩ ra cách tiền xử lý dữ liệu hình ảnh như ở phần [Tiền xử lý hình ảnh](#xulyhinhanh)\n",
        "\n",
        "*2*. Ủa mà nhìn vào đâu để kết luận là tốt hay không?\n",
        "\n",
        "Nhìn vào số lần kết quả predict không như mong muốn của nhóm (chiếm đa phần).\n",
        "\n",
        "*3*. Nếu không tốt thì lý do tại sao?\n",
        "* Kích thước của mỗi ảnh trong bộ dữ liệu trên quá nhỏ cho các trường hợp trong thực tế.\n",
        "* Phụ thuộc vài bước tiền xử lý nhiều.\n",
        "\n",
        "*4*. Nếu tốt thì tiếp theo có thể dùng model digits recognition này vào các bài toán phức tạp hơn như nhận dạng biển số nhà không?\n",
        "\n",
        "\n",
        "Có thể được nếu như sử dụng bộ dữ liệu khác tương thích hơn với các trường hợp trong thực tế."
      ]
    }
  ]
}
