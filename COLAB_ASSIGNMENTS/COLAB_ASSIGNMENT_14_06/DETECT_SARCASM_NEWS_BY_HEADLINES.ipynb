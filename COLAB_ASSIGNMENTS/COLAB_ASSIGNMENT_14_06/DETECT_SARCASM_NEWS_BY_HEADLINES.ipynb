{
  "nbformat": 4,
  "nbformat_minor": 0,
  "metadata": {
    "colab": {
      "name": "DETECT_SARCASM_NEWS_BY_HEADLINES.ipynb",
      "provenance": [],
      "collapsed_sections": [],
      "include_colab_link": true
    },
    "kernelspec": {
      "display_name": "Python 3",
      "name": "python3"
    },
    "language_info": {
      "name": "python"
    }
  },
  "cells": [
    {
      "cell_type": "markdown",
      "metadata": {
        "id": "view-in-github",
        "colab_type": "text"
      },
      "source": [
        "<a href=\"https://colab.research.google.com/github/lphuong304/CS114.L21/blob/main/COLAB_ASSIGNMENTS/COLAB_ASSIGNMENT_14_06/DETECT_SARCASM_NEWS_BY_HEADLINES.ipynb\" target=\"_parent\"><img src=\"https://colab.research.google.com/assets/colab-badge.svg\" alt=\"Open In Colab\"/></a>"
      ]
    },
    {
      "cell_type": "markdown",
      "metadata": {
        "id": "HaVWLV-BDYmB"
      },
      "source": [
        "<h1 align=\"center\"><b>BÀI TẬP COLAB SỐ 05 - 14/06/2021</b></h1>\n",
        "<h1 align=\"center\"><b>DETECT SARCASM NEWSPAPER BY HEADLINE</b></h1>\n",
        "\n",
        "###LỚP: CS114.L21\n",
        "###NHÓM:\n",
        "1. Nguyễn Ngọc Lan Phương - *19520227*\n",
        "2. Hoàng Anh Tú - *19522450*\n",
        "3. Nguyễn Quốc Huy - *19521623*\n",
        "\n",
        "Nguồn tham khảo:\n",
        "1. [Text Pre-Processing](https://viblo.asia/p/text-processing-in-nlp-projects-bWrZnwQwlxw)\n",
        "\n",
        "Link data:\n",
        "Vì để quá trình train diễn ra nhanh chóng và thuận tiện, nhóm em quyết đã co-op với nhóm bạn Văn Viết Hiếu Anh [link github nhóm bạn](https://github.com/vanviethieuanh/CS114.L21), lấy data của nhóm bạn làm data test và ngược lại nhóm bạn cũng sẽ lấy data mà chúng em crawl để làm data test.\n",
        "* Data train (là data mà chúng em đã crawl từ 6 trang tin hôm trước) : [link](https://github.com/lphuong304/CS114.L21/blob/main/COLAB_ASSIGNMENTS/COLAB_ASSIGNMENT_09_06/submit.csv)\n",
        "* Data test (chúng em sẽ lựa chọn một trang tin chính thống và một trang tin châm biếm từ nhóm bạn mà không có trong data train của chúng em): [link]()\n",
        "\n",
        "* Tổng quan về bộ data:\n",
        " + **Data train**: Gồm 6 trang tin (*3 châm biếm, 3 chính thống*) được crawl từ 01/01/2018 đến nay.\n",
        "\n",
        "| Trang      |Link                       | Số bài báo | Thể loại    | |\n",
        "|------------| ------------------------- | ---------- | ------------| |\n",
        "|Clickhole   | https://clickhole.com/    | 2520       | Is_Sarcasist| |\n",
        "|Daily Bonnet| https://dailybonnet.com/  | 1325       | Is_Sarcasist| |\n",
        "|The Babylon Bee|https://babylonbee.com/ | 5080       | Is_Sarcasist| |\n",
        "|CBS News    |  https://www.cbsnews.com/ | 44877      | Isn't_Sarcasist | |\n",
        "|Fortune     |  https://fortune.com/     | 2730       | Isn't_Sarcasist | |\n",
        "|The New York Times|https://www.nytimes.com/| 61611   | Isn't_Sarcasist | |\n",
        "|||||Total| \n",
        "|||||Is_Sarcasist - 8925|\n",
        "|||||Isn't_Sarcasist - 109 218|\n",
        "\n",
        " + **Data test**: Gồm 2 trang tin (*1 châm biếm, 1 chính thống*) được lấy data nhóm bạn đã crawl.\n",
        "\n",
        "| Trang      |Link                       | Số bài báo | Thể loại    | |\n",
        "|------------| ------------------------- | ---------- | ------------| |\n",
        "|The Hard Times   | https://thehardtimes.net/    | 5917      | Is_Sarcasist| |\n",
        "|The Australian  |  https://www.theaustralian.com.au/ | 50151| Isn't_Sarcasist | |\n",
        "|||||Total| \n",
        "|||||Is_Sarcasist - 5917|\n",
        "|||||Isn't_Sarcasist - 50151|\n",
        "\n",
        "\n",
        "\n",
        "References:\n",
        "1. [Import Packages and Discovery and Visualize Data](#part1)\n",
        "2. [Pre-processing Data Text](#process)\n",
        "3. [Traning Model and Testing](#model)\n",
        "4. [Nhận xét](#nhanxet)"
      ]
    },
    {
      "cell_type": "markdown",
      "metadata": {
        "id": "6bVBj5ktPEu7"
      },
      "source": [
        "#1. Import Packages and Discovery and Visualize Data"
      ]
    },
    {
      "cell_type": "code",
      "metadata": {
        "id": "lCvRQw0aC_dD"
      },
      "source": [
        "import numpy as np\n",
        "import pandas as pd\n",
        "\n",
        "import seaborn as sns\n",
        "import matplotlib.pyplot as plt\n",
        "\n",
        "from sklearn import svm, metrics\n",
        "from sklearn.linear_model import LinearRegression, Ridge, Lasso, ElasticNet\n",
        "from sklearn.preprocessing import StandardScaler, MinMaxScaler\n",
        "from sklearn.preprocessing import PolynomialFeatures\n",
        "from sklearn.model_selection import train_test_split, KFold, cross_val_predict\n",
        "from sklearn.ensemble import RandomForestRegressor\n",
        "from sklearn.metrics import  accuracy_score, mean_squared_error, plot_confusion_matrix\n",
        "import warnings\n",
        "warnings.filterwarnings('ignore')\n",
        "from imblearn.over_sampling import SMOTE, BorderlineSMOTE, SVMSMOTE, ADASYN\n",
        "from sklearn.utils import shuffle\n",
        "from keras.preprocessing import text, sequence\n",
        "\n",
        "import nltk\n",
        "from nltk.corpus import stopwords\n",
        "from nltk.tokenize import word_tokenize\n",
        "from nltk.stem import WordNetLemmatizer\n",
        "from nltk.corpus import wordnet\n",
        "import string\n",
        "\n",
        "import keras\n",
        "from keras.models import Sequential\n",
        "from keras.layers import Dense,Embedding,LSTM,Dropout,Bidirectional,GRU\n",
        "import tensorflow as tf"
      ],
      "execution_count": 2,
      "outputs": []
    },
    {
      "cell_type": "code",
      "metadata": {
        "colab": {
          "base_uri": "https://localhost:8080/"
        },
        "id": "Sn9QL3aoKvcx",
        "outputId": "45cb0728-8f01-45a6-d7bb-070f1177b3ca"
      },
      "source": [
        "nltk.download('stopwords')\n",
        "nltk.download('punkt')\n",
        "nltk.download('wordnet')\n",
        "nltk.download('averaged_perceptron_tagger')"
      ],
      "execution_count": 3,
      "outputs": [
        {
          "output_type": "stream",
          "text": [
            "[nltk_data] Downloading package stopwords to /root/nltk_data...\n",
            "[nltk_data]   Unzipping corpora/stopwords.zip.\n",
            "[nltk_data] Downloading package punkt to /root/nltk_data...\n",
            "[nltk_data]   Unzipping tokenizers/punkt.zip.\n",
            "[nltk_data] Downloading package wordnet to /root/nltk_data...\n",
            "[nltk_data]   Unzipping corpora/wordnet.zip.\n",
            "[nltk_data] Downloading package averaged_perceptron_tagger to\n",
            "[nltk_data]     /root/nltk_data...\n",
            "[nltk_data]   Unzipping taggers/averaged_perceptron_tagger.zip.\n"
          ],
          "name": "stdout"
        },
        {
          "output_type": "execute_result",
          "data": {
            "text/plain": [
              "True"
            ]
          },
          "metadata": {
            "tags": []
          },
          "execution_count": 3
        }
      ]
    },
    {
      "cell_type": "code",
      "metadata": {
        "colab": {
          "base_uri": "https://localhost:8080/",
          "height": 415
        },
        "id": "FvwmAVIOPD_T",
        "outputId": "e0e50345-89c9-4c42-bcea-b10ee4f4f353"
      },
      "source": [
        "#lấy dữ liệu train đã crawl từ trước từ trang github của nhóm\n",
        "data_train = pd.read_csv('https://raw.githubusercontent.com/lphuong304/CS114.L21/main/COLAB_ASSIGNMENTS/COLAB_ASSIGNMENT_09_06/submit.csv')\n",
        "\n",
        "#xóa các cột không cần thiết\n",
        "data_train = data_train.loc[:, ~data_train.columns.str.contains('^Unnamed')]\n",
        "data_train = data_train.drop(['date'], axis=1)\n",
        "\n",
        "#xáo trộn lại thứ tự dữ liệu tin châm biếm và không châm biếm\n",
        "data_train = shuffle(data_train)\n",
        "data_train = data_train.reset_index()\n",
        "data_train = data_train.drop(['index'], axis = 1)\n",
        "data_train"
      ],
      "execution_count": 4,
      "outputs": [
        {
          "output_type": "execute_result",
          "data": {
            "text/html": [
              "<div>\n",
              "<style scoped>\n",
              "    .dataframe tbody tr th:only-of-type {\n",
              "        vertical-align: middle;\n",
              "    }\n",
              "\n",
              "    .dataframe tbody tr th {\n",
              "        vertical-align: top;\n",
              "    }\n",
              "\n",
              "    .dataframe thead th {\n",
              "        text-align: right;\n",
              "    }\n",
              "</style>\n",
              "<table border=\"1\" class=\"dataframe\">\n",
              "  <thead>\n",
              "    <tr style=\"text-align: right;\">\n",
              "      <th></th>\n",
              "      <th>article_link</th>\n",
              "      <th>headline</th>\n",
              "      <th>is_sarcastic</th>\n",
              "    </tr>\n",
              "  </thead>\n",
              "  <tbody>\n",
              "    <tr>\n",
              "      <th>0</th>\n",
              "      <td>https://www.nytimes.com/2019/11/16/us/politics...</td>\n",
              "      <td>Why the Louisiana Governor’s Race Is So Close</td>\n",
              "      <td>0</td>\n",
              "    </tr>\n",
              "    <tr>\n",
              "      <th>1</th>\n",
              "      <td>https://www.cbsnews.com/news/coinseed-new-york...</td>\n",
              "      <td>New York's AG shuts down crypto ap...</td>\n",
              "      <td>0</td>\n",
              "    </tr>\n",
              "    <tr>\n",
              "      <th>2</th>\n",
              "      <td>https://www.nytimes.com/2020/12/10/briefing/va...</td>\n",
              "      <td>Vaccine,Virus Deaths, California’s Trees: Your...</td>\n",
              "      <td>0</td>\n",
              "    </tr>\n",
              "    <tr>\n",
              "      <th>3</th>\n",
              "      <td>https://www.cbsnews.com/pictures/whats-coming-...</td>\n",
              "      <td>New on Netflix, Amazon, Disney+, H...</td>\n",
              "      <td>0</td>\n",
              "    </tr>\n",
              "    <tr>\n",
              "      <th>4</th>\n",
              "      <td>https://www.nytimes.com/2018/05/07/technology/...</td>\n",
              "      <td>Restoring a Lost Recycle Bin</td>\n",
              "      <td>0</td>\n",
              "    </tr>\n",
              "    <tr>\n",
              "      <th>...</th>\n",
              "      <td>...</td>\n",
              "      <td>...</td>\n",
              "      <td>...</td>\n",
              "    </tr>\n",
              "    <tr>\n",
              "      <th>118138</th>\n",
              "      <td>https://www.cbsnews.com/news/trump-cape-girade...</td>\n",
              "      <td>President Trump holds final midter...</td>\n",
              "      <td>0</td>\n",
              "    </tr>\n",
              "    <tr>\n",
              "      <th>118139</th>\n",
              "      <td>https://www.cbsnews.com/news/jeff-bezos-space-...</td>\n",
              "      <td>What to expect when Jeff Bezos lau...</td>\n",
              "      <td>0</td>\n",
              "    </tr>\n",
              "    <tr>\n",
              "      <th>118140</th>\n",
              "      <td>https://www.cbsnews.com/news/coinseed-new-york...</td>\n",
              "      <td>New York's AG shuts down crypto ap...</td>\n",
              "      <td>0</td>\n",
              "    </tr>\n",
              "    <tr>\n",
              "      <th>118141</th>\n",
              "      <td>https://www.nytimes.com/2019/01/09/world/ameri...</td>\n",
              "      <td>When Is a Border Just a Border? Almost Never</td>\n",
              "      <td>0</td>\n",
              "    </tr>\n",
              "    <tr>\n",
              "      <th>118142</th>\n",
              "      <td>https://www.nytimes.com/2020/08/07/world/middl...</td>\n",
              "      <td>Ship Blamed in Beirut Explosion Hasn’t Sailed ...</td>\n",
              "      <td>0</td>\n",
              "    </tr>\n",
              "  </tbody>\n",
              "</table>\n",
              "<p>118143 rows × 3 columns</p>\n",
              "</div>"
            ],
            "text/plain": [
              "                                             article_link  ... is_sarcastic\n",
              "0       https://www.nytimes.com/2019/11/16/us/politics...  ...            0\n",
              "1       https://www.cbsnews.com/news/coinseed-new-york...  ...            0\n",
              "2       https://www.nytimes.com/2020/12/10/briefing/va...  ...            0\n",
              "3       https://www.cbsnews.com/pictures/whats-coming-...  ...            0\n",
              "4       https://www.nytimes.com/2018/05/07/technology/...  ...            0\n",
              "...                                                   ...  ...          ...\n",
              "118138  https://www.cbsnews.com/news/trump-cape-girade...  ...            0\n",
              "118139  https://www.cbsnews.com/news/jeff-bezos-space-...  ...            0\n",
              "118140  https://www.cbsnews.com/news/coinseed-new-york...  ...            0\n",
              "118141  https://www.nytimes.com/2019/01/09/world/ameri...  ...            0\n",
              "118142  https://www.nytimes.com/2020/08/07/world/middl...  ...            0\n",
              "\n",
              "[118143 rows x 3 columns]"
            ]
          },
          "metadata": {
            "tags": []
          },
          "execution_count": 4
        }
      ]
    },
    {
      "cell_type": "code",
      "metadata": {
        "id": "Et0HdWov2ANq"
      },
      "source": [
        "#tạo file csv đưa lên github\n",
        "data_to_train = data_train.to_csv('/content/data_train.csv')"
      ],
      "execution_count": 5,
      "outputs": []
    },
    {
      "cell_type": "code",
      "metadata": {
        "colab": {
          "base_uri": "https://localhost:8080/",
          "height": 415
        },
        "id": "UaUtt8DGQhQ2",
        "outputId": "a5783357-dad3-4f74-a6fc-380e4fe7c850"
      },
      "source": [
        "#lấy dữ liệu test từ trang github mà nhóm bạn đã crawl trước đó\n",
        "data_test1 = pd.read_csv('https://raw.githubusercontent.com/vanviethieuanh/CS114.L21/main/News%20Scraping/19522054/news/data_0.csv')\n",
        "data_test2 = pd.read_csv('https://raw.githubusercontent.com/vanviethieuanh/CS114.L21/main/News%20Scraping/19522054/news/data_1.csv')\n",
        "data_test = pd.concat([data_test1, data_test2])\n",
        "\n",
        "#loại bỏ các cột không cần thiết\n",
        "data_test = data_test.drop(['posted_at'], axis = 1)\n",
        "\n",
        "#xáo trộn lại thứ tự dữ liệu tin châm biếm và không châm biếm\n",
        "data_test = shuffle(data_test)\n",
        "data_test = data_test.reset_index()\n",
        "data_test = data_test.drop(['index'], axis = 1)\n",
        "\n",
        "data_test"
      ],
      "execution_count": 6,
      "outputs": [
        {
          "output_type": "execute_result",
          "data": {
            "text/html": [
              "<div>\n",
              "<style scoped>\n",
              "    .dataframe tbody tr th:only-of-type {\n",
              "        vertical-align: middle;\n",
              "    }\n",
              "\n",
              "    .dataframe tbody tr th {\n",
              "        vertical-align: top;\n",
              "    }\n",
              "\n",
              "    .dataframe thead th {\n",
              "        text-align: right;\n",
              "    }\n",
              "</style>\n",
              "<table border=\"1\" class=\"dataframe\">\n",
              "  <thead>\n",
              "    <tr style=\"text-align: right;\">\n",
              "      <th></th>\n",
              "      <th>article_link</th>\n",
              "      <th>headline</th>\n",
              "      <th>is_sarcastic</th>\n",
              "    </tr>\n",
              "  </thead>\n",
              "  <tbody>\n",
              "    <tr>\n",
              "      <th>0</th>\n",
              "      <td>https://www.theaustralian.com.au/business/econ...</td>\n",
              "      <td>Jobs market recovery restarts</td>\n",
              "      <td>0</td>\n",
              "    </tr>\n",
              "    <tr>\n",
              "      <th>1</th>\n",
              "      <td>https://thehardtimes.net/blog/not-a-big-deal-a...</td>\n",
              "      <td>Not a Big Deal at All: My Piece of Shit Ex Is ...</td>\n",
              "      <td>1</td>\n",
              "    </tr>\n",
              "    <tr>\n",
              "      <th>2</th>\n",
              "      <td>https://www.theaustralian.com.au/world/the-tim...</td>\n",
              "      <td>The dirty secret behind electric cars</td>\n",
              "      <td>0</td>\n",
              "    </tr>\n",
              "    <tr>\n",
              "      <th>3</th>\n",
              "      <td>https://www.theaustralian.com.au/commentary/bu...</td>\n",
              "      <td>Reconstruction a tough task</td>\n",
              "      <td>0</td>\n",
              "    </tr>\n",
              "    <tr>\n",
              "      <th>4</th>\n",
              "      <td>https://www.theaustralian.com.au/business/the-...</td>\n",
              "      <td>Nasdaq proposes new listing standards</td>\n",
              "      <td>0</td>\n",
              "    </tr>\n",
              "    <tr>\n",
              "      <th>...</th>\n",
              "      <td>...</td>\n",
              "      <td>...</td>\n",
              "      <td>...</td>\n",
              "    </tr>\n",
              "    <tr>\n",
              "      <th>56061</th>\n",
              "      <td>https://www.theaustralian.com.au/sport/cricket...</td>\n",
              "      <td>Border not buying NZ as underdogs</td>\n",
              "      <td>0</td>\n",
              "    </tr>\n",
              "    <tr>\n",
              "      <th>56062</th>\n",
              "      <td>https://www.theaustralian.com.au/world/the-tim...</td>\n",
              "      <td>Carell show a lemon for Apple</td>\n",
              "      <td>0</td>\n",
              "    </tr>\n",
              "    <tr>\n",
              "      <th>56063</th>\n",
              "      <td>https://www.theaustralian.com.au/business/data...</td>\n",
              "      <td>AxiCorp buys UK rival</td>\n",
              "      <td>0</td>\n",
              "    </tr>\n",
              "    <tr>\n",
              "      <th>56064</th>\n",
              "      <td>https://www.theaustralian.com.au/business/fina...</td>\n",
              "      <td>Tanner joins bid to rebuild trust in Sargon</td>\n",
              "      <td>0</td>\n",
              "    </tr>\n",
              "    <tr>\n",
              "      <th>56065</th>\n",
              "      <td>https://www.theaustralian.com.au/business/the-...</td>\n",
              "      <td>Lessons from a crazy, stellar year</td>\n",
              "      <td>0</td>\n",
              "    </tr>\n",
              "  </tbody>\n",
              "</table>\n",
              "<p>56066 rows × 3 columns</p>\n",
              "</div>"
            ],
            "text/plain": [
              "                                            article_link  ... is_sarcastic\n",
              "0      https://www.theaustralian.com.au/business/econ...  ...            0\n",
              "1      https://thehardtimes.net/blog/not-a-big-deal-a...  ...            1\n",
              "2      https://www.theaustralian.com.au/world/the-tim...  ...            0\n",
              "3      https://www.theaustralian.com.au/commentary/bu...  ...            0\n",
              "4      https://www.theaustralian.com.au/business/the-...  ...            0\n",
              "...                                                  ...  ...          ...\n",
              "56061  https://www.theaustralian.com.au/sport/cricket...  ...            0\n",
              "56062  https://www.theaustralian.com.au/world/the-tim...  ...            0\n",
              "56063  https://www.theaustralian.com.au/business/data...  ...            0\n",
              "56064  https://www.theaustralian.com.au/business/fina...  ...            0\n",
              "56065  https://www.theaustralian.com.au/business/the-...  ...            0\n",
              "\n",
              "[56066 rows x 3 columns]"
            ]
          },
          "metadata": {
            "tags": []
          },
          "execution_count": 6
        }
      ]
    },
    {
      "cell_type": "code",
      "metadata": {
        "id": "nrb-V6LE2eba"
      },
      "source": [
        "#tạo file csv đưa lên github\n",
        "data_to_test = data_test.to_csv('/content/data_test.csv')"
      ],
      "execution_count": 7,
      "outputs": []
    },
    {
      "cell_type": "markdown",
      "metadata": {
        "id": "vOcltdAAS7f_"
      },
      "source": [
        "##visualize data"
      ]
    },
    {
      "cell_type": "code",
      "metadata": {
        "colab": {
          "base_uri": "https://localhost:8080/"
        },
        "id": "Yu4yMShfGFcT",
        "outputId": "a0372819-adce-4aec-9983-d09f0071e864"
      },
      "source": [
        "data_train.info()"
      ],
      "execution_count": 8,
      "outputs": [
        {
          "output_type": "stream",
          "text": [
            "<class 'pandas.core.frame.DataFrame'>\n",
            "RangeIndex: 118143 entries, 0 to 118142\n",
            "Data columns (total 3 columns):\n",
            " #   Column        Non-Null Count   Dtype \n",
            "---  ------        --------------   ----- \n",
            " 0   article_link  118143 non-null  object\n",
            " 1   headline      118143 non-null  object\n",
            " 2   is_sarcastic  118143 non-null  int64 \n",
            "dtypes: int64(1), object(2)\n",
            "memory usage: 2.7+ MB\n"
          ],
          "name": "stdout"
        }
      ]
    },
    {
      "cell_type": "markdown",
      "metadata": {
        "id": "hnspnjpM5LsZ"
      },
      "source": [
        "Dữ liệu train không có cột nào bị null."
      ]
    },
    {
      "cell_type": "code",
      "metadata": {
        "colab": {
          "base_uri": "https://localhost:8080/",
          "height": 422
        },
        "id": "2ccWbVe05Rdr",
        "outputId": "f80e94b7-2f63-4fab-82a6-7067a933f4c3"
      },
      "source": [
        "#trực quan hóa dữ liệu data to train\n",
        "fig=plt.figure(figsize=(8,6))\n",
        "background_color = '#f6f5f7'\n",
        "fig.patch.set_facecolor(background_color) \n",
        "ax=plt.subplot(1,1,1)\n",
        "ax.set_facecolor(background_color)\n",
        "ax.set_title('Visualize Sarcastic News on Data Train',fontweight='bold',fontfamily='serif')\n",
        "for i in ['top','right']:\n",
        "    ax.spines[i].set_visible(False)\n",
        "ax.grid(linestyle=':',axis='y')\n",
        "sns.countplot(data_train['is_sarcastic'],palette='PuOr_r')"
      ],
      "execution_count": 9,
      "outputs": [
        {
          "output_type": "execute_result",
          "data": {
            "text/plain": [
              "<matplotlib.axes._subplots.AxesSubplot at 0x7f171eab0f90>"
            ]
          },
          "metadata": {
            "tags": []
          },
          "execution_count": 9
        },
        {
          "output_type": "display_data",
          "data": {
            "image/png": "[encoded data removed]",
            "text/plain": [
              "<Figure size 576x432 with 1 Axes>"
            ]
          },
          "metadata": {
            "tags": []
          }
        }
      ]
    },
    {
      "cell_type": "markdown",
      "metadata": {
        "id": "-K0IvGsn9_YQ"
      },
      "source": [
        "Vì dữ liệu trên bị mất cân bằng trầm trọng (*số tin tức châm biếm xấp xỉ bằng $14\\%$ so với tin tức chính thống nên chúng em có dự định sẽ dùng hàm cân bằng lại dữ liệu*)."
      ]
    },
    {
      "cell_type": "code",
      "metadata": {
        "id": "N7SWTYctFImz",
        "colab": {
          "base_uri": "https://localhost:8080/",
          "height": 415
        },
        "outputId": "034905e2-fb3b-4f52-d9c6-7d0f9e15ef2e"
      },
      "source": [
        "#loại bỏ cột không cần thiết, cột article_link không ảnh hưởng gì đến kết quả train model.\n",
        "data_to_train = data_train.drop(columns='article_link')\n",
        "data_to_test = data_test.drop(columns='article_link')\n",
        "data_to_train "
      ],
      "execution_count": 10,
      "outputs": [
        {
          "output_type": "execute_result",
          "data": {
            "text/html": [
              "<div>\n",
              "<style scoped>\n",
              "    .dataframe tbody tr th:only-of-type {\n",
              "        vertical-align: middle;\n",
              "    }\n",
              "\n",
              "    .dataframe tbody tr th {\n",
              "        vertical-align: top;\n",
              "    }\n",
              "\n",
              "    .dataframe thead th {\n",
              "        text-align: right;\n",
              "    }\n",
              "</style>\n",
              "<table border=\"1\" class=\"dataframe\">\n",
              "  <thead>\n",
              "    <tr style=\"text-align: right;\">\n",
              "      <th></th>\n",
              "      <th>headline</th>\n",
              "      <th>is_sarcastic</th>\n",
              "    </tr>\n",
              "  </thead>\n",
              "  <tbody>\n",
              "    <tr>\n",
              "      <th>0</th>\n",
              "      <td>Why the Louisiana Governor’s Race Is So Close</td>\n",
              "      <td>0</td>\n",
              "    </tr>\n",
              "    <tr>\n",
              "      <th>1</th>\n",
              "      <td>New York's AG shuts down crypto ap...</td>\n",
              "      <td>0</td>\n",
              "    </tr>\n",
              "    <tr>\n",
              "      <th>2</th>\n",
              "      <td>Vaccine,Virus Deaths, California’s Trees: Your...</td>\n",
              "      <td>0</td>\n",
              "    </tr>\n",
              "    <tr>\n",
              "      <th>3</th>\n",
              "      <td>New on Netflix, Amazon, Disney+, H...</td>\n",
              "      <td>0</td>\n",
              "    </tr>\n",
              "    <tr>\n",
              "      <th>4</th>\n",
              "      <td>Restoring a Lost Recycle Bin</td>\n",
              "      <td>0</td>\n",
              "    </tr>\n",
              "    <tr>\n",
              "      <th>...</th>\n",
              "      <td>...</td>\n",
              "      <td>...</td>\n",
              "    </tr>\n",
              "    <tr>\n",
              "      <th>118138</th>\n",
              "      <td>President Trump holds final midter...</td>\n",
              "      <td>0</td>\n",
              "    </tr>\n",
              "    <tr>\n",
              "      <th>118139</th>\n",
              "      <td>What to expect when Jeff Bezos lau...</td>\n",
              "      <td>0</td>\n",
              "    </tr>\n",
              "    <tr>\n",
              "      <th>118140</th>\n",
              "      <td>New York's AG shuts down crypto ap...</td>\n",
              "      <td>0</td>\n",
              "    </tr>\n",
              "    <tr>\n",
              "      <th>118141</th>\n",
              "      <td>When Is a Border Just a Border? Almost Never</td>\n",
              "      <td>0</td>\n",
              "    </tr>\n",
              "    <tr>\n",
              "      <th>118142</th>\n",
              "      <td>Ship Blamed in Beirut Explosion Hasn’t Sailed ...</td>\n",
              "      <td>0</td>\n",
              "    </tr>\n",
              "  </tbody>\n",
              "</table>\n",
              "<p>118143 rows × 2 columns</p>\n",
              "</div>"
            ],
            "text/plain": [
              "                                                 headline  is_sarcastic\n",
              "0           Why the Louisiana Governor’s Race Is So Close             0\n",
              "1                   New York's AG shuts down crypto ap...             0\n",
              "2       Vaccine,Virus Deaths, California’s Trees: Your...             0\n",
              "3                   New on Netflix, Amazon, Disney+, H...             0\n",
              "4                            Restoring a Lost Recycle Bin             0\n",
              "...                                                   ...           ...\n",
              "118138              President Trump holds final midter...             0\n",
              "118139              What to expect when Jeff Bezos lau...             0\n",
              "118140              New York's AG shuts down crypto ap...             0\n",
              "118141       When Is a Border Just a Border? Almost Never             0\n",
              "118142  Ship Blamed in Beirut Explosion Hasn’t Sailed ...             0\n",
              "\n",
              "[118143 rows x 2 columns]"
            ]
          },
          "metadata": {
            "tags": []
          },
          "execution_count": 10
        }
      ]
    },
    {
      "cell_type": "markdown",
      "metadata": {
        "id": "OM-zoDIrZU7Q"
      },
      "source": [
        "#2. Pre-Processing Data Text\n",
        "\n",
        "##Text Processing\n",
        "* Mục đích:Tiền xử lý văn bản giúp đưa các Tiêu đề Báo đã crawl dạng Text về dạng dữ liệu có thể dự đoán và phân tích được (ý tưởng là biến đổi thành ma trận với các con số) \n",
        "* Sau khi tham khảo các bước Tiền Xử lý văn bản trong NLP, chúng em đút kết ra các và thực hiện các bước như sau:\n",
        "\n",
        "Mục đích: Làm giảm số lượng các từ ngữ trong text không ảnh hưởng đến kết quả của model dự đoán, nhờ đó khi biểu diễn từ text sang vector thì kích thước của vector cũng nhỏ hơn."
      ]
    },
    {
      "cell_type": "markdown",
      "metadata": {
        "id": "YfFeZsmwIB0k"
      },
      "source": [
        "**Lowercase** \n",
        "* Biến đổi các từ viết hoa thành các từ từ viết thường.\n",
        "* Mục đích: Đồng bộ Tiêu đề văn bản, tránh lặp lại các từ cùng nghĩa nhưng viết hoa.\n",
        "* Ví dụ: `friend` vs `Friend`, `text` vs `Text`, `canada` vs `CANADA`,..."
      ]
    },
    {
      "cell_type": "code",
      "metadata": {
        "id": "FkCl0Oa_GtRs",
        "colab": {
          "base_uri": "https://localhost:8080/"
        },
        "outputId": "c8674e09-98b6-42a2-ecf1-835ffb40daed"
      },
      "source": [
        "#tạo hàm chuyển các từ viết hoa thành viết thường\n",
        "def text_lowercase(text):\n",
        "  return text.lower()\n",
        "\n",
        "print(\"Healines of News before being lowercased: \\n\")\n",
        "print(data_to_train['headline'].head(10))\n",
        "\n",
        "#Viết thường toàn bộ Headlines trong bộ dữ liệu dùng để train.\n",
        "print(\"\\n Healines of News after being lowercased: \\n\")\n",
        "data_to_train['headline'] = data_to_train['headline'].apply(text_lowercase)\n",
        "print(data_to_train['headline'].head(10))\n",
        "\n",
        "#Viết thường toàn bộ Headlines trong bộ dữ liệu dùng để test.\n",
        "data_to_test['headline'] = data_to_test['headline'].apply(text_lowercase)"
      ],
      "execution_count": 11,
      "outputs": [
        {
          "output_type": "stream",
          "text": [
            "Healines of News before being lowercased: \n",
            "\n",
            "0        Why the Louisiana Governor’s Race Is So Close\n",
            "1                New York's AG shuts down crypto ap...\n",
            "2    Vaccine,Virus Deaths, California’s Trees: Your...\n",
            "3                New on Netflix, Amazon, Disney+, H...\n",
            "4                         Restoring a Lost Recycle Bin\n",
            "5                Ted Bundy: The serial killer's fin...\n",
            "6    Bolivia’s Evo Morales Faces Runoff, Early Elec...\n",
            "7               Couple Goes On Romantic Date To Target\n",
            "8                Richard Ramirez: The story, the ev...\n",
            "9                How to watch the rare \"ring of fir...\n",
            "Name: headline, dtype: object\n",
            "\n",
            " Healines of News after being lowercased: \n",
            "\n",
            "0        why the louisiana governor’s race is so close\n",
            "1                new york's ag shuts down crypto ap...\n",
            "2    vaccine,virus deaths, california’s trees: your...\n",
            "3                new on netflix, amazon, disney+, h...\n",
            "4                         restoring a lost recycle bin\n",
            "5                ted bundy: the serial killer's fin...\n",
            "6    bolivia’s evo morales faces runoff, early elec...\n",
            "7               couple goes on romantic date to target\n",
            "8                richard ramirez: the story, the ev...\n",
            "9                how to watch the rare \"ring of fir...\n",
            "Name: headline, dtype: object\n"
          ],
          "name": "stdout"
        }
      ]
    },
    {
      "cell_type": "markdown",
      "metadata": {
        "id": "jPv4UJW-CfyC"
      },
      "source": [
        "**Lemmatization** \n",
        "* Vì trong Tiếng Anh các từ có nhiều biến thể (go, goes, gone,...). Kỹ thuật Lemmatization giúp đưa các từ cùng words formation về dạng gốc của nó.\n",
        "* Mục đích: Giúp giảm thiểu data cho những từ khác dạng nhưng đều nói về cùng một khái niệm, mức độ chính xác cao so với các phương pháp khác cũng đưa từ về dạng nguyên gốc vì khi biến đổi thư viện lemmatization trong nltk sẽ sử dụng bảng để tra từ gốc của các từ. \n",
        "* Cách Lemmatization nhận diện các từ trong bảng tra cứu của nó thông qua gán nhãn từ loại - *pos_tagger* - ví dụ từ `in`, `or` là `IN` (giới từ), `braver`, `cooler` là JJR (tính từ, so sánh hơn),...\n",
        "* Ví dụ: UIT `has` `founded` for about 15 `years` => UIT `have` `found` for about 15 `year` "
      ]
    },
    {
      "cell_type": "code",
      "metadata": {
        "colab": {
          "base_uri": "https://localhost:8080/"
        },
        "id": "nnxuB2M9GPkq",
        "outputId": "74a07554-fa7b-47b6-9370-75d02f76b305"
      },
      "source": [
        "lem = WordNetLemmatizer()\n",
        "\n",
        "#tìm ra các tag từ thông dụng, ở đây chúng em chỉ giới hạn với các loại từ cơ bản nhất trong tiếng Anh: Tính từ (ADJ), Động từ (VERB), Danh từ (NOUN), Trạng từ(ADV)\n",
        "def nltk2wn_tag(nltk_tag):\n",
        "  if nltk_tag.startswith('J'):\n",
        "    return wordnet.ADJ\n",
        "  elif nltk_tag.startswith('V'):\n",
        "    return wordnet.VERB\n",
        "  elif nltk_tag.startswith('N'):\n",
        "    return wordnet.NOUN\n",
        "  elif nltk_tag.startswith('R'):\n",
        "    return wordnet.ADV\n",
        "  else:                    \n",
        "    return None\n",
        "\n",
        "#hàm lemmatizer giúp tìm ra từ gốc của cả một câu.\n",
        "def lemmatizer(sentence):\n",
        "  #tìm ra các pos tag của các từ trong câu\n",
        "  nltk_tagged = nltk.pos_tag(nltk.word_tokenize(sentence))    \n",
        "  wn_tagged = map(lambda x: (x[0], nltk2wn_tag(x[1])), nltk_tagged)\n",
        "\n",
        "  #biến đổi từng từ và trả về câu với các từ được biến đổi\n",
        "  res_words = []\n",
        "  #nếu không tìm được nhãn từ loại của từ (pos-tag) thì trả về chính từ đó\n",
        "  for word, tag in wn_tagged:\n",
        "    if tag is None:                        \n",
        "      res_words.append(word)\n",
        "    else:\n",
        "      res_words.append(lem.lemmatize(word, tag))\n",
        "\n",
        "  return \" \".join(res_words)\n",
        "\n",
        "print(\"Healines of News before being lemmatized: \\n\")\n",
        "print(data_to_train['headline'].head(10))\n",
        "\n",
        "#Đưa về gốc các từ có thể đưa được trong toàn bộ Headlines trong bộ dữ liệu dùng để train\n",
        "print(\"\\n Healines of News after being lemmatized: \\n\")\n",
        "data_to_train['headline'] = data_to_train['headline'].apply(lemmatizer)\n",
        "print(data_to_train['headline'].head(10))"
      ],
      "execution_count": 12,
      "outputs": [
        {
          "output_type": "stream",
          "text": [
            "Healines of News before being lemmatized: \n",
            "\n",
            "0        why the louisiana governor’s race is so close\n",
            "1                new york's ag shuts down crypto ap...\n",
            "2    vaccine,virus deaths, california’s trees: your...\n",
            "3                new on netflix, amazon, disney+, h...\n",
            "4                         restoring a lost recycle bin\n",
            "5                ted bundy: the serial killer's fin...\n",
            "6    bolivia’s evo morales faces runoff, early elec...\n",
            "7               couple goes on romantic date to target\n",
            "8                richard ramirez: the story, the ev...\n",
            "9                how to watch the rare \"ring of fir...\n",
            "Name: headline, dtype: object\n",
            "\n",
            " Healines of News after being lemmatized: \n",
            "\n",
            "0      why the louisiana governor ’ s race be so close\n",
            "1    new york 's ag shut down crypto app , claim il...\n",
            "2    vaccine , virus death , california ’ s tree : ...\n",
            "3    new on netflix , amazon , disney+ , hulu and more\n",
            "4                           restore a lost recycle bin\n",
            "5          ted bundy : the serial killer 's final year\n",
            "6    bolivia ’ s evo morale face runoff , early ele...\n",
            "7                 couple go on romantic date to target\n",
            "8    richard ramirez : the story , the evidence , t...\n",
            "9    how to watch the rare `` ring of fire '' solar...\n",
            "Name: headline, dtype: object\n"
          ],
          "name": "stdout"
        }
      ]
    },
    {
      "cell_type": "code",
      "metadata": {
        "id": "NU-580_yag89"
      },
      "source": [
        "#Đưa về gốc các từ có thể đưa được trong toàn bộ Headlines trong bộ dữ liệu dùng để test\n",
        "data_to_test['headline'] = data_to_test['headline'].apply(lemmatizer)"
      ],
      "execution_count": 13,
      "outputs": []
    },
    {
      "cell_type": "markdown",
      "metadata": {
        "id": "DPVTDzV2IxJ1"
      },
      "source": [
        "**Remove punctuation**\n",
        "\n",
        "* Mục đích: Xóa các dấu câu như `,` , `!`, `;` để giảm bớt kích thước của text, tiết kiệm data và loại bỏ các dữ kiện không cần thiết."
      ]
    },
    {
      "cell_type": "code",
      "metadata": {
        "id": "f4-EFokHIIt7",
        "colab": {
          "base_uri": "https://localhost:8080/"
        },
        "outputId": "27bac1c1-3741-4f1b-f5ce-bf956a937aef"
      },
      "source": [
        "def remove_punctuation(text):\n",
        "  translator = str.maketrans('', '', string.punctuation)\n",
        "  return text.translate(translator)\n",
        "\n",
        "print(\"Healines of News before being removing punctuation: \\n\")\n",
        "print(data_to_train['headline'].head(10))\n",
        "\n",
        "#Loại bỏ dấu toàn bộ Headlines trong bộ dữ liệu dùng để train.\n",
        "print(\"Healines of News before being removing punctuation: \\n\")\n",
        "data_to_train['headline'] = data_to_train['headline'].apply(remove_punctuation)\n",
        "print(data_to_train['headline'].head(10))\n",
        "\n",
        "#Loại bỏ dấu toàn bộ Headlines trong bộ dữ liệu dùng để test\n",
        "data_to_test['headline'] = data_to_test['headline'].apply(remove_punctuation)"
      ],
      "execution_count": 14,
      "outputs": [
        {
          "output_type": "stream",
          "text": [
            "Healines of News before being removing punctuation: \n",
            "\n",
            "0      why the louisiana governor ’ s race be so close\n",
            "1    new york 's ag shut down crypto app , claim il...\n",
            "2    vaccine , virus death , california ’ s tree : ...\n",
            "3    new on netflix , amazon , disney+ , hulu and more\n",
            "4                           restore a lost recycle bin\n",
            "5          ted bundy : the serial killer 's final year\n",
            "6    bolivia ’ s evo morale face runoff , early ele...\n",
            "7                 couple go on romantic date to target\n",
            "8    richard ramirez : the story , the evidence , t...\n",
            "9    how to watch the rare `` ring of fire '' solar...\n",
            "Name: headline, dtype: object\n",
            "Healines of News before being removing punctuation: \n",
            "\n",
            "0      why the louisiana governor ’ s race be so close\n",
            "1    new york s ag shut down crypto app  claim ille...\n",
            "2    vaccine  virus death  california ’ s tree  you...\n",
            "3        new on netflix  amazon  disney  hulu and more\n",
            "4                           restore a lost recycle bin\n",
            "5            ted bundy  the serial killer s final year\n",
            "6    bolivia ’ s evo morale face runoff  early elec...\n",
            "7                 couple go on romantic date to target\n",
            "8    richard ramirez  the story  the evidence  the ...\n",
            "9    how to watch the rare  ring of fire  solar ecl...\n",
            "Name: headline, dtype: object\n"
          ],
          "name": "stdout"
        }
      ]
    },
    {
      "cell_type": "markdown",
      "metadata": {
        "id": "tL8cR2EiJ0le"
      },
      "source": [
        "**Remove whitespace**\n",
        "* Mục đích: Xóa tất cả khoảng trắng `space`, `tab`,.. trong text để giảm bớt kích thước của text."
      ]
    },
    {
      "cell_type": "code",
      "metadata": {
        "id": "OUlCQv4GKEI0",
        "colab": {
          "base_uri": "https://localhost:8080/"
        },
        "outputId": "bbe05323-beea-41ba-8909-05296975b345"
      },
      "source": [
        "def remove_whitespace(text):\n",
        "  return \" \".join(text.split())\n",
        "\n",
        "print(\"Healines of News before being removing whitespace: \\n\")\n",
        "print(data_to_train['headline'].head(10))\n",
        "\n",
        "#Loại bỏ khoảng trắng toàn bộ Headlines trong bộ dữ liệu dùng để train.\n",
        "print(\"Healines of News before being removing whitespace: \\n\")\n",
        "data_to_train['headline'] = data_to_train['headline'].apply(remove_whitespace)\n",
        "print(data_to_train['headline'].head(10))\n",
        "\n",
        "#Loại bỏ khoảng trắng toàn bộ Headlines trong bộ dữ liệu dùng để test\n",
        "data_to_test['headline'] = data_to_test['headline'].apply(remove_whitespace)"
      ],
      "execution_count": 15,
      "outputs": [
        {
          "output_type": "stream",
          "text": [
            "Healines of News before being removing whitespace: \n",
            "\n",
            "0      why the louisiana governor ’ s race be so close\n",
            "1    new york s ag shut down crypto app  claim ille...\n",
            "2    vaccine  virus death  california ’ s tree  you...\n",
            "3        new on netflix  amazon  disney  hulu and more\n",
            "4                           restore a lost recycle bin\n",
            "5            ted bundy  the serial killer s final year\n",
            "6    bolivia ’ s evo morale face runoff  early elec...\n",
            "7                 couple go on romantic date to target\n",
            "8    richard ramirez  the story  the evidence  the ...\n",
            "9    how to watch the rare  ring of fire  solar ecl...\n",
            "Name: headline, dtype: object\n",
            "Healines of News before being removing whitespace: \n",
            "\n",
            "0      why the louisiana governor ’ s race be so close\n",
            "1    new york s ag shut down crypto app claim illeg...\n",
            "2    vaccine virus death california ’ s tree your t...\n",
            "3           new on netflix amazon disney hulu and more\n",
            "4                           restore a lost recycle bin\n",
            "5             ted bundy the serial killer s final year\n",
            "6    bolivia ’ s evo morale face runoff early elect...\n",
            "7                 couple go on romantic date to target\n",
            "8    richard ramirez the story the evidence the nig...\n",
            "9    how to watch the rare ring of fire solar eclip...\n",
            "Name: headline, dtype: object\n"
          ],
          "name": "stdout"
        }
      ]
    },
    {
      "cell_type": "markdown",
      "metadata": {
        "id": "88GPYDmsKOml"
      },
      "source": [
        "**Remove default stopwords**\n",
        "\n",
        "* Mục đích: xóa các stopwords (*là những từ xuất hiện nhiều trong ngôn ngữ tự nhiên, tuy nhiên có tác dụng chủ yếu bổ trợ cho ngữ pháp nhưng không mang nhiều ý nghĩa.*)\n",
        "* Ví dụ các *stopwords* trong Tiếng Anh:"
      ]
    },
    {
      "cell_type": "code",
      "metadata": {
        "colab": {
          "base_uri": "https://localhost:8080/"
        },
        "id": "DTo_aeME214o",
        "outputId": "42778983-db41-4a6e-e468-a97f164292b0"
      },
      "source": [
        "stopwords.words(\"english\")"
      ],
      "execution_count": 16,
      "outputs": [
        {
          "output_type": "execute_result",
          "data": {
            "text/plain": [
              "['i',\n",
              " 'me',\n",
              " 'my',\n",
              " 'myself',\n",
              " 'we',\n",
              " 'our',\n",
              " 'ours',\n",
              " 'ourselves',\n",
              " 'you',\n",
              " \"you're\",\n",
              " \"you've\",\n",
              " \"you'll\",\n",
              " \"you'd\",\n",
              " 'your',\n",
              " 'yours',\n",
              " 'yourself',\n",
              " 'yourselves',\n",
              " 'he',\n",
              " 'him',\n",
              " 'his',\n",
              " 'himself',\n",
              " 'she',\n",
              " \"she's\",\n",
              " 'her',\n",
              " 'hers',\n",
              " 'herself',\n",
              " 'it',\n",
              " \"it's\",\n",
              " 'its',\n",
              " 'itself',\n",
              " 'they',\n",
              " 'them',\n",
              " 'their',\n",
              " 'theirs',\n",
              " 'themselves',\n",
              " 'what',\n",
              " 'which',\n",
              " 'who',\n",
              " 'whom',\n",
              " 'this',\n",
              " 'that',\n",
              " \"that'll\",\n",
              " 'these',\n",
              " 'those',\n",
              " 'am',\n",
              " 'is',\n",
              " 'are',\n",
              " 'was',\n",
              " 'were',\n",
              " 'be',\n",
              " 'been',\n",
              " 'being',\n",
              " 'have',\n",
              " 'has',\n",
              " 'had',\n",
              " 'having',\n",
              " 'do',\n",
              " 'does',\n",
              " 'did',\n",
              " 'doing',\n",
              " 'a',\n",
              " 'an',\n",
              " 'the',\n",
              " 'and',\n",
              " 'but',\n",
              " 'if',\n",
              " 'or',\n",
              " 'because',\n",
              " 'as',\n",
              " 'until',\n",
              " 'while',\n",
              " 'of',\n",
              " 'at',\n",
              " 'by',\n",
              " 'for',\n",
              " 'with',\n",
              " 'about',\n",
              " 'against',\n",
              " 'between',\n",
              " 'into',\n",
              " 'through',\n",
              " 'during',\n",
              " 'before',\n",
              " 'after',\n",
              " 'above',\n",
              " 'below',\n",
              " 'to',\n",
              " 'from',\n",
              " 'up',\n",
              " 'down',\n",
              " 'in',\n",
              " 'out',\n",
              " 'on',\n",
              " 'off',\n",
              " 'over',\n",
              " 'under',\n",
              " 'again',\n",
              " 'further',\n",
              " 'then',\n",
              " 'once',\n",
              " 'here',\n",
              " 'there',\n",
              " 'when',\n",
              " 'where',\n",
              " 'why',\n",
              " 'how',\n",
              " 'all',\n",
              " 'any',\n",
              " 'both',\n",
              " 'each',\n",
              " 'few',\n",
              " 'more',\n",
              " 'most',\n",
              " 'other',\n",
              " 'some',\n",
              " 'such',\n",
              " 'no',\n",
              " 'nor',\n",
              " 'not',\n",
              " 'only',\n",
              " 'own',\n",
              " 'same',\n",
              " 'so',\n",
              " 'than',\n",
              " 'too',\n",
              " 'very',\n",
              " 's',\n",
              " 't',\n",
              " 'can',\n",
              " 'will',\n",
              " 'just',\n",
              " 'don',\n",
              " \"don't\",\n",
              " 'should',\n",
              " \"should've\",\n",
              " 'now',\n",
              " 'd',\n",
              " 'll',\n",
              " 'm',\n",
              " 'o',\n",
              " 're',\n",
              " 've',\n",
              " 'y',\n",
              " 'ain',\n",
              " 'aren',\n",
              " \"aren't\",\n",
              " 'couldn',\n",
              " \"couldn't\",\n",
              " 'didn',\n",
              " \"didn't\",\n",
              " 'doesn',\n",
              " \"doesn't\",\n",
              " 'hadn',\n",
              " \"hadn't\",\n",
              " 'hasn',\n",
              " \"hasn't\",\n",
              " 'haven',\n",
              " \"haven't\",\n",
              " 'isn',\n",
              " \"isn't\",\n",
              " 'ma',\n",
              " 'mightn',\n",
              " \"mightn't\",\n",
              " 'mustn',\n",
              " \"mustn't\",\n",
              " 'needn',\n",
              " \"needn't\",\n",
              " 'shan',\n",
              " \"shan't\",\n",
              " 'shouldn',\n",
              " \"shouldn't\",\n",
              " 'wasn',\n",
              " \"wasn't\",\n",
              " 'weren',\n",
              " \"weren't\",\n",
              " 'won',\n",
              " \"won't\",\n",
              " 'wouldn',\n",
              " \"wouldn't\"]"
            ]
          },
          "metadata": {
            "tags": []
          },
          "execution_count": 16
        }
      ]
    },
    {
      "cell_type": "code",
      "metadata": {
        "id": "41POM1_rKPrO",
        "colab": {
          "base_uri": "https://localhost:8080/"
        },
        "outputId": "789a10de-617f-458f-daef-0b36d8b4c98e"
      },
      "source": [
        "#xóa các stopwords trong câu\n",
        "def remove_stopwords(text):\n",
        "  stop_words = set(stopwords.words(\"english\"))\n",
        "  word_tokens = word_tokenize(text)\n",
        "  filtered_text = [word for word in word_tokens if word not in stop_words]\n",
        "  return filtered_text\n",
        "\n",
        "print(\"Healines of News before being removing stopwords: \\n\")\n",
        "print(data_to_train['headline'].head(10))\n",
        "\n",
        "#Loại bỏ stopwords toàn bộ Headlines trong bộ dữ liệu dùng để train.\n",
        "print(\"Healines of News before being removing stopwords: \\n\")\n",
        "data_to_train['headline'] = data_to_train['headline'].apply(remove_stopwords)\n",
        "print(data_to_train['headline'].head(10))\n",
        "\n",
        "#Loại bỏ stopwords toàn bộ Headlines trong bộ dữ liệu dùng để test\n",
        "data_to_test['headline'] = data_to_test['headline'].apply(remove_stopwords)"
      ],
      "execution_count": 17,
      "outputs": [
        {
          "output_type": "stream",
          "text": [
            "Healines of News before being removing stopwords: \n",
            "\n",
            "0      why the louisiana governor ’ s race be so close\n",
            "1    new york s ag shut down crypto app claim illeg...\n",
            "2    vaccine virus death california ’ s tree your t...\n",
            "3           new on netflix amazon disney hulu and more\n",
            "4                           restore a lost recycle bin\n",
            "5             ted bundy the serial killer s final year\n",
            "6    bolivia ’ s evo morale face runoff early elect...\n",
            "7                 couple go on romantic date to target\n",
            "8    richard ramirez the story the evidence the nig...\n",
            "9    how to watch the rare ring of fire solar eclip...\n",
            "Name: headline, dtype: object\n",
            "Healines of News before being removing stopwords: \n",
            "\n",
            "0                [louisiana, governor, ’, race, close]\n",
            "1    [new, york, ag, shut, crypto, app, claim, ille...\n",
            "2    [vaccine, virus, death, california, ’, tree, t...\n",
            "3                 [new, netflix, amazon, disney, hulu]\n",
            "4                        [restore, lost, recycle, bin]\n",
            "5            [ted, bundy, serial, killer, final, year]\n",
            "6    [bolivia, ’, evo, morale, face, runoff, early,...\n",
            "7                 [couple, go, romantic, date, target]\n",
            "8    [richard, ramirez, story, evidence, night, sta...\n",
            "9    [watch, rare, ring, fire, solar, eclipse, thur...\n",
            "Name: headline, dtype: object\n"
          ],
          "name": "stdout"
        }
      ]
    },
    {
      "cell_type": "markdown",
      "metadata": {
        "id": "G8dNkFJt2Q9p"
      },
      "source": [
        "**List to string**\n",
        "* Sau khi qua các bước tiền xử lý như trên thì các headline có kiểu dữ liệu là list nên t cần chuyển về kiểu dữ liệu string để truyền vào hàm *CountVectorizer().fit_transform()*"
      ]
    },
    {
      "cell_type": "code",
      "metadata": {
        "id": "sm4t2y5DzyFT"
      },
      "source": [
        "def list_to_string(list):\n",
        "  return ' '.join([str(elem) for elem in list])\n",
        "\n",
        "data_to_train['headline'] = data_to_train['headline'].apply(list_to_string)\n",
        "data_to_test['headline'] = data_to_test['headline'].apply(list_to_string)\n"
      ],
      "execution_count": 18,
      "outputs": []
    },
    {
      "cell_type": "code",
      "metadata": {
        "colab": {
          "base_uri": "https://localhost:8080/",
          "height": 415
        },
        "id": "wqiTZMnBrt9T",
        "outputId": "82137a61-3963-4c88-cc99-61cb49823d5a"
      },
      "source": [
        "data_to_train"
      ],
      "execution_count": 19,
      "outputs": [
        {
          "output_type": "execute_result",
          "data": {
            "text/html": [
              "<div>\n",
              "<style scoped>\n",
              "    .dataframe tbody tr th:only-of-type {\n",
              "        vertical-align: middle;\n",
              "    }\n",
              "\n",
              "    .dataframe tbody tr th {\n",
              "        vertical-align: top;\n",
              "    }\n",
              "\n",
              "    .dataframe thead th {\n",
              "        text-align: right;\n",
              "    }\n",
              "</style>\n",
              "<table border=\"1\" class=\"dataframe\">\n",
              "  <thead>\n",
              "    <tr style=\"text-align: right;\">\n",
              "      <th></th>\n",
              "      <th>headline</th>\n",
              "      <th>is_sarcastic</th>\n",
              "    </tr>\n",
              "  </thead>\n",
              "  <tbody>\n",
              "    <tr>\n",
              "      <th>0</th>\n",
              "      <td>louisiana governor ’ race close</td>\n",
              "      <td>0</td>\n",
              "    </tr>\n",
              "    <tr>\n",
              "      <th>1</th>\n",
              "      <td>new york ag shut crypto app claim illegal trade</td>\n",
              "      <td>0</td>\n",
              "    </tr>\n",
              "    <tr>\n",
              "      <th>2</th>\n",
              "      <td>vaccine virus death california ’ tree thursday...</td>\n",
              "      <td>0</td>\n",
              "    </tr>\n",
              "    <tr>\n",
              "      <th>3</th>\n",
              "      <td>new netflix amazon disney hulu</td>\n",
              "      <td>0</td>\n",
              "    </tr>\n",
              "    <tr>\n",
              "      <th>4</th>\n",
              "      <td>restore lost recycle bin</td>\n",
              "      <td>0</td>\n",
              "    </tr>\n",
              "    <tr>\n",
              "      <th>...</th>\n",
              "      <td>...</td>\n",
              "      <td>...</td>\n",
              "    </tr>\n",
              "    <tr>\n",
              "      <th>118138</th>\n",
              "      <td>president trump hold final midterm rally missouri</td>\n",
              "      <td>0</td>\n",
              "    </tr>\n",
              "    <tr>\n",
              "      <th>118139</th>\n",
              "      <td>expect jeff bezos launch space</td>\n",
              "      <td>0</td>\n",
              "    </tr>\n",
              "    <tr>\n",
              "      <th>118140</th>\n",
              "      <td>new york ag shut crypto app claim illegal trade</td>\n",
              "      <td>0</td>\n",
              "    </tr>\n",
              "    <tr>\n",
              "      <th>118141</th>\n",
              "      <td>border border almost never</td>\n",
              "      <td>0</td>\n",
              "    </tr>\n",
              "    <tr>\n",
              "      <th>118142</th>\n",
              "      <td>ship blame beirut explosion ’ sail 7 year find</td>\n",
              "      <td>0</td>\n",
              "    </tr>\n",
              "  </tbody>\n",
              "</table>\n",
              "<p>118143 rows × 2 columns</p>\n",
              "</div>"
            ],
            "text/plain": [
              "                                                 headline  is_sarcastic\n",
              "0                         louisiana governor ’ race close             0\n",
              "1         new york ag shut crypto app claim illegal trade             0\n",
              "2       vaccine virus death california ’ tree thursday...             0\n",
              "3                          new netflix amazon disney hulu             0\n",
              "4                                restore lost recycle bin             0\n",
              "...                                                   ...           ...\n",
              "118138  president trump hold final midterm rally missouri             0\n",
              "118139                     expect jeff bezos launch space             0\n",
              "118140    new york ag shut crypto app claim illegal trade             0\n",
              "118141                         border border almost never             0\n",
              "118142     ship blame beirut explosion ’ sail 7 year find             0\n",
              "\n",
              "[118143 rows x 2 columns]"
            ]
          },
          "metadata": {
            "tags": []
          },
          "execution_count": 19
        }
      ]
    },
    {
      "cell_type": "markdown",
      "metadata": {
        "id": "vwi5pRx0sooL"
      },
      "source": [
        "# Convert the text to a matrix\n",
        "* ***CountVectorizer*** *dùng để chuyển một đoạn văn cho trước thành một vector dựa vào số lần xuất hiện của mỗi từ trong cả đoạn văn đó*\n",
        "* **Suy đoán:** Khi train model với data này thì model dựa trên những từ có \"tần suất xuất hiện trong câu\" **cao** để đưa ra dự đoán."
      ]
    },
    {
      "cell_type": "code",
      "metadata": {
        "id": "5cHVCltWsv6G"
      },
      "source": [
        "from sklearn.feature_extraction.text import CountVectorizer"
      ],
      "execution_count": 20,
      "outputs": []
    },
    {
      "cell_type": "markdown",
      "metadata": {
        "id": "rEYrId3o-t3l"
      },
      "source": [
        "\n",
        "Xem demo để hiểu rõ hơn cách *CountVectorizer* làm việc."
      ]
    },
    {
      "cell_type": "code",
      "metadata": {
        "colab": {
          "base_uri": "https://localhost:8080/"
        },
        "id": "Nxnj4rcW_XRR",
        "outputId": "051f31be-c120-4799-94ef-a0e3e6567cc8"
      },
      "source": [
        "# Demo\n",
        "sentences = ['Two roads diverged in a yellow wood', \n",
        "             'And sorry I could not travel both', \n",
        "             'And sorry I could not travel both']\n",
        "#sưu tầm thơ Tiếng Anh, bài The Road Not Taken\n",
        "\n",
        "\n",
        "test_vectorizer = CountVectorizer()\n",
        "test_vectorizer.fit(sentences)\n",
        "\n",
        "vector = test_vectorizer.transform(sentences)\n",
        "\n",
        "#sắp xếp các từ theo chỉ số của nó với thứ tự bảng chữ cái alphabet\n",
        "vocabulary = sorted(test_vectorizer.vocabulary_.items(), key=lambda x: x[1])\n",
        "print(\"Volcabularies in the poem and its frequency: \", vocabulary)\n",
        "print()\n",
        "\n",
        "#trong ma trận nếu từ có xuất hiẹn trong câu sẽ trả về giá trị 1, ngược lại là 0\n",
        "#có tổng cộng 12 từ trong 3 câu trên đoạn thơ trên, từ and không xuất hiện ở câu đầu tiên nên gán giá trị bằng 0, xuất hiện trong câu 2, 3 nên có giá trị bằng 1\n",
        "#tương tự với các từ còn lại \n",
        "print(\"Sentences in the poem to vector: \\n\", vector.toarray())\n",
        "print()\n",
        "\n",
        "# Kiểu dữ liệu của vector[1](ở dòng thơ thứ 2) là sparse-matrix(các vị trí có giá trị khác 0 sẽ được lưu lại {vị trí, giá trị})\n",
        "print(\"sentences[1]: \\n\", vector[1])"
      ],
      "execution_count": 21,
      "outputs": [
        {
          "output_type": "stream",
          "text": [
            "Volcabularies in the poem and its frequency:  [('and', 0), ('both', 1), ('could', 2), ('diverged', 3), ('in', 4), ('not', 5), ('roads', 6), ('sorry', 7), ('travel', 8), ('two', 9), ('wood', 10), ('yellow', 11)]\n",
            "\n",
            "Sentences in the poem to vector: \n",
            " [[0 0 0 1 1 0 1 0 0 1 1 1]\n",
            " [1 1 1 0 0 1 0 1 1 0 0 0]\n",
            " [1 1 1 0 0 1 0 1 1 0 0 0]]\n",
            "\n",
            "sentences[1]: \n",
            "   (0, 0)\t1\n",
            "  (0, 1)\t1\n",
            "  (0, 2)\t1\n",
            "  (0, 5)\t1\n",
            "  (0, 7)\t1\n",
            "  (0, 8)\t1\n"
          ],
          "name": "stdout"
        }
      ]
    },
    {
      "cell_type": "markdown",
      "metadata": {
        "id": "3Y7bhfPszhrj"
      },
      "source": [
        "#Traning Model And Testing\n",
        "<a name=\"model\"></a>"
      ]
    },
    {
      "cell_type": "code",
      "metadata": {
        "id": "iv99DuiLtk9j"
      },
      "source": [
        "vectorizer_train = CountVectorizer()\n",
        "\n",
        "#chuyển tất các headline đã được xử lý trong data train sang vector\n",
        "X_train = vectorizer_train.fit_transform(data_to_train['headline'])\n",
        "y_train = data_to_train['is_sarcastic']\n",
        "\n",
        "#Đưa vector vocabulary của vectorizer_test về định dạng giống vectorizer_train\n",
        "vectorizer_test = CountVectorizer(vocabulary=vectorizer_train.vocabulary_) \n",
        "X_test = vectorizer_test.fit_transform(data_to_test['headline'])\n",
        "y_test = data_to_test['is_sarcastic']"
      ],
      "execution_count": 22,
      "outputs": []
    },
    {
      "cell_type": "markdown",
      "metadata": {
        "id": "8rfKBKemRA6O"
      },
      "source": [
        "# Trainning\n",
        "* Sử dụng thư viện MultinomialNB để phân loại class dựa theo xác suất, số lần xuất hiện, được sử dụng rộng rãi để phân loại văn bản (vì dữ liệu trên có dạng Bag of Words\n",
        "Nơi chúng ta có dữ liệu đếm như ***Bag of Words hoặc TFIDF ***). \n",
        "* [Link tham khảo](https://scikit-learn.org/stable/modules/generated/sklearn.naive_bayes.MultinomialNB.html)"
      ]
    },
    {
      "cell_type": "code",
      "metadata": {
        "id": "R90diHP0RDLV"
      },
      "source": [
        "from sklearn.naive_bayes import MultinomialNB"
      ],
      "execution_count": 23,
      "outputs": []
    },
    {
      "cell_type": "code",
      "metadata": {
        "id": "ZkJEmUjKR9XQ"
      },
      "source": [
        "model = MultinomialNB().fit(X_train, y_train)"
      ],
      "execution_count": 24,
      "outputs": []
    },
    {
      "cell_type": "markdown",
      "metadata": {
        "id": "45vPAUrEcAsQ"
      },
      "source": [
        "## Predict"
      ]
    },
    {
      "cell_type": "code",
      "metadata": {
        "id": "RovvQ3sMWTQc"
      },
      "source": [
        "y_pred = model.predict(X_test)"
      ],
      "execution_count": 25,
      "outputs": []
    },
    {
      "cell_type": "markdown",
      "metadata": {
        "id": "7-uFMhUBbNqT"
      },
      "source": [
        "## Check result"
      ]
    },
    {
      "cell_type": "code",
      "metadata": {
        "id": "Kil0nxrIWr04"
      },
      "source": [
        "from sklearn.metrics import classification_report, confusion_matrix, accuracy_score"
      ],
      "execution_count": 26,
      "outputs": []
    },
    {
      "cell_type": "code",
      "metadata": {
        "colab": {
          "base_uri": "https://localhost:8080/"
        },
        "id": "bAsZLFJDbfcN",
        "outputId": "d43a31a7-9eeb-44aa-f96a-52a67774eb49"
      },
      "source": [
        "print(classification_report(y_test, y_pred))"
      ],
      "execution_count": 27,
      "outputs": [
        {
          "output_type": "stream",
          "text": [
            "              precision    recall  f1-score   support\n",
            "\n",
            "           0       0.95      0.95      0.95     50150\n",
            "           1       0.57      0.57      0.57      5916\n",
            "\n",
            "    accuracy                           0.91     56066\n",
            "   macro avg       0.76      0.76      0.76     56066\n",
            "weighted avg       0.91      0.91      0.91     56066\n",
            "\n"
          ],
          "name": "stdout"
        }
      ]
    },
    {
      "cell_type": "code",
      "metadata": {
        "colab": {
          "base_uri": "https://localhost:8080/"
        },
        "id": "eyUd7hSVXPaG",
        "outputId": "17143d9e-c400-41dc-f314-0d9aeb14f6c3"
      },
      "source": [
        "print('Accuracy of Model on Testing when using coverting text to matrix and using MultinomialNB to train: \\n', accuracy_score(y_test, y_pred))"
      ],
      "execution_count": 28,
      "outputs": [
        {
          "output_type": "stream",
          "text": [
            "Accuracy of Model on Testing when using coverting text to matrix and using MultinomialNB to train: \n",
            " 0.9088752541647345\n"
          ],
          "name": "stdout"
        }
      ]
    },
    {
      "cell_type": "markdown",
      "metadata": {
        "id": "LBS1pAPe4KlD"
      },
      "source": [
        "##Giải thích và Nhận xét:\n",
        "* Scores của class 0(tin tức chính thống) rất cao:\n",
        " + `precision = 0.95`: số headlines mô hình dự đoán đúng là tin chính thống trên tổng số headlines được đự đoán là tin chính thống.\n",
        " + `recall = 0.95` tất cả số headlines chính thống thực tế được xác định đúng.\n",
        " + `f1-score = 0.95`chỉ số trung hòa giữa precision và recall\n",
        "\n",
        "=> Lí do: Chúng em nghĩ rằng do tập dữ liệu dùng để train model và tập dữ liệu tets\n",
        "có sự phân phối của tin chính thống lớn hơn rất nhiều so với tin châm biếm nên ảnh hưởng nhiều tới thông số đo mô hình.\n",
        "* Song song, Scores của class 1(tin tức châm biếm) chỉ ở mức trung bình:\n",
        " + `precision = 0.57`: số headlines mô hình dự đoán đúng là tin châm biếm trên tổng số headlines được đự đoán là tin châm biếm.\n",
        " + `recall = 0.57` tất cả số headlines châm biếm thực tế được xác định đúng.\n",
        " + `f1-score = 0.57`chỉ số trung hòa giữa precision và recall\n",
        "\n",
        "=> Lí do: Do trên tập dữ liệu dùng để train model và tập dữ liệu test, tin tức châm biếm đều chỉ phần phối khoản $20%$ trên tổng số tin nên tỉ lệ True Positive bị ảnh hưởng dẫn đến Precision và Recall không cao, dẫn đến F1-score không cao.\n",
        "* `accurray=0.91`: data train và data test có sự phân phối giữa hai class khá tương đồng nhau (chênh lệch giữa tin tức chính thống phân phối nhiều hơn khoảng $80%$ so với tin châm biếm trên cả hai tập dữ liệu), ngoài ra các bước tiền xử ;ý dữ liệu của chúng em đưa data về dạng dữ liệu phối hợp tốt với model để dẫn đến kết quả khả quan trên."
      ]
    },
    {
      "cell_type": "code",
      "metadata": {
        "colab": {
          "base_uri": "https://localhost:8080/",
          "height": 296
        },
        "id": "DK_yKz_abpVP",
        "outputId": "5d2b1de6-f5bc-4612-d2c0-75b0156404d5"
      },
      "source": [
        "#với cách giải thích như trên, để thấy rõ hơn mối tương quan giữa output dự đoán và giá trị thật sự, chúng em vẽ confusion matrix\n",
        "#tương đương với đầu vào và đầu ra bao gồm 56066 headlines.\n",
        "plt.figure(figsize=(12,10))\n",
        "plot_confusion_matrix(model, X_test, y_test, cmap = 'OrRd_r') \n",
        "plt.show()"
      ],
      "execution_count": 29,
      "outputs": [
        {
          "output_type": "display_data",
          "data": {
            "text/plain": [
              "<Figure size 864x720 with 0 Axes>"
            ]
          },
          "metadata": {
            "tags": []
          }
        },
        {
          "output_type": "display_data",
          "data": {
            "image/png": "[encoded data removed]",
            "text/plain": [
              "<Figure size 432x288 with 2 Axes>"
            ]
          },
          "metadata": {
            "tags": [],
            "needs_background": "light"
          }
        }
      ]
    },
    {
      "cell_type": "markdown",
      "metadata": {
        "id": "UvcWyq3xKlyX"
      },
      "source": [
        "* Từ trái sang phải, từ trên xuống dưới:\n",
        "  + `4.8e+04`: TN (True Negative) - Số lượng headlines của bài báo chính thống dự đoán chính xác.\n",
        "  + `2.6e+03`: FP (False Positive) - Số lượng headlines của bài báo chính thống nhưng bị dự đoán thành bài báo châm biếm.\n",
        "  + `2.5e+03`: FN (False Negative) - Số lượng headlines của bài báo châm biếm nhưng bị dự đoán thành bài báo chính thống.\n",
        "  +`3.4e+0.3` TP (True Positive) - Số lượng headlines của bài báo châm biếm dự đoán chính xác."
      ]
    },
    {
      "cell_type": "markdown",
      "metadata": {
        "id": "EoBzFAa836KO"
      },
      "source": [
        "# Training with Vector space model"
      ]
    },
    {
      "cell_type": "markdown",
      "metadata": {
        "id": "KrM9qDgk4U11"
      },
      "source": [
        "##**Apply TF-IDF**"
      ]
    },
    {
      "cell_type": "markdown",
      "metadata": {
        "id": "qE6J-PTpBSS0"
      },
      "source": [
        "TF-IDF (Term Frequency – Inverse Document Frequency) là 1 kĩ thuật sử dụng trong khai phá dữ liệu văn bản. Trọng số này được sử dụng để đánh giá tầm quan trọng của một từ trong một văn bản phụ thuộc vào hai chỉ số quan trọng:\n",
        "+ TF: Số lần từ đó xuất hiện trong một tất cả headlines ở dữ liệu đầu vào\n",
        "+ IDF: Tỉ lệ giữa tổng số headllines trong tập dữ liệu với tổng số headlines mà từ đó xuất hiện, giúp đánh giá tầm quan trọng thực sự của từ đó đối với model train."
      ]
    },
    {
      "cell_type": "code",
      "metadata": {
        "id": "yVLcTAPG35Zn"
      },
      "source": [
        "from sklearn.feature_extraction.text import TfidfTransformer\n",
        "tfidf = TfidfTransformer()\n",
        "X_train_weighted = tfidf.fit_transform(X_train)\n",
        "X_test_weighted = tfidf.fit_transform(X_test)"
      ],
      "execution_count": 30,
      "outputs": []
    },
    {
      "cell_type": "markdown",
      "metadata": {
        "id": "ZtyMTn3r4hBy"
      },
      "source": [
        "## **Multinomial Naive Bayes**\n",
        "Sử dụng thư viện MultinomialNB để train model và có áp dụng thêm kỹ thuật TF-IDF làm trọng số."
      ]
    },
    {
      "cell_type": "code",
      "metadata": {
        "colab": {
          "base_uri": "https://localhost:8080/"
        },
        "id": "5BfDbjXz4IwC",
        "outputId": "58af6d9b-1ff3-4ff9-81cf-0a38a209dae2"
      },
      "source": [
        "model = MultinomialNB().fit(X_train_weighted, y_train)\n",
        "y_pred = model.predict(X_test_weighted)\n",
        "print(classification_report(y_test, y_pred))"
      ],
      "execution_count": 31,
      "outputs": [
        {
          "output_type": "stream",
          "text": [
            "              precision    recall  f1-score   support\n",
            "\n",
            "           0       0.90      1.00      0.95     50150\n",
            "           1       0.87      0.03      0.06      5916\n",
            "\n",
            "    accuracy                           0.90     56066\n",
            "   macro avg       0.88      0.52      0.50     56066\n",
            "weighted avg       0.89      0.90      0.85     56066\n",
            "\n"
          ],
          "name": "stdout"
        }
      ]
    },
    {
      "cell_type": "code",
      "metadata": {
        "colab": {
          "base_uri": "https://localhost:8080/"
        },
        "id": "Em2YLrSUXzlz",
        "outputId": "d67f67f1-dc9f-41ea-ae72-f1f4c69c58ba"
      },
      "source": [
        "print('Accuracy of Model on Testing when using TF-IDF to matrix and using MultinomialNB to train: \\n', accuracy_score(y_test, y_pred))"
      ],
      "execution_count": 32,
      "outputs": [
        {
          "output_type": "stream",
          "text": [
            "Accuracy of Model on Testing when using TF-IDF to matrix and using MultinomialNB to train: \n",
            " 0.8973709556594014\n"
          ],
          "name": "stdout"
        }
      ]
    },
    {
      "cell_type": "markdown",
      "metadata": {
        "id": "kwssVFIi863V"
      },
      "source": [
        "##Giải thích và Nhận xét:\n",
        "* Scores của class 0(tin tức chính thống) rất cao:\n",
        " + `precision = 0.9`: số headlines mô hình dự đoán đúng là tin chính thống trên tổng số headlines được đự đoán là tin chính thống.\n",
        " + `recall = 1` tất cả số headlines chính thống thực tế được xác định đúng, chứng tỏ xác suất một tin chính thống được dự đoán là tin chính thống đúng 100%.\n",
        " + `f1-score = 0.95`chỉ số trung hòa giữa precision và recall\n",
        "\n",
        "=> Lí do: Nguyên nhân có thể là do chênh lệch phân phối dữ liệu kể trên là cho model có xu hướng dự đoán headlines là tin tức chính thống hơn châm biếm, dẫn đến độ đo của model hoạt động trên tập class vô cùng cao. \n",
        "* Song song, Scores của class 1(tin tức châm biếm) thấp hơn rất nhiều:\n",
        " + `precision = 0.87`: số headlines mô hình dự đoán đúng là tin châm biếm trên tổng số headlines được đự đoán là tin châm biếm.\n",
        " + `recall = 0.03` tất cả số headlines châm biếm thực tế được xác định đúng, có thể hiểu là cứ 100 tin châm biếm thì chỉ có 3 tin được dự đoán là tin châm biếm. (rất tệ)\n",
        " + `f1-score = 0.57`chỉ số trung hòa giữa precision và recall\n",
        "\n",
        "=> Lí do: Model không nắm bắt tốt được các dòng tin châm biếm, nên dù khả năng nhận biết tin tức chính xác cao (nếu model dự đoán nó là tin châm biếm thì $87\\%$ nó là tin châm biếm - nhưng chỉ có $3\\%$ tin tức châm biếm được dự đoán đúng trên tổng số tin tức châm biếm)\n",
        "+ `accurray=0.9`\n",
        "\n",
        "=> Lí do:\n",
        "  + Độ chính xác giảm so với khi chưa áp dụng tf-idf\n",
        "  + Dự đoán là do tựa đề một bài báo khá ngắn, nên khả năng một từ bị lập lại trong tựa đề sẽ thấp, nên việc tính từ xuất hiện nhiều hay ít không đem lại hiệu quả cao so với kết quả trên."
      ]
    },
    {
      "cell_type": "markdown",
      "metadata": {
        "id": "i8uhnshw4zYx"
      },
      "source": [
        "## **Bernoulli Naive Bayes**\n",
        "Vì sau khi chuyển đổi text sang kiểu vector, tập dữ liệu chỉ mang giá trị `0` hoặc `1`, điều kiện này thỏa để sử dụng BearnoulliNB để train model.\n"
      ]
    },
    {
      "cell_type": "code",
      "metadata": {
        "colab": {
          "base_uri": "https://localhost:8080/"
        },
        "id": "pIlJr0Ha4NZ2",
        "outputId": "735cba7f-bf15-46e7-908d-5aed3fe4053c"
      },
      "source": [
        "from sklearn.naive_bayes import BernoulliNB\n",
        "model = BernoulliNB().fit(X_train, y_train)\n",
        "y_pred = model.predict(X_test)\n",
        "print(classification_report(y_test, y_pred))"
      ],
      "execution_count": 33,
      "outputs": [
        {
          "output_type": "stream",
          "text": [
            "              precision    recall  f1-score   support\n",
            "\n",
            "           0       0.93      1.00      0.96     50150\n",
            "           1       0.95      0.38      0.54      5916\n",
            "\n",
            "    accuracy                           0.93     56066\n",
            "   macro avg       0.94      0.69      0.75     56066\n",
            "weighted avg       0.93      0.93      0.92     56066\n",
            "\n"
          ],
          "name": "stdout"
        }
      ]
    },
    {
      "cell_type": "code",
      "metadata": {
        "colab": {
          "base_uri": "https://localhost:8080/"
        },
        "id": "38nRcnLaY_m4",
        "outputId": "c549d017-3e9f-41f0-e938-d59fa73647f5"
      },
      "source": [
        "print('Accuracy of Model on Testing when using TF-IDF to matrix and using BernoulliNB to train: \\n', accuracy_score(y_test, y_pred))"
      ],
      "execution_count": 34,
      "outputs": [
        {
          "output_type": "stream",
          "text": [
            "Accuracy of Model on Testing when using TF-IDF to matrix and using BernoulliNB to train: \n",
            " 0.9324724431919523\n"
          ],
          "name": "stdout"
        }
      ]
    },
    {
      "cell_type": "markdown",
      "metadata": {
        "id": "vl-dCcw-_Mw6"
      },
      "source": [
        "##Giải thích và Nhận xét:\n",
        "* Các thông số ***khả quan hơn*** so với việc huấn luyên với Multinomial Naive Bayes khi chưa áp dụng tf-idf\n",
        "* Như giải thích ở trên, việc phân loại class dựa trên số lần xuất hiện không được hiệu quả cao do: tựa đề bài báo ngắn nên khả năng một từ bị lập lại trong tựa đề sẽ thấp, nên việc từ xuất hiện nhiều hay ít không đem lại hiệu quả cao so với kết quả trên.\n",
        "* Và vì một tựa đề bài báo thường ngắn, nên chúng em xem xét thêm phương pháp khác là **word2vec: chuyển mỗi từ thành một vector, nên một tựa đề sẽ được biểu diễn thành một ma trận hai chiều** và sử dụng Neural NetWork để train model."
      ]
    },
    {
      "cell_type": "markdown",
      "metadata": {
        "id": "pewK061Qh_fL"
      },
      "source": [
        "# Demo word2vec\n"
      ]
    },
    {
      "cell_type": "markdown",
      "metadata": {
        "id": "2RJM7cYuSf88"
      },
      "source": [
        "**Hướng tiền xử lý dữ liệu Word2vec:**\n",
        "\n",
        "**B1: Mỗi headline sẽ được biểu diễn thành ma trận n x m chiều**. \n",
        "\n",
        "Với:\n",
        "\n",
        "* n = len(model_w2v.wv.vocab): số lượng từ xuất hiện trong data_to_w2v\n",
        "* m = len(model_w2v['word']): kích thước của vector thể hiện một từ \n",
        "\n",
        "=> Mỗi hàng của ma trận sẽ là vector biểu diễn giá trị của một từ.\n",
        "\n",
        "**B2: Load giá trị vào ma trận**\n",
        "\n",
        "* Với các từ thuộc headline thì tại các hàng tương ứng, vector sẽ biểu diễn giá trị của từ đó.\n",
        "\n",
        "* Với các từ không có trong headline thì tại các hàng tương ứng, vector sẽ là vector 0."
      ]
    },
    {
      "cell_type": "code",
      "metadata": {
        "colab": {
          "base_uri": "https://localhost:8080/"
        },
        "id": "UAIsecQu65pb",
        "outputId": "aef040f4-e1ae-4215-f399-97ee4fa37f8f"
      },
      "source": [
        "#tách các từ trong câu thành kiểu list trong data train\n",
        "words = []\n",
        "for i in data_to_train.headline.values:\n",
        "  words.append(i.split())\n",
        "\n",
        "#tách các từ trong câu thành kiểu list trong data test\n",
        "words_test = []\n",
        "for i in data_to_test.headline.values:\n",
        "  words_test.append(i.split())\n",
        "  words_test\n",
        "#in ra demo 9 headlines đầu tiên\n",
        "words[:9]"
      ],
      "execution_count": 35,
      "outputs": [
        {
          "output_type": "execute_result",
          "data": {
            "text/plain": [
              "[['louisiana', 'governor', '’', 'race', 'close'],\n",
              " ['new', 'york', 'ag', 'shut', 'crypto', 'app', 'claim', 'illegal', 'trade'],\n",
              " ['vaccine',\n",
              "  'virus',\n",
              "  'death',\n",
              "  'california',\n",
              "  '’',\n",
              "  'tree',\n",
              "  'thursday',\n",
              "  'evening',\n",
              "  'briefing'],\n",
              " ['new', 'netflix', 'amazon', 'disney', 'hulu'],\n",
              " ['restore', 'lost', 'recycle', 'bin'],\n",
              " ['ted', 'bundy', 'serial', 'killer', 'final', 'year'],\n",
              " ['bolivia',\n",
              "  '’',\n",
              "  'evo',\n",
              "  'morale',\n",
              "  'face',\n",
              "  'runoff',\n",
              "  'early',\n",
              "  'election',\n",
              "  'return',\n",
              "  'show'],\n",
              " ['couple', 'go', 'romantic', 'date', 'target'],\n",
              " ['richard', 'ramirez', 'story', 'evidence', 'night', 'stalker']]"
            ]
          },
          "metadata": {
            "tags": []
          },
          "execution_count": 35
        }
      ]
    },
    {
      "cell_type": "code",
      "metadata": {
        "id": "V9zC3Q60idMT"
      },
      "source": [
        "import gensim\n",
        "from gensim.models import Word2Vec"
      ],
      "execution_count": 36,
      "outputs": []
    },
    {
      "cell_type": "code",
      "metadata": {
        "id": "l4UFO1zqmb-s"
      },
      "source": [
        "# Text processing\n",
        "# Mặc định mỗi headline tương ứng với một câu\n",
        "# data_to_w2v = data_to_train['headline'].apply(text_lowercase)\n",
        "# data_to_w2v = data_to_w2v.apply(remove_punctuation)\n",
        "# data_to_w2v = data_to_w2v.apply(remove_whitespace)\n",
        "# data_to_w2v = data_to_w2v.apply(remove_stopwords)"
      ],
      "execution_count": 37,
      "outputs": []
    },
    {
      "cell_type": "markdown",
      "metadata": {
        "id": "k8Zo0AZWtxsP"
      },
      "source": [
        "Chúng em sẽ chuyển `41303` từ thành một vector, mỗi từ là một vector có kich thươc `200x5`"
      ]
    },
    {
      "cell_type": "code",
      "metadata": {
        "id": "pAFM091_n95t"
      },
      "source": [
        "# Tạo ra model để tính toán mối quan hệ giữa các từ xuất hiện trong data_to_w2v\n",
        "# size: kích thước vector biểu diễn cho một từ (size càng lớn thì càng phân biệt rõ sự khác nhau của một từ với các từ còn lại)\n",
        "# window: số lượng từ lân cận của từ đang xét trong câu.\n",
        "model_w2v = gensim.models.Word2Vec(sentences = words, min_count = 1, size = 1, window = 5)"
      ],
      "execution_count": 54,
      "outputs": []
    },
    {
      "cell_type": "code",
      "metadata": {
        "colab": {
          "base_uri": "https://localhost:8080/"
        },
        "id": "z9y61LYAqero",
        "outputId": "2ca54ee1-4ea4-46ec-defe-717feeced15b"
      },
      "source": [
        "#demo sử dụng model_w2v đối với từ ví dụ \"word\"\n",
        "model_w2v['word']"
      ],
      "execution_count": 55,
      "outputs": [
        {
          "output_type": "execute_result",
          "data": {
            "text/plain": [
              "array([-4.596046], dtype=float32)"
            ]
          },
          "metadata": {
            "tags": []
          },
          "execution_count": 55
        }
      ]
    },
    {
      "cell_type": "code",
      "metadata": {
        "colab": {
          "base_uri": "https://localhost:8080/"
        },
        "id": "8Cf-9zTKtL8P",
        "outputId": "fd527b0f-8837-496f-b662-5cb12b75c429"
      },
      "source": [
        "len(model_w2v.wv.vocab)"
      ],
      "execution_count": 56,
      "outputs": [
        {
          "output_type": "execute_result",
          "data": {
            "text/plain": [
              "41303"
            ]
          },
          "metadata": {
            "tags": []
          },
          "execution_count": 56
        }
      ]
    },
    {
      "cell_type": "code",
      "metadata": {
        "id": "WoQc0aYb_w0Z"
      },
      "source": [
        "num_voca = len(model_w2v.wv.vocab)"
      ],
      "execution_count": 57,
      "outputs": []
    },
    {
      "cell_type": "code",
      "metadata": {
        "id": "_E8FmEn79ZN1"
      },
      "source": [
        "#vectơ hóa các từ, bằng cách chuyển thành một chuỗi các số nguyên trong trên data train\n",
        "tokenizer = text.Tokenizer(num_voca)\n",
        "tokenizer.fit_on_texts(words)\n",
        "tokenized_train = tokenizer.texts_to_sequences(words)\n",
        "tokenized_test = tokenizer.texts_to_sequences(words_test)\n",
        "_x_train = sequence.pad_sequences(tokenized_train, maxlen = 20)\n",
        "_x_test = sequence.pad_sequences(tokenized_test, maxlen = 20)"
      ],
      "execution_count": 58,
      "outputs": []
    },
    {
      "cell_type": "markdown",
      "metadata": {
        "id": "SBwxBerQ_Ktb"
      },
      "source": [
        "Tuy nhiên không phải các từ trong headlines của bộ data đều có trong **model_w2w.wv.vocab** nên chúng ta sẽ tạo thêm một vector riêng cho những từ đó. Vector này chỉ gồm các phần tử có giá trị là 0, nên ta tăng kích thước của vocab_size lên 1."
      ]
    },
    {
      "cell_type": "code",
      "metadata": {
        "id": "1hCGooGO9jP4"
      },
      "source": [
        "vocab_size = len(tokenizer.word_index) + 1"
      ],
      "execution_count": 59,
      "outputs": []
    },
    {
      "cell_type": "code",
      "metadata": {
        "id": "PRs93Taw9q2h"
      },
      "source": [
        "#tạo trọng số cho ma trận vector của các từ\n",
        "def get_matrix_weights(model, vocab):\n",
        "  # như đã nói ở trên ta phải tăng kích thước của vocab_size lên 1 cho các từ chưa biết\n",
        "  vocab_size = len(vocab) + 1\n",
        "  weight = np.zeros((vocab_size, 1))\n",
        "  for word, index in vocab.items():\n",
        "    weight[index] = model[word]\n",
        "  return weight"
      ],
      "execution_count": 60,
      "outputs": []
    },
    {
      "cell_type": "code",
      "metadata": {
        "id": "eiRJ0gHe-Qs9"
      },
      "source": [
        "#tạo trọng số ma trận cho vector của các từ trong vocab\n",
        "get_embbed_vector = get_matrix_weights(model_w2v, tokenizer.word_index)"
      ],
      "execution_count": 61,
      "outputs": []
    },
    {
      "cell_type": "code",
      "metadata": {
        "id": "TtZuQsdP50jA"
      },
      "source": [
        "token_word = text.Tokenizer(num_voca)"
      ],
      "execution_count": 62,
      "outputs": []
    },
    {
      "cell_type": "markdown",
      "metadata": {
        "id": "Nz_FF3FKGgRR"
      },
      "source": [
        "##Traning Model with WORD2VEC\n",
        " * Chúng em sẽ sử dụng thư viện Keras để sử dụng Neural Network, vì việc traning model này liên quan hầu hết tới *Deep Learning* nên chúng em có tham khảo source code từ nguồn dưới đây:\n",
        " * [Link tham khảo](https://www.kaggle.com/madz2000/sarcasm-detection-with-glove-word2vec-83-accuracy)\n",
        " * [Link tham khảo về mô hình mạng LSTM](https://en.wikipedia.org/wiki/Long_short-term_memory)"
      ]
    },
    {
      "cell_type": "code",
      "metadata": {
        "id": "VdnbsMexGfoS"
      },
      "source": [
        "_model_w2v = Sequential()\n",
        "#thêm vào model các lớp layer chưa được đào tạo\n",
        "_model_w2v.add(Embedding(vocab_size, output_dim=1, weights = [get_embbed_vector], input_length=20,trainable=True ))\n",
        "#xây dựng mô hình LSTM cho model để train\n",
        "_model_w2v.add(Bidirectional(LSTM(units=128 , recurrent_dropout = 0.3 , dropout = 0.3,return_sequences = True)))\n",
        "_model_w2v.add(Bidirectional(GRU(units=32 , recurrent_dropout = 0.1 , dropout = 0.1)))\n",
        "_model_w2v.add(Dense(1, activation='sigmoid'))\n",
        "_model_w2v.compile(optimizer=keras.optimizers.Adam(lr = 0.01), loss='binary_crossentropy', metrics=['acc'])\n",
        "\n",
        "del get_embbed_vector"
      ],
      "execution_count": 63,
      "outputs": []
    },
    {
      "cell_type": "code",
      "metadata": {
        "colab": {
          "base_uri": "https://localhost:8080/"
        },
        "id": "jkK8g3136vME",
        "outputId": "dd41b8eb-0ad7-450b-c523-8dab5e56d311"
      },
      "source": [
        "_model_w2v.summary()"
      ],
      "execution_count": 64,
      "outputs": [
        {
          "output_type": "stream",
          "text": [
            "Model: \"sequential_2\"\n",
            "_________________________________________________________________\n",
            "Layer (type)                 Output Shape              Param #   \n",
            "=================================================================\n",
            "embedding_2 (Embedding)      (None, 20, 1)             41304     \n",
            "_________________________________________________________________\n",
            "bidirectional_2 (Bidirection (None, 20, 256)           133120    \n",
            "_________________________________________________________________\n",
            "bidirectional_3 (Bidirection (None, 64)                55680     \n",
            "_________________________________________________________________\n",
            "dense_1 (Dense)              (None, 1)                 65        \n",
            "=================================================================\n",
            "Total params: 230,169\n",
            "Trainable params: 230,169\n",
            "Non-trainable params: 0\n",
            "_________________________________________________________________\n"
          ],
          "name": "stdout"
        }
      ]
    },
    {
      "cell_type": "code",
      "metadata": {
        "colab": {
          "base_uri": "https://localhost:8080/"
        },
        "id": "ZYldt72sQaJk",
        "outputId": "999959a1-a1b5-448e-b084-e02acae9973e"
      },
      "source": [
        "print(\"Accuracy of the model on traning: \" , _model_w2v.evaluate(_x_train,data_to_train.is_sarcastic)[1])\n"
      ],
      "execution_count": 65,
      "outputs": [
        {
          "output_type": "stream",
          "text": [
            "3692/3692 [==============================] - 72s 17ms/step - loss: 0.6173 - acc: 0.8768\n",
            "Accuracy of the model on traning:  0.8764294385910034\n"
          ],
          "name": "stdout"
        }
      ]
    },
    {
      "cell_type": "code",
      "metadata": {
        "colab": {
          "base_uri": "https://localhost:8080/"
        },
        "id": "hllxR-I6VaOJ",
        "outputId": "474957ad-3352-479c-cc99-3ced59592554"
      },
      "source": [
        "print(\"Accuracy of the model on testing: \" , _model_w2v.evaluate(_x_test,data_to_test.is_sarcastic)[1])"
      ],
      "execution_count": 66,
      "outputs": [
        {
          "output_type": "stream",
          "text": [
            "1753/1753 [==============================] - 31s 17ms/step - loss: 0.6345 - acc: 0.8934\n",
            "Accuracy of the model on testing:  0.8933578133583069\n"
          ],
          "name": "stdout"
        }
      ]
    },
    {
      "cell_type": "markdown",
      "metadata": {
        "id": "KVCjpP5OWgas"
      },
      "source": [
        "##Giải thích và Nhận xét\n",
        "So với các phương pháp trên, Word2Vec có kết quả khá khả quan trên cả bộ dữ liệu train và bộ dữ liệu test:\n",
        "\n",
        "Chúng em nghĩ vì có thể vì những lí do như sau:\n",
        "* Các phương pháp trên đều sử dụng phương pháp đếm và xây dựng ma trận dựa trên tần suất xuất hiện của các từ, sau khi chuyển thành kiểu dữ liệu vector để predict thì predict vẫn có kết quả tốt.\n",
        "* Word2vec học trực tiếp word vector có số chiều thấp trong quá trình dự đoán các từ xung quanh mỗi từ. Đặc điểm của phương pháp này là nhanh hơn và có thể dễ dàng kết hợp một câu một văn bản mới hoặc thêm vào từ vựng. So với phương pháp trên Word2Vec không tốn nhiều bước xử lý và thời gian."
      ]
    }
  ]
}