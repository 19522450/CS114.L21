{
  "nbformat": 4,
  "nbformat_minor": 0,
  "metadata": {
    "colab": {
      "name": "Solution02.ipynb",
      "provenance": [],
      "collapsed_sections": [],
      "include_colab_link": true
    },
    "kernelspec": {
      "name": "python3",
      "display_name": "Python 3"
    },
    "language_info": {
      "name": "python"
    }
  },
  "cells": [
    {
      "cell_type": "markdown",
      "metadata": {
        "id": "view-in-github",
        "colab_type": "text"
      },
      "source": [
        "<a href=\"https://colab.research.google.com/github/lphuong304/CS114.L21/blob/main/COLAB_ASSIGNMENTS/COLAB_ASSIGNMENT_17_05/Solution02.ipynb\" target=\"_parent\"><img src=\"https://colab.research.google.com/assets/colab-badge.svg\" alt=\"Open In Colab\"/></a>"
      ]
    },
    {
      "cell_type": "markdown",
      "metadata": {
        "id": "2MODcGZLfyX2"
      },
      "source": [
        "<h1 align=\"center\"><b>BÀI TẬP COLAB SỐ 03 - 17/05/2021</b></h1>\n",
        "<h1 align=\"center\"><b>PREDICT FINAL SCORE OF IT001</b></h1>\n",
        "\n",
        "###LỚP: CS114.L21\n",
        "###NHÓM:\n",
        "1. Nguyễn Ngọc Lan Phương - *19520227*\n",
        "2. Hoàng Anh Tú - *19522450*\n",
        "3. Nguyễn Quốc Huy - *19521623*\n",
        "\n",
        "Nguồn tham khảo:\n",
        "\n",
        "\n",
        "\n",
        "\n",
        "Link data:\n",
        "* Data wecode: [link](https://raw.githubusercontent.com/lphuong304/CS114.L21/main/COLAB_ASSIGNMENTS/data%20IT001/wecode.csv)\n",
        "* Data score: [link](https://raw.githubusercontent.com/lphuong304/CS114.L21/main/COLAB_ASSIGNMENTS/data%20IT001/wecode.csv)\n",
        "\n",
        "\n",
        "References:\n",
        "1. [Import Packages and Discovery and Visualize Data](#part1)\n",
        "2. [Pre-processing Data and Show the Correlation of the features](#process)\n",
        "3. [Traning Model and Testing](#model)"
      ]
    },
    {
      "cell_type": "markdown",
      "metadata": {
        "id": "d22FG8lvg3xN"
      },
      "source": [
        "#1. Import Packages Import Package and Discovery and Visualize Data\n",
        "<a name = 'part1'></a>"
      ]
    },
    {
      "cell_type": "markdown",
      "metadata": {
        "id": "DVa8BGethFDA"
      },
      "source": [
        "## 1.1 Import Packages"
      ]
    },
    {
      "cell_type": "code",
      "metadata": {
        "id": "cUiesj-_aeMp"
      },
      "source": [
        "import numpy as np\n",
        "import pandas as pd\n",
        "import seaborn as sns\n",
        "import matplotlib.pyplot as plt\n",
        "from sklearn.linear_model import LinearRegression, Ridge, Lasso\n",
        "from sklearn.preprocessing import StandardScaler, MinMaxScaler\n",
        "from sklearn.preprocessing import PolynomialFeatures\n",
        "from sklearn.model_selection import train_test_split, KFold\n",
        "from sklearn.metrics import  accuracy_score, mean_squared_error\n",
        "import warnings\n",
        "warnings.filterwarnings('ignore')"
      ],
      "execution_count": null,
      "outputs": []
    },
    {
      "cell_type": "markdown",
      "metadata": {
        "id": "fPgq86vmhMOC"
      },
      "source": [
        "## 1.2 Data Discovery"
      ]
    },
    {
      "cell_type": "code",
      "metadata": {
        "id": "xzQsQNCjbCBr"
      },
      "source": [
        "data_score = pd.read_csv('https://raw.githubusercontent.com/lphuong304/CS114.L21/main/COLAB_ASSIGNMENTS/data%20IT001/score_training.csv')\n",
        "data = pd.read_csv('https://raw.githubusercontent.com/lphuong304/CS114.L21/main/COLAB_ASSIGNMENTS/data%20IT001/wecode.csv')"
      ],
      "execution_count": null,
      "outputs": []
    },
    {
      "cell_type": "code",
      "metadata": {
        "id": "fRNVPVRbbD9t",
        "colab": {
          "base_uri": "https://localhost:8080/",
          "height": 195
        },
        "outputId": "a29ad51f-d982-4c7b-ce81-685e6ae474f6"
      },
      "source": [
        "data.head(5)"
      ],
      "execution_count": null,
      "outputs": [
        {
          "output_type": "execute_result",
          "data": {
            "text/html": [
              "<div>\n",
              "<style scoped>\n",
              "    .dataframe tbody tr th:only-of-type {\n",
              "        vertical-align: middle;\n",
              "    }\n",
              "\n",
              "    .dataframe tbody tr th {\n",
              "        vertical-align: top;\n",
              "    }\n",
              "\n",
              "    .dataframe thead th {\n",
              "        text-align: right;\n",
              "    }\n",
              "</style>\n",
              "<table border=\"1\" class=\"dataframe\">\n",
              "  <thead>\n",
              "    <tr style=\"text-align: right;\">\n",
              "      <th></th>\n",
              "      <th>id</th>\n",
              "      <th>assignment_id</th>\n",
              "      <th>problem_id</th>\n",
              "      <th>user_id</th>\n",
              "      <th>is_final</th>\n",
              "      <th>status</th>\n",
              "      <th>pre_score</th>\n",
              "      <th>coefficient</th>\n",
              "      <th>file_name</th>\n",
              "      <th>language_id</th>\n",
              "      <th>created_at</th>\n",
              "      <th>updated_at</th>\n",
              "    </tr>\n",
              "  </thead>\n",
              "  <tbody>\n",
              "    <tr>\n",
              "      <th>0</th>\n",
              "      <td>4</td>\n",
              "      <td>0</td>\n",
              "      <td>3</td>\n",
              "      <td>4</td>\n",
              "      <td>1</td>\n",
              "      <td>SCORE</td>\n",
              "      <td>10000</td>\n",
              "      <td>100</td>\n",
              "      <td>solution-0</td>\n",
              "      <td>2</td>\n",
              "      <td>2020-10-30 10:58:11</td>\n",
              "      <td>2020-10-30 10:58:19</td>\n",
              "    </tr>\n",
              "    <tr>\n",
              "      <th>1</th>\n",
              "      <td>5</td>\n",
              "      <td>0</td>\n",
              "      <td>4</td>\n",
              "      <td>4</td>\n",
              "      <td>1</td>\n",
              "      <td>SCORE</td>\n",
              "      <td>10000</td>\n",
              "      <td>100</td>\n",
              "      <td>solution-1</td>\n",
              "      <td>2</td>\n",
              "      <td>2020-10-30 11:07:09</td>\n",
              "      <td>2020-10-30 11:07:17</td>\n",
              "    </tr>\n",
              "    <tr>\n",
              "      <th>2</th>\n",
              "      <td>6</td>\n",
              "      <td>0</td>\n",
              "      <td>5</td>\n",
              "      <td>4</td>\n",
              "      <td>0</td>\n",
              "      <td>Compilation Error</td>\n",
              "      <td>0</td>\n",
              "      <td>100</td>\n",
              "      <td>solution-2</td>\n",
              "      <td>2</td>\n",
              "      <td>2020-10-30 11:08:01</td>\n",
              "      <td>2020-10-30 11:23:36</td>\n",
              "    </tr>\n",
              "    <tr>\n",
              "      <th>3</th>\n",
              "      <td>7</td>\n",
              "      <td>0</td>\n",
              "      <td>5</td>\n",
              "      <td>4</td>\n",
              "      <td>0</td>\n",
              "      <td>Compilation Error</td>\n",
              "      <td>0</td>\n",
              "      <td>100</td>\n",
              "      <td>solution-3</td>\n",
              "      <td>2</td>\n",
              "      <td>2020-10-30 11:11:41</td>\n",
              "      <td>2020-10-30 11:11:42</td>\n",
              "    </tr>\n",
              "    <tr>\n",
              "      <th>4</th>\n",
              "      <td>8</td>\n",
              "      <td>0</td>\n",
              "      <td>5</td>\n",
              "      <td>4</td>\n",
              "      <td>0</td>\n",
              "      <td>Compilation Error</td>\n",
              "      <td>0</td>\n",
              "      <td>100</td>\n",
              "      <td>solution-4</td>\n",
              "      <td>2</td>\n",
              "      <td>2020-10-30 11:15:06</td>\n",
              "      <td>2020-10-30 11:15:07</td>\n",
              "    </tr>\n",
              "  </tbody>\n",
              "</table>\n",
              "</div>"
            ],
            "text/plain": [
              "   id  assignment_id  ...           created_at           updated_at\n",
              "0   4              0  ...  2020-10-30 10:58:11  2020-10-30 10:58:19\n",
              "1   5              0  ...  2020-10-30 11:07:09  2020-10-30 11:07:17\n",
              "2   6              0  ...  2020-10-30 11:08:01  2020-10-30 11:23:36\n",
              "3   7              0  ...  2020-10-30 11:11:41  2020-10-30 11:11:42\n",
              "4   8              0  ...  2020-10-30 11:15:06  2020-10-30 11:15:07\n",
              "\n",
              "[5 rows x 12 columns]"
            ]
          },
          "metadata": {
            "tags": []
          },
          "execution_count": 256
        }
      ]
    },
    {
      "cell_type": "code",
      "metadata": {
        "id": "bgYFgOvCbLHN",
        "colab": {
          "base_uri": "https://localhost:8080/"
        },
        "outputId": "0f9adf59-697f-433e-ab28-b142a8405d88"
      },
      "source": [
        "data.info()"
      ],
      "execution_count": null,
      "outputs": [
        {
          "output_type": "stream",
          "text": [
            "<class 'pandas.core.frame.DataFrame'>\n",
            "RangeIndex: 264606 entries, 0 to 264605\n",
            "Data columns (total 12 columns):\n",
            " #   Column         Non-Null Count   Dtype \n",
            "---  ------         --------------   ----- \n",
            " 0   id             264606 non-null  int64 \n",
            " 1   assignment_id  264606 non-null  int64 \n",
            " 2   problem_id     264606 non-null  int64 \n",
            " 3   user_id        264606 non-null  int64 \n",
            " 4   is_final       264606 non-null  int64 \n",
            " 5   status         264605 non-null  object\n",
            " 6   pre_score      264606 non-null  int64 \n",
            " 7   coefficient    264606 non-null  object\n",
            " 8   file_name      264606 non-null  object\n",
            " 9   language_id    264606 non-null  int64 \n",
            " 10  created_at     264606 non-null  object\n",
            " 11  updated_at     264606 non-null  object\n",
            "dtypes: int64(7), object(5)\n",
            "memory usage: 24.2+ MB\n"
          ],
          "name": "stdout"
        }
      ]
    },
    {
      "cell_type": "code",
      "metadata": {
        "id": "7M4CgXP2bSZ6"
      },
      "source": [
        "#tries - tổng số lần nộp của mỗi user_id, tính luôn đã submit và chưa submit, cả những lần nộp bài full điểm cà chưa full điểm\n",
        "raw = pd.DataFrame({'tries' : data['user_id'].value_counts()})\n",
        "raw = raw.sort_index()"
      ],
      "execution_count": null,
      "outputs": []
    },
    {
      "cell_type": "code",
      "metadata": {
        "id": "xSzVtAAUcA_S"
      },
      "source": [
        "# solved - số problem đã giải được của mỗi user_id => is_final = 1 và pre-score = 10000\n",
        "user_isfinal_score = data[['user_id', 'is_final', 'pre_score']]\n",
        "\n",
        "solvedData = user_isfinal_score[(user_isfinal_score['is_final'] > 0) & (user_isfinal_score['pre_score'] == 10000)].groupby('user_id').sum()\n",
        "\n",
        "solvedData.drop('pre_score', axis=1, inplace=True)\n",
        "solvedData.rename(columns={'is_final':'solved'}, inplace=True)\n",
        "\n",
        "raw = pd.concat([raw, solvedData], axis=1)\n",
        "raw = raw.fillna(0.0)\n"
      ],
      "execution_count": null,
      "outputs": []
    },
    {
      "cell_type": "code",
      "metadata": {
        "id": "4hM0B5nsVyGT"
      },
      "source": [
        "#num_problemSumbited - tổng số problem đã sumbit cuối cùng của mỗi user_id trên tổng số lần thử, những bài submit có thể full điểm và không full điểm\n",
        "\n",
        "# array of user_id\n",
        "list_userID = data['user_id'].tolist()\n",
        "listStr_userID = data['user_id'].astype(str).tolist()\n",
        "\n",
        "# array of assignment_id\n",
        "list_assignmentID = data['assignment_id'].astype(str).tolist()\n",
        "\n",
        "# array of problem_id\n",
        "list_problemID = data['problem_id'].astype(str).tolist()\n",
        "list_problemID\n",
        "# connect user-assignment-problem\n",
        "for i in range(len(list_assignmentID)):\n",
        "  list_assignmentID[i] = listStr_userID[i] + ' ' + list_assignmentID[i] + ' ' + list_problemID[i]\n",
        "\n",
        "list_assignmentID\n",
        "dictData = {'user_id': list_userID,\n",
        "        'num_problemSumbited': list_assignmentID}\n",
        "\n",
        "num_problemSumbitedDF = pd.DataFrame(dictData).set_index('user_id')\n",
        "num_problemSumbitedDF\n",
        "num_problemSumbitedDF = num_problemSumbitedDF.groupby('user_id').nunique()\n",
        "\n",
        "raw = pd.concat([raw, num_problemSumbitedDF], axis=1)\n"
      ],
      "execution_count": null,
      "outputs": []
    },
    {
      "cell_type": "code",
      "metadata": {
        "colab": {
          "base_uri": "https://localhost:8080/",
          "height": 402
        },
        "id": "oOWZx4v20HBL",
        "outputId": "3c82690e-2654-4565-8d3e-99ae63760521"
      },
      "source": [
        "#tổng điểm các bài được cuối cùng của mỗi user\n",
        "user_isfinal_score = data[['user_id', 'is_final', 'pre_score']]\n",
        "\n",
        "trueScore = user_isfinal_score[user_isfinal_score['is_final'] > 0].groupby('user_id').sum()\n",
        "trueScore = trueScore.drop('is_final', axis=1)\n",
        "trueScore.rename(columns={'pre_score':'total_FinalScore'}, inplace=True)\n",
        "\n",
        "raw = pd.concat([raw, trueScore], axis=1)\n",
        "raw"
      ],
      "execution_count": null,
      "outputs": [
        {
          "output_type": "execute_result",
          "data": {
            "text/html": [
              "<div>\n",
              "<style scoped>\n",
              "    .dataframe tbody tr th:only-of-type {\n",
              "        vertical-align: middle;\n",
              "    }\n",
              "\n",
              "    .dataframe tbody tr th {\n",
              "        vertical-align: top;\n",
              "    }\n",
              "\n",
              "    .dataframe thead th {\n",
              "        text-align: right;\n",
              "    }\n",
              "</style>\n",
              "<table border=\"1\" class=\"dataframe\">\n",
              "  <thead>\n",
              "    <tr style=\"text-align: right;\">\n",
              "      <th></th>\n",
              "      <th>tries</th>\n",
              "      <th>solved</th>\n",
              "      <th>num_problemSumbited</th>\n",
              "      <th>total_FinalScore</th>\n",
              "    </tr>\n",
              "  </thead>\n",
              "  <tbody>\n",
              "    <tr>\n",
              "      <th>1</th>\n",
              "      <td>2</td>\n",
              "      <td>1.0</td>\n",
              "      <td>2</td>\n",
              "      <td>10000.0</td>\n",
              "    </tr>\n",
              "    <tr>\n",
              "      <th>4</th>\n",
              "      <td>54</td>\n",
              "      <td>37.0</td>\n",
              "      <td>41</td>\n",
              "      <td>370000.0</td>\n",
              "    </tr>\n",
              "    <tr>\n",
              "      <th>5</th>\n",
              "      <td>6</td>\n",
              "      <td>3.0</td>\n",
              "      <td>5</td>\n",
              "      <td>30000.0</td>\n",
              "    </tr>\n",
              "    <tr>\n",
              "      <th>6</th>\n",
              "      <td>130</td>\n",
              "      <td>85.0</td>\n",
              "      <td>89</td>\n",
              "      <td>850000.0</td>\n",
              "    </tr>\n",
              "    <tr>\n",
              "      <th>7</th>\n",
              "      <td>5</td>\n",
              "      <td>0.0</td>\n",
              "      <td>2</td>\n",
              "      <td>9209.0</td>\n",
              "    </tr>\n",
              "    <tr>\n",
              "      <th>...</th>\n",
              "      <td>...</td>\n",
              "      <td>...</td>\n",
              "      <td>...</td>\n",
              "      <td>...</td>\n",
              "    </tr>\n",
              "    <tr>\n",
              "      <th>1860</th>\n",
              "      <td>76</td>\n",
              "      <td>28.0</td>\n",
              "      <td>48</td>\n",
              "      <td>329665.0</td>\n",
              "    </tr>\n",
              "    <tr>\n",
              "      <th>1862</th>\n",
              "      <td>12</td>\n",
              "      <td>4.0</td>\n",
              "      <td>6</td>\n",
              "      <td>40000.0</td>\n",
              "    </tr>\n",
              "    <tr>\n",
              "      <th>1864</th>\n",
              "      <td>187</td>\n",
              "      <td>28.0</td>\n",
              "      <td>63</td>\n",
              "      <td>439741.0</td>\n",
              "    </tr>\n",
              "    <tr>\n",
              "      <th>1865</th>\n",
              "      <td>99</td>\n",
              "      <td>10.0</td>\n",
              "      <td>17</td>\n",
              "      <td>116428.0</td>\n",
              "    </tr>\n",
              "    <tr>\n",
              "      <th>1868</th>\n",
              "      <td>47</td>\n",
              "      <td>27.0</td>\n",
              "      <td>28</td>\n",
              "      <td>270000.0</td>\n",
              "    </tr>\n",
              "  </tbody>\n",
              "</table>\n",
              "<p>1159 rows × 4 columns</p>\n",
              "</div>"
            ],
            "text/plain": [
              "      tries  solved  num_problemSumbited  total_FinalScore\n",
              "1         2     1.0                    2           10000.0\n",
              "4        54    37.0                   41          370000.0\n",
              "5         6     3.0                    5           30000.0\n",
              "6       130    85.0                   89          850000.0\n",
              "7         5     0.0                    2            9209.0\n",
              "...     ...     ...                  ...               ...\n",
              "1860     76    28.0                   48          329665.0\n",
              "1862     12     4.0                    6           40000.0\n",
              "1864    187    28.0                   63          439741.0\n",
              "1865     99    10.0                   17          116428.0\n",
              "1868     47    27.0                   28          270000.0\n",
              "\n",
              "[1159 rows x 4 columns]"
            ]
          },
          "metadata": {
            "tags": []
          },
          "execution_count": 261
        }
      ]
    },
    {
      "cell_type": "code",
      "metadata": {
        "id": "yV4hWYWEZPN1"
      },
      "source": [
        "data_score['CK'] = pd.to_numeric(data_score['CK'], errors='coerce')\n",
        "raw_ck = data_score['CK']"
      ],
      "execution_count": null,
      "outputs": []
    },
    {
      "cell_type": "markdown",
      "metadata": {
        "id": "uTI3eBDphRwV"
      },
      "source": [
        "## 1.3 Data Visualization"
      ]
    },
    {
      "cell_type": "code",
      "metadata": {
        "id": "14OjOtSfUWLU",
        "colab": {
          "base_uri": "https://localhost:8080/",
          "height": 1000
        },
        "outputId": "d3a73f3d-35ee-4be4-b163-2046fe4a5ecd"
      },
      "source": [
        "fig= plt.figure(figsize = (20,21))\n",
        "gs = fig.add_gridspec(5,5)\n",
        "gs.update(wspace=0.4, hspace=0.4)\n",
        "\n",
        "ax0 = fig.add_subplot(gs[0,0])\n",
        "ax1 = fig.add_subplot(gs[0,1])\n",
        "ax2 = fig.add_subplot(gs[1,0])\n",
        "ax3 = fig.add_subplot(gs[1,1])\n",
        "ax4 = fig.add_subplot(gs[2,0])\n",
        "ax5 = fig.add_subplot(gs[2,1])\n",
        "ax6 = fig.add_subplot(gs[3,0])\n",
        "ax7 = fig.add_subplot(gs[3,1])\n",
        "ax8 = fig.add_subplot(gs[4,0])\n",
        "ax9 = fig.add_subplot(gs[4,1])\n",
        "axes=[ax0,ax1,ax2,ax3,ax4,ax5, ax6, ax7, ax8, ax9]\n",
        "background_color = '#f6f5f7'\n",
        "\n",
        "for i in axes:\n",
        "    i.set_facecolor(background_color)\n",
        "fig.patch.set_facecolor(background_color) \n",
        "sns.kdeplot(ax = ax0, data=raw['tries'],shade=True,palette='rocket', label = 'tries') # Distributions\n",
        "ax0.grid(linestyle='--', axis='y')\n",
        "ax1.text(0.5,0.5,'Distribution of Tries',horizontalalignment = 'center',verticalalignment = 'center',fontsize = 18,fontfamily='serif')\n",
        "\n",
        "fig.patch.set_facecolor(background_color) \n",
        "sns.kdeplot(ax= ax2, data=raw['solved'],shade=True,palette='rocket', label = 'solved') # Distributions\n",
        "ax2.grid(linestyle='--', axis='y')\n",
        "ax3.text(0.5,0.5,'Distribution of Solved',horizontalalignment = 'center',verticalalignment = 'center',fontsize = 18,fontfamily='serif')\n",
        "\n",
        "fig.patch.set_facecolor(background_color) \n",
        "sns.kdeplot(ax = ax4, data=raw['num_problemSumbited'],shade=True,palette='rocket', label = 'num_problemSumbited') # Distributions\n",
        "ax4.grid(linestyle='--', axis='y')\n",
        "ax5.text(0.5,0.5,'Distribution of num_problemSumbited',horizontalalignment = 'center',verticalalignment = 'center',fontsize = 18,fontfamily='serif')\n",
        "\n",
        "fig.patch.set_facecolor(background_color) \n",
        "sns.kdeplot(ax= ax6, data= raw['total_FinalScore'],shade=True,palette='rocket', label = 'total_FinalScore') # Distributions\n",
        "ax6.grid(linestyle='--', axis='y')\n",
        "ax7.text(0.5,0.5,'Distribution of total_FinalScore',horizontalalignment = 'center',verticalalignment = 'center',fontsize = 18,fontfamily='serif')\n",
        "\n",
        "fig.patch.set_facecolor(background_color) \n",
        "sns.kdeplot(ax= ax8, data = raw_ck,shade=True,palette='rocket', label = 'CK_Score') # Distributions\n",
        "ax8.grid(linestyle='--', axis='y')\n",
        "ax9.text(0.5,0.5,'Distribution of CK_Score',horizontalalignment = 'center',verticalalignment = 'center',fontsize = 18,fontfamily='serif')\n",
        "\n",
        "\n",
        "\n",
        "axes1=[ax1,ax3,ax5,ax7,ax9]\n",
        "for i in axes1:\n",
        "    i.spines[\"bottom\"].set_visible(False)\n",
        "    i.spines[\"left\"].set_visible(False)\n",
        "    i.set_xlabel(\"\")\n",
        "    i.set_ylabel(\"\")\n",
        "    i.set_xticklabels([])\n",
        "    i.set_yticklabels([])\n",
        "    i.tick_params(left=False, bottom=False)\n",
        "# removing spines of figures\n",
        "for i in [\"top\",\"left\",\"right\"]:\n",
        "    ax0.spines[i].set_visible(False)\n",
        "    ax1.spines[i].set_visible(False)\n",
        "    ax2.spines[i].set_visible(False)\n",
        "    ax3.spines[i].set_visible(False)\n",
        "    ax4.spines[i].set_visible(False)\n",
        "    ax5.spines[i].set_visible(False)\n",
        "    ax6.spines[i].set_visible(False)\n",
        "    ax7.spines[i].set_visible(False)\n",
        "    ax8.spines[i].set_visible(False)\n",
        "    ax9.spines[i].set_visible(False)"
      ],
      "execution_count": null,
      "outputs": [
        {
          "output_type": "display_data",
          "data": {
            "image/png": "[encoded data removed]",
            "text/plain": [
              "<Figure size 1440x1512 with 10 Axes>"
            ]
          },
          "metadata": {
            "tags": []
          }
        }
      ]
    },
    {
      "cell_type": "code",
      "metadata": {
        "colab": {
          "base_uri": "https://localhost:8080/",
          "height": 351
        },
        "id": "_daNRT5EdbiO",
        "outputId": "63923cac-8069-4f4f-e8ef-3276f37ed43c"
      },
      "source": [
        "fig=plt.figure(figsize=(20,23))\n",
        "background_color = '#f6f5f7'\n",
        "fig.patch.set_facecolor(background_color) \n",
        "data_categorical = pd.concat([data['is_final'], data['status']], axis=1)\n",
        "for indx,val in enumerate(data_categorical.columns):\n",
        "    ax=plt.subplot(4,2,indx+1)\n",
        "    ax.set_facecolor(background_color)\n",
        "    ax.set_title(val,fontweight='bold',fontfamily='serif')\n",
        "    for i in ['top','right']:\n",
        "        ax.spines[i].set_visible(False)\n",
        "    ax.grid(linestyle=':',axis='y')\n",
        "    sns.countplot(data_categorical[val],palette='rocket')"
      ],
      "execution_count": null,
      "outputs": [
        {
          "output_type": "display_data",
          "data": {
            "image/png": "[encoded data removed]",
            "text/plain": [
              "<Figure size 1440x1656 with 2 Axes>"
            ]
          },
          "metadata": {
            "tags": []
          }
        }
      ]
    },
    {
      "cell_type": "code",
      "metadata": {
        "id": "6_Cza2XY41aQ",
        "colab": {
          "base_uri": "https://localhost:8080/",
          "height": 402
        },
        "outputId": "4adedf12-f2cc-4b51-b7e8-3e5c0a490ea7"
      },
      "source": [
        "# set type of element\n",
        "raw = raw.astype(float)\n",
        "raw"
      ],
      "execution_count": null,
      "outputs": [
        {
          "output_type": "execute_result",
          "data": {
            "text/html": [
              "<div>\n",
              "<style scoped>\n",
              "    .dataframe tbody tr th:only-of-type {\n",
              "        vertical-align: middle;\n",
              "    }\n",
              "\n",
              "    .dataframe tbody tr th {\n",
              "        vertical-align: top;\n",
              "    }\n",
              "\n",
              "    .dataframe thead th {\n",
              "        text-align: right;\n",
              "    }\n",
              "</style>\n",
              "<table border=\"1\" class=\"dataframe\">\n",
              "  <thead>\n",
              "    <tr style=\"text-align: right;\">\n",
              "      <th></th>\n",
              "      <th>tries</th>\n",
              "      <th>solved</th>\n",
              "      <th>num_problemSumbited</th>\n",
              "      <th>total_FinalScore</th>\n",
              "    </tr>\n",
              "  </thead>\n",
              "  <tbody>\n",
              "    <tr>\n",
              "      <th>1</th>\n",
              "      <td>2.0</td>\n",
              "      <td>1.0</td>\n",
              "      <td>2.0</td>\n",
              "      <td>10000.0</td>\n",
              "    </tr>\n",
              "    <tr>\n",
              "      <th>4</th>\n",
              "      <td>54.0</td>\n",
              "      <td>37.0</td>\n",
              "      <td>41.0</td>\n",
              "      <td>370000.0</td>\n",
              "    </tr>\n",
              "    <tr>\n",
              "      <th>5</th>\n",
              "      <td>6.0</td>\n",
              "      <td>3.0</td>\n",
              "      <td>5.0</td>\n",
              "      <td>30000.0</td>\n",
              "    </tr>\n",
              "    <tr>\n",
              "      <th>6</th>\n",
              "      <td>130.0</td>\n",
              "      <td>85.0</td>\n",
              "      <td>89.0</td>\n",
              "      <td>850000.0</td>\n",
              "    </tr>\n",
              "    <tr>\n",
              "      <th>7</th>\n",
              "      <td>5.0</td>\n",
              "      <td>0.0</td>\n",
              "      <td>2.0</td>\n",
              "      <td>9209.0</td>\n",
              "    </tr>\n",
              "    <tr>\n",
              "      <th>...</th>\n",
              "      <td>...</td>\n",
              "      <td>...</td>\n",
              "      <td>...</td>\n",
              "      <td>...</td>\n",
              "    </tr>\n",
              "    <tr>\n",
              "      <th>1860</th>\n",
              "      <td>76.0</td>\n",
              "      <td>28.0</td>\n",
              "      <td>48.0</td>\n",
              "      <td>329665.0</td>\n",
              "    </tr>\n",
              "    <tr>\n",
              "      <th>1862</th>\n",
              "      <td>12.0</td>\n",
              "      <td>4.0</td>\n",
              "      <td>6.0</td>\n",
              "      <td>40000.0</td>\n",
              "    </tr>\n",
              "    <tr>\n",
              "      <th>1864</th>\n",
              "      <td>187.0</td>\n",
              "      <td>28.0</td>\n",
              "      <td>63.0</td>\n",
              "      <td>439741.0</td>\n",
              "    </tr>\n",
              "    <tr>\n",
              "      <th>1865</th>\n",
              "      <td>99.0</td>\n",
              "      <td>10.0</td>\n",
              "      <td>17.0</td>\n",
              "      <td>116428.0</td>\n",
              "    </tr>\n",
              "    <tr>\n",
              "      <th>1868</th>\n",
              "      <td>47.0</td>\n",
              "      <td>27.0</td>\n",
              "      <td>28.0</td>\n",
              "      <td>270000.0</td>\n",
              "    </tr>\n",
              "  </tbody>\n",
              "</table>\n",
              "<p>1159 rows × 4 columns</p>\n",
              "</div>"
            ],
            "text/plain": [
              "      tries  solved  num_problemSumbited  total_FinalScore\n",
              "1       2.0     1.0                  2.0           10000.0\n",
              "4      54.0    37.0                 41.0          370000.0\n",
              "5       6.0     3.0                  5.0           30000.0\n",
              "6     130.0    85.0                 89.0          850000.0\n",
              "7       5.0     0.0                  2.0            9209.0\n",
              "...     ...     ...                  ...               ...\n",
              "1860   76.0    28.0                 48.0          329665.0\n",
              "1862   12.0     4.0                  6.0           40000.0\n",
              "1864  187.0    28.0                 63.0          439741.0\n",
              "1865   99.0    10.0                 17.0          116428.0\n",
              "1868   47.0    27.0                 28.0          270000.0\n",
              "\n",
              "[1159 rows x 4 columns]"
            ]
          },
          "metadata": {
            "tags": []
          },
          "execution_count": 265
        }
      ]
    },
    {
      "cell_type": "markdown",
      "metadata": {
        "id": "lMK0Y4fjhpa9"
      },
      "source": [
        "## 1.4 Create New Dataframe"
      ]
    },
    {
      "cell_type": "code",
      "metadata": {
        "id": "r4ySNSbi3FXk",
        "cellView": "form"
      },
      "source": [
        "#@title\n",
        "#cell này Phưn hông có chạy\n",
        "index = raw.index.tolist()\n",
        "list_tries = raw['tries'].tolist()\n",
        "list_solved = raw['solved'].tolist()\n",
        "list_numProblemSumbited = raw['num_problemSumbited'].values.tolist()\n",
        "\n",
        "list_numProblemSumbited,list_solved\n",
        "#Tổng pre_score của các submssion có is_final = 1\n",
        "list_totalFinalScore = raw['total_FinalScore'].tolist()\n",
        "\n",
        "# Tổng số problem đã solved (is_final = 1 && pre_score=10000) / Tổng số problem có submit = solved/submiited\n",
        "solved_per_submitted = []\n",
        "for i in range(len(index)):\n",
        "  solved_per_submitted.append(list_solved[i] / list_numProblemSumbited[i])\n",
        "\n",
        "#Tổng số problem đã solved (is_final = 1 && pre_score=10000) / Tổng số lần thử submit = solved/tries\n",
        "solved_tries = []\n",
        "for i in range(len(index)):\n",
        "  solved_tries.append(list_solved[i] / list_tries[i])\n",
        "# # Tổng số problem đã sumbit / Tổng số submissions ?? #xàm te :)) nó ra 1 mà :))\n",
        "# # probSubmited_totalSubmit = []\n",
        "# # for i in range(len(index)):\n",
        "# #   probSubmited_totalSubmit.append(list_numProblemSumbited[i] / 264606)"
      ],
      "execution_count": null,
      "outputs": []
    },
    {
      "cell_type": "code",
      "metadata": {
        "id": "o-y0A4AaDZen",
        "colab": {
          "base_uri": "https://localhost:8080/",
          "height": 431
        },
        "outputId": "7deffd4a-3901-4b68-850b-7707516d7d75"
      },
      "source": [
        "dict_newData = {'index': index,\n",
        "                    'tries': list_tries,\n",
        "                    'solved': list_solved,\n",
        "                    'submited': list_numProblemSumbited,\n",
        "                    'solved/tries': solved_tries,\n",
        "                    'solved/submited': solved_per_submitted,\n",
        "                    'finalScore': list_totalFinalScore\n",
        "}\n",
        "\n",
        "newDF = pd.DataFrame(dict_newData).set_index('index')\n",
        "newDF"
      ],
      "execution_count": null,
      "outputs": [
        {
          "output_type": "execute_result",
          "data": {
            "text/html": [
              "<div>\n",
              "<style scoped>\n",
              "    .dataframe tbody tr th:only-of-type {\n",
              "        vertical-align: middle;\n",
              "    }\n",
              "\n",
              "    .dataframe tbody tr th {\n",
              "        vertical-align: top;\n",
              "    }\n",
              "\n",
              "    .dataframe thead th {\n",
              "        text-align: right;\n",
              "    }\n",
              "</style>\n",
              "<table border=\"1\" class=\"dataframe\">\n",
              "  <thead>\n",
              "    <tr style=\"text-align: right;\">\n",
              "      <th></th>\n",
              "      <th>tries</th>\n",
              "      <th>solved</th>\n",
              "      <th>submited</th>\n",
              "      <th>solved/tries</th>\n",
              "      <th>solved/submited</th>\n",
              "      <th>finalScore</th>\n",
              "    </tr>\n",
              "    <tr>\n",
              "      <th>index</th>\n",
              "      <th></th>\n",
              "      <th></th>\n",
              "      <th></th>\n",
              "      <th></th>\n",
              "      <th></th>\n",
              "      <th></th>\n",
              "    </tr>\n",
              "  </thead>\n",
              "  <tbody>\n",
              "    <tr>\n",
              "      <th>1</th>\n",
              "      <td>2.0</td>\n",
              "      <td>1.0</td>\n",
              "      <td>2.0</td>\n",
              "      <td>0.500000</td>\n",
              "      <td>0.500000</td>\n",
              "      <td>10000.0</td>\n",
              "    </tr>\n",
              "    <tr>\n",
              "      <th>4</th>\n",
              "      <td>54.0</td>\n",
              "      <td>37.0</td>\n",
              "      <td>41.0</td>\n",
              "      <td>0.685185</td>\n",
              "      <td>0.902439</td>\n",
              "      <td>370000.0</td>\n",
              "    </tr>\n",
              "    <tr>\n",
              "      <th>5</th>\n",
              "      <td>6.0</td>\n",
              "      <td>3.0</td>\n",
              "      <td>5.0</td>\n",
              "      <td>0.500000</td>\n",
              "      <td>0.600000</td>\n",
              "      <td>30000.0</td>\n",
              "    </tr>\n",
              "    <tr>\n",
              "      <th>6</th>\n",
              "      <td>130.0</td>\n",
              "      <td>85.0</td>\n",
              "      <td>89.0</td>\n",
              "      <td>0.653846</td>\n",
              "      <td>0.955056</td>\n",
              "      <td>850000.0</td>\n",
              "    </tr>\n",
              "    <tr>\n",
              "      <th>7</th>\n",
              "      <td>5.0</td>\n",
              "      <td>0.0</td>\n",
              "      <td>2.0</td>\n",
              "      <td>0.000000</td>\n",
              "      <td>0.000000</td>\n",
              "      <td>9209.0</td>\n",
              "    </tr>\n",
              "    <tr>\n",
              "      <th>...</th>\n",
              "      <td>...</td>\n",
              "      <td>...</td>\n",
              "      <td>...</td>\n",
              "      <td>...</td>\n",
              "      <td>...</td>\n",
              "      <td>...</td>\n",
              "    </tr>\n",
              "    <tr>\n",
              "      <th>1860</th>\n",
              "      <td>76.0</td>\n",
              "      <td>28.0</td>\n",
              "      <td>48.0</td>\n",
              "      <td>0.368421</td>\n",
              "      <td>0.583333</td>\n",
              "      <td>329665.0</td>\n",
              "    </tr>\n",
              "    <tr>\n",
              "      <th>1862</th>\n",
              "      <td>12.0</td>\n",
              "      <td>4.0</td>\n",
              "      <td>6.0</td>\n",
              "      <td>0.333333</td>\n",
              "      <td>0.666667</td>\n",
              "      <td>40000.0</td>\n",
              "    </tr>\n",
              "    <tr>\n",
              "      <th>1864</th>\n",
              "      <td>187.0</td>\n",
              "      <td>28.0</td>\n",
              "      <td>63.0</td>\n",
              "      <td>0.149733</td>\n",
              "      <td>0.444444</td>\n",
              "      <td>439741.0</td>\n",
              "    </tr>\n",
              "    <tr>\n",
              "      <th>1865</th>\n",
              "      <td>99.0</td>\n",
              "      <td>10.0</td>\n",
              "      <td>17.0</td>\n",
              "      <td>0.101010</td>\n",
              "      <td>0.588235</td>\n",
              "      <td>116428.0</td>\n",
              "    </tr>\n",
              "    <tr>\n",
              "      <th>1868</th>\n",
              "      <td>47.0</td>\n",
              "      <td>27.0</td>\n",
              "      <td>28.0</td>\n",
              "      <td>0.574468</td>\n",
              "      <td>0.964286</td>\n",
              "      <td>270000.0</td>\n",
              "    </tr>\n",
              "  </tbody>\n",
              "</table>\n",
              "<p>1159 rows × 6 columns</p>\n",
              "</div>"
            ],
            "text/plain": [
              "       tries  solved  submited  solved/tries  solved/submited  finalScore\n",
              "index                                                                    \n",
              "1        2.0     1.0       2.0      0.500000         0.500000     10000.0\n",
              "4       54.0    37.0      41.0      0.685185         0.902439    370000.0\n",
              "5        6.0     3.0       5.0      0.500000         0.600000     30000.0\n",
              "6      130.0    85.0      89.0      0.653846         0.955056    850000.0\n",
              "7        5.0     0.0       2.0      0.000000         0.000000      9209.0\n",
              "...      ...     ...       ...           ...              ...         ...\n",
              "1860    76.0    28.0      48.0      0.368421         0.583333    329665.0\n",
              "1862    12.0     4.0       6.0      0.333333         0.666667     40000.0\n",
              "1864   187.0    28.0      63.0      0.149733         0.444444    439741.0\n",
              "1865    99.0    10.0      17.0      0.101010         0.588235    116428.0\n",
              "1868    47.0    27.0      28.0      0.574468         0.964286    270000.0\n",
              "\n",
              "[1159 rows x 6 columns]"
            ]
          },
          "metadata": {
            "tags": []
          },
          "execution_count": 267
        }
      ]
    },
    {
      "cell_type": "code",
      "metadata": {
        "id": "ZVwvQDwFRY_s",
        "colab": {
          "base_uri": "https://localhost:8080/",
          "height": 431
        },
        "outputId": "1e4239bc-dc27-444b-860a-78b834dfe605"
      },
      "source": [
        "newDF.dropna()\n",
        "newDF"
      ],
      "execution_count": null,
      "outputs": [
        {
          "output_type": "execute_result",
          "data": {
            "text/html": [
              "<div>\n",
              "<style scoped>\n",
              "    .dataframe tbody tr th:only-of-type {\n",
              "        vertical-align: middle;\n",
              "    }\n",
              "\n",
              "    .dataframe tbody tr th {\n",
              "        vertical-align: top;\n",
              "    }\n",
              "\n",
              "    .dataframe thead th {\n",
              "        text-align: right;\n",
              "    }\n",
              "</style>\n",
              "<table border=\"1\" class=\"dataframe\">\n",
              "  <thead>\n",
              "    <tr style=\"text-align: right;\">\n",
              "      <th></th>\n",
              "      <th>tries</th>\n",
              "      <th>solved</th>\n",
              "      <th>submited</th>\n",
              "      <th>solved/tries</th>\n",
              "      <th>solved/submited</th>\n",
              "      <th>finalScore</th>\n",
              "    </tr>\n",
              "    <tr>\n",
              "      <th>index</th>\n",
              "      <th></th>\n",
              "      <th></th>\n",
              "      <th></th>\n",
              "      <th></th>\n",
              "      <th></th>\n",
              "      <th></th>\n",
              "    </tr>\n",
              "  </thead>\n",
              "  <tbody>\n",
              "    <tr>\n",
              "      <th>1</th>\n",
              "      <td>2.0</td>\n",
              "      <td>1.0</td>\n",
              "      <td>2.0</td>\n",
              "      <td>0.500000</td>\n",
              "      <td>0.500000</td>\n",
              "      <td>10000.0</td>\n",
              "    </tr>\n",
              "    <tr>\n",
              "      <th>4</th>\n",
              "      <td>54.0</td>\n",
              "      <td>37.0</td>\n",
              "      <td>41.0</td>\n",
              "      <td>0.685185</td>\n",
              "      <td>0.902439</td>\n",
              "      <td>370000.0</td>\n",
              "    </tr>\n",
              "    <tr>\n",
              "      <th>5</th>\n",
              "      <td>6.0</td>\n",
              "      <td>3.0</td>\n",
              "      <td>5.0</td>\n",
              "      <td>0.500000</td>\n",
              "      <td>0.600000</td>\n",
              "      <td>30000.0</td>\n",
              "    </tr>\n",
              "    <tr>\n",
              "      <th>6</th>\n",
              "      <td>130.0</td>\n",
              "      <td>85.0</td>\n",
              "      <td>89.0</td>\n",
              "      <td>0.653846</td>\n",
              "      <td>0.955056</td>\n",
              "      <td>850000.0</td>\n",
              "    </tr>\n",
              "    <tr>\n",
              "      <th>7</th>\n",
              "      <td>5.0</td>\n",
              "      <td>0.0</td>\n",
              "      <td>2.0</td>\n",
              "      <td>0.000000</td>\n",
              "      <td>0.000000</td>\n",
              "      <td>9209.0</td>\n",
              "    </tr>\n",
              "    <tr>\n",
              "      <th>...</th>\n",
              "      <td>...</td>\n",
              "      <td>...</td>\n",
              "      <td>...</td>\n",
              "      <td>...</td>\n",
              "      <td>...</td>\n",
              "      <td>...</td>\n",
              "    </tr>\n",
              "    <tr>\n",
              "      <th>1860</th>\n",
              "      <td>76.0</td>\n",
              "      <td>28.0</td>\n",
              "      <td>48.0</td>\n",
              "      <td>0.368421</td>\n",
              "      <td>0.583333</td>\n",
              "      <td>329665.0</td>\n",
              "    </tr>\n",
              "    <tr>\n",
              "      <th>1862</th>\n",
              "      <td>12.0</td>\n",
              "      <td>4.0</td>\n",
              "      <td>6.0</td>\n",
              "      <td>0.333333</td>\n",
              "      <td>0.666667</td>\n",
              "      <td>40000.0</td>\n",
              "    </tr>\n",
              "    <tr>\n",
              "      <th>1864</th>\n",
              "      <td>187.0</td>\n",
              "      <td>28.0</td>\n",
              "      <td>63.0</td>\n",
              "      <td>0.149733</td>\n",
              "      <td>0.444444</td>\n",
              "      <td>439741.0</td>\n",
              "    </tr>\n",
              "    <tr>\n",
              "      <th>1865</th>\n",
              "      <td>99.0</td>\n",
              "      <td>10.0</td>\n",
              "      <td>17.0</td>\n",
              "      <td>0.101010</td>\n",
              "      <td>0.588235</td>\n",
              "      <td>116428.0</td>\n",
              "    </tr>\n",
              "    <tr>\n",
              "      <th>1868</th>\n",
              "      <td>47.0</td>\n",
              "      <td>27.0</td>\n",
              "      <td>28.0</td>\n",
              "      <td>0.574468</td>\n",
              "      <td>0.964286</td>\n",
              "      <td>270000.0</td>\n",
              "    </tr>\n",
              "  </tbody>\n",
              "</table>\n",
              "<p>1159 rows × 6 columns</p>\n",
              "</div>"
            ],
            "text/plain": [
              "       tries  solved  submited  solved/tries  solved/submited  finalScore\n",
              "index                                                                    \n",
              "1        2.0     1.0       2.0      0.500000         0.500000     10000.0\n",
              "4       54.0    37.0      41.0      0.685185         0.902439    370000.0\n",
              "5        6.0     3.0       5.0      0.500000         0.600000     30000.0\n",
              "6      130.0    85.0      89.0      0.653846         0.955056    850000.0\n",
              "7        5.0     0.0       2.0      0.000000         0.000000      9209.0\n",
              "...      ...     ...       ...           ...              ...         ...\n",
              "1860    76.0    28.0      48.0      0.368421         0.583333    329665.0\n",
              "1862    12.0     4.0       6.0      0.333333         0.666667     40000.0\n",
              "1864   187.0    28.0      63.0      0.149733         0.444444    439741.0\n",
              "1865    99.0    10.0      17.0      0.101010         0.588235    116428.0\n",
              "1868    47.0    27.0      28.0      0.574468         0.964286    270000.0\n",
              "\n",
              "[1159 rows x 6 columns]"
            ]
          },
          "metadata": {
            "tags": []
          },
          "execution_count": 268
        }
      ]
    },
    {
      "cell_type": "code",
      "metadata": {
        "id": "OaBivN3Qf9Oz",
        "colab": {
          "base_uri": "https://localhost:8080/",
          "height": 254
        },
        "outputId": "a642a10d-bf02-4d72-d587-887443283c66"
      },
      "source": [
        "score_CK = data_score[['id', 'CK']]\n",
        "score_CK.set_index('id', inplace=True)\n",
        "new_data = pd.concat([newDF, score_CK], axis=1)\n",
        "new_data.head(10).T"
      ],
      "execution_count": null,
      "outputs": [
        {
          "output_type": "execute_result",
          "data": {
            "text/html": [
              "<div>\n",
              "<style scoped>\n",
              "    .dataframe tbody tr th:only-of-type {\n",
              "        vertical-align: middle;\n",
              "    }\n",
              "\n",
              "    .dataframe tbody tr th {\n",
              "        vertical-align: top;\n",
              "    }\n",
              "\n",
              "    .dataframe thead th {\n",
              "        text-align: right;\n",
              "    }\n",
              "</style>\n",
              "<table border=\"1\" class=\"dataframe\">\n",
              "  <thead>\n",
              "    <tr style=\"text-align: right;\">\n",
              "      <th></th>\n",
              "      <th>1</th>\n",
              "      <th>4</th>\n",
              "      <th>5</th>\n",
              "      <th>6</th>\n",
              "      <th>7</th>\n",
              "      <th>11</th>\n",
              "      <th>14</th>\n",
              "      <th>15</th>\n",
              "      <th>20</th>\n",
              "      <th>22</th>\n",
              "    </tr>\n",
              "  </thead>\n",
              "  <tbody>\n",
              "    <tr>\n",
              "      <th>tries</th>\n",
              "      <td>2.0</td>\n",
              "      <td>54.000000</td>\n",
              "      <td>6.0</td>\n",
              "      <td>130.000000</td>\n",
              "      <td>5.0</td>\n",
              "      <td>50.000000</td>\n",
              "      <td>22.000000</td>\n",
              "      <td>101.000000</td>\n",
              "      <td>13.000000</td>\n",
              "      <td>NaN</td>\n",
              "    </tr>\n",
              "    <tr>\n",
              "      <th>solved</th>\n",
              "      <td>1.0</td>\n",
              "      <td>37.000000</td>\n",
              "      <td>3.0</td>\n",
              "      <td>85.000000</td>\n",
              "      <td>0.0</td>\n",
              "      <td>9.000000</td>\n",
              "      <td>6.000000</td>\n",
              "      <td>45.000000</td>\n",
              "      <td>12.000000</td>\n",
              "      <td>NaN</td>\n",
              "    </tr>\n",
              "    <tr>\n",
              "      <th>submited</th>\n",
              "      <td>2.0</td>\n",
              "      <td>41.000000</td>\n",
              "      <td>5.0</td>\n",
              "      <td>89.000000</td>\n",
              "      <td>2.0</td>\n",
              "      <td>19.000000</td>\n",
              "      <td>7.000000</td>\n",
              "      <td>52.000000</td>\n",
              "      <td>12.000000</td>\n",
              "      <td>NaN</td>\n",
              "    </tr>\n",
              "    <tr>\n",
              "      <th>solved/tries</th>\n",
              "      <td>0.5</td>\n",
              "      <td>0.685185</td>\n",
              "      <td>0.5</td>\n",
              "      <td>0.653846</td>\n",
              "      <td>0.0</td>\n",
              "      <td>0.180000</td>\n",
              "      <td>0.272727</td>\n",
              "      <td>0.445545</td>\n",
              "      <td>0.923077</td>\n",
              "      <td>NaN</td>\n",
              "    </tr>\n",
              "    <tr>\n",
              "      <th>solved/submited</th>\n",
              "      <td>0.5</td>\n",
              "      <td>0.902439</td>\n",
              "      <td>0.6</td>\n",
              "      <td>0.955056</td>\n",
              "      <td>0.0</td>\n",
              "      <td>0.473684</td>\n",
              "      <td>0.857143</td>\n",
              "      <td>0.865385</td>\n",
              "      <td>1.000000</td>\n",
              "      <td>NaN</td>\n",
              "    </tr>\n",
              "    <tr>\n",
              "      <th>finalScore</th>\n",
              "      <td>10000.0</td>\n",
              "      <td>370000.000000</td>\n",
              "      <td>30000.0</td>\n",
              "      <td>850000.000000</td>\n",
              "      <td>9209.0</td>\n",
              "      <td>100316.000000</td>\n",
              "      <td>68000.000000</td>\n",
              "      <td>458666.000000</td>\n",
              "      <td>120000.000000</td>\n",
              "      <td>NaN</td>\n",
              "    </tr>\n",
              "    <tr>\n",
              "      <th>CK</th>\n",
              "      <td>NaN</td>\n",
              "      <td>NaN</td>\n",
              "      <td>NaN</td>\n",
              "      <td>NaN</td>\n",
              "      <td>NaN</td>\n",
              "      <td>NaN</td>\n",
              "      <td>NaN</td>\n",
              "      <td>NaN</td>\n",
              "      <td>NaN</td>\n",
              "      <td>8.5</td>\n",
              "    </tr>\n",
              "  </tbody>\n",
              "</table>\n",
              "</div>"
            ],
            "text/plain": [
              "                      1              4   ...             20   22\n",
              "tries                2.0      54.000000  ...      13.000000  NaN\n",
              "solved               1.0      37.000000  ...      12.000000  NaN\n",
              "submited             2.0      41.000000  ...      12.000000  NaN\n",
              "solved/tries         0.5       0.685185  ...       0.923077  NaN\n",
              "solved/submited      0.5       0.902439  ...       1.000000  NaN\n",
              "finalScore       10000.0  370000.000000  ...  120000.000000  NaN\n",
              "CK                   NaN            NaN  ...            NaN  8.5\n",
              "\n",
              "[7 rows x 10 columns]"
            ]
          },
          "metadata": {
            "tags": []
          },
          "execution_count": 269
        }
      ]
    },
    {
      "cell_type": "markdown",
      "metadata": {
        "id": "X2XipEYWhwd2"
      },
      "source": [
        "#2. Pre-processing Data and Show the Correlation of the features\n",
        "<a name = 'process'></a>"
      ]
    },
    {
      "cell_type": "markdown",
      "metadata": {
        "id": "12UoF75LiTH5"
      },
      "source": [
        "## 2.1 Handling Missing Values in Data"
      ]
    },
    {
      "cell_type": "code",
      "metadata": {
        "id": "SFKjeEMdl0tf",
        "colab": {
          "base_uri": "https://localhost:8080/",
          "height": 254
        },
        "outputId": "6bf9c952-c70f-4ff5-c934-1ffc04e344d9"
      },
      "source": [
        "#find NaN values and replace it with 0\n",
        "def count_missing_values(data):\n",
        "  num_of_miss_data = data.isnull().sum()\n",
        "  missing_data = pd.concat([num_of_miss_data], axis=1, keys = ['Number of missing value'])\n",
        "  return missing_data\n",
        "count_missing_values(new_data)"
      ],
      "execution_count": null,
      "outputs": [
        {
          "output_type": "execute_result",
          "data": {
            "text/html": [
              "<div>\n",
              "<style scoped>\n",
              "    .dataframe tbody tr th:only-of-type {\n",
              "        vertical-align: middle;\n",
              "    }\n",
              "\n",
              "    .dataframe tbody tr th {\n",
              "        vertical-align: top;\n",
              "    }\n",
              "\n",
              "    .dataframe thead th {\n",
              "        text-align: right;\n",
              "    }\n",
              "</style>\n",
              "<table border=\"1\" class=\"dataframe\">\n",
              "  <thead>\n",
              "    <tr style=\"text-align: right;\">\n",
              "      <th></th>\n",
              "      <th>Number of missing value</th>\n",
              "    </tr>\n",
              "  </thead>\n",
              "  <tbody>\n",
              "    <tr>\n",
              "      <th>tries</th>\n",
              "      <td>122</td>\n",
              "    </tr>\n",
              "    <tr>\n",
              "      <th>solved</th>\n",
              "      <td>122</td>\n",
              "    </tr>\n",
              "    <tr>\n",
              "      <th>submited</th>\n",
              "      <td>122</td>\n",
              "    </tr>\n",
              "    <tr>\n",
              "      <th>solved/tries</th>\n",
              "      <td>122</td>\n",
              "    </tr>\n",
              "    <tr>\n",
              "      <th>solved/submited</th>\n",
              "      <td>122</td>\n",
              "    </tr>\n",
              "    <tr>\n",
              "      <th>finalScore</th>\n",
              "      <td>124</td>\n",
              "    </tr>\n",
              "    <tr>\n",
              "      <th>CK</th>\n",
              "      <td>361</td>\n",
              "    </tr>\n",
              "  </tbody>\n",
              "</table>\n",
              "</div>"
            ],
            "text/plain": [
              "                 Number of missing value\n",
              "tries                                122\n",
              "solved                               122\n",
              "submited                             122\n",
              "solved/tries                         122\n",
              "solved/submited                      122\n",
              "finalScore                           124\n",
              "CK                                   361"
            ]
          },
          "metadata": {
            "tags": []
          },
          "execution_count": 270
        }
      ]
    },
    {
      "cell_type": "code",
      "metadata": {
        "id": "dWbpo_TZl50P"
      },
      "source": [
        "#fill missing value of column 'tries'\n",
        "new_data['tries'] = new_data['tries'].interpolate(method = 'pad', limit = 3)\n",
        "new_data['tries'] = new_data['tries'].fillna(int(np.mean(new_data['tries'])))"
      ],
      "execution_count": null,
      "outputs": []
    },
    {
      "cell_type": "code",
      "metadata": {
        "id": "eqZ19jrJn5TN"
      },
      "source": [
        "#fill missing value of column 'solved'\n",
        "new_data['solved'] = new_data['solved'].interpolate(method = 'pad', limit = 3)\n",
        "new_data['solved'] = new_data['solved'].fillna(int(np.mean(new_data['solved'])))"
      ],
      "execution_count": null,
      "outputs": []
    },
    {
      "cell_type": "code",
      "metadata": {
        "id": "kIte0WNQn8Az"
      },
      "source": [
        "#fill missing value of column 'summited'\n",
        "new_data['submited'] = new_data['submited'].interpolate(method = 'pad', limit = 3)\n",
        "new_data['submited'] = new_data['submited'].fillna(int(np.mean(new_data['submited'])))"
      ],
      "execution_count": null,
      "outputs": []
    },
    {
      "cell_type": "code",
      "metadata": {
        "id": "vbckR9f7oFpV"
      },
      "source": [
        "new_data['solved/tries'] = new_data['solved'] / new_data['tries'] \n",
        "new_data['solved/submited'] = new_data['solved'] / new_data['submited'] "
      ],
      "execution_count": null,
      "outputs": []
    },
    {
      "cell_type": "code",
      "metadata": {
        "id": "bJ857bSFuiP8"
      },
      "source": [
        "new_data['finalScore'] = new_data['finalScore'].interpolate(method = 'pad', limit = 3)\n",
        "new_data['finalScore'] = new_data['finalScore'].fillna(int(np.mean(new_data['finalScore'])))"
      ],
      "execution_count": null,
      "outputs": []
    },
    {
      "cell_type": "code",
      "metadata": {
        "id": "MYnC9zAGlUKn",
        "colab": {
          "base_uri": "https://localhost:8080/",
          "height": 402
        },
        "outputId": "d345ba62-fa82-4522-bc3b-b4b194016677"
      },
      "source": [
        "data_to_predict = new_data[new_data.isna().any(axis=1)]\n",
        "data_to_predict = data_to_predict[data_to_predict['solved/tries'] <= 1]\n",
        "data_to_predict = data_to_predict[data_to_predict['solved/submited'] <= 1]\n",
        "data_to_predict"
      ],
      "execution_count": null,
      "outputs": [
        {
          "output_type": "execute_result",
          "data": {
            "text/html": [
              "<div>\n",
              "<style scoped>\n",
              "    .dataframe tbody tr th:only-of-type {\n",
              "        vertical-align: middle;\n",
              "    }\n",
              "\n",
              "    .dataframe tbody tr th {\n",
              "        vertical-align: top;\n",
              "    }\n",
              "\n",
              "    .dataframe thead th {\n",
              "        text-align: right;\n",
              "    }\n",
              "</style>\n",
              "<table border=\"1\" class=\"dataframe\">\n",
              "  <thead>\n",
              "    <tr style=\"text-align: right;\">\n",
              "      <th></th>\n",
              "      <th>tries</th>\n",
              "      <th>solved</th>\n",
              "      <th>submited</th>\n",
              "      <th>solved/tries</th>\n",
              "      <th>solved/submited</th>\n",
              "      <th>finalScore</th>\n",
              "      <th>CK</th>\n",
              "    </tr>\n",
              "  </thead>\n",
              "  <tbody>\n",
              "    <tr>\n",
              "      <th>1</th>\n",
              "      <td>2.0</td>\n",
              "      <td>1.0</td>\n",
              "      <td>2.0</td>\n",
              "      <td>0.500000</td>\n",
              "      <td>0.500000</td>\n",
              "      <td>10000.0</td>\n",
              "      <td>NaN</td>\n",
              "    </tr>\n",
              "    <tr>\n",
              "      <th>4</th>\n",
              "      <td>54.0</td>\n",
              "      <td>37.0</td>\n",
              "      <td>41.0</td>\n",
              "      <td>0.685185</td>\n",
              "      <td>0.902439</td>\n",
              "      <td>370000.0</td>\n",
              "      <td>NaN</td>\n",
              "    </tr>\n",
              "    <tr>\n",
              "      <th>5</th>\n",
              "      <td>6.0</td>\n",
              "      <td>3.0</td>\n",
              "      <td>5.0</td>\n",
              "      <td>0.500000</td>\n",
              "      <td>0.600000</td>\n",
              "      <td>30000.0</td>\n",
              "      <td>NaN</td>\n",
              "    </tr>\n",
              "    <tr>\n",
              "      <th>6</th>\n",
              "      <td>130.0</td>\n",
              "      <td>85.0</td>\n",
              "      <td>89.0</td>\n",
              "      <td>0.653846</td>\n",
              "      <td>0.955056</td>\n",
              "      <td>850000.0</td>\n",
              "      <td>NaN</td>\n",
              "    </tr>\n",
              "    <tr>\n",
              "      <th>7</th>\n",
              "      <td>5.0</td>\n",
              "      <td>0.0</td>\n",
              "      <td>2.0</td>\n",
              "      <td>0.000000</td>\n",
              "      <td>0.000000</td>\n",
              "      <td>9209.0</td>\n",
              "      <td>NaN</td>\n",
              "    </tr>\n",
              "    <tr>\n",
              "      <th>...</th>\n",
              "      <td>...</td>\n",
              "      <td>...</td>\n",
              "      <td>...</td>\n",
              "      <td>...</td>\n",
              "      <td>...</td>\n",
              "      <td>...</td>\n",
              "      <td>...</td>\n",
              "    </tr>\n",
              "    <tr>\n",
              "      <th>1852</th>\n",
              "      <td>20.0</td>\n",
              "      <td>1.0</td>\n",
              "      <td>1.0</td>\n",
              "      <td>0.050000</td>\n",
              "      <td>1.000000</td>\n",
              "      <td>10000.0</td>\n",
              "      <td>NaN</td>\n",
              "    </tr>\n",
              "    <tr>\n",
              "      <th>1855</th>\n",
              "      <td>134.0</td>\n",
              "      <td>63.0</td>\n",
              "      <td>67.0</td>\n",
              "      <td>0.470149</td>\n",
              "      <td>0.940299</td>\n",
              "      <td>649000.0</td>\n",
              "      <td>NaN</td>\n",
              "    </tr>\n",
              "    <tr>\n",
              "      <th>1860</th>\n",
              "      <td>76.0</td>\n",
              "      <td>28.0</td>\n",
              "      <td>48.0</td>\n",
              "      <td>0.368421</td>\n",
              "      <td>0.583333</td>\n",
              "      <td>329665.0</td>\n",
              "      <td>NaN</td>\n",
              "    </tr>\n",
              "    <tr>\n",
              "      <th>1864</th>\n",
              "      <td>187.0</td>\n",
              "      <td>28.0</td>\n",
              "      <td>63.0</td>\n",
              "      <td>0.149733</td>\n",
              "      <td>0.444444</td>\n",
              "      <td>439741.0</td>\n",
              "      <td>NaN</td>\n",
              "    </tr>\n",
              "    <tr>\n",
              "      <th>1868</th>\n",
              "      <td>47.0</td>\n",
              "      <td>27.0</td>\n",
              "      <td>28.0</td>\n",
              "      <td>0.574468</td>\n",
              "      <td>0.964286</td>\n",
              "      <td>270000.0</td>\n",
              "      <td>NaN</td>\n",
              "    </tr>\n",
              "  </tbody>\n",
              "</table>\n",
              "<p>360 rows × 7 columns</p>\n",
              "</div>"
            ],
            "text/plain": [
              "      tries  solved  submited  solved/tries  solved/submited  finalScore  CK\n",
              "1       2.0     1.0       2.0      0.500000         0.500000     10000.0 NaN\n",
              "4      54.0    37.0      41.0      0.685185         0.902439    370000.0 NaN\n",
              "5       6.0     3.0       5.0      0.500000         0.600000     30000.0 NaN\n",
              "6     130.0    85.0      89.0      0.653846         0.955056    850000.0 NaN\n",
              "7       5.0     0.0       2.0      0.000000         0.000000      9209.0 NaN\n",
              "...     ...     ...       ...           ...              ...         ...  ..\n",
              "1852   20.0     1.0       1.0      0.050000         1.000000     10000.0 NaN\n",
              "1855  134.0    63.0      67.0      0.470149         0.940299    649000.0 NaN\n",
              "1860   76.0    28.0      48.0      0.368421         0.583333    329665.0 NaN\n",
              "1864  187.0    28.0      63.0      0.149733         0.444444    439741.0 NaN\n",
              "1868   47.0    27.0      28.0      0.574468         0.964286    270000.0 NaN\n",
              "\n",
              "[360 rows x 7 columns]"
            ]
          },
          "metadata": {
            "tags": []
          },
          "execution_count": 276
        }
      ]
    },
    {
      "cell_type": "code",
      "metadata": {
        "id": "mdkovsDxuuGX"
      },
      "source": [
        "id_predict = data_to_predict.index.to_numpy()"
      ],
      "execution_count": null,
      "outputs": []
    },
    {
      "cell_type": "code",
      "metadata": {
        "id": "P_czDCiZvtzN"
      },
      "source": [
        "data_to_train = new_data.dropna()\n",
        "data_to_train = data_to_train[data_to_train['solved/tries'] <= 1]\n",
        "data_to_train = data_to_train[data_to_train['solved/submited'] <= 1]"
      ],
      "execution_count": null,
      "outputs": []
    },
    {
      "cell_type": "code",
      "metadata": {
        "id": "jW_YO886wAm3",
        "colab": {
          "base_uri": "https://localhost:8080/",
          "height": 284
        },
        "outputId": "b7fa77ee-843e-4c5d-cda7-1e6cb7f39d1a"
      },
      "source": [
        "data_to_train.describe()"
      ],
      "execution_count": null,
      "outputs": [
        {
          "output_type": "execute_result",
          "data": {
            "text/html": [
              "<div>\n",
              "<style scoped>\n",
              "    .dataframe tbody tr th:only-of-type {\n",
              "        vertical-align: middle;\n",
              "    }\n",
              "\n",
              "    .dataframe tbody tr th {\n",
              "        vertical-align: top;\n",
              "    }\n",
              "\n",
              "    .dataframe thead th {\n",
              "        text-align: right;\n",
              "    }\n",
              "</style>\n",
              "<table border=\"1\" class=\"dataframe\">\n",
              "  <thead>\n",
              "    <tr style=\"text-align: right;\">\n",
              "      <th></th>\n",
              "      <th>tries</th>\n",
              "      <th>solved</th>\n",
              "      <th>submited</th>\n",
              "      <th>solved/tries</th>\n",
              "      <th>solved/submited</th>\n",
              "      <th>finalScore</th>\n",
              "      <th>CK</th>\n",
              "    </tr>\n",
              "  </thead>\n",
              "  <tbody>\n",
              "    <tr>\n",
              "      <th>count</th>\n",
              "      <td>920.000000</td>\n",
              "      <td>920.000000</td>\n",
              "      <td>920.000000</td>\n",
              "      <td>920.000000</td>\n",
              "      <td>920.000000</td>\n",
              "      <td>9.200000e+02</td>\n",
              "      <td>920.000000</td>\n",
              "    </tr>\n",
              "    <tr>\n",
              "      <th>mean</th>\n",
              "      <td>240.764130</td>\n",
              "      <td>86.750000</td>\n",
              "      <td>93.559783</td>\n",
              "      <td>0.385580</td>\n",
              "      <td>0.884055</td>\n",
              "      <td>8.952187e+05</td>\n",
              "      <td>6.192935</td>\n",
              "    </tr>\n",
              "    <tr>\n",
              "      <th>std</th>\n",
              "      <td>167.205639</td>\n",
              "      <td>52.366214</td>\n",
              "      <td>53.692214</td>\n",
              "      <td>0.147076</td>\n",
              "      <td>0.164510</td>\n",
              "      <td>5.338194e+05</td>\n",
              "      <td>2.238136</td>\n",
              "    </tr>\n",
              "    <tr>\n",
              "      <th>min</th>\n",
              "      <td>1.000000</td>\n",
              "      <td>0.000000</td>\n",
              "      <td>1.000000</td>\n",
              "      <td>0.000000</td>\n",
              "      <td>0.000000</td>\n",
              "      <td>0.000000e+00</td>\n",
              "      <td>0.000000</td>\n",
              "    </tr>\n",
              "    <tr>\n",
              "      <th>25%</th>\n",
              "      <td>121.000000</td>\n",
              "      <td>50.750000</td>\n",
              "      <td>58.000000</td>\n",
              "      <td>0.298419</td>\n",
              "      <td>0.875000</td>\n",
              "      <td>5.288322e+05</td>\n",
              "      <td>5.000000</td>\n",
              "    </tr>\n",
              "    <tr>\n",
              "      <th>50%</th>\n",
              "      <td>212.000000</td>\n",
              "      <td>83.000000</td>\n",
              "      <td>87.000000</td>\n",
              "      <td>0.380045</td>\n",
              "      <td>0.936506</td>\n",
              "      <td>8.479760e+05</td>\n",
              "      <td>6.500000</td>\n",
              "    </tr>\n",
              "    <tr>\n",
              "      <th>75%</th>\n",
              "      <td>323.250000</td>\n",
              "      <td>105.250000</td>\n",
              "      <td>113.000000</td>\n",
              "      <td>0.470021</td>\n",
              "      <td>0.971305</td>\n",
              "      <td>1.086106e+06</td>\n",
              "      <td>8.000000</td>\n",
              "    </tr>\n",
              "    <tr>\n",
              "      <th>max</th>\n",
              "      <td>1359.000000</td>\n",
              "      <td>314.000000</td>\n",
              "      <td>319.000000</td>\n",
              "      <td>0.923077</td>\n",
              "      <td>1.000000</td>\n",
              "      <td>3.168763e+06</td>\n",
              "      <td>10.000000</td>\n",
              "    </tr>\n",
              "  </tbody>\n",
              "</table>\n",
              "</div>"
            ],
            "text/plain": [
              "             tries      solved  ...    finalScore          CK\n",
              "count   920.000000  920.000000  ...  9.200000e+02  920.000000\n",
              "mean    240.764130   86.750000  ...  8.952187e+05    6.192935\n",
              "std     167.205639   52.366214  ...  5.338194e+05    2.238136\n",
              "min       1.000000    0.000000  ...  0.000000e+00    0.000000\n",
              "25%     121.000000   50.750000  ...  5.288322e+05    5.000000\n",
              "50%     212.000000   83.000000  ...  8.479760e+05    6.500000\n",
              "75%     323.250000  105.250000  ...  1.086106e+06    8.000000\n",
              "max    1359.000000  314.000000  ...  3.168763e+06   10.000000\n",
              "\n",
              "[8 rows x 7 columns]"
            ]
          },
          "metadata": {
            "tags": []
          },
          "execution_count": 279
        }
      ]
    },
    {
      "cell_type": "markdown",
      "metadata": {
        "id": "PBA1_9Cth4-p"
      },
      "source": [
        "##2.2 Show the Correlation of  Features"
      ]
    },
    {
      "cell_type": "code",
      "metadata": {
        "id": "ZqpqGbFedD3R",
        "colab": {
          "base_uri": "https://localhost:8080/",
          "height": 1000
        },
        "outputId": "6b6aec77-4d5b-4fdc-ad11-ef8d83c84e65"
      },
      "source": [
        "fig= plt.figure(figsize = (40,30))\n",
        "gs1 = fig.add_gridspec(3,3)\n",
        "gs1.update(wspace=0.4, hspace=0.4)\n",
        "\n",
        "axs0 = fig.add_subplot(gs[0,0])\n",
        "axs1 = fig.add_subplot(gs[0,1])\n",
        "axs2 = fig.add_subplot(gs[1,0])\n",
        "axs3 = fig.add_subplot(gs[1,1])\n",
        "axs4 = fig.add_subplot(gs[2,0])\n",
        "axs5 = fig.add_subplot(gs[2,1])\n",
        "axes=[axs0,axs1,axs2,axs3,axs4, axs5]\n",
        "background_color = '#f6f5f7'\n",
        "\n",
        "for i in axes:\n",
        "    i.set_facecolor(background_color)\n",
        "fig.patch.set_facecolor(background_color) \n",
        "sns.scatterplot(ax = axs0, x = data_to_train['solved'], y = data_to_train['CK'].sort_values() )\n",
        "axs0.set_title('Solved Assignments and Grade Final')\n",
        "\n",
        "fig.patch.set_facecolor(background_color) \n",
        "sns.scatterplot(ax = axs1, x = data_to_train['solved/tries'], y = data_to_train['CK'].sort_values())\n",
        "axs1.set_title('Solved/Tries Assignments and Grade Final')\n",
        "\n",
        "fig.patch.set_facecolor(background_color) \n",
        "sns.scatterplot(ax = axs2,x = data_to_train['submited'], y = data_to_train['CK'].sort_values())\n",
        "axs2.set_title('Submitted Assignments and Grade Final')\n",
        "\n",
        "fig.patch.set_facecolor(background_color) \n",
        "sns.scatterplot(ax = axs3,x = data_to_train['solved/submited'], y = data_to_train['CK'].sort_values())\n",
        "axs3.set_title('Solved/Submitted Assignments and Grade Final')\n",
        "\n",
        "fig.patch.set_facecolor(background_color) \n",
        "sns.scatterplot(ax = axs4,x = data_to_train['finalScore'], y = data_to_train['CK'].sort_values())\n",
        "axs4.set_title('finalScore and Grade Final')\n",
        "\n",
        "fig.patch.set_facecolor(background_color) \n",
        "sns.scatterplot(ax = axs5,x = data_to_train['tries'], y = data_to_train['CK'].sort_values())\n",
        "axs5.set_title('Tries and Grade Final')\n",
        "\n",
        "plt.show()"
      ],
      "execution_count": null,
      "outputs": [
        {
          "output_type": "display_data",
          "data": {
            "image/png": "[encoded data removed]",
            "text/plain": [
              "<Figure size 2880x2160 with 6 Axes>"
            ]
          },
          "metadata": {
            "tags": []
          }
        }
      ]
    },
    {
      "cell_type": "code",
      "metadata": {
        "colab": {
          "base_uri": "https://localhost:8080/",
          "height": 359
        },
        "id": "BkeUBM0pOmRw",
        "outputId": "788bdb7e-bb60-46cc-f358-4c97f5003e42"
      },
      "source": [
        "cormat = data_to_train.corr()\n",
        "sns.heatmap(cormat, cmap = 'Blues')"
      ],
      "execution_count": null,
      "outputs": [
        {
          "output_type": "execute_result",
          "data": {
            "text/plain": [
              "<matplotlib.axes._subplots.AxesSubplot at 0x7f512e659b50>"
            ]
          },
          "metadata": {
            "tags": []
          },
          "execution_count": 281
        },
        {
          "output_type": "display_data",
          "data": {
            "image/png": "[encoded data removed]",
            "text/plain": [
              "<Figure size 432x288 with 2 Axes>"
            ]
          },
          "metadata": {
            "tags": [],
            "needs_background": "light"
          }
        }
      ]
    },
    {
      "cell_type": "code",
      "metadata": {
        "id": "aBJErHQPQ9ME"
      },
      "source": [
        "data_to_train = data_to_train.drop(['tries','solved/tries', 'solved/submited'], axis = 1)\n",
        "data_to_predict = data_to_predict.drop(['tries','solved/tries', 'solved/submited'], axis = 1)"
      ],
      "execution_count": null,
      "outputs": []
    },
    {
      "cell_type": "code",
      "metadata": {
        "colab": {
          "base_uri": "https://localhost:8080/",
          "height": 284
        },
        "id": "JMWmKVUnLoiv",
        "outputId": "732e5da9-a3c0-4ecf-cf5a-f931e06bf07d"
      },
      "source": [
        "data_to_train.describe()"
      ],
      "execution_count": null,
      "outputs": [
        {
          "output_type": "execute_result",
          "data": {
            "text/html": [
              "<div>\n",
              "<style scoped>\n",
              "    .dataframe tbody tr th:only-of-type {\n",
              "        vertical-align: middle;\n",
              "    }\n",
              "\n",
              "    .dataframe tbody tr th {\n",
              "        vertical-align: top;\n",
              "    }\n",
              "\n",
              "    .dataframe thead th {\n",
              "        text-align: right;\n",
              "    }\n",
              "</style>\n",
              "<table border=\"1\" class=\"dataframe\">\n",
              "  <thead>\n",
              "    <tr style=\"text-align: right;\">\n",
              "      <th></th>\n",
              "      <th>solved</th>\n",
              "      <th>submited</th>\n",
              "      <th>finalScore</th>\n",
              "      <th>CK</th>\n",
              "    </tr>\n",
              "  </thead>\n",
              "  <tbody>\n",
              "    <tr>\n",
              "      <th>count</th>\n",
              "      <td>920.000000</td>\n",
              "      <td>920.000000</td>\n",
              "      <td>9.200000e+02</td>\n",
              "      <td>920.000000</td>\n",
              "    </tr>\n",
              "    <tr>\n",
              "      <th>mean</th>\n",
              "      <td>86.750000</td>\n",
              "      <td>93.559783</td>\n",
              "      <td>8.952187e+05</td>\n",
              "      <td>6.192935</td>\n",
              "    </tr>\n",
              "    <tr>\n",
              "      <th>std</th>\n",
              "      <td>52.366214</td>\n",
              "      <td>53.692214</td>\n",
              "      <td>5.338194e+05</td>\n",
              "      <td>2.238136</td>\n",
              "    </tr>\n",
              "    <tr>\n",
              "      <th>min</th>\n",
              "      <td>0.000000</td>\n",
              "      <td>1.000000</td>\n",
              "      <td>0.000000e+00</td>\n",
              "      <td>0.000000</td>\n",
              "    </tr>\n",
              "    <tr>\n",
              "      <th>25%</th>\n",
              "      <td>50.750000</td>\n",
              "      <td>58.000000</td>\n",
              "      <td>5.288322e+05</td>\n",
              "      <td>5.000000</td>\n",
              "    </tr>\n",
              "    <tr>\n",
              "      <th>50%</th>\n",
              "      <td>83.000000</td>\n",
              "      <td>87.000000</td>\n",
              "      <td>8.479760e+05</td>\n",
              "      <td>6.500000</td>\n",
              "    </tr>\n",
              "    <tr>\n",
              "      <th>75%</th>\n",
              "      <td>105.250000</td>\n",
              "      <td>113.000000</td>\n",
              "      <td>1.086106e+06</td>\n",
              "      <td>8.000000</td>\n",
              "    </tr>\n",
              "    <tr>\n",
              "      <th>max</th>\n",
              "      <td>314.000000</td>\n",
              "      <td>319.000000</td>\n",
              "      <td>3.168763e+06</td>\n",
              "      <td>10.000000</td>\n",
              "    </tr>\n",
              "  </tbody>\n",
              "</table>\n",
              "</div>"
            ],
            "text/plain": [
              "           solved    submited    finalScore          CK\n",
              "count  920.000000  920.000000  9.200000e+02  920.000000\n",
              "mean    86.750000   93.559783  8.952187e+05    6.192935\n",
              "std     52.366214   53.692214  5.338194e+05    2.238136\n",
              "min      0.000000    1.000000  0.000000e+00    0.000000\n",
              "25%     50.750000   58.000000  5.288322e+05    5.000000\n",
              "50%     83.000000   87.000000  8.479760e+05    6.500000\n",
              "75%    105.250000  113.000000  1.086106e+06    8.000000\n",
              "max    314.000000  319.000000  3.168763e+06   10.000000"
            ]
          },
          "metadata": {
            "tags": []
          },
          "execution_count": 283
        }
      ]
    },
    {
      "cell_type": "code",
      "metadata": {
        "id": "gOBW9JRxIgcb"
      },
      "source": [
        "data_to_train.to_csv('/content/data_train.csv')\n",
        "data_to_predict.to_csv('/content/data_test.csv')"
      ],
      "execution_count": null,
      "outputs": []
    },
    {
      "cell_type": "code",
      "metadata": {
        "id": "iT5mHnPWTMt2",
        "colab": {
          "base_uri": "https://localhost:8080/",
          "height": 402
        },
        "outputId": "c651b7d0-390a-4ba0-c770-f80fe5cd6243"
      },
      "source": [
        "X = data_to_train.iloc[:,data_to_train.columns!='CK']\n",
        "y = data_to_train.iloc[:,-1]\n",
        "# X = np.array(data_to_train['finalScore']).reshape(-1,1)\n",
        "# y = data_to_train['CK']\n",
        "X"
      ],
      "execution_count": null,
      "outputs": [
        {
          "output_type": "execute_result",
          "data": {
            "text/html": [
              "<div>\n",
              "<style scoped>\n",
              "    .dataframe tbody tr th:only-of-type {\n",
              "        vertical-align: middle;\n",
              "    }\n",
              "\n",
              "    .dataframe tbody tr th {\n",
              "        vertical-align: top;\n",
              "    }\n",
              "\n",
              "    .dataframe thead th {\n",
              "        text-align: right;\n",
              "    }\n",
              "</style>\n",
              "<table border=\"1\" class=\"dataframe\">\n",
              "  <thead>\n",
              "    <tr style=\"text-align: right;\">\n",
              "      <th></th>\n",
              "      <th>solved</th>\n",
              "      <th>submited</th>\n",
              "      <th>finalScore</th>\n",
              "    </tr>\n",
              "  </thead>\n",
              "  <tbody>\n",
              "    <tr>\n",
              "      <th>22</th>\n",
              "      <td>12.0</td>\n",
              "      <td>12.0</td>\n",
              "      <td>120000.0</td>\n",
              "    </tr>\n",
              "    <tr>\n",
              "      <th>24</th>\n",
              "      <td>72.0</td>\n",
              "      <td>78.0</td>\n",
              "      <td>750299.0</td>\n",
              "    </tr>\n",
              "    <tr>\n",
              "      <th>27</th>\n",
              "      <td>3.0</td>\n",
              "      <td>5.0</td>\n",
              "      <td>39000.0</td>\n",
              "    </tr>\n",
              "    <tr>\n",
              "      <th>28</th>\n",
              "      <td>3.0</td>\n",
              "      <td>5.0</td>\n",
              "      <td>39000.0</td>\n",
              "    </tr>\n",
              "    <tr>\n",
              "      <th>29</th>\n",
              "      <td>72.0</td>\n",
              "      <td>80.0</td>\n",
              "      <td>762760.0</td>\n",
              "    </tr>\n",
              "    <tr>\n",
              "      <th>...</th>\n",
              "      <td>...</td>\n",
              "      <td>...</td>\n",
              "      <td>...</td>\n",
              "    </tr>\n",
              "    <tr>\n",
              "      <th>1857</th>\n",
              "      <td>37.0</td>\n",
              "      <td>40.0</td>\n",
              "      <td>386000.0</td>\n",
              "    </tr>\n",
              "    <tr>\n",
              "      <th>1859</th>\n",
              "      <td>3.0</td>\n",
              "      <td>30.0</td>\n",
              "      <td>39000.0</td>\n",
              "    </tr>\n",
              "    <tr>\n",
              "      <th>1862</th>\n",
              "      <td>4.0</td>\n",
              "      <td>6.0</td>\n",
              "      <td>40000.0</td>\n",
              "    </tr>\n",
              "    <tr>\n",
              "      <th>1865</th>\n",
              "      <td>10.0</td>\n",
              "      <td>17.0</td>\n",
              "      <td>116428.0</td>\n",
              "    </tr>\n",
              "    <tr>\n",
              "      <th>1866</th>\n",
              "      <td>10.0</td>\n",
              "      <td>17.0</td>\n",
              "      <td>116428.0</td>\n",
              "    </tr>\n",
              "  </tbody>\n",
              "</table>\n",
              "<p>920 rows × 3 columns</p>\n",
              "</div>"
            ],
            "text/plain": [
              "      solved  submited  finalScore\n",
              "22      12.0      12.0    120000.0\n",
              "24      72.0      78.0    750299.0\n",
              "27       3.0       5.0     39000.0\n",
              "28       3.0       5.0     39000.0\n",
              "29      72.0      80.0    762760.0\n",
              "...      ...       ...         ...\n",
              "1857    37.0      40.0    386000.0\n",
              "1859     3.0      30.0     39000.0\n",
              "1862     4.0       6.0     40000.0\n",
              "1865    10.0      17.0    116428.0\n",
              "1866    10.0      17.0    116428.0\n",
              "\n",
              "[920 rows x 3 columns]"
            ]
          },
          "metadata": {
            "tags": []
          },
          "execution_count": 285
        }
      ]
    },
    {
      "cell_type": "code",
      "metadata": {
        "id": "ZA9H0jOjUPuq",
        "colab": {
          "base_uri": "https://localhost:8080/",
          "height": 402
        },
        "outputId": "25352be9-be05-45b6-a7f4-6f90b0560bd2"
      },
      "source": [
        "x_train, x_test, y_train, y_test = train_test_split(X, y, test_size = 0.3, random_state = 0)\n",
        "x_train"
      ],
      "execution_count": null,
      "outputs": [
        {
          "output_type": "execute_result",
          "data": {
            "text/html": [
              "<div>\n",
              "<style scoped>\n",
              "    .dataframe tbody tr th:only-of-type {\n",
              "        vertical-align: middle;\n",
              "    }\n",
              "\n",
              "    .dataframe tbody tr th {\n",
              "        vertical-align: top;\n",
              "    }\n",
              "\n",
              "    .dataframe thead th {\n",
              "        text-align: right;\n",
              "    }\n",
              "</style>\n",
              "<table border=\"1\" class=\"dataframe\">\n",
              "  <thead>\n",
              "    <tr style=\"text-align: right;\">\n",
              "      <th></th>\n",
              "      <th>solved</th>\n",
              "      <th>submited</th>\n",
              "      <th>finalScore</th>\n",
              "    </tr>\n",
              "  </thead>\n",
              "  <tbody>\n",
              "    <tr>\n",
              "      <th>151</th>\n",
              "      <td>173.0</td>\n",
              "      <td>186.0</td>\n",
              "      <td>1782358.0</td>\n",
              "    </tr>\n",
              "    <tr>\n",
              "      <th>95</th>\n",
              "      <td>2.0</td>\n",
              "      <td>6.0</td>\n",
              "      <td>20000.0</td>\n",
              "    </tr>\n",
              "    <tr>\n",
              "      <th>540</th>\n",
              "      <td>74.0</td>\n",
              "      <td>83.0</td>\n",
              "      <td>783777.0</td>\n",
              "    </tr>\n",
              "    <tr>\n",
              "      <th>471</th>\n",
              "      <td>92.0</td>\n",
              "      <td>96.0</td>\n",
              "      <td>929000.0</td>\n",
              "    </tr>\n",
              "    <tr>\n",
              "      <th>1433</th>\n",
              "      <td>57.0</td>\n",
              "      <td>64.0</td>\n",
              "      <td>591467.0</td>\n",
              "    </tr>\n",
              "    <tr>\n",
              "      <th>...</th>\n",
              "      <td>...</td>\n",
              "      <td>...</td>\n",
              "      <td>...</td>\n",
              "    </tr>\n",
              "    <tr>\n",
              "      <th>1603</th>\n",
              "      <td>186.0</td>\n",
              "      <td>189.0</td>\n",
              "      <td>1876388.0</td>\n",
              "    </tr>\n",
              "    <tr>\n",
              "      <th>361</th>\n",
              "      <td>71.0</td>\n",
              "      <td>80.0</td>\n",
              "      <td>724804.0</td>\n",
              "    </tr>\n",
              "    <tr>\n",
              "      <th>1191</th>\n",
              "      <td>106.0</td>\n",
              "      <td>109.0</td>\n",
              "      <td>1069000.0</td>\n",
              "    </tr>\n",
              "    <tr>\n",
              "      <th>1017</th>\n",
              "      <td>58.0</td>\n",
              "      <td>72.0</td>\n",
              "      <td>646057.0</td>\n",
              "    </tr>\n",
              "    <tr>\n",
              "      <th>1317</th>\n",
              "      <td>80.0</td>\n",
              "      <td>84.0</td>\n",
              "      <td>803000.0</td>\n",
              "    </tr>\n",
              "  </tbody>\n",
              "</table>\n",
              "<p>644 rows × 3 columns</p>\n",
              "</div>"
            ],
            "text/plain": [
              "      solved  submited  finalScore\n",
              "151    173.0     186.0   1782358.0\n",
              "95       2.0       6.0     20000.0\n",
              "540     74.0      83.0    783777.0\n",
              "471     92.0      96.0    929000.0\n",
              "1433    57.0      64.0    591467.0\n",
              "...      ...       ...         ...\n",
              "1603   186.0     189.0   1876388.0\n",
              "361     71.0      80.0    724804.0\n",
              "1191   106.0     109.0   1069000.0\n",
              "1017    58.0      72.0    646057.0\n",
              "1317    80.0      84.0    803000.0\n",
              "\n",
              "[644 rows x 3 columns]"
            ]
          },
          "metadata": {
            "tags": []
          },
          "execution_count": 286
        }
      ]
    },
    {
      "cell_type": "code",
      "metadata": {
        "id": "eJrwc4n8x_5c"
      },
      "source": [
        "def normalize_train_test(X_train, X_test, raw_X, mode=\"StandardScaler\"):\n",
        "  if mode == \"StandardScaler\":\n",
        "    scaler = StandardScaler()\n",
        "  elif mode == \"MinMaxScaler\":\n",
        "    scaler = MinMaxScaler()\n",
        "  elif mode == \"RobustScaler\":\n",
        "    scaler = RobustScaler()\n",
        "\n",
        "  scaler = scaler.fit(X_train)\n",
        "  \n",
        "  X_train_std = scaler.transform(X_train)\n",
        "  X_test_std = scaler.transform(X_test)\n",
        "  raw_X_std = scaler.transform(raw_X)\n",
        "\n",
        "  return scaler, X_train_std, X_test_std"
      ],
      "execution_count": null,
      "outputs": []
    },
    {
      "cell_type": "code",
      "metadata": {
        "id": "GDFzSIXxydaY"
      },
      "source": [
        "scaler, X_train_std, X_test_std = normalize_train_test(x_train, x_test, X, mode=\"StandardScaler\")"
      ],
      "execution_count": null,
      "outputs": []
    },
    {
      "cell_type": "code",
      "metadata": {
        "id": "YjTRdmvtOh7-",
        "colab": {
          "base_uri": "https://localhost:8080/"
        },
        "outputId": "347028eb-86f5-4265-def9-8a664635af42"
      },
      "source": [
        "poly = PolynomialFeatures(2)\n",
        "x_train_poly = poly.fit_transform(X_train_std)\n",
        "x_test_poly = poly.transform(X_test_std)\n",
        "x_train_poly[0]"
      ],
      "execution_count": null,
      "outputs": [
        {
          "output_type": "execute_result",
          "data": {
            "text/plain": [
              "array([1.        , 1.61850921, 1.69276275, 1.63499452, 2.61957205,\n",
              "       2.7397521 , 2.64625368, 2.86544574, 2.76765782, 2.67320708])"
            ]
          },
          "metadata": {
            "tags": []
          },
          "execution_count": 311
        }
      ]
    },
    {
      "cell_type": "markdown",
      "metadata": {
        "id": "c9m9SawcilZm"
      },
      "source": [
        "#3 Building Model to Predict and Testing\n",
        "<a name = 'model'></a>"
      ]
    },
    {
      "cell_type": "markdown",
      "metadata": {
        "id": "keiMChLgxdtD"
      },
      "source": [
        "## Bulding Model"
      ]
    },
    {
      "cell_type": "code",
      "metadata": {
        "id": "assWIDjyxc0m"
      },
      "source": [
        "def train_model(X_train, y_train, mode = \"Ridge\"):\n",
        "  if mode == \"LinearRegression\":\n",
        "    model = LinearRegression()\n",
        "  elif mode == \"Ridge\":\n",
        "    model = Ridge()\n",
        "  elif mode == \"Lasso\":\n",
        "    model = Lasso()\n",
        "\n",
        "  model.fit(X_train, y_train)\n",
        "\n",
        "  return model\n",
        "\n",
        "def predict_model(model, X_test):\n",
        "  y_logit = model.predict(X_test)\n",
        "\n",
        "  return y_logit"
      ],
      "execution_count": null,
      "outputs": []
    },
    {
      "cell_type": "code",
      "metadata": {
        "colab": {
          "base_uri": "https://localhost:8080/"
        },
        "id": "1bFTpJtHHdS4",
        "outputId": "2b61a9ee-53e3-43ec-f01f-f281b6ea9151"
      },
      "source": [
        "model  = LinearRegression().fit(x_train_poly, y_train)\n",
        "prediction = predict_model(model, x_test_poly)\n",
        "prediction = prediction*2.0\n",
        "prediction = prediction.astype(int)\n",
        "prediction = np.round_(prediction/2, decimals=1, out=None)\n",
        "prediction"
      ],
      "execution_count": null,
      "outputs": [
        {
          "output_type": "execute_result",
          "data": {
            "text/plain": [
              "array([5. , 6.5, 6.5, 6. , 5. , 6.5, 5. , 7. , 4. , 5. , 5.5, 4.5, 7. ,\n",
              "       5.5, 6.5, 7.5, 5. , 5. , 7. , 6.5, 5. , 5. , 6.5, 6.5, 5.5, 6. ,\n",
              "       2.5, 6.5, 6. , 6.5, 6.5, 6.5, 5. , 6.5, 5. , 6.5, 6.5, 6. , 6. ,\n",
              "       5.5, 6. , 6. , 5.5, 6.5, 5.5, 5.5, 5. , 6. , 6. , 5. , 4. , 7. ,\n",
              "       6. , 6. , 6. , 6. , 6. , 3.5, 5.5, 4.5, 6.5, 5.5, 5. , 6.5, 7.5,\n",
              "       5.5, 6.5, 5. , 5.5, 5.5, 6. , 4.5, 5.5, 5. , 7. , 5.5, 6. , 5.5,\n",
              "       6.5, 5.5, 6. , 6.5, 4.5, 6. , 6. , 5. , 4. , 6.5, 6. , 7.5, 5. ,\n",
              "       4.5, 5.5, 6.5, 6.5, 4.5, 6.5, 8.5, 6. , 5.5, 7.5, 7.5, 7. , 5.5,\n",
              "       7.5, 5. , 5.5, 5.5, 5.5, 7. , 4.5, 5.5, 6. , 5. , 4.5, 7.5, 7. ,\n",
              "       5.5, 5.5, 5.5, 6.5, 6. , 7.5, 6.5, 7.5, 6.5, 4. , 4.5, 6.5, 6.5,\n",
              "       4.5, 7. , 5.5, 5.5, 7. , 7. , 6.5, 7.5, 5.5, 6. , 6.5, 6. , 6.5,\n",
              "       5.5, 6.5, 6. , 6. , 5.5, 6.5, 7. , 6. , 6.5, 6.5, 6.5, 4. , 6. ,\n",
              "       5. , 6.5, 4. , 7. , 6. , 5.5, 3.5, 6.5, 3.5, 6.5, 4.5, 6.5, 5.5,\n",
              "       6.5, 7. , 5.5, 5.5, 5.5, 6. , 6.5, 7.5, 5.5, 5.5, 4. , 6. , 6. ,\n",
              "       5.5, 7.5, 5. , 5.5, 6. , 5. , 6.5, 6.5, 4. , 5.5, 6.5, 6. , 7.5,\n",
              "       6. , 6. , 5. , 7.5, 6.5, 6. , 5.5, 5.5, 6.5, 5.5, 4.5, 6. , 6. ,\n",
              "       6.5, 6.5, 7. , 5. , 6. , 6. , 6. , 4.5, 4. , 6. , 5.5, 5.5, 7.5,\n",
              "       6. , 6. , 5.5, 5. , 4.5, 8.5, 5.5, 6.5, 6. , 6. , 5. , 7.5, 4.5,\n",
              "       5.5, 6.5, 5.5, 5. , 5.5, 5.5, 5.5, 6. , 6. , 6. , 6. , 5.5, 6.5,\n",
              "       6.5, 5.5, 7.5, 6.5, 7.5, 5.5, 6. , 7.5, 6.5, 5.5, 6.5, 4.5, 7. ,\n",
              "       5.5, 7.5, 5.5, 7. , 7.5, 6.5, 6.5, 6. , 7. , 6.5, 5.5, 4.5, 6.5,\n",
              "       6. , 5. , 7.5])"
            ]
          },
          "metadata": {
            "tags": []
          },
          "execution_count": 312
        }
      ]
    },
    {
      "cell_type": "code",
      "metadata": {
        "colab": {
          "base_uri": "https://localhost:8080/"
        },
        "id": "0YKwWwvwgcEu",
        "outputId": "03a3b0cb-b6e9-4569-d7e7-05fc6a7e74ca"
      },
      "source": [
        "# print('Model score on x_test', lr_model.score(x_test, y_test))\n",
        "print('MSE: ', mean_squared_error(_predition, y_test))"
      ],
      "execution_count": null,
      "outputs": [
        {
          "output_type": "stream",
          "text": [
            "MSE:  4.746376811594203\n"
          ],
          "name": "stdout"
        }
      ]
    },
    {
      "cell_type": "code",
      "metadata": {
        "id": "5WzganbbnLWu"
      },
      "source": [
        "x_predict = data_to_predict.iloc[:,data_to_predict.columns!='CK']\n",
        "# x_predict = x_predict.drop(['tries','solved/tries', 'solved/submited'], axis = 1)\n",
        "x_std = scaler.transform(x_predict)\n",
        "x_predict_poly = poly.fit_transform(x_std)"
      ],
      "execution_count": null,
      "outputs": []
    },
    {
      "cell_type": "code",
      "metadata": {
        "colab": {
          "base_uri": "https://localhost:8080/",
          "height": 402
        },
        "id": "TXt2kQWOitkP",
        "outputId": "418402db-9426-4c6f-99be-3a49abe94a82"
      },
      "source": [
        "#submit prediction\n",
        "y_predict = lr_model.predict(x_predict_poly)\n",
        "y_predict = y_predict*2.0\n",
        "y_predict = y_predict.astype(int)\n",
        "y_predict = np.round(y_predict/2, decimals=1, out=None)\n",
        "y_predict\n",
        "result = {\n",
        "    \"id\": id_predict,\n",
        "    \"CK\" :y_predict\n",
        "}\n",
        "result_submit = pd.DataFrame(result)\n",
        "result_submit"
      ],
      "execution_count": null,
      "outputs": [
        {
          "output_type": "execute_result",
          "data": {
            "text/html": [
              "<div>\n",
              "<style scoped>\n",
              "    .dataframe tbody tr th:only-of-type {\n",
              "        vertical-align: middle;\n",
              "    }\n",
              "\n",
              "    .dataframe tbody tr th {\n",
              "        vertical-align: top;\n",
              "    }\n",
              "\n",
              "    .dataframe thead th {\n",
              "        text-align: right;\n",
              "    }\n",
              "</style>\n",
              "<table border=\"1\" class=\"dataframe\">\n",
              "  <thead>\n",
              "    <tr style=\"text-align: right;\">\n",
              "      <th></th>\n",
              "      <th>id</th>\n",
              "      <th>CK</th>\n",
              "    </tr>\n",
              "  </thead>\n",
              "  <tbody>\n",
              "    <tr>\n",
              "      <th>0</th>\n",
              "      <td>1</td>\n",
              "      <td>5.0</td>\n",
              "    </tr>\n",
              "    <tr>\n",
              "      <th>1</th>\n",
              "      <td>4</td>\n",
              "      <td>4.5</td>\n",
              "    </tr>\n",
              "    <tr>\n",
              "      <th>2</th>\n",
              "      <td>5</td>\n",
              "      <td>5.0</td>\n",
              "    </tr>\n",
              "    <tr>\n",
              "      <th>3</th>\n",
              "      <td>6</td>\n",
              "      <td>5.0</td>\n",
              "    </tr>\n",
              "    <tr>\n",
              "      <th>4</th>\n",
              "      <td>7</td>\n",
              "      <td>5.5</td>\n",
              "    </tr>\n",
              "    <tr>\n",
              "      <th>...</th>\n",
              "      <td>...</td>\n",
              "      <td>...</td>\n",
              "    </tr>\n",
              "    <tr>\n",
              "      <th>355</th>\n",
              "      <td>1852</td>\n",
              "      <td>5.5</td>\n",
              "    </tr>\n",
              "    <tr>\n",
              "      <th>356</th>\n",
              "      <td>1855</td>\n",
              "      <td>6.0</td>\n",
              "    </tr>\n",
              "    <tr>\n",
              "      <th>357</th>\n",
              "      <td>1860</td>\n",
              "      <td>5.0</td>\n",
              "    </tr>\n",
              "    <tr>\n",
              "      <th>358</th>\n",
              "      <td>1864</td>\n",
              "      <td>7.5</td>\n",
              "    </tr>\n",
              "    <tr>\n",
              "      <th>359</th>\n",
              "      <td>1868</td>\n",
              "      <td>5.5</td>\n",
              "    </tr>\n",
              "  </tbody>\n",
              "</table>\n",
              "<p>360 rows × 2 columns</p>\n",
              "</div>"
            ],
            "text/plain": [
              "       id   CK\n",
              "0       1  5.0\n",
              "1       4  4.5\n",
              "2       5  5.0\n",
              "3       6  5.0\n",
              "4       7  5.5\n",
              "..    ...  ...\n",
              "355  1852  5.5\n",
              "356  1855  6.0\n",
              "357  1860  5.0\n",
              "358  1864  7.5\n",
              "359  1868  5.5\n",
              "\n",
              "[360 rows x 2 columns]"
            ]
          },
          "metadata": {
            "tags": []
          },
          "execution_count": 296
        }
      ]
    }
  ]
}