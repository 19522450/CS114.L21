{
  "nbformat": 4,
  "nbformat_minor": 0,
  "metadata": {
    "colab": {
      "name": "PREDICT_FINAL_SCORE_OF_IT001.ipynb",
      "provenance": [],
      "collapsed_sections": [],
      "include_colab_link": true
    },
    "kernelspec": {
      "name": "python3",
      "display_name": "Python 3"
    },
    "language_info": {
      "name": "python"
    }
  },
  "cells": [
    {
      "cell_type": "markdown",
      "metadata": {
        "id": "view-in-github",
        "colab_type": "text"
      },
      "source": [
        "<a href=\"https://colab.research.google.com/github/lphuong304/CS114.L21/blob/main/COLAB_ASSIGNMENTS/COLAB_ASSIGNMENT_17_05/PREDICT_FINAL_SCORE_OF_IT001.ipynb\" target=\"_parent\"><img src=\"https://colab.research.google.com/assets/colab-badge.svg\" alt=\"Open In Colab\"/></a>"
      ]
    },
    {
      "cell_type": "markdown",
      "metadata": {
        "id": "2MODcGZLfyX2"
      },
      "source": [
        "<h1 align=\"center\"><b>BÀI TẬP COLAB SỐ 03 - 17/05/2021</b></h1>\n",
        "<h1 align=\"center\"><b>PREDICT FINAL SCORE OF IT001</b></h1>\n",
        "\n",
        "---\n",
        "\n",
        "###LỚP: CS114.L21\n",
        "###NHÓM:\n",
        "1. Nguyễn Ngọc Lan Phương - *19520227*\n",
        "2. Hoàng Anh Tú - *19522450*\n",
        "3. Nguyễn Quốc Huy - *19521623*\n",
        "\n",
        "Nguồn tham khảo:\n",
        "* [Regularizing Linear Regression Models](https://blog.quantinsti.com/linear-regression-models-scikit-learn/)\n",
        "* [PolyminalFeatures](https://scikit-learn.org/stable/modules/generated/sklearn.preprocessing.PolynomialFeatures.html)\n",
        "\n",
        "\n",
        "\n",
        "Link data:\n",
        "* Data wecode: [link](https://raw.githubusercontent.com/lphuong304/CS114.L21/main/COLAB_ASSIGNMENTS/data%20IT001/wecode.csv)\n",
        "* Data score: [link](https://raw.githubusercontent.com/lphuong304/CS114.L21/main/COLAB_ASSIGNMENTS/data%20IT001/wecode.csv)\n",
        "\n",
        "\n",
        "References:\n",
        "1. [Import Packages and Discovery and Visualize Data](#part1)\n",
        "2. [Pre-processing Data and Show the Correlation of the features](#process)\n",
        "3. [Traning Model and Testing](#model)\n",
        "4. [Nhận xét](#nhanxet)\n"
      ]
    },
    {
      "cell_type": "markdown",
      "metadata": {
        "id": "d22FG8lvg3xN"
      },
      "source": [
        "#1. Import Packages Import Package and Discovery and Visualize Data\n",
        "<a name = 'part1'></a>"
      ]
    },
    {
      "cell_type": "markdown",
      "metadata": {
        "id": "DVa8BGethFDA"
      },
      "source": [
        "## 1.1 Import Packages"
      ]
    },
    {
      "cell_type": "code",
      "metadata": {
        "id": "cUiesj-_aeMp"
      },
      "source": [
        "import numpy as np\n",
        "import pandas as pd\n",
        "import seaborn as sns\n",
        "import matplotlib.pyplot as plt\n",
        "from sklearn import svm, metrics\n",
        "from sklearn.linear_model import LinearRegression, Ridge, Lasso, ElasticNet\n",
        "from sklearn.preprocessing import StandardScaler, MinMaxScaler\n",
        "from sklearn.preprocessing import PolynomialFeatures\n",
        "from sklearn.model_selection import train_test_split, KFold, cross_val_predict\n",
        "from sklearn.ensemble import RandomForestRegressor\n",
        "from sklearn.metrics import  accuracy_score, mean_squared_error\n",
        "import warnings\n",
        "warnings.filterwarnings('ignore')\n",
        "from imblearn.over_sampling import SMOTE, BorderlineSMOTE, SVMSMOTE, ADASYN"
      ],
      "execution_count": 1,
      "outputs": []
    },
    {
      "cell_type": "markdown",
      "metadata": {
        "id": "fPgq86vmhMOC"
      },
      "source": [
        "## 1.2 Data Discovery"
      ]
    },
    {
      "cell_type": "code",
      "metadata": {
        "id": "xzQsQNCjbCBr"
      },
      "source": [
        "data_score = pd.read_csv('https://raw.githubusercontent.com/lphuong304/CS114.L21/main/COLAB_ASSIGNMENTS/data%20IT001/score_training.csv')\n",
        "data = pd.read_csv('https://raw.githubusercontent.com/lphuong304/CS114.L21/main/COLAB_ASSIGNMENTS/data%20IT001/wecode.csv')"
      ],
      "execution_count": 2,
      "outputs": []
    },
    {
      "cell_type": "code",
      "metadata": {
        "id": "fRNVPVRbbD9t",
        "colab": {
          "base_uri": "https://localhost:8080/",
          "height": 203
        },
        "outputId": "0f19a769-4449-43ac-a8ec-1373a4b658c2"
      },
      "source": [
        "data.head(5)"
      ],
      "execution_count": 3,
      "outputs": [
        {
          "output_type": "execute_result",
          "data": {
            "text/html": [
              "<div>\n",
              "<style scoped>\n",
              "    .dataframe tbody tr th:only-of-type {\n",
              "        vertical-align: middle;\n",
              "    }\n",
              "\n",
              "    .dataframe tbody tr th {\n",
              "        vertical-align: top;\n",
              "    }\n",
              "\n",
              "    .dataframe thead th {\n",
              "        text-align: right;\n",
              "    }\n",
              "</style>\n",
              "<table border=\"1\" class=\"dataframe\">\n",
              "  <thead>\n",
              "    <tr style=\"text-align: right;\">\n",
              "      <th></th>\n",
              "      <th>id</th>\n",
              "      <th>assignment_id</th>\n",
              "      <th>problem_id</th>\n",
              "      <th>user_id</th>\n",
              "      <th>is_final</th>\n",
              "      <th>status</th>\n",
              "      <th>pre_score</th>\n",
              "      <th>coefficient</th>\n",
              "      <th>file_name</th>\n",
              "      <th>language_id</th>\n",
              "      <th>created_at</th>\n",
              "      <th>updated_at</th>\n",
              "    </tr>\n",
              "  </thead>\n",
              "  <tbody>\n",
              "    <tr>\n",
              "      <th>0</th>\n",
              "      <td>4</td>\n",
              "      <td>0</td>\n",
              "      <td>3</td>\n",
              "      <td>4</td>\n",
              "      <td>1</td>\n",
              "      <td>SCORE</td>\n",
              "      <td>10000</td>\n",
              "      <td>100</td>\n",
              "      <td>solution-0</td>\n",
              "      <td>2</td>\n",
              "      <td>2020-10-30 10:58:11</td>\n",
              "      <td>2020-10-30 10:58:19</td>\n",
              "    </tr>\n",
              "    <tr>\n",
              "      <th>1</th>\n",
              "      <td>5</td>\n",
              "      <td>0</td>\n",
              "      <td>4</td>\n",
              "      <td>4</td>\n",
              "      <td>1</td>\n",
              "      <td>SCORE</td>\n",
              "      <td>10000</td>\n",
              "      <td>100</td>\n",
              "      <td>solution-1</td>\n",
              "      <td>2</td>\n",
              "      <td>2020-10-30 11:07:09</td>\n",
              "      <td>2020-10-30 11:07:17</td>\n",
              "    </tr>\n",
              "    <tr>\n",
              "      <th>2</th>\n",
              "      <td>6</td>\n",
              "      <td>0</td>\n",
              "      <td>5</td>\n",
              "      <td>4</td>\n",
              "      <td>0</td>\n",
              "      <td>Compilation Error</td>\n",
              "      <td>0</td>\n",
              "      <td>100</td>\n",
              "      <td>solution-2</td>\n",
              "      <td>2</td>\n",
              "      <td>2020-10-30 11:08:01</td>\n",
              "      <td>2020-10-30 11:23:36</td>\n",
              "    </tr>\n",
              "    <tr>\n",
              "      <th>3</th>\n",
              "      <td>7</td>\n",
              "      <td>0</td>\n",
              "      <td>5</td>\n",
              "      <td>4</td>\n",
              "      <td>0</td>\n",
              "      <td>Compilation Error</td>\n",
              "      <td>0</td>\n",
              "      <td>100</td>\n",
              "      <td>solution-3</td>\n",
              "      <td>2</td>\n",
              "      <td>2020-10-30 11:11:41</td>\n",
              "      <td>2020-10-30 11:11:42</td>\n",
              "    </tr>\n",
              "    <tr>\n",
              "      <th>4</th>\n",
              "      <td>8</td>\n",
              "      <td>0</td>\n",
              "      <td>5</td>\n",
              "      <td>4</td>\n",
              "      <td>0</td>\n",
              "      <td>Compilation Error</td>\n",
              "      <td>0</td>\n",
              "      <td>100</td>\n",
              "      <td>solution-4</td>\n",
              "      <td>2</td>\n",
              "      <td>2020-10-30 11:15:06</td>\n",
              "      <td>2020-10-30 11:15:07</td>\n",
              "    </tr>\n",
              "  </tbody>\n",
              "</table>\n",
              "</div>"
            ],
            "text/plain": [
              "   id  assignment_id  ...           created_at           updated_at\n",
              "0   4              0  ...  2020-10-30 10:58:11  2020-10-30 10:58:19\n",
              "1   5              0  ...  2020-10-30 11:07:09  2020-10-30 11:07:17\n",
              "2   6              0  ...  2020-10-30 11:08:01  2020-10-30 11:23:36\n",
              "3   7              0  ...  2020-10-30 11:11:41  2020-10-30 11:11:42\n",
              "4   8              0  ...  2020-10-30 11:15:06  2020-10-30 11:15:07\n",
              "\n",
              "[5 rows x 12 columns]"
            ]
          },
          "metadata": {
            "tags": []
          },
          "execution_count": 3
        }
      ]
    },
    {
      "cell_type": "code",
      "metadata": {
        "id": "bgYFgOvCbLHN",
        "colab": {
          "base_uri": "https://localhost:8080/"
        },
        "outputId": "395743eb-00f2-43fe-d03b-d069bf45f11d"
      },
      "source": [
        "data.info()"
      ],
      "execution_count": 4,
      "outputs": [
        {
          "output_type": "stream",
          "text": [
            "<class 'pandas.core.frame.DataFrame'>\n",
            "RangeIndex: 264606 entries, 0 to 264605\n",
            "Data columns (total 12 columns):\n",
            " #   Column         Non-Null Count   Dtype \n",
            "---  ------         --------------   ----- \n",
            " 0   id             264606 non-null  int64 \n",
            " 1   assignment_id  264606 non-null  int64 \n",
            " 2   problem_id     264606 non-null  int64 \n",
            " 3   user_id        264606 non-null  int64 \n",
            " 4   is_final       264606 non-null  int64 \n",
            " 5   status         264605 non-null  object\n",
            " 6   pre_score      264606 non-null  int64 \n",
            " 7   coefficient    264606 non-null  object\n",
            " 8   file_name      264606 non-null  object\n",
            " 9   language_id    264606 non-null  int64 \n",
            " 10  created_at     264606 non-null  object\n",
            " 11  updated_at     264606 non-null  object\n",
            "dtypes: int64(7), object(5)\n",
            "memory usage: 24.2+ MB\n"
          ],
          "name": "stdout"
        }
      ]
    },
    {
      "cell_type": "code",
      "metadata": {
        "id": "7M4CgXP2bSZ6"
      },
      "source": [
        "#tries - tổng số lần nộp của mỗi user_id, tính luôn đã submit và chưa submit, cả những lần nộp bài full điểm cà chưa full điểm\n",
        "raw = pd.DataFrame({'tries' : data['user_id'].value_counts()})\n",
        "raw = raw.sort_index()"
      ],
      "execution_count": 5,
      "outputs": []
    },
    {
      "cell_type": "code",
      "metadata": {
        "id": "xSzVtAAUcA_S"
      },
      "source": [
        "# solved - số problem đã giải được của mỗi user_id => is_final = 1 và pre-score = 10000\n",
        "user_isfinal_score = data[['user_id', 'is_final', 'pre_score']]\n",
        "\n",
        "solvedData = user_isfinal_score[(user_isfinal_score['is_final'] > 0) & (user_isfinal_score['pre_score'] == 10000)].groupby('user_id').sum()\n",
        "\n",
        "solvedData.drop('pre_score', axis=1, inplace=True)\n",
        "solvedData.rename(columns={'is_final':'solved'}, inplace=True)\n",
        "\n",
        "raw = pd.concat([raw, solvedData], axis=1)\n",
        "raw = raw.fillna(0.0)\n"
      ],
      "execution_count": 6,
      "outputs": []
    },
    {
      "cell_type": "code",
      "metadata": {
        "id": "4hM0B5nsVyGT"
      },
      "source": [
        "#num_problemSumbited - tổng số problem đã sumbit cuối cùng của mỗi user_id trên tổng số lần thử, những bài submit có thể full điểm và không full điểm\n",
        "\n",
        "# array of user_id\n",
        "list_userID = data['user_id'].tolist()\n",
        "listStr_userID = data['user_id'].astype(str).tolist()\n",
        "\n",
        "# array of assignment_id\n",
        "list_assignmentID = data['assignment_id'].astype(str).tolist()\n",
        "\n",
        "# array of problem_id\n",
        "list_problemID = data['problem_id'].astype(str).tolist()\n",
        "list_problemID\n",
        "# connect user-assignment-problem\n",
        "for i in range(len(list_assignmentID)):\n",
        "  list_assignmentID[i] = listStr_userID[i] + ' ' + list_assignmentID[i] + ' ' + list_problemID[i]\n",
        "\n",
        "list_assignmentID\n",
        "dictData = {'user_id': list_userID,\n",
        "        'num_problemSubmitted': list_assignmentID}\n",
        "\n",
        "num_problemSumbitedDF = pd.DataFrame(dictData).set_index('user_id')\n",
        "num_problemSumbitedDF\n",
        "num_problemSumbitedDF = num_problemSumbitedDF.groupby('user_id').nunique()\n",
        "\n",
        "raw = pd.concat([raw, num_problemSumbitedDF], axis=1)\n"
      ],
      "execution_count": 7,
      "outputs": []
    },
    {
      "cell_type": "code",
      "metadata": {
        "colab": {
          "base_uri": "https://localhost:8080/",
          "height": 417
        },
        "id": "oOWZx4v20HBL",
        "outputId": "81312be6-231d-4243-fe4a-032d90671b55"
      },
      "source": [
        "#tổng điểm các bài được cuối cùng của mỗi user\n",
        "user_isfinal_score = data[['user_id', 'is_final', 'pre_score']]\n",
        "\n",
        "trueScore = user_isfinal_score[user_isfinal_score['is_final'] > 0].groupby('user_id').sum()\n",
        "trueScore = trueScore.drop('is_final', axis=1)\n",
        "trueScore.rename(columns={'pre_score':'total_FinalScore'}, inplace=True)\n",
        "\n",
        "raw = pd.concat([raw, trueScore], axis=1)\n",
        "raw"
      ],
      "execution_count": 8,
      "outputs": [
        {
          "output_type": "execute_result",
          "data": {
            "text/html": [
              "<div>\n",
              "<style scoped>\n",
              "    .dataframe tbody tr th:only-of-type {\n",
              "        vertical-align: middle;\n",
              "    }\n",
              "\n",
              "    .dataframe tbody tr th {\n",
              "        vertical-align: top;\n",
              "    }\n",
              "\n",
              "    .dataframe thead th {\n",
              "        text-align: right;\n",
              "    }\n",
              "</style>\n",
              "<table border=\"1\" class=\"dataframe\">\n",
              "  <thead>\n",
              "    <tr style=\"text-align: right;\">\n",
              "      <th></th>\n",
              "      <th>tries</th>\n",
              "      <th>solved</th>\n",
              "      <th>num_problemSubmitted</th>\n",
              "      <th>total_FinalScore</th>\n",
              "    </tr>\n",
              "  </thead>\n",
              "  <tbody>\n",
              "    <tr>\n",
              "      <th>1</th>\n",
              "      <td>2</td>\n",
              "      <td>1.0</td>\n",
              "      <td>2</td>\n",
              "      <td>10000.0</td>\n",
              "    </tr>\n",
              "    <tr>\n",
              "      <th>4</th>\n",
              "      <td>54</td>\n",
              "      <td>37.0</td>\n",
              "      <td>41</td>\n",
              "      <td>370000.0</td>\n",
              "    </tr>\n",
              "    <tr>\n",
              "      <th>5</th>\n",
              "      <td>6</td>\n",
              "      <td>3.0</td>\n",
              "      <td>5</td>\n",
              "      <td>30000.0</td>\n",
              "    </tr>\n",
              "    <tr>\n",
              "      <th>6</th>\n",
              "      <td>130</td>\n",
              "      <td>85.0</td>\n",
              "      <td>89</td>\n",
              "      <td>850000.0</td>\n",
              "    </tr>\n",
              "    <tr>\n",
              "      <th>7</th>\n",
              "      <td>5</td>\n",
              "      <td>0.0</td>\n",
              "      <td>2</td>\n",
              "      <td>9209.0</td>\n",
              "    </tr>\n",
              "    <tr>\n",
              "      <th>...</th>\n",
              "      <td>...</td>\n",
              "      <td>...</td>\n",
              "      <td>...</td>\n",
              "      <td>...</td>\n",
              "    </tr>\n",
              "    <tr>\n",
              "      <th>1860</th>\n",
              "      <td>76</td>\n",
              "      <td>28.0</td>\n",
              "      <td>48</td>\n",
              "      <td>329665.0</td>\n",
              "    </tr>\n",
              "    <tr>\n",
              "      <th>1862</th>\n",
              "      <td>12</td>\n",
              "      <td>4.0</td>\n",
              "      <td>6</td>\n",
              "      <td>40000.0</td>\n",
              "    </tr>\n",
              "    <tr>\n",
              "      <th>1864</th>\n",
              "      <td>187</td>\n",
              "      <td>28.0</td>\n",
              "      <td>63</td>\n",
              "      <td>439741.0</td>\n",
              "    </tr>\n",
              "    <tr>\n",
              "      <th>1865</th>\n",
              "      <td>99</td>\n",
              "      <td>10.0</td>\n",
              "      <td>17</td>\n",
              "      <td>116428.0</td>\n",
              "    </tr>\n",
              "    <tr>\n",
              "      <th>1868</th>\n",
              "      <td>47</td>\n",
              "      <td>27.0</td>\n",
              "      <td>28</td>\n",
              "      <td>270000.0</td>\n",
              "    </tr>\n",
              "  </tbody>\n",
              "</table>\n",
              "<p>1159 rows × 4 columns</p>\n",
              "</div>"
            ],
            "text/plain": [
              "      tries  solved  num_problemSubmitted  total_FinalScore\n",
              "1         2     1.0                     2           10000.0\n",
              "4        54    37.0                    41          370000.0\n",
              "5         6     3.0                     5           30000.0\n",
              "6       130    85.0                    89          850000.0\n",
              "7         5     0.0                     2            9209.0\n",
              "...     ...     ...                   ...               ...\n",
              "1860     76    28.0                    48          329665.0\n",
              "1862     12     4.0                     6           40000.0\n",
              "1864    187    28.0                    63          439741.0\n",
              "1865     99    10.0                    17          116428.0\n",
              "1868     47    27.0                    28          270000.0\n",
              "\n",
              "[1159 rows x 4 columns]"
            ]
          },
          "metadata": {
            "tags": []
          },
          "execution_count": 8
        }
      ]
    },
    {
      "cell_type": "markdown",
      "metadata": {
        "id": "ZSWDjfUT6loI"
      },
      "source": [
        "Giải thích ý nghĩa các features:\n",
        "* Tries: số lần mà user_id xuất hiện trên data, đồng nghĩa là tổng số lần thử giải các problem (tính luôn cả chưa submit, submit và AC, submit và không AC)\n",
        "* Solved: là số các problem được submit (is_final = 1, pre-score = 10000) của mỗi user_id đã được AC\n",
        "* Submitted: số lần user_id submit các problem (tính luôn cả những bài submit AC và chưa AC)\n",
        "* total_FinalScore: tổng điểm pre-score của user_id, tính luôn cả những bài đã AC và chưa AC.\n",
        "\n",
        "=>Từ các features các bạn gợi ý trên ms team và kinh nghiệm học môn NMLT - IT001 chúng em nhận thấy các features trên sẽ có khả năng cao phản ánh được năng lực của học sinh chính xác hơn các features khác, từ đó dự đoán điểm CK của các user_id."
      ]
    },
    {
      "cell_type": "code",
      "metadata": {
        "id": "yV4hWYWEZPN1"
      },
      "source": [
        "data_score['CK'] = pd.to_numeric(data_score['CK'], errors='coerce')\n",
        "raw_ck = data_score['CK']"
      ],
      "execution_count": 9,
      "outputs": []
    },
    {
      "cell_type": "markdown",
      "metadata": {
        "id": "uTI3eBDphRwV"
      },
      "source": [
        "## 1.3 Data Visualization"
      ]
    },
    {
      "cell_type": "code",
      "metadata": {
        "id": "14OjOtSfUWLU",
        "colab": {
          "base_uri": "https://localhost:8080/",
          "height": 1000
        },
        "outputId": "78037071-b2e0-449c-fdb0-6272a6f470bc"
      },
      "source": [
        "fig= plt.figure(figsize = (20,21))\n",
        "gs = fig.add_gridspec(5,5)\n",
        "gs.update(wspace=0.4, hspace=0.4)\n",
        "\n",
        "ax0 = fig.add_subplot(gs[0,0])\n",
        "ax1 = fig.add_subplot(gs[0,1])\n",
        "ax2 = fig.add_subplot(gs[1,0])\n",
        "ax3 = fig.add_subplot(gs[1,1])\n",
        "ax4 = fig.add_subplot(gs[2,0])\n",
        "ax5 = fig.add_subplot(gs[2,1])\n",
        "ax6 = fig.add_subplot(gs[3,0])\n",
        "ax7 = fig.add_subplot(gs[3,1])\n",
        "ax8 = fig.add_subplot(gs[4,0])\n",
        "ax9 = fig.add_subplot(gs[4,1])\n",
        "axes=[ax0,ax1,ax2,ax3,ax4,ax5, ax6, ax7, ax8, ax9]\n",
        "background_color = '#f6f5f7'\n",
        "\n",
        "for i in axes:\n",
        "    i.set_facecolor(background_color)\n",
        "fig.patch.set_facecolor(background_color) \n",
        "sns.kdeplot(ax = ax0, data=raw['tries'],shade=True,palette='rocket', label = 'tries') # Distributions\n",
        "ax0.grid(linestyle='--', axis='y')\n",
        "ax1.text(0.5,0.5,'Distribution of Tries',horizontalalignment = 'center',verticalalignment = 'center',fontsize = 18,fontfamily='serif')\n",
        "\n",
        "fig.patch.set_facecolor(background_color) \n",
        "sns.kdeplot(ax= ax2, data=raw['solved'],shade=True,palette='rocket', label = 'solved') # Distributions\n",
        "ax2.grid(linestyle='--', axis='y')\n",
        "ax3.text(0.5,0.5,'Distribution of Solved',horizontalalignment = 'center',verticalalignment = 'center',fontsize = 18,fontfamily='serif')\n",
        "\n",
        "fig.patch.set_facecolor(background_color) \n",
        "sns.kdeplot(ax = ax4, data=raw['num_problemSubmitted'],shade=True,palette='rocket', label = 'num_problemSubmitted') # Distributions\n",
        "ax4.grid(linestyle='--', axis='y')\n",
        "ax5.text(0.5,0.5,'Distribution of num_problemSubmitted',horizontalalignment = 'center',verticalalignment = 'center',fontsize = 18,fontfamily='serif')\n",
        "\n",
        "fig.patch.set_facecolor(background_color) \n",
        "sns.kdeplot(ax= ax6, data= raw['total_FinalScore'],shade=True,palette='rocket', label = 'total_FinalScore') # Distributions\n",
        "ax6.grid(linestyle='--', axis='y')\n",
        "ax7.text(0.5,0.5,'Distribution of total_FinalScore',horizontalalignment = 'center',verticalalignment = 'center',fontsize = 18,fontfamily='serif')\n",
        "\n",
        "fig.patch.set_facecolor(background_color) \n",
        "sns.kdeplot(ax= ax8, data = raw_ck,shade=True,palette='rocket', label = 'CK_Score') # Distributions\n",
        "ax8.grid(linestyle='--', axis='y')\n",
        "ax9.text(0.5,0.5,'Distribution of CK_Score',horizontalalignment = 'center',verticalalignment = 'center',fontsize = 18,fontfamily='serif')\n",
        "\n",
        "\n",
        "\n",
        "axes1=[ax1,ax3,ax5,ax7,ax9]\n",
        "for i in axes1:\n",
        "    i.spines[\"bottom\"].set_visible(False)\n",
        "    i.spines[\"left\"].set_visible(False)\n",
        "    i.set_xlabel(\"\")\n",
        "    i.set_ylabel(\"\")\n",
        "    i.set_xticklabels([])\n",
        "    i.set_yticklabels([])\n",
        "    i.tick_params(left=False, bottom=False)\n",
        "# removing spines of figures\n",
        "for i in [\"top\",\"left\",\"right\"]:\n",
        "    ax0.spines[i].set_visible(False)\n",
        "    ax1.spines[i].set_visible(False)\n",
        "    ax2.spines[i].set_visible(False)\n",
        "    ax3.spines[i].set_visible(False)\n",
        "    ax4.spines[i].set_visible(False)\n",
        "    ax5.spines[i].set_visible(False)\n",
        "    ax6.spines[i].set_visible(False)\n",
        "    ax7.spines[i].set_visible(False)\n",
        "    ax8.spines[i].set_visible(False)\n",
        "    ax9.spines[i].set_visible(False)"
      ],
      "execution_count": 10,
      "outputs": [
        {
          "output_type": "display_data",
          "data": {
            "image/png": "[encoded data removed]",
            "text/plain": [
              "<Figure size 1440x1512 with 10 Axes>"
            ]
          },
          "metadata": {
            "tags": []
          }
        }
      ]
    },
    {
      "cell_type": "code",
      "metadata": {
        "colab": {
          "base_uri": "https://localhost:8080/",
          "height": 351
        },
        "id": "_daNRT5EdbiO",
        "outputId": "95627068-8389-4a75-ea69-b1dccc105167"
      },
      "source": [
        "fig=plt.figure(figsize=(20,23))\n",
        "background_color = '#f6f5f7'\n",
        "fig.patch.set_facecolor(background_color) \n",
        "data_categorical = pd.concat([data['is_final'], data['status']], axis=1)\n",
        "for indx,val in enumerate(data_categorical.columns):\n",
        "    ax=plt.subplot(4,2,indx+1)\n",
        "    ax.set_facecolor(background_color)\n",
        "    ax.set_title(val,fontweight='bold',fontfamily='serif')\n",
        "    for i in ['top','right']:\n",
        "        ax.spines[i].set_visible(False)\n",
        "    ax.grid(linestyle=':',axis='y')\n",
        "    sns.countplot(data_categorical[val],palette='rocket')"
      ],
      "execution_count": 11,
      "outputs": [
        {
          "output_type": "display_data",
          "data": {
            "image/png": "[encoded data removed]",
            "text/plain": [
              "<Figure size 1440x1656 with 2 Axes>"
            ]
          },
          "metadata": {
            "tags": []
          }
        }
      ]
    },
    {
      "cell_type": "markdown",
      "metadata": {
        "id": "9WyYkdFRCEzp"
      },
      "source": [
        "Nhận xét dữ liệu:\n",
        "* Điểm CK có sự phân bố không đồng đều, điểm từ khoảng 5 - 8 chiếm tỉ lệ nhiều nhất, chúng em dự đoán có thể nếu sử dụng data như trên thì model sẽ không dự đoán tốt các học sinh có khung điểm từ  9 - 10, nên cân nhắc sẽ bổ sung data sau bằng phương pháp over-sampling.\n",
        "* Chỉ số Tries  trong khoảng từ 10 đến 300 là nhiều nhất, trong khi các problems được giải AC - solved phân phối nhiều trong khoảng từ 50 đến 150, xấp xỉ 1 nửa so với tries. Song song đó số bài hoàn thành bao gồm cả những bài không được AC - submitted thì có phân phối cao nhất trong khoảng từ 20 - 150\n",
        "* finalScore phân bố nhiều trong khoảng từ 5e5 đến 2e6. "
      ]
    },
    {
      "cell_type": "code",
      "metadata": {
        "id": "6_Cza2XY41aQ",
        "colab": {
          "base_uri": "https://localhost:8080/",
          "height": 417
        },
        "outputId": "8bd46742-ac18-4fbe-9492-630b31c1fde9"
      },
      "source": [
        "# set type of element\n",
        "raw = raw.astype(float)\n",
        "raw"
      ],
      "execution_count": 12,
      "outputs": [
        {
          "output_type": "execute_result",
          "data": {
            "text/html": [
              "<div>\n",
              "<style scoped>\n",
              "    .dataframe tbody tr th:only-of-type {\n",
              "        vertical-align: middle;\n",
              "    }\n",
              "\n",
              "    .dataframe tbody tr th {\n",
              "        vertical-align: top;\n",
              "    }\n",
              "\n",
              "    .dataframe thead th {\n",
              "        text-align: right;\n",
              "    }\n",
              "</style>\n",
              "<table border=\"1\" class=\"dataframe\">\n",
              "  <thead>\n",
              "    <tr style=\"text-align: right;\">\n",
              "      <th></th>\n",
              "      <th>tries</th>\n",
              "      <th>solved</th>\n",
              "      <th>num_problemSubmitted</th>\n",
              "      <th>total_FinalScore</th>\n",
              "    </tr>\n",
              "  </thead>\n",
              "  <tbody>\n",
              "    <tr>\n",
              "      <th>1</th>\n",
              "      <td>2.0</td>\n",
              "      <td>1.0</td>\n",
              "      <td>2.0</td>\n",
              "      <td>10000.0</td>\n",
              "    </tr>\n",
              "    <tr>\n",
              "      <th>4</th>\n",
              "      <td>54.0</td>\n",
              "      <td>37.0</td>\n",
              "      <td>41.0</td>\n",
              "      <td>370000.0</td>\n",
              "    </tr>\n",
              "    <tr>\n",
              "      <th>5</th>\n",
              "      <td>6.0</td>\n",
              "      <td>3.0</td>\n",
              "      <td>5.0</td>\n",
              "      <td>30000.0</td>\n",
              "    </tr>\n",
              "    <tr>\n",
              "      <th>6</th>\n",
              "      <td>130.0</td>\n",
              "      <td>85.0</td>\n",
              "      <td>89.0</td>\n",
              "      <td>850000.0</td>\n",
              "    </tr>\n",
              "    <tr>\n",
              "      <th>7</th>\n",
              "      <td>5.0</td>\n",
              "      <td>0.0</td>\n",
              "      <td>2.0</td>\n",
              "      <td>9209.0</td>\n",
              "    </tr>\n",
              "    <tr>\n",
              "      <th>...</th>\n",
              "      <td>...</td>\n",
              "      <td>...</td>\n",
              "      <td>...</td>\n",
              "      <td>...</td>\n",
              "    </tr>\n",
              "    <tr>\n",
              "      <th>1860</th>\n",
              "      <td>76.0</td>\n",
              "      <td>28.0</td>\n",
              "      <td>48.0</td>\n",
              "      <td>329665.0</td>\n",
              "    </tr>\n",
              "    <tr>\n",
              "      <th>1862</th>\n",
              "      <td>12.0</td>\n",
              "      <td>4.0</td>\n",
              "      <td>6.0</td>\n",
              "      <td>40000.0</td>\n",
              "    </tr>\n",
              "    <tr>\n",
              "      <th>1864</th>\n",
              "      <td>187.0</td>\n",
              "      <td>28.0</td>\n",
              "      <td>63.0</td>\n",
              "      <td>439741.0</td>\n",
              "    </tr>\n",
              "    <tr>\n",
              "      <th>1865</th>\n",
              "      <td>99.0</td>\n",
              "      <td>10.0</td>\n",
              "      <td>17.0</td>\n",
              "      <td>116428.0</td>\n",
              "    </tr>\n",
              "    <tr>\n",
              "      <th>1868</th>\n",
              "      <td>47.0</td>\n",
              "      <td>27.0</td>\n",
              "      <td>28.0</td>\n",
              "      <td>270000.0</td>\n",
              "    </tr>\n",
              "  </tbody>\n",
              "</table>\n",
              "<p>1159 rows × 4 columns</p>\n",
              "</div>"
            ],
            "text/plain": [
              "      tries  solved  num_problemSubmitted  total_FinalScore\n",
              "1       2.0     1.0                   2.0           10000.0\n",
              "4      54.0    37.0                  41.0          370000.0\n",
              "5       6.0     3.0                   5.0           30000.0\n",
              "6     130.0    85.0                  89.0          850000.0\n",
              "7       5.0     0.0                   2.0            9209.0\n",
              "...     ...     ...                   ...               ...\n",
              "1860   76.0    28.0                  48.0          329665.0\n",
              "1862   12.0     4.0                   6.0           40000.0\n",
              "1864  187.0    28.0                  63.0          439741.0\n",
              "1865   99.0    10.0                  17.0          116428.0\n",
              "1868   47.0    27.0                  28.0          270000.0\n",
              "\n",
              "[1159 rows x 4 columns]"
            ]
          },
          "metadata": {
            "tags": []
          },
          "execution_count": 12
        }
      ]
    },
    {
      "cell_type": "markdown",
      "metadata": {
        "id": "lMK0Y4fjhpa9"
      },
      "source": [
        "## 1.4 Create New Dataframe\n",
        "Như đã nói ở trên, sau bước đầu lựa chọn các feature có khả năng dự đoán năng lực của một sinh viên để dự đoán điểm CK, chúng em sẽ tạo một DataFrame hoàn toàn mới chứa các feature trên dựa vào data wecode ban đầu."
      ]
    },
    {
      "cell_type": "code",
      "metadata": {
        "id": "r4ySNSbi3FXk"
      },
      "source": [
        "#@title\n",
        "#cell này Phưn hông có chạy\n",
        "index = raw.index.tolist()\n",
        "list_tries = raw['tries'].tolist()\n",
        "list_solved = raw['solved'].tolist()\n",
        "list_numProblemSumbited = raw['num_problemSubmitted'].values.tolist()\n",
        "\n",
        "list_numProblemSumbited,list_solved\n",
        "#Tổng pre_score của các submssion có is_final = 1\n",
        "list_totalFinalScore = raw['total_FinalScore'].tolist()\n",
        "\n",
        "# Tổng số problem đã solved (is_final = 1 && pre_score=10000) / Tổng số problem có submit = solved/submiited\n",
        "solved_per_submitted = []\n",
        "for i in range(len(index)):\n",
        "  solved_per_submitted.append(list_solved[i] / list_numProblemSumbited[i])\n",
        "\n",
        "#Tổng số problem đã solved (is_final = 1 && pre_score=10000) / Tổng số lần thử submit = solved/tries\n",
        "solved_tries = []\n",
        "for i in range(len(index)):\n",
        "  solved_tries.append(list_solved[i] / list_tries[i])\n",
        "# # Tổng số problem đã sumbit / Tổng số submissions ?? #xàm te :)) nó ra 1 mà :))\n",
        "# # probSubmited_totalSubmit = []\n",
        "# # for i in range(len(index)):\n",
        "# #   probSubmited_totalSubmit.append(list_numProblemSumbited[i] / 264606)"
      ],
      "execution_count": 13,
      "outputs": []
    },
    {
      "cell_type": "code",
      "metadata": {
        "id": "o-y0A4AaDZen",
        "colab": {
          "base_uri": "https://localhost:8080/",
          "height": 447
        },
        "outputId": "01ed5498-2faf-467a-effd-37ff9e1d8c86"
      },
      "source": [
        "dict_newData = {'index': index,\n",
        "                    'tries': list_tries,\n",
        "                    'solved': list_solved,\n",
        "                    'submited': list_numProblemSumbited,\n",
        "                    'solved/tries': solved_tries,\n",
        "                    'solved/submited': solved_per_submitted,\n",
        "                    'finalScore': list_totalFinalScore\n",
        "}\n",
        "\n",
        "newDF = pd.DataFrame(dict_newData).set_index('index')\n",
        "newDF"
      ],
      "execution_count": 14,
      "outputs": [
        {
          "output_type": "execute_result",
          "data": {
            "text/html": [
              "<div>\n",
              "<style scoped>\n",
              "    .dataframe tbody tr th:only-of-type {\n",
              "        vertical-align: middle;\n",
              "    }\n",
              "\n",
              "    .dataframe tbody tr th {\n",
              "        vertical-align: top;\n",
              "    }\n",
              "\n",
              "    .dataframe thead th {\n",
              "        text-align: right;\n",
              "    }\n",
              "</style>\n",
              "<table border=\"1\" class=\"dataframe\">\n",
              "  <thead>\n",
              "    <tr style=\"text-align: right;\">\n",
              "      <th></th>\n",
              "      <th>tries</th>\n",
              "      <th>solved</th>\n",
              "      <th>submited</th>\n",
              "      <th>solved/tries</th>\n",
              "      <th>solved/submited</th>\n",
              "      <th>finalScore</th>\n",
              "    </tr>\n",
              "    <tr>\n",
              "      <th>index</th>\n",
              "      <th></th>\n",
              "      <th></th>\n",
              "      <th></th>\n",
              "      <th></th>\n",
              "      <th></th>\n",
              "      <th></th>\n",
              "    </tr>\n",
              "  </thead>\n",
              "  <tbody>\n",
              "    <tr>\n",
              "      <th>1</th>\n",
              "      <td>2.0</td>\n",
              "      <td>1.0</td>\n",
              "      <td>2.0</td>\n",
              "      <td>0.500000</td>\n",
              "      <td>0.500000</td>\n",
              "      <td>10000.0</td>\n",
              "    </tr>\n",
              "    <tr>\n",
              "      <th>4</th>\n",
              "      <td>54.0</td>\n",
              "      <td>37.0</td>\n",
              "      <td>41.0</td>\n",
              "      <td>0.685185</td>\n",
              "      <td>0.902439</td>\n",
              "      <td>370000.0</td>\n",
              "    </tr>\n",
              "    <tr>\n",
              "      <th>5</th>\n",
              "      <td>6.0</td>\n",
              "      <td>3.0</td>\n",
              "      <td>5.0</td>\n",
              "      <td>0.500000</td>\n",
              "      <td>0.600000</td>\n",
              "      <td>30000.0</td>\n",
              "    </tr>\n",
              "    <tr>\n",
              "      <th>6</th>\n",
              "      <td>130.0</td>\n",
              "      <td>85.0</td>\n",
              "      <td>89.0</td>\n",
              "      <td>0.653846</td>\n",
              "      <td>0.955056</td>\n",
              "      <td>850000.0</td>\n",
              "    </tr>\n",
              "    <tr>\n",
              "      <th>7</th>\n",
              "      <td>5.0</td>\n",
              "      <td>0.0</td>\n",
              "      <td>2.0</td>\n",
              "      <td>0.000000</td>\n",
              "      <td>0.000000</td>\n",
              "      <td>9209.0</td>\n",
              "    </tr>\n",
              "    <tr>\n",
              "      <th>...</th>\n",
              "      <td>...</td>\n",
              "      <td>...</td>\n",
              "      <td>...</td>\n",
              "      <td>...</td>\n",
              "      <td>...</td>\n",
              "      <td>...</td>\n",
              "    </tr>\n",
              "    <tr>\n",
              "      <th>1860</th>\n",
              "      <td>76.0</td>\n",
              "      <td>28.0</td>\n",
              "      <td>48.0</td>\n",
              "      <td>0.368421</td>\n",
              "      <td>0.583333</td>\n",
              "      <td>329665.0</td>\n",
              "    </tr>\n",
              "    <tr>\n",
              "      <th>1862</th>\n",
              "      <td>12.0</td>\n",
              "      <td>4.0</td>\n",
              "      <td>6.0</td>\n",
              "      <td>0.333333</td>\n",
              "      <td>0.666667</td>\n",
              "      <td>40000.0</td>\n",
              "    </tr>\n",
              "    <tr>\n",
              "      <th>1864</th>\n",
              "      <td>187.0</td>\n",
              "      <td>28.0</td>\n",
              "      <td>63.0</td>\n",
              "      <td>0.149733</td>\n",
              "      <td>0.444444</td>\n",
              "      <td>439741.0</td>\n",
              "    </tr>\n",
              "    <tr>\n",
              "      <th>1865</th>\n",
              "      <td>99.0</td>\n",
              "      <td>10.0</td>\n",
              "      <td>17.0</td>\n",
              "      <td>0.101010</td>\n",
              "      <td>0.588235</td>\n",
              "      <td>116428.0</td>\n",
              "    </tr>\n",
              "    <tr>\n",
              "      <th>1868</th>\n",
              "      <td>47.0</td>\n",
              "      <td>27.0</td>\n",
              "      <td>28.0</td>\n",
              "      <td>0.574468</td>\n",
              "      <td>0.964286</td>\n",
              "      <td>270000.0</td>\n",
              "    </tr>\n",
              "  </tbody>\n",
              "</table>\n",
              "<p>1159 rows × 6 columns</p>\n",
              "</div>"
            ],
            "text/plain": [
              "       tries  solved  submited  solved/tries  solved/submited  finalScore\n",
              "index                                                                    \n",
              "1        2.0     1.0       2.0      0.500000         0.500000     10000.0\n",
              "4       54.0    37.0      41.0      0.685185         0.902439    370000.0\n",
              "5        6.0     3.0       5.0      0.500000         0.600000     30000.0\n",
              "6      130.0    85.0      89.0      0.653846         0.955056    850000.0\n",
              "7        5.0     0.0       2.0      0.000000         0.000000      9209.0\n",
              "...      ...     ...       ...           ...              ...         ...\n",
              "1860    76.0    28.0      48.0      0.368421         0.583333    329665.0\n",
              "1862    12.0     4.0       6.0      0.333333         0.666667     40000.0\n",
              "1864   187.0    28.0      63.0      0.149733         0.444444    439741.0\n",
              "1865    99.0    10.0      17.0      0.101010         0.588235    116428.0\n",
              "1868    47.0    27.0      28.0      0.574468         0.964286    270000.0\n",
              "\n",
              "[1159 rows x 6 columns]"
            ]
          },
          "metadata": {
            "tags": []
          },
          "execution_count": 14
        }
      ]
    },
    {
      "cell_type": "markdown",
      "metadata": {
        "id": "1JSMrGptFlK1"
      },
      "source": [
        "Tạo thêm 2 feature mới để đánh giá khả năng giải quyết bài toán của sinh viên, cụ thể là:\n",
        "* solved/tries: số các problem được AC trên tổng số lần thử của một user_id.\n",
        "* solved/submitted: số các problem được AC trên tổng số các problem được submit"
      ]
    },
    {
      "cell_type": "code",
      "metadata": {
        "id": "OaBivN3Qf9Oz",
        "colab": {
          "base_uri": "https://localhost:8080/",
          "height": 265
        },
        "outputId": "17a5ff7b-5591-411f-b3ea-a868d0b7c1e3"
      },
      "source": [
        "score_CK = data_score[['id', 'CK']]\n",
        "score_CK.set_index('id', inplace=True)\n",
        "new_data = pd.concat([newDF, score_CK], axis=1)\n",
        "new_data.head(10).T"
      ],
      "execution_count": 15,
      "outputs": [
        {
          "output_type": "execute_result",
          "data": {
            "text/html": [
              "<div>\n",
              "<style scoped>\n",
              "    .dataframe tbody tr th:only-of-type {\n",
              "        vertical-align: middle;\n",
              "    }\n",
              "\n",
              "    .dataframe tbody tr th {\n",
              "        vertical-align: top;\n",
              "    }\n",
              "\n",
              "    .dataframe thead th {\n",
              "        text-align: right;\n",
              "    }\n",
              "</style>\n",
              "<table border=\"1\" class=\"dataframe\">\n",
              "  <thead>\n",
              "    <tr style=\"text-align: right;\">\n",
              "      <th></th>\n",
              "      <th>1</th>\n",
              "      <th>4</th>\n",
              "      <th>5</th>\n",
              "      <th>6</th>\n",
              "      <th>7</th>\n",
              "      <th>11</th>\n",
              "      <th>14</th>\n",
              "      <th>15</th>\n",
              "      <th>20</th>\n",
              "      <th>22</th>\n",
              "    </tr>\n",
              "  </thead>\n",
              "  <tbody>\n",
              "    <tr>\n",
              "      <th>tries</th>\n",
              "      <td>2.0</td>\n",
              "      <td>54.000000</td>\n",
              "      <td>6.0</td>\n",
              "      <td>130.000000</td>\n",
              "      <td>5.0</td>\n",
              "      <td>50.000000</td>\n",
              "      <td>22.000000</td>\n",
              "      <td>101.000000</td>\n",
              "      <td>13.000000</td>\n",
              "      <td>NaN</td>\n",
              "    </tr>\n",
              "    <tr>\n",
              "      <th>solved</th>\n",
              "      <td>1.0</td>\n",
              "      <td>37.000000</td>\n",
              "      <td>3.0</td>\n",
              "      <td>85.000000</td>\n",
              "      <td>0.0</td>\n",
              "      <td>9.000000</td>\n",
              "      <td>6.000000</td>\n",
              "      <td>45.000000</td>\n",
              "      <td>12.000000</td>\n",
              "      <td>NaN</td>\n",
              "    </tr>\n",
              "    <tr>\n",
              "      <th>submited</th>\n",
              "      <td>2.0</td>\n",
              "      <td>41.000000</td>\n",
              "      <td>5.0</td>\n",
              "      <td>89.000000</td>\n",
              "      <td>2.0</td>\n",
              "      <td>19.000000</td>\n",
              "      <td>7.000000</td>\n",
              "      <td>52.000000</td>\n",
              "      <td>12.000000</td>\n",
              "      <td>NaN</td>\n",
              "    </tr>\n",
              "    <tr>\n",
              "      <th>solved/tries</th>\n",
              "      <td>0.5</td>\n",
              "      <td>0.685185</td>\n",
              "      <td>0.5</td>\n",
              "      <td>0.653846</td>\n",
              "      <td>0.0</td>\n",
              "      <td>0.180000</td>\n",
              "      <td>0.272727</td>\n",
              "      <td>0.445545</td>\n",
              "      <td>0.923077</td>\n",
              "      <td>NaN</td>\n",
              "    </tr>\n",
              "    <tr>\n",
              "      <th>solved/submited</th>\n",
              "      <td>0.5</td>\n",
              "      <td>0.902439</td>\n",
              "      <td>0.6</td>\n",
              "      <td>0.955056</td>\n",
              "      <td>0.0</td>\n",
              "      <td>0.473684</td>\n",
              "      <td>0.857143</td>\n",
              "      <td>0.865385</td>\n",
              "      <td>1.000000</td>\n",
              "      <td>NaN</td>\n",
              "    </tr>\n",
              "    <tr>\n",
              "      <th>finalScore</th>\n",
              "      <td>10000.0</td>\n",
              "      <td>370000.000000</td>\n",
              "      <td>30000.0</td>\n",
              "      <td>850000.000000</td>\n",
              "      <td>9209.0</td>\n",
              "      <td>100316.000000</td>\n",
              "      <td>68000.000000</td>\n",
              "      <td>458666.000000</td>\n",
              "      <td>120000.000000</td>\n",
              "      <td>NaN</td>\n",
              "    </tr>\n",
              "    <tr>\n",
              "      <th>CK</th>\n",
              "      <td>NaN</td>\n",
              "      <td>NaN</td>\n",
              "      <td>NaN</td>\n",
              "      <td>NaN</td>\n",
              "      <td>NaN</td>\n",
              "      <td>NaN</td>\n",
              "      <td>NaN</td>\n",
              "      <td>NaN</td>\n",
              "      <td>NaN</td>\n",
              "      <td>8.5</td>\n",
              "    </tr>\n",
              "  </tbody>\n",
              "</table>\n",
              "</div>"
            ],
            "text/plain": [
              "                      1              4   ...             20   22\n",
              "tries                2.0      54.000000  ...      13.000000  NaN\n",
              "solved               1.0      37.000000  ...      12.000000  NaN\n",
              "submited             2.0      41.000000  ...      12.000000  NaN\n",
              "solved/tries         0.5       0.685185  ...       0.923077  NaN\n",
              "solved/submited      0.5       0.902439  ...       1.000000  NaN\n",
              "finalScore       10000.0  370000.000000  ...  120000.000000  NaN\n",
              "CK                   NaN            NaN  ...            NaN  8.5\n",
              "\n",
              "[7 rows x 10 columns]"
            ]
          },
          "metadata": {
            "tags": []
          },
          "execution_count": 15
        }
      ]
    },
    {
      "cell_type": "markdown",
      "metadata": {
        "id": "X2XipEYWhwd2"
      },
      "source": [
        "#2. Pre-processing Data and Show the Correlation of the features\n",
        "<a name = 'process'></a>"
      ]
    },
    {
      "cell_type": "markdown",
      "metadata": {
        "id": "12UoF75LiTH5"
      },
      "source": [
        "## 2.1 Handling Missing Values in Data"
      ]
    },
    {
      "cell_type": "markdown",
      "metadata": {
        "id": "ED-mZa-vHjjx"
      },
      "source": [
        "Sau khi kết hợp với cột điểm CK theo user_id, chúng em nhận thấy dữ liệu bị thiếu NaN khá nhiều, nên thay vì loại bỏ các dữ liệu thiếu đó dẫn đến gây mất thông tin. Chúng em sẽ \"lấp\" các dữ liệu đó bằng phép nội suy tuyến tính và điền trung bình theo cột. (trừ cột CK, vì sẽ được đem đi predict)"
      ]
    },
    {
      "cell_type": "code",
      "metadata": {
        "id": "SFKjeEMdl0tf",
        "colab": {
          "base_uri": "https://localhost:8080/",
          "height": 265
        },
        "outputId": "82127aac-e574-4840-b6db-4878f93f53b4"
      },
      "source": [
        "#find NaN values and replace it with 0\n",
        "def count_missing_values(data):\n",
        "  num_of_miss_data = data.isnull().sum()\n",
        "  missing_data = pd.concat([num_of_miss_data], axis=1, keys = ['Number of missing value'])\n",
        "  return missing_data\n",
        "count_missing_values(new_data)"
      ],
      "execution_count": 16,
      "outputs": [
        {
          "output_type": "execute_result",
          "data": {
            "text/html": [
              "<div>\n",
              "<style scoped>\n",
              "    .dataframe tbody tr th:only-of-type {\n",
              "        vertical-align: middle;\n",
              "    }\n",
              "\n",
              "    .dataframe tbody tr th {\n",
              "        vertical-align: top;\n",
              "    }\n",
              "\n",
              "    .dataframe thead th {\n",
              "        text-align: right;\n",
              "    }\n",
              "</style>\n",
              "<table border=\"1\" class=\"dataframe\">\n",
              "  <thead>\n",
              "    <tr style=\"text-align: right;\">\n",
              "      <th></th>\n",
              "      <th>Number of missing value</th>\n",
              "    </tr>\n",
              "  </thead>\n",
              "  <tbody>\n",
              "    <tr>\n",
              "      <th>tries</th>\n",
              "      <td>122</td>\n",
              "    </tr>\n",
              "    <tr>\n",
              "      <th>solved</th>\n",
              "      <td>122</td>\n",
              "    </tr>\n",
              "    <tr>\n",
              "      <th>submited</th>\n",
              "      <td>122</td>\n",
              "    </tr>\n",
              "    <tr>\n",
              "      <th>solved/tries</th>\n",
              "      <td>122</td>\n",
              "    </tr>\n",
              "    <tr>\n",
              "      <th>solved/submited</th>\n",
              "      <td>122</td>\n",
              "    </tr>\n",
              "    <tr>\n",
              "      <th>finalScore</th>\n",
              "      <td>124</td>\n",
              "    </tr>\n",
              "    <tr>\n",
              "      <th>CK</th>\n",
              "      <td>361</td>\n",
              "    </tr>\n",
              "  </tbody>\n",
              "</table>\n",
              "</div>"
            ],
            "text/plain": [
              "                 Number of missing value\n",
              "tries                                122\n",
              "solved                               122\n",
              "submited                             122\n",
              "solved/tries                         122\n",
              "solved/submited                      122\n",
              "finalScore                           124\n",
              "CK                                   361"
            ]
          },
          "metadata": {
            "tags": []
          },
          "execution_count": 16
        }
      ]
    },
    {
      "cell_type": "code",
      "metadata": {
        "id": "dWbpo_TZl50P"
      },
      "source": [
        "#fill missing value of column 'tries'\n",
        "new_data['tries'] = new_data['tries'].interpolate(method = 'pad', limit = 3)\n",
        "new_data['tries'] = new_data['tries'].fillna(int(np.mean(new_data['tries'])))"
      ],
      "execution_count": 17,
      "outputs": []
    },
    {
      "cell_type": "code",
      "metadata": {
        "id": "eqZ19jrJn5TN"
      },
      "source": [
        "#fill missing value of column 'solved'\n",
        "new_data['solved'] = new_data['solved'].interpolate(method = 'pad', limit = 3)\n",
        "new_data['solved'] = new_data['solved'].fillna(int(np.mean(new_data['solved'])))"
      ],
      "execution_count": 18,
      "outputs": []
    },
    {
      "cell_type": "code",
      "metadata": {
        "id": "kIte0WNQn8Az"
      },
      "source": [
        "#fill missing value of column 'summited'\n",
        "new_data['submited'] = new_data['submited'].interpolate(method = 'pad', limit = 3)\n",
        "new_data['submited'] = new_data['submited'].fillna(int(np.mean(new_data['submited'])))"
      ],
      "execution_count": 19,
      "outputs": []
    },
    {
      "cell_type": "code",
      "metadata": {
        "id": "vbckR9f7oFpV"
      },
      "source": [
        "new_data['solved/tries'] = new_data['solved'] / new_data['tries'] \n",
        "new_data['solved/submited'] = new_data['solved'] / new_data['submited'] "
      ],
      "execution_count": 20,
      "outputs": []
    },
    {
      "cell_type": "code",
      "metadata": {
        "id": "bJ857bSFuiP8"
      },
      "source": [
        "new_data['finalScore'] = new_data['finalScore'].interpolate(method = 'pad', limit = 3)\n",
        "new_data['finalScore'] = new_data['finalScore'].fillna(int(np.mean(new_data['finalScore'])))"
      ],
      "execution_count": 21,
      "outputs": []
    },
    {
      "cell_type": "markdown",
      "metadata": {
        "id": "tdgRnsXfIMbB"
      },
      "source": [
        "* Chia data frame vừa mới tạp thành hai tập **data_to_train** (các user_id đã có điểm CK) và **data_to_predict** (các user_id chưa có điểm CK và cần phải predict). \n",
        "* Loại bỏ các hàng sau khi xử lí dữ liệu thiếu không khớp với thông tin thực tế như hai chỉ số **solved/tries > 1** và **solved/submitted** > 1."
      ]
    },
    {
      "cell_type": "code",
      "metadata": {
        "id": "MYnC9zAGlUKn",
        "colab": {
          "base_uri": "https://localhost:8080/",
          "height": 417
        },
        "outputId": "d0a2d769-ef5c-471d-9a1a-72604a45b942"
      },
      "source": [
        "data_to_predict = new_data[new_data.isna().any(axis=1)]\n",
        "data_to_predict = data_to_predict[data_to_predict['solved/tries'] <= 1]\n",
        "data_to_predict = data_to_predict[data_to_predict['solved/submited'] <= 1]\n",
        "data_to_predict"
      ],
      "execution_count": 22,
      "outputs": [
        {
          "output_type": "execute_result",
          "data": {
            "text/html": [
              "<div>\n",
              "<style scoped>\n",
              "    .dataframe tbody tr th:only-of-type {\n",
              "        vertical-align: middle;\n",
              "    }\n",
              "\n",
              "    .dataframe tbody tr th {\n",
              "        vertical-align: top;\n",
              "    }\n",
              "\n",
              "    .dataframe thead th {\n",
              "        text-align: right;\n",
              "    }\n",
              "</style>\n",
              "<table border=\"1\" class=\"dataframe\">\n",
              "  <thead>\n",
              "    <tr style=\"text-align: right;\">\n",
              "      <th></th>\n",
              "      <th>tries</th>\n",
              "      <th>solved</th>\n",
              "      <th>submited</th>\n",
              "      <th>solved/tries</th>\n",
              "      <th>solved/submited</th>\n",
              "      <th>finalScore</th>\n",
              "      <th>CK</th>\n",
              "    </tr>\n",
              "  </thead>\n",
              "  <tbody>\n",
              "    <tr>\n",
              "      <th>1</th>\n",
              "      <td>2.0</td>\n",
              "      <td>1.0</td>\n",
              "      <td>2.0</td>\n",
              "      <td>0.500000</td>\n",
              "      <td>0.500000</td>\n",
              "      <td>10000.0</td>\n",
              "      <td>NaN</td>\n",
              "    </tr>\n",
              "    <tr>\n",
              "      <th>4</th>\n",
              "      <td>54.0</td>\n",
              "      <td>37.0</td>\n",
              "      <td>41.0</td>\n",
              "      <td>0.685185</td>\n",
              "      <td>0.902439</td>\n",
              "      <td>370000.0</td>\n",
              "      <td>NaN</td>\n",
              "    </tr>\n",
              "    <tr>\n",
              "      <th>5</th>\n",
              "      <td>6.0</td>\n",
              "      <td>3.0</td>\n",
              "      <td>5.0</td>\n",
              "      <td>0.500000</td>\n",
              "      <td>0.600000</td>\n",
              "      <td>30000.0</td>\n",
              "      <td>NaN</td>\n",
              "    </tr>\n",
              "    <tr>\n",
              "      <th>6</th>\n",
              "      <td>130.0</td>\n",
              "      <td>85.0</td>\n",
              "      <td>89.0</td>\n",
              "      <td>0.653846</td>\n",
              "      <td>0.955056</td>\n",
              "      <td>850000.0</td>\n",
              "      <td>NaN</td>\n",
              "    </tr>\n",
              "    <tr>\n",
              "      <th>7</th>\n",
              "      <td>5.0</td>\n",
              "      <td>0.0</td>\n",
              "      <td>2.0</td>\n",
              "      <td>0.000000</td>\n",
              "      <td>0.000000</td>\n",
              "      <td>9209.0</td>\n",
              "      <td>NaN</td>\n",
              "    </tr>\n",
              "    <tr>\n",
              "      <th>...</th>\n",
              "      <td>...</td>\n",
              "      <td>...</td>\n",
              "      <td>...</td>\n",
              "      <td>...</td>\n",
              "      <td>...</td>\n",
              "      <td>...</td>\n",
              "      <td>...</td>\n",
              "    </tr>\n",
              "    <tr>\n",
              "      <th>1852</th>\n",
              "      <td>20.0</td>\n",
              "      <td>1.0</td>\n",
              "      <td>1.0</td>\n",
              "      <td>0.050000</td>\n",
              "      <td>1.000000</td>\n",
              "      <td>10000.0</td>\n",
              "      <td>NaN</td>\n",
              "    </tr>\n",
              "    <tr>\n",
              "      <th>1855</th>\n",
              "      <td>134.0</td>\n",
              "      <td>63.0</td>\n",
              "      <td>67.0</td>\n",
              "      <td>0.470149</td>\n",
              "      <td>0.940299</td>\n",
              "      <td>649000.0</td>\n",
              "      <td>NaN</td>\n",
              "    </tr>\n",
              "    <tr>\n",
              "      <th>1860</th>\n",
              "      <td>76.0</td>\n",
              "      <td>28.0</td>\n",
              "      <td>48.0</td>\n",
              "      <td>0.368421</td>\n",
              "      <td>0.583333</td>\n",
              "      <td>329665.0</td>\n",
              "      <td>NaN</td>\n",
              "    </tr>\n",
              "    <tr>\n",
              "      <th>1864</th>\n",
              "      <td>187.0</td>\n",
              "      <td>28.0</td>\n",
              "      <td>63.0</td>\n",
              "      <td>0.149733</td>\n",
              "      <td>0.444444</td>\n",
              "      <td>439741.0</td>\n",
              "      <td>NaN</td>\n",
              "    </tr>\n",
              "    <tr>\n",
              "      <th>1868</th>\n",
              "      <td>47.0</td>\n",
              "      <td>27.0</td>\n",
              "      <td>28.0</td>\n",
              "      <td>0.574468</td>\n",
              "      <td>0.964286</td>\n",
              "      <td>270000.0</td>\n",
              "      <td>NaN</td>\n",
              "    </tr>\n",
              "  </tbody>\n",
              "</table>\n",
              "<p>360 rows × 7 columns</p>\n",
              "</div>"
            ],
            "text/plain": [
              "      tries  solved  submited  solved/tries  solved/submited  finalScore  CK\n",
              "1       2.0     1.0       2.0      0.500000         0.500000     10000.0 NaN\n",
              "4      54.0    37.0      41.0      0.685185         0.902439    370000.0 NaN\n",
              "5       6.0     3.0       5.0      0.500000         0.600000     30000.0 NaN\n",
              "6     130.0    85.0      89.0      0.653846         0.955056    850000.0 NaN\n",
              "7       5.0     0.0       2.0      0.000000         0.000000      9209.0 NaN\n",
              "...     ...     ...       ...           ...              ...         ...  ..\n",
              "1852   20.0     1.0       1.0      0.050000         1.000000     10000.0 NaN\n",
              "1855  134.0    63.0      67.0      0.470149         0.940299    649000.0 NaN\n",
              "1860   76.0    28.0      48.0      0.368421         0.583333    329665.0 NaN\n",
              "1864  187.0    28.0      63.0      0.149733         0.444444    439741.0 NaN\n",
              "1868   47.0    27.0      28.0      0.574468         0.964286    270000.0 NaN\n",
              "\n",
              "[360 rows x 7 columns]"
            ]
          },
          "metadata": {
            "tags": []
          },
          "execution_count": 22
        }
      ]
    },
    {
      "cell_type": "code",
      "metadata": {
        "id": "mdkovsDxuuGX"
      },
      "source": [
        "#lưu id của các user cần predict điểm ck, sẽ sử dụng sau.\n",
        "id_predict = data_to_predict.index.to_numpy()"
      ],
      "execution_count": 23,
      "outputs": []
    },
    {
      "cell_type": "code",
      "metadata": {
        "id": "P_czDCiZvtzN"
      },
      "source": [
        "data_to_train = new_data.dropna()\n",
        "data_to_train = data_to_train[data_to_train['solved/tries'] <= 1]\n",
        "data_to_train = data_to_train[data_to_train['solved/submited'] <= 1]"
      ],
      "execution_count": 24,
      "outputs": []
    },
    {
      "cell_type": "code",
      "metadata": {
        "id": "jW_YO886wAm3",
        "colab": {
          "base_uri": "https://localhost:8080/",
          "height": 295
        },
        "outputId": "1290ec09-5167-4421-ae35-227579fd9186"
      },
      "source": [
        "data_to_train.describe()"
      ],
      "execution_count": 25,
      "outputs": [
        {
          "output_type": "execute_result",
          "data": {
            "text/html": [
              "<div>\n",
              "<style scoped>\n",
              "    .dataframe tbody tr th:only-of-type {\n",
              "        vertical-align: middle;\n",
              "    }\n",
              "\n",
              "    .dataframe tbody tr th {\n",
              "        vertical-align: top;\n",
              "    }\n",
              "\n",
              "    .dataframe thead th {\n",
              "        text-align: right;\n",
              "    }\n",
              "</style>\n",
              "<table border=\"1\" class=\"dataframe\">\n",
              "  <thead>\n",
              "    <tr style=\"text-align: right;\">\n",
              "      <th></th>\n",
              "      <th>tries</th>\n",
              "      <th>solved</th>\n",
              "      <th>submited</th>\n",
              "      <th>solved/tries</th>\n",
              "      <th>solved/submited</th>\n",
              "      <th>finalScore</th>\n",
              "      <th>CK</th>\n",
              "    </tr>\n",
              "  </thead>\n",
              "  <tbody>\n",
              "    <tr>\n",
              "      <th>count</th>\n",
              "      <td>920.000000</td>\n",
              "      <td>920.000000</td>\n",
              "      <td>920.000000</td>\n",
              "      <td>920.000000</td>\n",
              "      <td>920.000000</td>\n",
              "      <td>9.200000e+02</td>\n",
              "      <td>920.000000</td>\n",
              "    </tr>\n",
              "    <tr>\n",
              "      <th>mean</th>\n",
              "      <td>240.764130</td>\n",
              "      <td>86.750000</td>\n",
              "      <td>93.559783</td>\n",
              "      <td>0.385580</td>\n",
              "      <td>0.884055</td>\n",
              "      <td>8.952187e+05</td>\n",
              "      <td>6.192935</td>\n",
              "    </tr>\n",
              "    <tr>\n",
              "      <th>std</th>\n",
              "      <td>167.205639</td>\n",
              "      <td>52.366214</td>\n",
              "      <td>53.692214</td>\n",
              "      <td>0.147076</td>\n",
              "      <td>0.164510</td>\n",
              "      <td>5.338194e+05</td>\n",
              "      <td>2.238136</td>\n",
              "    </tr>\n",
              "    <tr>\n",
              "      <th>min</th>\n",
              "      <td>1.000000</td>\n",
              "      <td>0.000000</td>\n",
              "      <td>1.000000</td>\n",
              "      <td>0.000000</td>\n",
              "      <td>0.000000</td>\n",
              "      <td>0.000000e+00</td>\n",
              "      <td>0.000000</td>\n",
              "    </tr>\n",
              "    <tr>\n",
              "      <th>25%</th>\n",
              "      <td>121.000000</td>\n",
              "      <td>50.750000</td>\n",
              "      <td>58.000000</td>\n",
              "      <td>0.298419</td>\n",
              "      <td>0.875000</td>\n",
              "      <td>5.288322e+05</td>\n",
              "      <td>5.000000</td>\n",
              "    </tr>\n",
              "    <tr>\n",
              "      <th>50%</th>\n",
              "      <td>212.000000</td>\n",
              "      <td>83.000000</td>\n",
              "      <td>87.000000</td>\n",
              "      <td>0.380045</td>\n",
              "      <td>0.936506</td>\n",
              "      <td>8.479760e+05</td>\n",
              "      <td>6.500000</td>\n",
              "    </tr>\n",
              "    <tr>\n",
              "      <th>75%</th>\n",
              "      <td>323.250000</td>\n",
              "      <td>105.250000</td>\n",
              "      <td>113.000000</td>\n",
              "      <td>0.470021</td>\n",
              "      <td>0.971305</td>\n",
              "      <td>1.086106e+06</td>\n",
              "      <td>8.000000</td>\n",
              "    </tr>\n",
              "    <tr>\n",
              "      <th>max</th>\n",
              "      <td>1359.000000</td>\n",
              "      <td>314.000000</td>\n",
              "      <td>319.000000</td>\n",
              "      <td>0.923077</td>\n",
              "      <td>1.000000</td>\n",
              "      <td>3.168763e+06</td>\n",
              "      <td>10.000000</td>\n",
              "    </tr>\n",
              "  </tbody>\n",
              "</table>\n",
              "</div>"
            ],
            "text/plain": [
              "             tries      solved  ...    finalScore          CK\n",
              "count   920.000000  920.000000  ...  9.200000e+02  920.000000\n",
              "mean    240.764130   86.750000  ...  8.952187e+05    6.192935\n",
              "std     167.205639   52.366214  ...  5.338194e+05    2.238136\n",
              "min       1.000000    0.000000  ...  0.000000e+00    0.000000\n",
              "25%     121.000000   50.750000  ...  5.288322e+05    5.000000\n",
              "50%     212.000000   83.000000  ...  8.479760e+05    6.500000\n",
              "75%     323.250000  105.250000  ...  1.086106e+06    8.000000\n",
              "max    1359.000000  314.000000  ...  3.168763e+06   10.000000\n",
              "\n",
              "[8 rows x 7 columns]"
            ]
          },
          "metadata": {
            "tags": []
          },
          "execution_count": 25
        }
      ]
    },
    {
      "cell_type": "markdown",
      "metadata": {
        "id": "PBA1_9Cth4-p"
      },
      "source": [
        "##2.2 Show the Correlation of  Features\n",
        "Sau các bước tiền xử lý dữ liệu cơ bản như trên, chúng em sẽ tiến hành lọc các feature một lần nữa bằng cách **trực quan hóa mối quan hệ giữa chúng đối với điểm CK** (bằng *Scatter Plot*)  và thể hiện sự tương quan giữa các feature (bằng *Correlation Matrix*)"
      ]
    },
    {
      "cell_type": "code",
      "metadata": {
        "id": "ZqpqGbFedD3R",
        "colab": {
          "base_uri": "https://localhost:8080/",
          "height": 1000
        },
        "outputId": "9ce587d6-f683-4d0e-9a0b-7fea7ffd8b37"
      },
      "source": [
        "fig= plt.figure(figsize = (40,30))\n",
        "gs1 = fig.add_gridspec(3,3)\n",
        "gs1.update(wspace=0.4, hspace=0.4)\n",
        "\n",
        "axs0 = fig.add_subplot(gs[0,0])\n",
        "axs1 = fig.add_subplot(gs[0,1])\n",
        "axs2 = fig.add_subplot(gs[1,0])\n",
        "axs3 = fig.add_subplot(gs[1,1])\n",
        "axs4 = fig.add_subplot(gs[2,0])\n",
        "axs5 = fig.add_subplot(gs[2,1])\n",
        "axes=[axs0,axs1,axs2,axs3,axs4, axs5]\n",
        "background_color = '#f6f5f7'\n",
        "\n",
        "for i in axes:\n",
        "    i.set_facecolor(background_color)\n",
        "fig.patch.set_facecolor(background_color) \n",
        "sns.scatterplot(ax = axs0, x = data_to_train['solved'], y = data_to_train['CK'].sort_values() )\n",
        "axs0.set_title('Solved Assignments and Grade Final')\n",
        "\n",
        "fig.patch.set_facecolor(background_color) \n",
        "sns.scatterplot(ax = axs1, x = data_to_train['solved/tries'], y = data_to_train['CK'].sort_values())\n",
        "axs1.set_title('Solved/Tries Assignments and Grade Final')\n",
        "\n",
        "fig.patch.set_facecolor(background_color) \n",
        "sns.scatterplot(ax = axs2,x = data_to_train['submited'], y = data_to_train['CK'].sort_values())\n",
        "axs2.set_title('Submitted Assignments and Grade Final')\n",
        "\n",
        "fig.patch.set_facecolor(background_color) \n",
        "sns.scatterplot(ax = axs3,x = data_to_train['solved/submited'], y = data_to_train['CK'].sort_values())\n",
        "axs3.set_title('Solved/Submitted Assignments and Grade Final')\n",
        "\n",
        "fig.patch.set_facecolor(background_color) \n",
        "sns.scatterplot(ax = axs4,x = data_to_train['finalScore'], y = data_to_train['CK'].sort_values())\n",
        "axs4.set_title('finalScore and Grade Final')\n",
        "\n",
        "fig.patch.set_facecolor(background_color) \n",
        "sns.scatterplot(ax = axs5,x = data_to_train['tries'], y = data_to_train['CK'].sort_values())\n",
        "axs5.set_title('Tries and Grade Final')\n",
        "\n",
        "plt.show()"
      ],
      "execution_count": 26,
      "outputs": [
        {
          "output_type": "display_data",
          "data": {
            "image/png": "[encoded data removed]",
            "text/plain": [
              "<Figure size 2880x2160 with 6 Axes>"
            ]
          },
          "metadata": {
            "tags": []
          }
        }
      ]
    },
    {
      "cell_type": "code",
      "metadata": {
        "colab": {
          "base_uri": "https://localhost:8080/",
          "height": 595
        },
        "id": "BkeUBM0pOmRw",
        "outputId": "7b08a6ae-a4bf-42d5-aaa1-b8ecff774f64"
      },
      "source": [
        "data_to_cor = data_to_train.iloc[:,data_to_train.columns!='CK']\n",
        "plt.figure(figsize=(12,10))\n",
        "cor = data_to_cor.corr()\n",
        "sns.heatmap(cor, annot=True, cmap=plt.cm.Blues)\n",
        "plt.show()"
      ],
      "execution_count": 27,
      "outputs": [
        {
          "output_type": "display_data",
          "data": {
            "image/png": "[encoded data removed]",
            "text/plain": [
              "<Figure size 864x720 with 2 Axes>"
            ]
          },
          "metadata": {
            "tags": [],
            "needs_background": "light"
          }
        }
      ]
    },
    {
      "cell_type": "markdown",
      "metadata": {
        "id": "dPeTCqpcMUAe"
      },
      "source": [
        "###**Nhận xét**:\n",
        "+ Các features như **solved/tries**, **solved/submitted** có scatter plot trải đều, không theo quy luật, nhưng chúng em đã thử và khi bỏ hai cột feature trên, model dự đoán kém chính xác hơn so với lúc giữ hai cột feature.\n",
        "+ Các features như **tries, solved, submitted, finalScore** có scatter plot thể hiện được mối quan hệ giữa chúng với điểm CK khá tương đồng nhau, số lần **tries, solved, submitted** và **finalScore** ***càng cao*** thì điểm CK của user_id ***càng cao***\n",
        "+ Correlation giữa các feature trong bộ data frame cho thấy có 4 feature có mức độ tương quan với nhau tương đối cao **tries, solved, submitted, finalScore**, theo lý thuyết, chúng em sẽ bỏ 2 và giữ 2.\n",
        "\n",
        "=> Sau rất nhiều lần thử và dựa vào các phân tích trên, chúng em sẽ loại bỏ hai features là ***tries và solved***"
      ]
    },
    {
      "cell_type": "code",
      "metadata": {
        "id": "aBJErHQPQ9ME"
      },
      "source": [
        "data_to_train = data_to_train.drop(['tries','solved'], axis = 1)\n",
        "data_to_predict = data_to_predict.drop(['tries','solved'], axis = 1)"
      ],
      "execution_count": 28,
      "outputs": []
    },
    {
      "cell_type": "code",
      "metadata": {
        "colab": {
          "base_uri": "https://localhost:8080/",
          "height": 295
        },
        "id": "JMWmKVUnLoiv",
        "outputId": "815d19a9-6063-4f52-a385-db29d0e96b84"
      },
      "source": [
        "\n",
        "data_to_train.describe()"
      ],
      "execution_count": 29,
      "outputs": [
        {
          "output_type": "execute_result",
          "data": {
            "text/html": [
              "<div>\n",
              "<style scoped>\n",
              "    .dataframe tbody tr th:only-of-type {\n",
              "        vertical-align: middle;\n",
              "    }\n",
              "\n",
              "    .dataframe tbody tr th {\n",
              "        vertical-align: top;\n",
              "    }\n",
              "\n",
              "    .dataframe thead th {\n",
              "        text-align: right;\n",
              "    }\n",
              "</style>\n",
              "<table border=\"1\" class=\"dataframe\">\n",
              "  <thead>\n",
              "    <tr style=\"text-align: right;\">\n",
              "      <th></th>\n",
              "      <th>submited</th>\n",
              "      <th>solved/tries</th>\n",
              "      <th>solved/submited</th>\n",
              "      <th>finalScore</th>\n",
              "      <th>CK</th>\n",
              "    </tr>\n",
              "  </thead>\n",
              "  <tbody>\n",
              "    <tr>\n",
              "      <th>count</th>\n",
              "      <td>920.000000</td>\n",
              "      <td>920.000000</td>\n",
              "      <td>920.000000</td>\n",
              "      <td>9.200000e+02</td>\n",
              "      <td>920.000000</td>\n",
              "    </tr>\n",
              "    <tr>\n",
              "      <th>mean</th>\n",
              "      <td>93.559783</td>\n",
              "      <td>0.385580</td>\n",
              "      <td>0.884055</td>\n",
              "      <td>8.952187e+05</td>\n",
              "      <td>6.192935</td>\n",
              "    </tr>\n",
              "    <tr>\n",
              "      <th>std</th>\n",
              "      <td>53.692214</td>\n",
              "      <td>0.147076</td>\n",
              "      <td>0.164510</td>\n",
              "      <td>5.338194e+05</td>\n",
              "      <td>2.238136</td>\n",
              "    </tr>\n",
              "    <tr>\n",
              "      <th>min</th>\n",
              "      <td>1.000000</td>\n",
              "      <td>0.000000</td>\n",
              "      <td>0.000000</td>\n",
              "      <td>0.000000e+00</td>\n",
              "      <td>0.000000</td>\n",
              "    </tr>\n",
              "    <tr>\n",
              "      <th>25%</th>\n",
              "      <td>58.000000</td>\n",
              "      <td>0.298419</td>\n",
              "      <td>0.875000</td>\n",
              "      <td>5.288322e+05</td>\n",
              "      <td>5.000000</td>\n",
              "    </tr>\n",
              "    <tr>\n",
              "      <th>50%</th>\n",
              "      <td>87.000000</td>\n",
              "      <td>0.380045</td>\n",
              "      <td>0.936506</td>\n",
              "      <td>8.479760e+05</td>\n",
              "      <td>6.500000</td>\n",
              "    </tr>\n",
              "    <tr>\n",
              "      <th>75%</th>\n",
              "      <td>113.000000</td>\n",
              "      <td>0.470021</td>\n",
              "      <td>0.971305</td>\n",
              "      <td>1.086106e+06</td>\n",
              "      <td>8.000000</td>\n",
              "    </tr>\n",
              "    <tr>\n",
              "      <th>max</th>\n",
              "      <td>319.000000</td>\n",
              "      <td>0.923077</td>\n",
              "      <td>1.000000</td>\n",
              "      <td>3.168763e+06</td>\n",
              "      <td>10.000000</td>\n",
              "    </tr>\n",
              "  </tbody>\n",
              "</table>\n",
              "</div>"
            ],
            "text/plain": [
              "         submited  solved/tries  solved/submited    finalScore          CK\n",
              "count  920.000000    920.000000       920.000000  9.200000e+02  920.000000\n",
              "mean    93.559783      0.385580         0.884055  8.952187e+05    6.192935\n",
              "std     53.692214      0.147076         0.164510  5.338194e+05    2.238136\n",
              "min      1.000000      0.000000         0.000000  0.000000e+00    0.000000\n",
              "25%     58.000000      0.298419         0.875000  5.288322e+05    5.000000\n",
              "50%     87.000000      0.380045         0.936506  8.479760e+05    6.500000\n",
              "75%    113.000000      0.470021         0.971305  1.086106e+06    8.000000\n",
              "max    319.000000      0.923077         1.000000  3.168763e+06   10.000000"
            ]
          },
          "metadata": {
            "tags": []
          },
          "execution_count": 29
        }
      ]
    },
    {
      "cell_type": "markdown",
      "metadata": {
        "id": "dTKV6GBbQJiY"
      },
      "source": [
        "* Như đã nói ở trên, điểm CK của các user_id trong khoảng điểm từ 9 - 10 rất ít nên có thể model sẽ không nắm bắt được tốt data khi user_id có số điểm như trên. Nên chúng em tiến hàng tăng dữ liệu liên quan tới khoảng điểm ít xuất hiện nhất của user_id bằng phương pháp OverSampling và ở đây chúng em sử dụng hàm SMOTE.\n",
        "* Cre tham khảo: [SMOTE](https://imbalanced-learn.org/stable/references/generated/imblearn.over_sampling.SMOTE.html)"
      ]
    },
    {
      "cell_type": "code",
      "metadata": {
        "id": "fJF11VHIF1ZJ"
      },
      "source": [
        "def Oversampling(mode=\"SMOTE\"):\n",
        "  if mode == 'SMOTE':\n",
        "    oversample = SMOTE(sampling_strategy='minority', k_neighbors=1)\n",
        "    X, y = oversample.fit_sample(data_to_train.loc[:,data_to_train.columns!='CK'], data_to_train['CK'])\n",
        "  elif mode == 'Borderline':\n",
        "    oversample = BorderlineSMOTE()\n",
        "    X, y = oversample.fit_sample(data_to_train.loc[:,data_to_train.columns!='CK'], data_to_train['CK'])\n",
        "  elif mode == 'SVMSMOTE':\n",
        "    oversample = SVMSMOTE()\n",
        "    X, y = oversample.fit_sample(data_to_train.loc[:,data_to_train.columns!='CK'], data_to_train['CK'])\n",
        "  elif mode == 'ADASYN':\n",
        "    oversample = ADASYN()\n",
        "    X, y = oversample.fit_sample(data_to_train.loc[:,data_to_train.columns!='CK'], data_to_train['CK'])\n",
        "\n",
        "  return X, y"
      ],
      "execution_count": 30,
      "outputs": []
    },
    {
      "cell_type": "code",
      "metadata": {
        "colab": {
          "base_uri": "https://localhost:8080/"
        },
        "id": "Y--aY0efF6l1",
        "outputId": "1df0e52b-3863-4e76-af07-7a89834b753f"
      },
      "source": [
        "X, y = Oversampling('SMOTE')\n",
        "print(\"Shape of X: {}\".format(X.shape))\n",
        "print(\"Shape of y: {}\".format(y.shape))"
      ],
      "execution_count": 31,
      "outputs": [
        {
          "output_type": "stream",
          "text": [
            "Shape of X: (1022, 4)\n",
            "Shape of y: (1022,)\n"
          ],
          "name": "stdout"
        }
      ]
    },
    {
      "cell_type": "markdown",
      "metadata": {
        "id": "Xti5LE_wQ5H2"
      },
      "source": [
        "* Dữ liệu được tạp thêm nên từ shape của tập dữ liệu X ban đầu *(920, 4)*, chúng em được một tập dữ liệu X mới có kích thước *(1022, 4)*."
      ]
    },
    {
      "cell_type": "code",
      "metadata": {
        "id": "gOBW9JRxIgcb"
      },
      "source": [
        "data_to_train.to_csv('/content/data_train.csv')\n",
        "data_to_predict.to_csv('/content/data_test.csv')"
      ],
      "execution_count": 32,
      "outputs": []
    },
    {
      "cell_type": "code",
      "metadata": {
        "id": "iT5mHnPWTMt2"
      },
      "source": [
        "# X = data_to_train.iloc[:,data_to_train.columns!='CK']\n",
        "# y = data_to_train.iloc[:,-1]\n",
        "# # X = np.array(data_to_train['finalScore']).reshape(-1,1)\n",
        "# # y = data_to_train['CK']\n",
        "# X"
      ],
      "execution_count": 33,
      "outputs": []
    },
    {
      "cell_type": "markdown",
      "metadata": {
        "id": "hOCBJNmrRQXd"
      },
      "source": [
        "* Bước tiếp theo chúng em chia dữ liệu từ tập X đã được xử lý ở trên thành hai bộ dữ liệu để train và để test theo tỷ lệ 80 - 20.\n",
        "* Sau đó chúng em scale hai tập dữ liệu trên bằng hàm StanderScaler() của sklearn\n",
        "* Để model nắm bắt train dữ liệu tốt hơn nữa, em sử dụng PolynomialFeatures để làm tăng feature cho bộ data từ feature ban đầu bằng phương pháp số mũ.\n",
        "\n",
        "* Cre tham khảo : [PolynomialFeatures](https://scikit-learn.org/stable/modules/generated/sklearn.preprocessing.PolynomialFeatures.html)"
      ]
    },
    {
      "cell_type": "code",
      "metadata": {
        "id": "ZA9H0jOjUPuq",
        "colab": {
          "base_uri": "https://localhost:8080/"
        },
        "outputId": "109e3fb6-926e-40ec-d7ec-76581fdee105"
      },
      "source": [
        "x_train, x_test, y_train, y_test = train_test_split(X, y, test_size = 0.1, random_state = 0)\n",
        "x_train"
      ],
      "execution_count": 34,
      "outputs": [
        {
          "output_type": "execute_result",
          "data": {
            "text/plain": [
              "array([[1.38000000e+02, 5.35269710e-01, 9.34782609e-01, 1.29500000e+06],\n",
              "       [4.80000000e+01, 3.40909091e-01, 6.25000000e-01, 3.00000000e+05],\n",
              "       [7.80000000e+01, 5.55555556e-01, 9.61538462e-01, 7.58888000e+05],\n",
              "       ...,\n",
              "       [1.09000000e+02, 1.30381304e-01, 9.72477064e-01, 1.06900000e+06],\n",
              "       [7.20000000e+01, 4.83333333e-01, 8.05555556e-01, 6.46057000e+05],\n",
              "       [8.40000000e+01, 6.29921260e-01, 9.52380952e-01, 8.03000000e+05]])"
            ]
          },
          "metadata": {
            "tags": []
          },
          "execution_count": 34
        }
      ]
    },
    {
      "cell_type": "code",
      "metadata": {
        "id": "eJrwc4n8x_5c"
      },
      "source": [
        "def normalize_train_test(X_train, X_test, raw_X, mode=\"StandardScaler\"):\n",
        "  if mode == \"StandardScaler\":\n",
        "    scaler = StandardScaler()\n",
        "  elif mode == \"MinMaxScaler\":\n",
        "    scaler = MinMaxScaler()\n",
        "  elif mode == \"RobustScaler\":\n",
        "    scaler = RobustScaler()\n",
        "\n",
        "  scaler = scaler.fit(X_train)\n",
        "  \n",
        "  X_train_std = scaler.transform(X_train)\n",
        "  X_test_std = scaler.transform(X_test)\n",
        "  raw_X_std = scaler.transform(raw_X)\n",
        "\n",
        "  return scaler, X_train_std, X_test_std, raw_X_std"
      ],
      "execution_count": 35,
      "outputs": []
    },
    {
      "cell_type": "code",
      "metadata": {
        "id": "GDFzSIXxydaY"
      },
      "source": [
        "scaler, X_train_std, X_test_std, X_std = normalize_train_test(x_train, x_test, X, mode=\"StandardScaler\")"
      ],
      "execution_count": 36,
      "outputs": []
    },
    {
      "cell_type": "code",
      "metadata": {
        "id": "YjTRdmvtOh7-"
      },
      "source": [
        "poly = PolynomialFeatures(2)\n",
        "x_train_poly = poly.fit_transform(X_train_std)\n",
        "x_test_poly = poly.transform(X_test_std)"
      ],
      "execution_count": 37,
      "outputs": []
    },
    {
      "cell_type": "markdown",
      "metadata": {
        "id": "c9m9SawcilZm"
      },
      "source": [
        "#3 Building Model to Predict and Testing\n",
        "<a name = 'model'></a>\n",
        "* Sử dụng Ridge Regression để tạo model từ các tập dữ liệu đã qua các bước tiền xử lý trên.\n",
        "* Predict điểm CK cho các user_id chưa có điểm CK bằng model vừa train."
      ]
    },
    {
      "cell_type": "markdown",
      "metadata": {
        "id": "keiMChLgxdtD"
      },
      "source": [
        "## Bulding Model\n",
        "* Tìm tham số thích hợp nhất cho model bằng cách dùng hàm GridSearchCV của sklearn."
      ]
    },
    {
      "cell_type": "code",
      "metadata": {
        "colab": {
          "base_uri": "https://localhost:8080/"
        },
        "id": "sx5UJu99hIa4",
        "outputId": "4915e8c6-1f01-43c7-a49f-ec310327e7ed"
      },
      "source": [
        "\n",
        "from sklearn.model_selection import GridSearchCV\n",
        "\n",
        "alpha_values = {'alpha':[0.001, 0.01,0.02,0.03,0.04, 0.05, 0.06,0.07, 0.08, 0.1]}\n",
        "\n",
        "ridge= GridSearchCV(Ridge(), alpha_values, scoring='neg_mean_squared_error', cv=10 )\n",
        "\n",
        "print('The best value of alpha is:',ridge.fit(x_train_poly,y_train).best_params_)\n",
        "\n",
        "print('The best score for the best Lasso estimator is:',ridge.fit(x_train_poly,y_train).best_score_)"
      ],
      "execution_count": 38,
      "outputs": [
        {
          "output_type": "stream",
          "text": [
            "The best value of alpha is: {'alpha': 0.1}\n",
            "The best score for the best Lasso estimator is: -5.670390576773611\n"
          ],
          "name": "stdout"
        }
      ]
    },
    {
      "cell_type": "code",
      "metadata": {
        "id": "assWIDjyxc0m"
      },
      "source": [
        "def train_model(X_train, y_train, mode = \"Ridge\"):\n",
        "  if mode == \"LinearRegression\":\n",
        "    model = LinearRegression()\n",
        "  elif mode == \"Ridge\":\n",
        "    model = Ridge()\n",
        "  elif mode == \"Lasso\":\n",
        "    model = Lasso()\n",
        "\n",
        "  model.fit(X_train, y_train)\n",
        "\n",
        "  return model\n",
        "\n",
        "def predict_model(model, X_test):\n",
        "  y_logit = model.predict(X_test)\n",
        "\n",
        "  return y_logit"
      ],
      "execution_count": 39,
      "outputs": []
    },
    {
      "cell_type": "code",
      "metadata": {
        "colab": {
          "base_uri": "https://localhost:8080/"
        },
        "id": "1bFTpJtHHdS4",
        "outputId": "26dd2db7-a89c-4e78-9331-1bbd65b9358a"
      },
      "source": [
        "model  = Ridge(alpha = 0.1).fit(x_train_poly, y_train)\n",
        "prediction = predict_model(model, x_test_poly)\n",
        "prediction = prediction*2.0\n",
        "prediction = prediction.astype(int)\n",
        "prediction = np.round_(prediction/2, decimals=1, out=None)\n",
        "prediction"
      ],
      "execution_count": 40,
      "outputs": [
        {
          "output_type": "execute_result",
          "data": {
            "text/plain": [
              "array([ 6.5,  6. ,  6.5,  5. ,  6. ,  6. ,  6. ,  6. , 10. ,  7. ,  6.5,\n",
              "        4. ,  4. ,  6.5,  7. ,  9.5,  6.5,  6.5,  4. ,  6.5,  5.5,  6.5,\n",
              "        9.5,  5.5,  5. ,  5.5,  5.5,  7. ,  5. ,  6.5,  9. ,  6. ,  6. ,\n",
              "        5.5,  6.5,  6.5,  6.5,  9.5,  7. ,  6. ,  5.5,  4.5,  5.5,  5. ,\n",
              "        7. ,  9.5,  7.5,  6.5,  5. ,  4. ,  9.5,  7. ,  7. ,  9.5,  9.5,\n",
              "        6. ,  6.5,  5.5,  6.5, 10. ,  8. ,  6.5,  7. ,  5. ,  9. ,  7. ,\n",
              "        6. ,  6.5,  5. ,  6. ,  4. ,  5.5,  5. ,  7. ,  7. ,  5. ,  7. ,\n",
              "        9. ,  6.5,  6.5,  5.5,  6. ,  5.5,  9.5,  6. ,  3.5,  7. ,  6.5,\n",
              "        6. ,  6.5,  7. ,  7. ,  6. ,  6. ,  7. ,  6.5,  6. ,  6.5,  6. ,\n",
              "        5.5,  5. ,  5.5,  7. ])"
            ]
          },
          "metadata": {
            "tags": []
          },
          "execution_count": 40
        }
      ]
    },
    {
      "cell_type": "code",
      "metadata": {
        "colab": {
          "base_uri": "https://localhost:8080/"
        },
        "id": "0YKwWwvwgcEu",
        "outputId": "d8cb5fef-2243-4af2-f0b5-4cc0616ee75c"
      },
      "source": [
        "# print('Model score on x_test', lr_model.score(x_test, y_test))\n",
        "print('MSE: ', mean_squared_error(prediction, y_test))\n",
        "print('R^2: ', model.score(x_test_poly, y_test) )"
      ],
      "execution_count": 41,
      "outputs": [
        {
          "output_type": "stream",
          "text": [
            "MSE:  3.075242718446602\n",
            "R^2:  0.44991263759347455\n"
          ],
          "name": "stdout"
        }
      ]
    },
    {
      "cell_type": "code",
      "metadata": {
        "id": "5WzganbbnLWu"
      },
      "source": [
        "x_predict = data_to_predict.iloc[:,data_to_predict.columns!='CK']\n",
        "# x_predict = x_predict.drop(['tries','solved/tries', 'solved/submited'], axis = 1)\n",
        "x_std = scaler.transform(x_predict)\n",
        "x_predict_poly = poly.fit_transform(x_std)"
      ],
      "execution_count": 42,
      "outputs": []
    },
    {
      "cell_type": "code",
      "metadata": {
        "colab": {
          "base_uri": "https://localhost:8080/",
          "height": 417
        },
        "id": "TXt2kQWOitkP",
        "outputId": "1323dab1-c1c8-4ce5-e784-8ecdabe68e74"
      },
      "source": [
        "#submit prediction\n",
        "y_predict = model.predict(x_predict_poly)\n",
        "y_predict = y_predict*2.0\n",
        "y_predict = y_predict.astype(int)\n",
        "y_predict = np.round(y_predict/2, decimals=1, out=None)\n",
        "y_predict\n",
        "result = {\n",
        "    \"id\": id_predict,\n",
        "    \"CK\" :y_predict\n",
        "}\n",
        "result_submit = pd.DataFrame(result)\n",
        "result_submit"
      ],
      "execution_count": 43,
      "outputs": [
        {
          "output_type": "execute_result",
          "data": {
            "text/html": [
              "<div>\n",
              "<style scoped>\n",
              "    .dataframe tbody tr th:only-of-type {\n",
              "        vertical-align: middle;\n",
              "    }\n",
              "\n",
              "    .dataframe tbody tr th {\n",
              "        vertical-align: top;\n",
              "    }\n",
              "\n",
              "    .dataframe thead th {\n",
              "        text-align: right;\n",
              "    }\n",
              "</style>\n",
              "<table border=\"1\" class=\"dataframe\">\n",
              "  <thead>\n",
              "    <tr style=\"text-align: right;\">\n",
              "      <th></th>\n",
              "      <th>id</th>\n",
              "      <th>CK</th>\n",
              "    </tr>\n",
              "  </thead>\n",
              "  <tbody>\n",
              "    <tr>\n",
              "      <th>0</th>\n",
              "      <td>1</td>\n",
              "      <td>4.0</td>\n",
              "    </tr>\n",
              "    <tr>\n",
              "      <th>1</th>\n",
              "      <td>4</td>\n",
              "      <td>4.0</td>\n",
              "    </tr>\n",
              "    <tr>\n",
              "      <th>2</th>\n",
              "      <td>5</td>\n",
              "      <td>4.5</td>\n",
              "    </tr>\n",
              "    <tr>\n",
              "      <th>3</th>\n",
              "      <td>6</td>\n",
              "      <td>4.5</td>\n",
              "    </tr>\n",
              "    <tr>\n",
              "      <th>4</th>\n",
              "      <td>7</td>\n",
              "      <td>5.5</td>\n",
              "    </tr>\n",
              "    <tr>\n",
              "      <th>...</th>\n",
              "      <td>...</td>\n",
              "      <td>...</td>\n",
              "    </tr>\n",
              "    <tr>\n",
              "      <th>355</th>\n",
              "      <td>1852</td>\n",
              "      <td>6.0</td>\n",
              "    </tr>\n",
              "    <tr>\n",
              "      <th>356</th>\n",
              "      <td>1855</td>\n",
              "      <td>6.0</td>\n",
              "    </tr>\n",
              "    <tr>\n",
              "      <th>357</th>\n",
              "      <td>1860</td>\n",
              "      <td>4.0</td>\n",
              "    </tr>\n",
              "    <tr>\n",
              "      <th>358</th>\n",
              "      <td>1864</td>\n",
              "      <td>7.5</td>\n",
              "    </tr>\n",
              "    <tr>\n",
              "      <th>359</th>\n",
              "      <td>1868</td>\n",
              "      <td>5.0</td>\n",
              "    </tr>\n",
              "  </tbody>\n",
              "</table>\n",
              "<p>360 rows × 2 columns</p>\n",
              "</div>"
            ],
            "text/plain": [
              "       id   CK\n",
              "0       1  4.0\n",
              "1       4  4.0\n",
              "2       5  4.5\n",
              "3       6  4.5\n",
              "4       7  5.5\n",
              "..    ...  ...\n",
              "355  1852  6.0\n",
              "356  1855  6.0\n",
              "357  1860  4.0\n",
              "358  1864  7.5\n",
              "359  1868  5.0\n",
              "\n",
              "[360 rows x 2 columns]"
            ]
          },
          "metadata": {
            "tags": []
          },
          "execution_count": 43
        }
      ]
    },
    {
      "cell_type": "code",
      "metadata": {
        "id": "W789nuUUEZpD"
      },
      "source": [
        "#tạo file submit predict điểm những bạn chưa có điểm CK để thầy test\n",
        "result_submit.to_csv('/content/submit_predict.csv')"
      ],
      "execution_count": 44,
      "outputs": []
    },
    {
      "cell_type": "markdown",
      "metadata": {
        "id": "ImcDe6zMSbq-"
      },
      "source": [
        "#4. NHẬN XÉT:\n",
        "<a name =\"nhanxet\"></a>\n",
        "\n",
        "* Với bộ dữ liệu từ wecode, sau khi tìm hiểu và xử lý, chúng em quyết định dựa trên những đặc trưng có sẵn để tính toán các đặc trưng mới thích hợp hơn cho việc máy học\n",
        "* Tuy đã tính toán và sửa đổi nhiều về mặt các đặc trưng để huấn luyện model, tăng thêm các dữ liệu bị mất cân bằng, nhưng kết quả trả về vẫn không tốt.\n",
        "* Theo đánh giá của chúng em, việc model không hoạt động tốt do vấn đề đặt ra của bài toán trong thực thế chịu ảnh hưởng nhiều của các yếu khách quan.\n",
        "  * Được chỉ bài nên điểm cao\n",
        "  * Sát thi học sắp mặt nên điểm cao\n",
        "  * Làm bài rất tốt nhưng khi thi bị tâm lý nên điểm không tốt\n",
        "  * Vừa mới tiếp xúc với hệ thống chấm bài trên wecode nên dù hiểu logic và code tốt nhưng vẫn chưa nắm bắt được output phải chính xác tới từng dấu cách, xuống dòng, dẫn dến số lần tries nhiều ảnh hưởng tới kết quả dự đoán\n",
        "  * Có tiếp xúc sớm với lập trình nhưng làm biếng làm bài tập\n",
        "  * v.v."
      ]
    }
  ]
}