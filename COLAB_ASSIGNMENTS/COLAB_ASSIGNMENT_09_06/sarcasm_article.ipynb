{
  "nbformat": 4,
  "nbformat_minor": 0,
  "metadata": {
    "colab": {
      "name": "sarcasm_article.ipynb",
      "provenance": [],
      "collapsed_sections": [
        "xbLLor49Ygcz",
        "HWw26alGwttq"
      ],
      "include_colab_link": true
    },
    "kernelspec": {
      "name": "python3",
      "display_name": "Python 3"
    },
    "language_info": {
      "name": "python"
    }
  },
  "cells": [
    {
      "cell_type": "markdown",
      "metadata": {
        "id": "view-in-github",
        "colab_type": "text"
      },
      "source": [
        "<a href=\"https://colab.research.google.com/github/lphuong304/CS114.L21/blob/main/COLAB_ASSIGNMENTS/COLAB_ASSIGNMENT_09_06/sarcasm_article.ipynb\" target=\"_parent\"><img src=\"https://colab.research.google.com/assets/colab-badge.svg\" alt=\"Open In Colab\"/></a>"
      ]
    },
    {
      "cell_type": "markdown",
      "metadata": {
        "id": "Ovax-g0jWOnm"
      },
      "source": [
        "<h1 align=\"center\"><b>BÀI TẬP COLAB SỐ 04 - 07/06/2021</b></h1>\n",
        "<h1 align=\"center\"><b>CRAWLING HEALINE FROM NEWS WEBSITES</b></h1>\n",
        "\n",
        "---\n",
        "\n",
        "###LỚP: CS114.L21\n",
        "###NHÓM:\n",
        "1. Nguyễn Ngọc Lan Phương - *19520227*\n",
        "2. Hoàng Anh Tú - *19522450*\n",
        "3. Nguyễn Quốc Huy - *19521623*\n",
        "\n",
        "Nguồn tham khảo:\n",
        "* [BeautifulSoup](https://www.crummy.com/software/BeautifulSoup/bs4/doc/)\n",
        "\n",
        "\n",
        "\n",
        "* Link các trang web:\n",
        "  + Trang web tin tức châm biếm:\n",
        "    + [Clickhole](https://clickhole.com/)\n",
        "    + [The Babylon Bee](https://babylonbee.com/)\n",
        "    + [Daily Bonnet](https://dailybonnet.com/)\n",
        "  + Trang web tin tức chính thống:\n",
        "    + [CBS News](https://www.cbsnews.com/latest/politics/)\n",
        "    + [The Fortune](https://fortune.com/)\n",
        "    + [The New York Times](https://www.nytimes.com/)\n",
        "\n",
        "\n",
        "\n",
        "References:\n",
        "1. [Import Packages](#part1)\n",
        "2. [Crawling from Sasatirical News Websites](#sasatirical)\n",
        "3. [Crawling from Official News Websites](#news)\n",
        "4. [Nhận xét](#nhanxet)"
      ]
    },
    {
      "cell_type": "markdown",
      "metadata": {
        "id": "xbLLor49Ygcz"
      },
      "source": [
        "#1. Import Packages\n",
        "<a name=\"part1\"></a>"
      ]
    },
    {
      "cell_type": "code",
      "metadata": {
        "id": "6ATGbdjBnHY7"
      },
      "source": [
        "!pip install requests\n"
      ],
      "execution_count": null,
      "outputs": []
    },
    {
      "cell_type": "code",
      "metadata": {
        "id": "Rq62xrldncQ3"
      },
      "source": [
        "!pip install b4"
      ],
      "execution_count": null,
      "outputs": []
    },
    {
      "cell_type": "code",
      "metadata": {
        "id": "adWRrceutpV6"
      },
      "source": [
        "!pip  install fsspec"
      ],
      "execution_count": null,
      "outputs": []
    },
    {
      "cell_type": "code",
      "metadata": {
        "id": "Ny6WhtOEtf8b"
      },
      "source": [
        "import requests\n",
        "from bs4 import BeautifulSoup as soup\n",
        "import json\n",
        "import pandas as pd\n",
        "from io import StringIO\n",
        "import re\n",
        "from datetime import datetime as dt\n"
      ],
      "execution_count": null,
      "outputs": []
    },
    {
      "cell_type": "markdown",
      "metadata": {
        "id": "LgednUkgYrgZ"
      },
      "source": [
        "# 2. Crawling from Sasatirical News Websites\n",
        "<a name=\"sasatirical\"></a>\n"
      ]
    },
    {
      "cell_type": "markdown",
      "metadata": {
        "id": "HWw26alGwttq"
      },
      "source": [
        "##Crawling from https://babylonbee.com/news"
      ]
    },
    {
      "cell_type": "code",
      "metadata": {
        "id": "97hz8WKCnDGL"
      },
      "source": [
        "content1 = []\n",
        "res1=[]\n",
        "n_pages1 = 255 #chúng em có lướt thử các trang và nhận thấy trang 250 đã là năm 2018\n",
        "for i in range(1, n_pages1):\n",
        "  url_1 = \"https://babylonbee.com/news?page=\" + str(i)\n",
        "  site_1 = requests.get(url_1)\n",
        "  page_soup_1 = soup(site_1.content,'html.parser')\n",
        "  page_soup_1 = page_soup_1.find_all(\"article-card\" ) \n",
        "  #print(page_soup_1)\n",
        "  for i in page_soup_1:\n",
        "    #chuyển đổi dòng html sang dạng chuỗi và biến đổi thuận tiện cho việc cắt chuỗi, lấy các thông tin cần thiết\n",
        "      i = str(i).replace(\"</article-card>\",\"\").replace(\"&quot;\",\"\").replace(\"'>\", \">\") \n",
        "\n",
        "      #find string express path link\n",
        "      index1 = i.find(\":path\") + 7 \n",
        "      index2 = i.find(r':primary_category') - 2\n",
        "      link_article_1 = (i[index1: index2])\n",
        "      \n",
        "      #find string express path link of date\n",
        "      index3 = i.find(\":published_on\") + 15\n",
        "      index4 = i.find(\":title\") - 2\n",
        "      time1 = (i[index3:index4]) \n",
        "\n",
        "      #find headline\n",
        "      index5 = i.find(\":title=\") + 8\n",
        "      index6 = i.find(r'>') - 1\n",
        "      headtitle_1 = i[index5:index6].replace('\\\"','')\n",
        "      is_sacarsm_1 = '1'\n",
        "\n",
        "      content1.append({'article_link':\"https://babylonbee.com/\"+link_article_1, 'headline':headtitle_1, 'date': time1, \"is_sarcastic\":1})\n",
        "\n",
        "json_res_1 = json.dumps(content1)\n",
        "print(json_res_1)"
      ],
      "execution_count": null,
      "outputs": []
    },
    {
      "cell_type": "code",
      "metadata": {
        "colab": {
          "base_uri": "https://localhost:8080/",
          "height": 733
        },
        "id": "nOblgMLlZjdf",
        "outputId": "1f2cecbb-6e95-4887-8f6d-caef2a980166"
      },
      "source": [
        "df1 = pd.read_json(StringIO(json_res_1))\n",
        "mask = (df1['date'] >= '2018-01-01') #chỉ lấy những bài viết trong 3 năm kể từ đây\n",
        "df1 = df1.loc[mask]\n",
        "df1"
      ],
      "execution_count": null,
      "outputs": [
        {
          "output_type": "execute_result",
          "data": {
            "text/html": [
              "<div>\n",
              "<style scoped>\n",
              "    .dataframe tbody tr th:only-of-type {\n",
              "        vertical-align: middle;\n",
              "    }\n",
              "\n",
              "    .dataframe tbody tr th {\n",
              "        vertical-align: top;\n",
              "    }\n",
              "\n",
              "    .dataframe thead th {\n",
              "        text-align: right;\n",
              "    }\n",
              "</style>\n",
              "<table border=\"1\" class=\"dataframe\">\n",
              "  <thead>\n",
              "    <tr style=\"text-align: right;\">\n",
              "      <th></th>\n",
              "      <th>article_link</th>\n",
              "      <th>headline</th>\n",
              "      <th>date</th>\n",
              "      <th>is_sarcastic</th>\n",
              "    </tr>\n",
              "  </thead>\n",
              "  <tbody>\n",
              "    <tr>\n",
              "      <th>0</th>\n",
              "      <td>https://babylonbee.com/'/news/toobin-gets-off-...</td>\n",
              "      <td>Toobin Reinstated In Touching Interview: 'I Go...</td>\n",
              "      <td>2021-06-10</td>\n",
              "      <td>1</td>\n",
              "    </tr>\n",
              "    <tr>\n",
              "      <th>1</th>\n",
              "      <td>https://babylonbee.com/'/news/osteen-an-attack...</td>\n",
              "      <td>Joel Osteen: 'Attacks Against Me Are Attacks A...</td>\n",
              "      <td>2021-06-10</td>\n",
              "      <td>1</td>\n",
              "    </tr>\n",
              "    <tr>\n",
              "      <th>2</th>\n",
              "      <td>https://babylonbee.com/'/news/cnn-forced-to-re...</td>\n",
              "      <td>CNN Forced To Reset 'Days Since Trump Was Prov...</td>\n",
              "      <td>2021-06-10</td>\n",
              "      <td>1</td>\n",
              "    </tr>\n",
              "    <tr>\n",
              "      <th>3</th>\n",
              "      <td>https://babylonbee.com/'/news/if-you-dont-use-...</td>\n",
              "      <td>Biden: 'If You Don't Use The N-Word, You Ain't...</td>\n",
              "      <td>2021-06-10</td>\n",
              "      <td>1</td>\n",
              "    </tr>\n",
              "    <tr>\n",
              "      <th>4</th>\n",
              "      <td>https://babylonbee.com/'/news/pelosi-asks-for-...</td>\n",
              "      <td>Pelosi Asks Omar To Clarify Ambiguous Statemen...</td>\n",
              "      <td>2021-06-10</td>\n",
              "      <td>1</td>\n",
              "    </tr>\n",
              "    <tr>\n",
              "      <th>...</th>\n",
              "      <td>...</td>\n",
              "      <td>...</td>\n",
              "      <td>...</td>\n",
              "      <td>...</td>\n",
              "    </tr>\n",
              "    <tr>\n",
              "      <th>5075</th>\n",
              "      <td>https://babylonbee.com/'/news/swarm-of-bloodth...</td>\n",
              "      <td>Swarm Of Bloodthirsty Hymnals Violently Assaul...</td>\n",
              "      <td>2018-07-16</td>\n",
              "      <td>1</td>\n",
              "    </tr>\n",
              "    <tr>\n",
              "      <th>5076</th>\n",
              "      <td>https://babylonbee.com/'/news/in-major-social-...</td>\n",
              "      <td>In Major Social Faux Pas, Trump Body Slams Que...</td>\n",
              "      <td>2018-07-16</td>\n",
              "      <td>1</td>\n",
              "    </tr>\n",
              "    <tr>\n",
              "      <th>5077</th>\n",
              "      <td>https://babylonbee.com/'/news/church-kicks-off...</td>\n",
              "      <td>Church Kicks Off Fun-Filled 'Sinners In The Ha...</td>\n",
              "      <td>2018-07-16</td>\n",
              "      <td>1</td>\n",
              "    </tr>\n",
              "    <tr>\n",
              "      <th>5078</th>\n",
              "      <td>https://babylonbee.com/'/news/millions-of-amer...</td>\n",
              "      <td>Millions Of Americans Take To Streets To Celeb...</td>\n",
              "      <td>2018-07-16</td>\n",
              "      <td>1</td>\n",
              "    </tr>\n",
              "    <tr>\n",
              "      <th>5079</th>\n",
              "      <td>https://babylonbee.com/'/news/trump-putin-clas...</td>\n",
              "      <td>Trump, Putin Clash In Intense 'GoldenEye 007' ...</td>\n",
              "      <td>2018-07-16</td>\n",
              "      <td>1</td>\n",
              "    </tr>\n",
              "  </tbody>\n",
              "</table>\n",
              "<p>5080 rows × 4 columns</p>\n",
              "</div>"
            ],
            "text/plain": [
              "                                           article_link  ... is_sarcastic\n",
              "0     https://babylonbee.com/'/news/toobin-gets-off-...  ...            1\n",
              "1     https://babylonbee.com/'/news/osteen-an-attack...  ...            1\n",
              "2     https://babylonbee.com/'/news/cnn-forced-to-re...  ...            1\n",
              "3     https://babylonbee.com/'/news/if-you-dont-use-...  ...            1\n",
              "4     https://babylonbee.com/'/news/pelosi-asks-for-...  ...            1\n",
              "...                                                 ...  ...          ...\n",
              "5075  https://babylonbee.com/'/news/swarm-of-bloodth...  ...            1\n",
              "5076  https://babylonbee.com/'/news/in-major-social-...  ...            1\n",
              "5077  https://babylonbee.com/'/news/church-kicks-off...  ...            1\n",
              "5078  https://babylonbee.com/'/news/millions-of-amer...  ...            1\n",
              "5079  https://babylonbee.com/'/news/trump-putin-clas...  ...            1\n",
              "\n",
              "[5080 rows x 4 columns]"
            ]
          },
          "metadata": {
            "tags": []
          },
          "execution_count": 8
        }
      ]
    },
    {
      "cell_type": "code",
      "metadata": {
        "id": "CjlnljT4jwJn"
      },
      "source": [
        "df1.to_csv(\"/content/test1.csv\")"
      ],
      "execution_count": null,
      "outputs": []
    },
    {
      "cell_type": "markdown",
      "metadata": {
        "id": "9SmAl5__w7RF"
      },
      "source": [
        "##Crawling from https://clickhole.com/"
      ]
    },
    {
      "cell_type": "code",
      "metadata": {
        "id": "8ELoAak4w6iT"
      },
      "source": [
        "n_pages2 = 1176 #trang clickhole có tổng tất cả 1176 trang.\n",
        "content2 = []\n",
        "for i in range(1,n_pages2):\n",
        "  url_2 = \"https://clickhole.com/page/\" + str(i) + \"/\"\n",
        "  site_2 = requests.get(url_2)\n",
        "  page_soup_2 = soup(site_2.content,'html.parser')\n",
        "  page_soup_2 = page_soup_2.find_all(\"div\",{\"class\":\"post-header\"} )\n",
        "  for i in page_soup_2:\n",
        "      link_article_2 = i.find(\"a\")['href']\n",
        "      headtitle_2 = i.find(\"h2\", {\"class\": \"post-title\"}).get_text()\n",
        "      time2 = i.find(\"div\", {\"class\": \"post-byline\"}).get_text()\n",
        "      headtitle_2 = headtitle_2.replace(\"\\n\",\"\").replace(time2,\"\").replace(\"\\u2019\",\"\")\n",
        "      content2.append({'article_link':link_article_2, 'headline':headtitle_2,'date':time2, \"is_sarcastic\":1})\n",
        "json_res_2 = json.dumps(content2)\n",
        "print(json_res_2)\n",
        "    "
      ],
      "execution_count": null,
      "outputs": []
    },
    {
      "cell_type": "code",
      "metadata": {
        "colab": {
          "base_uri": "https://localhost:8080/",
          "height": 415
        },
        "id": "H40lWq-EtXYx",
        "outputId": "09d24ff8-99db-4a6e-f948-6880521ca1f5"
      },
      "source": [
        "df2 = pd.read_json(StringIO(json_res_2))\n",
        "mask2 = (df2['date'] >= '2018-01-01') #chỉ lấy những bài viết trong 3 năm kể từ đây\n",
        "df2 = df2.loc[mask2]\n",
        "df2"
      ],
      "execution_count": null,
      "outputs": [
        {
          "output_type": "execute_result",
          "data": {
            "text/html": [
              "<div>\n",
              "<style scoped>\n",
              "    .dataframe tbody tr th:only-of-type {\n",
              "        vertical-align: middle;\n",
              "    }\n",
              "\n",
              "    .dataframe tbody tr th {\n",
              "        vertical-align: top;\n",
              "    }\n",
              "\n",
              "    .dataframe thead th {\n",
              "        text-align: right;\n",
              "    }\n",
              "</style>\n",
              "<table border=\"1\" class=\"dataframe\">\n",
              "  <thead>\n",
              "    <tr style=\"text-align: right;\">\n",
              "      <th></th>\n",
              "      <th>article_link</th>\n",
              "      <th>headline</th>\n",
              "      <th>date</th>\n",
              "      <th>is_sarcastic</th>\n",
              "    </tr>\n",
              "  </thead>\n",
              "  <tbody>\n",
              "    <tr>\n",
              "      <th>0</th>\n",
              "      <td>https://clickhole.com/category/lifestyle/</td>\n",
              "      <td>Try All You Want, But Hes Not Budging: Use The...</td>\n",
              "      <td>2021-06-10</td>\n",
              "      <td>1</td>\n",
              "    </tr>\n",
              "    <tr>\n",
              "      <th>1</th>\n",
              "      <td>https://clickhole.com/category/lifestyle/</td>\n",
              "      <td>Do They Think Theyre Better Than You? Your Pit...</td>\n",
              "      <td>2021-06-10</td>\n",
              "      <td>1</td>\n",
              "    </tr>\n",
              "    <tr>\n",
              "      <th>2</th>\n",
              "      <td>https://clickhole.com/category/lifestyle/</td>\n",
              "      <td>Tragic: Your Heartfelt Facebook Post About You...</td>\n",
              "      <td>2021-06-09</td>\n",
              "      <td>1</td>\n",
              "    </tr>\n",
              "    <tr>\n",
              "      <th>3</th>\n",
              "      <td>https://clickhole.com/category/lifestyle/</td>\n",
              "      <td>After 93 Years On Earth, Thats All The Wisdom ...</td>\n",
              "      <td>2021-06-09</td>\n",
              "      <td>1</td>\n",
              "    </tr>\n",
              "    <tr>\n",
              "      <th>4</th>\n",
              "      <td>https://clickhole.com/category/news/</td>\n",
              "      <td>Drunk With Power: This Crossing Guard Is Attem...</td>\n",
              "      <td>2021-06-08</td>\n",
              "      <td>1</td>\n",
              "    </tr>\n",
              "    <tr>\n",
              "      <th>...</th>\n",
              "      <td>...</td>\n",
              "      <td>...</td>\n",
              "      <td>...</td>\n",
              "      <td>...</td>\n",
              "    </tr>\n",
              "    <tr>\n",
              "      <th>2515</th>\n",
              "      <td>https://clickhole.com/category/lifestyle/</td>\n",
              "      <td>Making A Difference: This Nonprofit Collects T...</td>\n",
              "      <td>2018-01-08</td>\n",
              "      <td>1</td>\n",
              "    </tr>\n",
              "    <tr>\n",
              "      <th>2516</th>\n",
              "      <td>https://clickhole.com/category/lifestyle/</td>\n",
              "      <td>Wedding Bells! Two People Who Bullied You In H...</td>\n",
              "      <td>2018-01-08</td>\n",
              "      <td>1</td>\n",
              "    </tr>\n",
              "    <tr>\n",
              "      <th>2517</th>\n",
              "      <td>https://clickhole.com/category/they-said-what/</td>\n",
              "      <td>Find Out What George Lucas, Martha Stewart, Ro...</td>\n",
              "      <td>2018-01-08</td>\n",
              "      <td>1</td>\n",
              "    </tr>\n",
              "    <tr>\n",
              "      <th>2520</th>\n",
              "      <td>https://clickhole.com/category/lifestyle/</td>\n",
              "      <td>Wedding Bells! Two People Who Bullied You In H...</td>\n",
              "      <td>2018-01-08</td>\n",
              "      <td>1</td>\n",
              "    </tr>\n",
              "    <tr>\n",
              "      <th>2521</th>\n",
              "      <td>https://clickhole.com/category/they-said-what/</td>\n",
              "      <td>Find Out What George Lucas, Martha Stewart, Ro...</td>\n",
              "      <td>2018-01-08</td>\n",
              "      <td>1</td>\n",
              "    </tr>\n",
              "  </tbody>\n",
              "</table>\n",
              "<p>2520 rows × 4 columns</p>\n",
              "</div>"
            ],
            "text/plain": [
              "                                        article_link  ... is_sarcastic\n",
              "0          https://clickhole.com/category/lifestyle/  ...            1\n",
              "1          https://clickhole.com/category/lifestyle/  ...            1\n",
              "2          https://clickhole.com/category/lifestyle/  ...            1\n",
              "3          https://clickhole.com/category/lifestyle/  ...            1\n",
              "4               https://clickhole.com/category/news/  ...            1\n",
              "...                                              ...  ...          ...\n",
              "2515       https://clickhole.com/category/lifestyle/  ...            1\n",
              "2516       https://clickhole.com/category/lifestyle/  ...            1\n",
              "2517  https://clickhole.com/category/they-said-what/  ...            1\n",
              "2520       https://clickhole.com/category/lifestyle/  ...            1\n",
              "2521  https://clickhole.com/category/they-said-what/  ...            1\n",
              "\n",
              "[2520 rows x 4 columns]"
            ]
          },
          "metadata": {
            "tags": []
          },
          "execution_count": 11
        }
      ]
    },
    {
      "cell_type": "code",
      "metadata": {
        "id": "hEWgFrflWEVd"
      },
      "source": [
        "df2.to_csv(\"/content/test2.csv\")"
      ],
      "execution_count": null,
      "outputs": []
    },
    {
      "cell_type": "markdown",
      "metadata": {
        "id": "n7omuzgw023_"
      },
      "source": [
        "##Crawling from https://dailybonnet.com/"
      ]
    },
    {
      "cell_type": "code",
      "metadata": {
        "id": "J-UqZlX701oR"
      },
      "source": [
        "#vì link bài báo trên web này có được phân loại chung theo format \"https://dailybonnet.com/{year}/{month}/page/\"\n",
        "#khi lướt qua các bài báo được search theo kiểu ngày tháng trên, thì chúng em nhận thấy mỗi tháng như vậy có trung bình 30 - 35 bài viết\n",
        "#chia thành 5 bài mỗi page\n",
        "#nên chúng em nghĩ đến hướng cho vòng lặp chạy theo năm (2019->2021: 12 tháng, 6 pages, 5 bài báo/page)\n",
        "#riêng năm 2021 chỉ tính đến các bài báo tháng 5\n",
        "content3=[]\n",
        "for y in range(2018,2022): \n",
        "  if y == 2021:\n",
        "    for m in range(1,6):\n",
        "        for i in range(1,8):\n",
        "          url_3 = \"https://dailybonnet.com/\" + str(y) + \"/\" + str(m) + \"/page/\" + str(i) + \"/\" \n",
        "          site_3 = requests.get(url_3)\n",
        "          page_soup_3 = soup(site_3.content,'html.parser')\n",
        "          page_soup_3 = page_soup_3.find_all(\"header\",{\"class\":\"mh-posts-list-header\"})\n",
        "          #print(page_soup_3)\n",
        "          for j in page_soup_3:\n",
        "            link_article_3 = j.find(\"a\")[\"href\"]\n",
        "            headtitle_3 = j.find(\"a\")[\"title\"]\n",
        "            headtitle_3 = headtitle_3.replace(\"\\n\",\"\").replace(\"\\u2019\",\"\").replace(\"\\u2018\",\"\")\n",
        "            get_time = j.find(\"span\",{\"class\":\"entry-meta-date updated\"}).get_text()\n",
        "            is_sacarsm = '1'\n",
        "            content3.append({'article_link':link_article_3, 'headline':headtitle_3,\"date\" : get_time, \"is_sarcastic\":1})\n",
        "  else:\n",
        "    for m in range(1,13):\n",
        "      for i in range(1,8):\n",
        "          url_3 = \"https://dailybonnet.com/\" + str(y) + \"/\" + str(m) + \"/page/\" + str(i) + \"/\" \n",
        "          site_3 = requests.get(url_3)\n",
        "          page_soup_3 = soup(site_3.content,'html.parser')\n",
        "          page_soup_3 = page_soup_3.find_all(\"header\",{\"class\":\"mh-posts-list-header\"})\n",
        "          #print(page_soup_3)\n",
        "          for j in page_soup_3:\n",
        "            link_article_3 = j.find(\"a\")[\"href\"]\n",
        "            headtitle_3 = j.find(\"a\")[\"title\"]\n",
        "            headtitle_3 = headtitle_3.replace(\"\\n\",\"\").replace(\"\\u2019\",\"\").replace(\"\\u2018\",\"\")\n",
        "            get_time = j.find(\"span\",{\"class\":\"entry-meta-date updated\"}).get_text()\n",
        "            is_sacarsm = '1'\n",
        "            content3.append({'article_link':link_article_3, 'headline':headtitle_3,\"date\" : get_time, \"is_sarcastic\":1})\n",
        "json_res_3 = json.dumps(content3)\n",
        "print(json_res_3)"
      ],
      "execution_count": null,
      "outputs": []
    },
    {
      "cell_type": "code",
      "metadata": {
        "colab": {
          "base_uri": "https://localhost:8080/",
          "height": 415
        },
        "id": "6Rr0eUnL4k4O",
        "outputId": "273c7933-bc0f-4590-cc3a-ff3a3c700730"
      },
      "source": [
        "df3 = pd.read_json(StringIO(json_res_3))\n",
        "df3"
      ],
      "execution_count": null,
      "outputs": [
        {
          "output_type": "execute_result",
          "data": {
            "text/html": [
              "<div>\n",
              "<style scoped>\n",
              "    .dataframe tbody tr th:only-of-type {\n",
              "        vertical-align: middle;\n",
              "    }\n",
              "\n",
              "    .dataframe tbody tr th {\n",
              "        vertical-align: top;\n",
              "    }\n",
              "\n",
              "    .dataframe thead th {\n",
              "        text-align: right;\n",
              "    }\n",
              "</style>\n",
              "<table border=\"1\" class=\"dataframe\">\n",
              "  <thead>\n",
              "    <tr style=\"text-align: right;\">\n",
              "      <th></th>\n",
              "      <th>article_link</th>\n",
              "      <th>headline</th>\n",
              "      <th>date</th>\n",
              "      <th>is_sarcastic</th>\n",
              "    </tr>\n",
              "  </thead>\n",
              "  <tbody>\n",
              "    <tr>\n",
              "      <th>0</th>\n",
              "      <td>https://dailybonnet.com/many-typical-mennonite...</td>\n",
              "      <td>How Many of These Typical Mennonite Things Hav...</td>\n",
              "      <td>2018-01-31</td>\n",
              "      <td>1</td>\n",
              "    </tr>\n",
              "    <tr>\n",
              "      <th>1</th>\n",
              "      <td>https://dailybonnet.com/mennonite-town-bans-us...</td>\n",
              "      <td>Mennonite Town Bans Using Turn Signals</td>\n",
              "      <td>2018-01-30</td>\n",
              "      <td>1</td>\n",
              "    </tr>\n",
              "    <tr>\n",
              "      <th>2</th>\n",
              "      <td>https://dailybonnet.com/police-raid-mennonite-...</td>\n",
              "      <td>Police Raid Mennonite Gambling Den, Seize Hund...</td>\n",
              "      <td>2018-01-29</td>\n",
              "      <td>1</td>\n",
              "    </tr>\n",
              "    <tr>\n",
              "      <th>3</th>\n",
              "      <td>https://dailybonnet.com/rare-plautdietsch-dict...</td>\n",
              "      <td>Rare Plautdietsch Dictionary Nets $2.3 Million...</td>\n",
              "      <td>2018-01-29</td>\n",
              "      <td>1</td>\n",
              "    </tr>\n",
              "    <tr>\n",
              "      <th>4</th>\n",
              "      <td>https://dailybonnet.com/millennial-puts-nicest...</td>\n",
              "      <td>Millennial Puts on Her Nicest Ripped Jeans for...</td>\n",
              "      <td>2018-01-28</td>\n",
              "      <td>1</td>\n",
              "    </tr>\n",
              "    <tr>\n",
              "      <th>...</th>\n",
              "      <td>...</td>\n",
              "      <td>...</td>\n",
              "      <td>...</td>\n",
              "      <td>...</td>\n",
              "    </tr>\n",
              "    <tr>\n",
              "      <th>1320</th>\n",
              "      <td>https://dailybonnet.com/kitchener-man-finally-...</td>\n",
              "      <td>Kitchener Man Finally Meets His Waterloo</td>\n",
              "      <td>2021-05-05</td>\n",
              "      <td>1</td>\n",
              "    </tr>\n",
              "    <tr>\n",
              "      <th>1321</th>\n",
              "      <td>https://dailybonnet.com/mennonite-authors-eage...</td>\n",
              "      <td>Mennonite Authors Eager to Get their Books Ban...</td>\n",
              "      <td>2021-05-04</td>\n",
              "      <td>1</td>\n",
              "    </tr>\n",
              "    <tr>\n",
              "      <th>1322</th>\n",
              "      <td>https://dailybonnet.com/government-now-requiri...</td>\n",
              "      <td>Government Now Requiring Masks to Fully Cover ...</td>\n",
              "      <td>2021-05-03</td>\n",
              "      <td>1</td>\n",
              "    </tr>\n",
              "    <tr>\n",
              "      <th>1323</th>\n",
              "      <td>https://dailybonnet.com/millions-flee-communis...</td>\n",
              "      <td>Millions Flee “Communist” Canada for a Better ...</td>\n",
              "      <td>2021-05-02</td>\n",
              "      <td>1</td>\n",
              "    </tr>\n",
              "    <tr>\n",
              "      <th>1324</th>\n",
              "      <td>https://dailybonnet.com/young-people-wonder-ju...</td>\n",
              "      <td>Young People Wonder Just What Kind of World Th...</td>\n",
              "      <td>2021-05-01</td>\n",
              "      <td>1</td>\n",
              "    </tr>\n",
              "  </tbody>\n",
              "</table>\n",
              "<p>1325 rows × 4 columns</p>\n",
              "</div>"
            ],
            "text/plain": [
              "                                           article_link  ... is_sarcastic\n",
              "0     https://dailybonnet.com/many-typical-mennonite...  ...            1\n",
              "1     https://dailybonnet.com/mennonite-town-bans-us...  ...            1\n",
              "2     https://dailybonnet.com/police-raid-mennonite-...  ...            1\n",
              "3     https://dailybonnet.com/rare-plautdietsch-dict...  ...            1\n",
              "4     https://dailybonnet.com/millennial-puts-nicest...  ...            1\n",
              "...                                                 ...  ...          ...\n",
              "1320  https://dailybonnet.com/kitchener-man-finally-...  ...            1\n",
              "1321  https://dailybonnet.com/mennonite-authors-eage...  ...            1\n",
              "1322  https://dailybonnet.com/government-now-requiri...  ...            1\n",
              "1323  https://dailybonnet.com/millions-flee-communis...  ...            1\n",
              "1324  https://dailybonnet.com/young-people-wonder-ju...  ...            1\n",
              "\n",
              "[1325 rows x 4 columns]"
            ]
          },
          "metadata": {
            "tags": []
          },
          "execution_count": 14
        }
      ]
    },
    {
      "cell_type": "code",
      "metadata": {
        "id": "UNyDDNFW6ePE"
      },
      "source": [
        "df3.to_csv(\"/content/test3.csv\")"
      ],
      "execution_count": null,
      "outputs": []
    },
    {
      "cell_type": "markdown",
      "metadata": {
        "id": "a4eJH5NlcLxM"
      },
      "source": [
        "Tạo một dataframe chỉ gồm các bài báo tin tức châm biếm gộp từ 3 trang em vừa kiếm tính từ đầu năm 2019 đến đây"
      ]
    },
    {
      "cell_type": "code",
      "metadata": {
        "colab": {
          "base_uri": "https://localhost:8080/",
          "height": 415
        },
        "id": "UEIX2FnICyxG",
        "outputId": "10d98594-ea4b-466b-d1ea-62ee2105df26"
      },
      "source": [
        "frames = [df1, df2, df3]\n",
        "\n",
        "result = pd.concat(frames)\n",
        "result = result.reset_index()\n",
        "result"
      ],
      "execution_count": null,
      "outputs": [
        {
          "output_type": "execute_result",
          "data": {
            "text/html": [
              "<div>\n",
              "<style scoped>\n",
              "    .dataframe tbody tr th:only-of-type {\n",
              "        vertical-align: middle;\n",
              "    }\n",
              "\n",
              "    .dataframe tbody tr th {\n",
              "        vertical-align: top;\n",
              "    }\n",
              "\n",
              "    .dataframe thead th {\n",
              "        text-align: right;\n",
              "    }\n",
              "</style>\n",
              "<table border=\"1\" class=\"dataframe\">\n",
              "  <thead>\n",
              "    <tr style=\"text-align: right;\">\n",
              "      <th></th>\n",
              "      <th>index</th>\n",
              "      <th>article_link</th>\n",
              "      <th>headline</th>\n",
              "      <th>date</th>\n",
              "      <th>is_sarcastic</th>\n",
              "    </tr>\n",
              "  </thead>\n",
              "  <tbody>\n",
              "    <tr>\n",
              "      <th>0</th>\n",
              "      <td>0</td>\n",
              "      <td>https://babylonbee.com/'/news/toobin-gets-off-...</td>\n",
              "      <td>Toobin Reinstated In Touching Interview: 'I Go...</td>\n",
              "      <td>2021-06-10</td>\n",
              "      <td>1</td>\n",
              "    </tr>\n",
              "    <tr>\n",
              "      <th>1</th>\n",
              "      <td>1</td>\n",
              "      <td>https://babylonbee.com/'/news/osteen-an-attack...</td>\n",
              "      <td>Joel Osteen: 'Attacks Against Me Are Attacks A...</td>\n",
              "      <td>2021-06-10</td>\n",
              "      <td>1</td>\n",
              "    </tr>\n",
              "    <tr>\n",
              "      <th>2</th>\n",
              "      <td>2</td>\n",
              "      <td>https://babylonbee.com/'/news/cnn-forced-to-re...</td>\n",
              "      <td>CNN Forced To Reset 'Days Since Trump Was Prov...</td>\n",
              "      <td>2021-06-10</td>\n",
              "      <td>1</td>\n",
              "    </tr>\n",
              "    <tr>\n",
              "      <th>3</th>\n",
              "      <td>3</td>\n",
              "      <td>https://babylonbee.com/'/news/if-you-dont-use-...</td>\n",
              "      <td>Biden: 'If You Don't Use The N-Word, You Ain't...</td>\n",
              "      <td>2021-06-10</td>\n",
              "      <td>1</td>\n",
              "    </tr>\n",
              "    <tr>\n",
              "      <th>4</th>\n",
              "      <td>4</td>\n",
              "      <td>https://babylonbee.com/'/news/pelosi-asks-for-...</td>\n",
              "      <td>Pelosi Asks Omar To Clarify Ambiguous Statemen...</td>\n",
              "      <td>2021-06-10</td>\n",
              "      <td>1</td>\n",
              "    </tr>\n",
              "    <tr>\n",
              "      <th>...</th>\n",
              "      <td>...</td>\n",
              "      <td>...</td>\n",
              "      <td>...</td>\n",
              "      <td>...</td>\n",
              "      <td>...</td>\n",
              "    </tr>\n",
              "    <tr>\n",
              "      <th>8920</th>\n",
              "      <td>1320</td>\n",
              "      <td>https://dailybonnet.com/kitchener-man-finally-...</td>\n",
              "      <td>Kitchener Man Finally Meets His Waterloo</td>\n",
              "      <td>2021-05-05</td>\n",
              "      <td>1</td>\n",
              "    </tr>\n",
              "    <tr>\n",
              "      <th>8921</th>\n",
              "      <td>1321</td>\n",
              "      <td>https://dailybonnet.com/mennonite-authors-eage...</td>\n",
              "      <td>Mennonite Authors Eager to Get their Books Ban...</td>\n",
              "      <td>2021-05-04</td>\n",
              "      <td>1</td>\n",
              "    </tr>\n",
              "    <tr>\n",
              "      <th>8922</th>\n",
              "      <td>1322</td>\n",
              "      <td>https://dailybonnet.com/government-now-requiri...</td>\n",
              "      <td>Government Now Requiring Masks to Fully Cover ...</td>\n",
              "      <td>2021-05-03</td>\n",
              "      <td>1</td>\n",
              "    </tr>\n",
              "    <tr>\n",
              "      <th>8923</th>\n",
              "      <td>1323</td>\n",
              "      <td>https://dailybonnet.com/millions-flee-communis...</td>\n",
              "      <td>Millions Flee “Communist” Canada for a Better ...</td>\n",
              "      <td>2021-05-02</td>\n",
              "      <td>1</td>\n",
              "    </tr>\n",
              "    <tr>\n",
              "      <th>8924</th>\n",
              "      <td>1324</td>\n",
              "      <td>https://dailybonnet.com/young-people-wonder-ju...</td>\n",
              "      <td>Young People Wonder Just What Kind of World Th...</td>\n",
              "      <td>2021-05-01</td>\n",
              "      <td>1</td>\n",
              "    </tr>\n",
              "  </tbody>\n",
              "</table>\n",
              "<p>8925 rows × 5 columns</p>\n",
              "</div>"
            ],
            "text/plain": [
              "      index  ... is_sarcastic\n",
              "0         0  ...            1\n",
              "1         1  ...            1\n",
              "2         2  ...            1\n",
              "3         3  ...            1\n",
              "4         4  ...            1\n",
              "...     ...  ...          ...\n",
              "8920   1320  ...            1\n",
              "8921   1321  ...            1\n",
              "8922   1322  ...            1\n",
              "8923   1323  ...            1\n",
              "8924   1324  ...            1\n",
              "\n",
              "[8925 rows x 5 columns]"
            ]
          },
          "metadata": {
            "tags": []
          },
          "execution_count": 16
        }
      ]
    },
    {
      "cell_type": "markdown",
      "metadata": {
        "id": "GA5E0eWPcXNR"
      },
      "source": [
        "# 3. Crawling from Official News Websites\n",
        "<a name=\"news\"></a>"
      ]
    },
    {
      "cell_type": "markdown",
      "metadata": {
        "id": "nwCkXBnjmnWg"
      },
      "source": [
        "##Crawling from https://www.cbsnews.com/latest/politics/"
      ]
    },
    {
      "cell_type": "code",
      "metadata": {
        "id": "yZ5crOI7f_lE"
      },
      "source": [
        "# section = ['us', 'world', 'politics', 'entertainment', 'health', 'moneywatch','technology','science','crime','sports' ]\n",
        "content4 = []\n",
        "# for sec in section:\n",
        "for i in range(2, 1872):\n",
        "  url4 = \"https://www.cbsnews.com/latest/politics/\" +  str(i) + \"/\"\n",
        "  #print(url)\n",
        "  reqs = requests.get(url4)\n",
        "  page_source4 = soup(reqs.content, 'html.parser')\n",
        "  page_source4 = page_source4.find_all(\"a\",{\"class\":\"item__anchor\"})\n",
        "  #print(page_source)\n",
        "  for line in page_source4:\n",
        "    headtitle4 = line.find('h4', class_ ='item__hed ').get_text()\n",
        "    headtitle4 = headtitle4.replace(\"\\n\",\"\") # bỏ /n trong việc xuất chuỗi ký tự\n",
        "    #print(headtitle)\n",
        "    link4 = line.get('href')\n",
        "    #print(link)\n",
        "    time4 = line.find('li', class_=\"item__date\").get_text()\n",
        "    if len(time4) != 10:\n",
        "      time4 = time4 + ', 2021' \n",
        "    #print(time)\n",
        "    if 'ago' not in time4:\n",
        "      content4.append({'article_link':link4, 'headline':headtitle4, 'date': time4, \"is_sarcastic\":0})\n",
        "json_res4 = json.dumps(content4)\n",
        "#print(json_res)"
      ],
      "execution_count": null,
      "outputs": []
    },
    {
      "cell_type": "code",
      "metadata": {
        "id": "ubXmN8B_NE6_"
      },
      "source": [
        "print(json_res4)"
      ],
      "execution_count": null,
      "outputs": []
    },
    {
      "cell_type": "code",
      "metadata": {
        "colab": {
          "base_uri": "https://localhost:8080/",
          "height": 415
        },
        "id": "OKWs4nJUg2rn",
        "outputId": "570f1f18-3e01-4318-9ece-870fc9167da4"
      },
      "source": [
        "df4 = pd.read_json(StringIO(json_res4))\n",
        "mask4 = (df4['date'] >= '2018-01-01') #chỉ lấy những bài viết trong 3 năm kể từ đây\n",
        "df4 = df4.loc[mask4]\n",
        "df4"
      ],
      "execution_count": null,
      "outputs": [
        {
          "output_type": "execute_result",
          "data": {
            "text/html": [
              "<div>\n",
              "<style scoped>\n",
              "    .dataframe tbody tr th:only-of-type {\n",
              "        vertical-align: middle;\n",
              "    }\n",
              "\n",
              "    .dataframe tbody tr th {\n",
              "        vertical-align: top;\n",
              "    }\n",
              "\n",
              "    .dataframe thead th {\n",
              "        text-align: right;\n",
              "    }\n",
              "</style>\n",
              "<table border=\"1\" class=\"dataframe\">\n",
              "  <thead>\n",
              "    <tr style=\"text-align: right;\">\n",
              "      <th></th>\n",
              "      <th>article_link</th>\n",
              "      <th>headline</th>\n",
              "      <th>date</th>\n",
              "      <th>is_sarcastic</th>\n",
              "    </tr>\n",
              "  </thead>\n",
              "  <tbody>\n",
              "    <tr>\n",
              "      <th>0</th>\n",
              "      <td>https://www.cbsnews.com/news/president-biden-r...</td>\n",
              "      <td>Biden revokes Trump's attempted Ti...</td>\n",
              "      <td>2021-06-09</td>\n",
              "      <td>0</td>\n",
              "    </tr>\n",
              "    <tr>\n",
              "      <th>1</th>\n",
              "      <td>https://www.cbsnews.com/news/biden-infrastruct...</td>\n",
              "      <td>Biden ends infrastructure negotiat...</td>\n",
              "      <td>2021-06-09</td>\n",
              "      <td>0</td>\n",
              "    </tr>\n",
              "    <tr>\n",
              "      <th>2</th>\n",
              "      <td>https://www.cbsnews.com/news/fastly-says-wides...</td>\n",
              "      <td>Fastly says software bug triggered...</td>\n",
              "      <td>2021-06-09</td>\n",
              "      <td>0</td>\n",
              "    </tr>\n",
              "    <tr>\n",
              "      <th>3</th>\n",
              "      <td>https://www.cbsnews.com/news/joe-biden-marjory...</td>\n",
              "      <td>Biden congratulates Marjory Stonem...</td>\n",
              "      <td>2021-06-09</td>\n",
              "      <td>0</td>\n",
              "    </tr>\n",
              "    <tr>\n",
              "      <th>4</th>\n",
              "      <td>https://www.cbsnews.com/news/biden-europe-trip...</td>\n",
              "      <td>Biden arrives in Europe for first ...</td>\n",
              "      <td>2021-06-09</td>\n",
              "      <td>0</td>\n",
              "    </tr>\n",
              "    <tr>\n",
              "      <th>...</th>\n",
              "      <td>...</td>\n",
              "      <td>...</td>\n",
              "      <td>...</td>\n",
              "      <td>...</td>\n",
              "    </tr>\n",
              "    <tr>\n",
              "      <th>44872</th>\n",
              "      <td>https://www.cbsnews.com/pictures/ted-bundy-ser...</td>\n",
              "      <td>Ted Bundy: The serial killer's fin...</td>\n",
              "      <td>2021-06-05</td>\n",
              "      <td>0</td>\n",
              "    </tr>\n",
              "    <tr>\n",
              "      <th>44873</th>\n",
              "      <td>https://www.cbsnews.com/pictures/whats-coming-...</td>\n",
              "      <td>New on Netflix, Amazon, Disney+, H...</td>\n",
              "      <td>2021-05-27</td>\n",
              "      <td>0</td>\n",
              "    </tr>\n",
              "    <tr>\n",
              "      <th>44874</th>\n",
              "      <td>https://www.cbsnews.com/pictures/richest-peopl...</td>\n",
              "      <td>Richest people in the world</td>\n",
              "      <td>2021-05-26</td>\n",
              "      <td>0</td>\n",
              "    </tr>\n",
              "    <tr>\n",
              "      <th>44875</th>\n",
              "      <td>https://www.cbsnews.com/pictures/richard-ramir...</td>\n",
              "      <td>Richard Ramirez: The story, the ev...</td>\n",
              "      <td>2021-05-21</td>\n",
              "      <td>0</td>\n",
              "    </tr>\n",
              "    <tr>\n",
              "      <th>44876</th>\n",
              "      <td>https://www.cbsnews.com/pictures/deadliest-sta...</td>\n",
              "      <td>Deadliest states for drug overdose...</td>\n",
              "      <td>2021-05-21</td>\n",
              "      <td>0</td>\n",
              "    </tr>\n",
              "  </tbody>\n",
              "</table>\n",
              "<p>44877 rows × 4 columns</p>\n",
              "</div>"
            ],
            "text/plain": [
              "                                            article_link  ... is_sarcastic\n",
              "0      https://www.cbsnews.com/news/president-biden-r...  ...            0\n",
              "1      https://www.cbsnews.com/news/biden-infrastruct...  ...            0\n",
              "2      https://www.cbsnews.com/news/fastly-says-wides...  ...            0\n",
              "3      https://www.cbsnews.com/news/joe-biden-marjory...  ...            0\n",
              "4      https://www.cbsnews.com/news/biden-europe-trip...  ...            0\n",
              "...                                                  ...  ...          ...\n",
              "44872  https://www.cbsnews.com/pictures/ted-bundy-ser...  ...            0\n",
              "44873  https://www.cbsnews.com/pictures/whats-coming-...  ...            0\n",
              "44874  https://www.cbsnews.com/pictures/richest-peopl...  ...            0\n",
              "44875  https://www.cbsnews.com/pictures/richard-ramir...  ...            0\n",
              "44876  https://www.cbsnews.com/pictures/deadliest-sta...  ...            0\n",
              "\n",
              "[44877 rows x 4 columns]"
            ]
          },
          "metadata": {
            "tags": []
          },
          "execution_count": 19
        }
      ]
    },
    {
      "cell_type": "code",
      "metadata": {
        "id": "hmj7SXiYmRvQ"
      },
      "source": [
        "df3.to_csv(\"/content/test4.csv\")"
      ],
      "execution_count": null,
      "outputs": []
    },
    {
      "cell_type": "markdown",
      "metadata": {
        "id": "_nDcxPjNy84M"
      },
      "source": [
        "## Crawling from https://fortune.com/"
      ]
    },
    {
      "cell_type": "code",
      "metadata": {
        "colab": {
          "base_uri": "https://localhost:8080/",
          "height": 415
        },
        "id": "E2u_jnw5y7lu",
        "outputId": "88516f85-5669-4140-96b8-ca25e85b3e84"
      },
      "source": [
        "file_out5 = []\n",
        "for i in range(195): \n",
        "  url5 = 'https://fortune.com/section/politics/page/'+str(i)+'/'\n",
        "  reqs5 = requests.get(url5)\n",
        "  page_source5 = soup(reqs5.content, 'html.parser')\n",
        "  page_source5 = page_source5.find_all(\"li\",{\"class\":\"termArchiveContentList__item--1LvxK\"})\n",
        "  #print(page_source)\n",
        "  for line in page_source5:\n",
        "    headtitles5 = line.find(\"div\", class_ = 'termArchiveContentListItem__title--14jcP')\n",
        "    times5 = line.find(\"div\", class_ = \"termArchiveContentListItem__meta--3RUO6\")\n",
        "    headtitle5 = headtitles5.find('a', class_ = '')\n",
        "    #print(headtitle)\n",
        "    link = headtitle5.get('href')\n",
        "    title = headtitle5.get_text()\n",
        "    time = times5.find('p').get_text()\n",
        "    # print(title)\n",
        "    # print(link)\n",
        "    # print(time)\n",
        "    file_out5.append({'article_link':link, 'headline':title, 'date': time, \"is_sarcastic\":0})\n",
        "json_res = json.dumps(file_out5)\n",
        "df5 = pd.read_json(StringIO(json_res))\n",
        "df5\n",
        "  \n"
      ],
      "execution_count": null,
      "outputs": [
        {
          "output_type": "execute_result",
          "data": {
            "text/html": [
              "<div>\n",
              "<style scoped>\n",
              "    .dataframe tbody tr th:only-of-type {\n",
              "        vertical-align: middle;\n",
              "    }\n",
              "\n",
              "    .dataframe tbody tr th {\n",
              "        vertical-align: top;\n",
              "    }\n",
              "\n",
              "    .dataframe thead th {\n",
              "        text-align: right;\n",
              "    }\n",
              "</style>\n",
              "<table border=\"1\" class=\"dataframe\">\n",
              "  <thead>\n",
              "    <tr style=\"text-align: right;\">\n",
              "      <th></th>\n",
              "      <th>article_link</th>\n",
              "      <th>headline</th>\n",
              "      <th>date</th>\n",
              "      <th>is_sarcastic</th>\n",
              "    </tr>\n",
              "  </thead>\n",
              "  <tbody>\n",
              "    <tr>\n",
              "      <th>0</th>\n",
              "      <td>https://fortune.com/2021/06/10/1-2-trillion-in...</td>\n",
              "      <td>$1.2 trillion infrastructure negotiations prov...</td>\n",
              "      <td>2021-06-10</td>\n",
              "      <td>0</td>\n",
              "    </tr>\n",
              "    <tr>\n",
              "      <th>1</th>\n",
              "      <td>https://fortune.com/2021/06/10/macys-fireworks...</td>\n",
              "      <td>Macy’s is bringing back its July Fourth firewo...</td>\n",
              "      <td>2021-06-10</td>\n",
              "      <td>0</td>\n",
              "    </tr>\n",
              "    <tr>\n",
              "      <th>2</th>\n",
              "      <td>https://fortune.com/2021/06/09/childcare-crisi...</td>\n",
              "      <td>With the childcare crisis front and center, th...</td>\n",
              "      <td>2021-06-09</td>\n",
              "      <td>0</td>\n",
              "    </tr>\n",
              "    <tr>\n",
              "      <th>3</th>\n",
              "      <td>https://fortune.com/2021/06/08/us-senate-bill-...</td>\n",
              "      <td>The Senate is looking to pass legislation that...</td>\n",
              "      <td>2021-06-08</td>\n",
              "      <td>0</td>\n",
              "    </tr>\n",
              "    <tr>\n",
              "      <th>4</th>\n",
              "      <td>https://fortune.com/2021/06/08/ecb-monetary-po...</td>\n",
              "      <td>Why inflation could end the truce at Europe’s ...</td>\n",
              "      <td>2021-06-08</td>\n",
              "      <td>0</td>\n",
              "    </tr>\n",
              "    <tr>\n",
              "      <th>...</th>\n",
              "      <td>...</td>\n",
              "      <td>...</td>\n",
              "      <td>...</td>\n",
              "      <td>...</td>\n",
              "    </tr>\n",
              "    <tr>\n",
              "      <th>2725</th>\n",
              "      <td>https://fortune.com/2019/06/21/trump-human-rig...</td>\n",
              "      <td>When Asked About Human Rights Issues, Trump Po...</td>\n",
              "      <td>2019-06-21</td>\n",
              "      <td>0</td>\n",
              "    </tr>\n",
              "    <tr>\n",
              "      <th>2726</th>\n",
              "      <td>https://fortune.com/2019/06/21/trump-strike-on...</td>\n",
              "      <td>What Is the AUMF? The Repeal of This Policy Co...</td>\n",
              "      <td>2019-06-21</td>\n",
              "      <td>0</td>\n",
              "    </tr>\n",
              "    <tr>\n",
              "      <th>2727</th>\n",
              "      <td>https://fortune.com/2019/06/20/hope-hicks-full...</td>\n",
              "      <td>Hope Hicks Interview Transcript Released: Read...</td>\n",
              "      <td>2019-06-20</td>\n",
              "      <td>0</td>\n",
              "    </tr>\n",
              "    <tr>\n",
              "      <th>2728</th>\n",
              "      <td>https://fortune.com/2019/06/20/trump-kim-north...</td>\n",
              "      <td>Why the Trump-Kim Nuclear Show Is Set for Act ...</td>\n",
              "      <td>2019-06-20</td>\n",
              "      <td>0</td>\n",
              "    </tr>\n",
              "    <tr>\n",
              "      <th>2729</th>\n",
              "      <td>https://fortune.com/2019/06/20/roger-stone-ins...</td>\n",
              "      <td>Roger Stone’s Social Media Posts Violated His ...</td>\n",
              "      <td>2019-06-20</td>\n",
              "      <td>0</td>\n",
              "    </tr>\n",
              "  </tbody>\n",
              "</table>\n",
              "<p>2730 rows × 4 columns</p>\n",
              "</div>"
            ],
            "text/plain": [
              "                                           article_link  ... is_sarcastic\n",
              "0     https://fortune.com/2021/06/10/1-2-trillion-in...  ...            0\n",
              "1     https://fortune.com/2021/06/10/macys-fireworks...  ...            0\n",
              "2     https://fortune.com/2021/06/09/childcare-crisi...  ...            0\n",
              "3     https://fortune.com/2021/06/08/us-senate-bill-...  ...            0\n",
              "4     https://fortune.com/2021/06/08/ecb-monetary-po...  ...            0\n",
              "...                                                 ...  ...          ...\n",
              "2725  https://fortune.com/2019/06/21/trump-human-rig...  ...            0\n",
              "2726  https://fortune.com/2019/06/21/trump-strike-on...  ...            0\n",
              "2727  https://fortune.com/2019/06/20/hope-hicks-full...  ...            0\n",
              "2728  https://fortune.com/2019/06/20/trump-kim-north...  ...            0\n",
              "2729  https://fortune.com/2019/06/20/roger-stone-ins...  ...            0\n",
              "\n",
              "[2730 rows x 4 columns]"
            ]
          },
          "metadata": {
            "tags": []
          },
          "execution_count": 21
        }
      ]
    },
    {
      "cell_type": "code",
      "metadata": {
        "id": "J5TajICvNUON"
      },
      "source": [
        "print(json_res)"
      ],
      "execution_count": null,
      "outputs": []
    },
    {
      "cell_type": "markdown",
      "metadata": {
        "id": "YMj4_44QfEk8"
      },
      "source": [
        "## Crawling from https://www.nytimes.com/"
      ]
    },
    {
      "cell_type": "code",
      "metadata": {
        "colab": {
          "base_uri": "https://localhost:8080/",
          "height": 415
        },
        "id": "UfwrzuWVfPQe",
        "outputId": "56e9e20d-6349-4208-a45e-e12ed15e75a0"
      },
      "source": [
        "file_out6 = []\n",
        "for y in range(2018, 2021):\n",
        "  for m in range(1, 10):\n",
        "    for d in range(1, 10):\n",
        "      url = 'https://www.nytimes.com/sitemap/'+str(y)+'/0'+str(m)+'/0'+str(d)+'/'\n",
        "      reqs = requests.get(url)\n",
        "      #print(reqs)\n",
        "      page_source = soup(reqs.content, 'html.parser')\n",
        "      page_source = page_source.find('ul', class_ = 'css-cmbicj')\n",
        "      #print(page_source)\n",
        "      for line in page_source:\n",
        "        title = line.find('a').get_text()\n",
        "        link = line.find('a').get('href')\n",
        "        time = str(y) + '-' + str(m) + '-' + str(d)\n",
        "        # print(title)\n",
        "        # print(link)\n",
        "        # print(time)\n",
        "        file_out6.append({'article_link':link, 'headline':title, 'date': time, \"is_sarcastic\":0})\n",
        "for y in range(2018, 2021):\n",
        "  for m in range(10, 13):\n",
        "    for d in range(10, 28):\n",
        "      url = 'https://www.nytimes.com/sitemap/'+str(y)+'/'+str(m)+'/'+str(d)+'/'\n",
        "      reqs = requests.get(url)\n",
        "      #print(reqs)\n",
        "      page_source = soup(reqs.content, 'html.parser')\n",
        "      page_source = page_source.find('ul', class_ = 'css-cmbicj')\n",
        "      #print(page_source)\n",
        "      for line in page_source:\n",
        "        title = line.find('a').get_text()\n",
        "        link = line.find('a').get('href')\n",
        "        time = str(y) + '-' + str(m) + '-' + str(d)\n",
        "        # print(title)\n",
        "        # print(link)\n",
        "        # print(time)\n",
        "        file_out6.append({'article_link':link, 'headline':title, 'date': time, \"is_sarcastic\":0})\n",
        "json_res6 = json.dumps(file_out6)\n",
        "df6 = pd.read_json(StringIO(json_res6))\n",
        "df6\n",
        "      "
      ],
      "execution_count": null,
      "outputs": [
        {
          "output_type": "execute_result",
          "data": {
            "text/html": [
              "<div>\n",
              "<style scoped>\n",
              "    .dataframe tbody tr th:only-of-type {\n",
              "        vertical-align: middle;\n",
              "    }\n",
              "\n",
              "    .dataframe tbody tr th {\n",
              "        vertical-align: top;\n",
              "    }\n",
              "\n",
              "    .dataframe thead th {\n",
              "        text-align: right;\n",
              "    }\n",
              "</style>\n",
              "<table border=\"1\" class=\"dataframe\">\n",
              "  <thead>\n",
              "    <tr style=\"text-align: right;\">\n",
              "      <th></th>\n",
              "      <th>article_link</th>\n",
              "      <th>headline</th>\n",
              "      <th>date</th>\n",
              "      <th>is_sarcastic</th>\n",
              "    </tr>\n",
              "  </thead>\n",
              "  <tbody>\n",
              "    <tr>\n",
              "      <th>0</th>\n",
              "      <td>https://www.nytimes.com/2017/12/31/opinion/tom...</td>\n",
              "      <td>Tom Brokaw: You Can Find the Entire World Insi...</td>\n",
              "      <td>2018-01-01</td>\n",
              "      <td>0</td>\n",
              "    </tr>\n",
              "    <tr>\n",
              "      <th>1</th>\n",
              "      <td>https://www.nytimes.com/2017/12/31/world/ameri...</td>\n",
              "      <td>New York Family of 5 Among 10 Americans Killed...</td>\n",
              "      <td>2018-01-01</td>\n",
              "      <td>0</td>\n",
              "    </tr>\n",
              "    <tr>\n",
              "      <th>2</th>\n",
              "      <td>https://www.nytimes.com/2017/12/31/nyregion/me...</td>\n",
              "      <td>The Wall of Love Outside a Jail</td>\n",
              "      <td>2018-01-01</td>\n",
              "      <td>0</td>\n",
              "    </tr>\n",
              "    <tr>\n",
              "      <th>3</th>\n",
              "      <td>https://www.nytimes.com/2017/12/31/opinion/new...</td>\n",
              "      <td>The Sentient-Being Diet</td>\n",
              "      <td>2018-01-01</td>\n",
              "      <td>0</td>\n",
              "    </tr>\n",
              "    <tr>\n",
              "      <th>4</th>\n",
              "      <td>https://www.nytimes.com/2017/12/31/opinion/men...</td>\n",
              "      <td>Changing the Script</td>\n",
              "      <td>2018-01-01</td>\n",
              "      <td>0</td>\n",
              "    </tr>\n",
              "    <tr>\n",
              "      <th>...</th>\n",
              "      <td>...</td>\n",
              "      <td>...</td>\n",
              "      <td>...</td>\n",
              "      <td>...</td>\n",
              "    </tr>\n",
              "    <tr>\n",
              "      <th>61606</th>\n",
              "      <td>https://www.nytimes.com/2020/12/27/sports/jets...</td>\n",
              "      <td>Jets Start a Winning Streak and Diminish Brown...</td>\n",
              "      <td>2020-12-27</td>\n",
              "      <td>0</td>\n",
              "    </tr>\n",
              "    <tr>\n",
              "      <th>61607</th>\n",
              "      <td>https://www.nytimes.com/2020/12/27/crosswords/...</td>\n",
              "      <td>Who Wants Candy?</td>\n",
              "      <td>2020-12-27</td>\n",
              "      <td>0</td>\n",
              "    </tr>\n",
              "    <tr>\n",
              "      <th>61608</th>\n",
              "      <td>https://www.nytimes.com/2020/12/27/business/st...</td>\n",
              "      <td>As Bills Pile Up, Many Anxiously Keep Tabs on ...</td>\n",
              "      <td>2020-12-27</td>\n",
              "      <td>0</td>\n",
              "    </tr>\n",
              "    <tr>\n",
              "      <th>61609</th>\n",
              "      <td>https://www.nytimes.com/2020/12/27/sports/foot...</td>\n",
              "      <td>Ravens Snatch Back Giants’ Playoff Hopes</td>\n",
              "      <td>2020-12-27</td>\n",
              "      <td>0</td>\n",
              "    </tr>\n",
              "    <tr>\n",
              "      <th>61610</th>\n",
              "      <td>https://www.nytimes.com/2020/12/27/sports/foot...</td>\n",
              "      <td>NFL Week 16: What We Learned</td>\n",
              "      <td>2020-12-27</td>\n",
              "      <td>0</td>\n",
              "    </tr>\n",
              "  </tbody>\n",
              "</table>\n",
              "<p>61611 rows × 4 columns</p>\n",
              "</div>"
            ],
            "text/plain": [
              "                                            article_link  ... is_sarcastic\n",
              "0      https://www.nytimes.com/2017/12/31/opinion/tom...  ...            0\n",
              "1      https://www.nytimes.com/2017/12/31/world/ameri...  ...            0\n",
              "2      https://www.nytimes.com/2017/12/31/nyregion/me...  ...            0\n",
              "3      https://www.nytimes.com/2017/12/31/opinion/new...  ...            0\n",
              "4      https://www.nytimes.com/2017/12/31/opinion/men...  ...            0\n",
              "...                                                  ...  ...          ...\n",
              "61606  https://www.nytimes.com/2020/12/27/sports/jets...  ...            0\n",
              "61607  https://www.nytimes.com/2020/12/27/crosswords/...  ...            0\n",
              "61608  https://www.nytimes.com/2020/12/27/business/st...  ...            0\n",
              "61609  https://www.nytimes.com/2020/12/27/sports/foot...  ...            0\n",
              "61610  https://www.nytimes.com/2020/12/27/sports/foot...  ...            0\n",
              "\n",
              "[61611 rows x 4 columns]"
            ]
          },
          "metadata": {
            "tags": []
          },
          "execution_count": 23
        }
      ]
    },
    {
      "cell_type": "code",
      "metadata": {
        "id": "XgGDtCVwSc-x"
      },
      "source": [
        "#merge sarcasm_title_article dataframe and official_articles dataframe\n",
        "news = [result,df4, df5, df6]\n",
        "data = pd.concat(news)\n",
        "data = data.reset_index()\n",
        "data =data.drop(['level_0', 'index'], axis = 1) # để nộp file csv\n",
        "data1 = data.drop(['date'], axis = 1) #để nộp file json bao gồm article_link, headline, is_sarcastic"
      ],
      "execution_count": null,
      "outputs": []
    },
    {
      "cell_type": "code",
      "metadata": {
        "id": "STF0qYLE8B2r"
      },
      "source": [
        "#tạo file json để submit\n",
        "out = data1.to_json('/content/submit.json',orient='records', lines=True)\n",
        "out2 = data.to_csv('/content/submit.csv')"
      ],
      "execution_count": null,
      "outputs": []
    },
    {
      "cell_type": "code",
      "metadata": {
        "colab": {
          "base_uri": "https://localhost:8080/",
          "height": 33
        },
        "id": "OmoEnK_4QiZE",
        "outputId": "07fd13e1-8883-4340-dda9-635f0c34f2f7"
      },
      "source": [
        "from google.colab import files\n",
        "files.download('/content/submit.json') "
      ],
      "execution_count": null,
      "outputs": [
        {
          "output_type": "display_data",
          "data": {
            "application/javascript": [
              "\n",
              "    async function download(id, filename, size) {\n",
              "      if (!google.colab.kernel.accessAllowed) {\n",
              "        return;\n",
              "      }\n",
              "      const div = document.createElement('div');\n",
              "      const label = document.createElement('label');\n",
              "      label.textContent = `Downloading \"${filename}\": `;\n",
              "      div.appendChild(label);\n",
              "      const progress = document.createElement('progress');\n",
              "      progress.max = size;\n",
              "      div.appendChild(progress);\n",
              "      document.body.appendChild(div);\n",
              "\n",
              "      const buffers = [];\n",
              "      let downloaded = 0;\n",
              "\n",
              "      const channel = await google.colab.kernel.comms.open(id);\n",
              "      // Send a message to notify the kernel that we're ready.\n",
              "      channel.send({})\n",
              "\n",
              "      for await (const message of channel.messages) {\n",
              "        // Send a message to notify the kernel that we're ready.\n",
              "        channel.send({})\n",
              "        if (message.buffers) {\n",
              "          for (const buffer of message.buffers) {\n",
              "            buffers.push(buffer);\n",
              "            downloaded += buffer.byteLength;\n",
              "            progress.value = downloaded;\n",
              "          }\n",
              "        }\n",
              "      }\n",
              "      const blob = new Blob(buffers, {type: 'application/binary'});\n",
              "      const a = document.createElement('a');\n",
              "      a.href = window.URL.createObjectURL(blob);\n",
              "      a.download = filename;\n",
              "      div.appendChild(a);\n",
              "      a.click();\n",
              "      div.remove();\n",
              "    }\n",
              "  "
            ],
            "text/plain": [
              "<IPython.core.display.Javascript object>"
            ]
          },
          "metadata": {
            "tags": []
          }
        },
        {
          "output_type": "display_data",
          "data": {
            "application/javascript": [
              "download(\"download_4d12866b-0785-4b40-9636-616f6ea6db3c\", \"submit.json\", 24340919)"
            ],
            "text/plain": [
              "<IPython.core.display.Javascript object>"
            ]
          },
          "metadata": {
            "tags": []
          }
        }
      ]
    },
    {
      "cell_type": "markdown",
      "metadata": {
        "id": "-1djeBdacg5P"
      },
      "source": [
        "#4. Nhận xét:\n",
        "<a name=\"nhanxet\"></a>\n",
        "* Thư viện bs4 hỗ trợ chúng em khá nhiều trong việc crawling data từ các websites.\n",
        "* Trong lúc crawling, có những trang web denied requests của chúng em dẫn đến việc chúng em phải đổi sang trang khác. Song song, có các trang mất thời gian rất nhiều để phản hồi. (ví dụ trang cbsnews cần gần 40p để crawl)\n",
        "\n",
        "* Mật độ các tin tức chính thống nhiều hơn tin tức châm biếm nên có thể gây chênh lệnh về phân bố dữ liệu, ảnh hưởng đến quá trình train model.\n"
      ]
    }
  ]
}
