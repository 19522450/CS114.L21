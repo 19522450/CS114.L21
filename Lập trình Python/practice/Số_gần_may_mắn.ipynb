{
  "nbformat": 4,
  "nbformat_minor": 0,
  "metadata": {
    "colab": {
      "name": "Số_gần_may_mắn.ipynb",
      "provenance": [],
      "authorship_tag": "ABX9TyPnGUlAUthxnC5maUVxf8ph",
      "include_colab_link": true
    },
    "kernelspec": {
      "name": "python3",
      "display_name": "Python 3"
    }
  },
  "cells": [
    {
      "cell_type": "markdown",
      "metadata": {
        "id": "view-in-github",
        "colab_type": "text"
      },
      "source": [
        "<a href=\"https://colab.research.google.com/github/lphuong304/CS114.L21/blob/main/L%E1%BA%ADp%20tr%C3%ACnh%20Python/practice/S%E1%BB%91_g%E1%BA%A7n_may_m%E1%BA%AFn.ipynb\" target=\"_parent\"><img src=\"https://colab.research.google.com/assets/colab-badge.svg\" alt=\"Open In Colab\"/></a>"
      ]
    },
    {
      "cell_type": "markdown",
      "metadata": {
        "id": "ZXv2o5OJsbMv"
      },
      "source": [
        "### ĐỀ BÀI\r\n",
        "Số may mắn là các số nguyên dương chỉ chứa các chữ số là $4$ hoặc $7$.\r\n",
        "\r\n",
        "Bình thích sự may mắn, tuy nhiên số lượng số may mắn không nhiều. Chính vì thế, Bình định nghĩa ra một loại số mới, gọi là số gần may mắn với điều kiện số chữ số may mắn trong số đó là một số may mắn.\r\n",
        "\r\n",
        "**INPUT**\r\n",
        "Một số nguyên dương **n (n <= 1018)**.\r\n",
        "\r\n",
        "**OUTPUT**\r\n",
        "In ra **YES** nếu số đó là một số gần may mắn, ngược lại in **NO**."
      ]
    },
    {
      "cell_type": "code",
      "metadata": {
        "colab": {
          "base_uri": "https://localhost:8080/"
        },
        "id": "VG36gIDmsYGo",
        "outputId": "28c169c3-2587-439b-e909-b89fca979103"
      },
      "source": [
        "n=input()\r\n",
        "count=0\r\n",
        "for i in n:\r\n",
        "    if (i=='4') or (i=='7'):\r\n",
        "        count=count+1\r\n",
        "if count==4 or count==7:\r\n",
        "    print('YES')\r\n",
        "else:\r\n",
        "    print('NO')"
      ],
      "execution_count": 1,
      "outputs": [
        {
          "output_type": "stream",
          "text": [
            "47434747\n",
            "YES\n"
          ],
          "name": "stdout"
        }
      ]
    }
  ]
}