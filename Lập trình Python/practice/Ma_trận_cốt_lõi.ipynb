{
  "nbformat": 4,
  "nbformat_minor": 0,
  "metadata": {
    "colab": {
      "name": "Ma_trận_cốt_lõi.ibynp",
      "provenance": [],
      "authorship_tag": "ABX9TyNtQFff0cAhshY/vfQbT9d2",
      "include_colab_link": true
    },
    "kernelspec": {
      "name": "python3",
      "display_name": "Python 3"
    }
  },
  "cells": [
    {
      "cell_type": "markdown",
      "metadata": {
        "id": "view-in-github",
        "colab_type": "text"
      },
      "source": [
        "<a href=\"https://colab.research.google.com/github/lphuong304/CS114.L21/blob/main/L%E1%BA%ADp%20tr%C3%ACnh%20Python/practice/Ma_tr%E1%BA%ADn_c%E1%BB%91t_l%C3%B5i.ipynb\" target=\"_parent\"><img src=\"https://colab.research.google.com/assets/colab-badge.svg\" alt=\"Open In Colab\"/></a>"
      ]
    },
    {
      "cell_type": "markdown",
      "metadata": {
        "id": "FeaIhFKlpaEM"
      },
      "source": [
        "###ĐỀ BÀI\r\n",
        "Bình có một ma trận **5x5**, bao gồm 24 số không và 1 số một với thứ tự ngẫu nhiên. Chỉ số các hàng và cột của ma trận được đánh số lần lượt **từ 1 đến 5.**\r\n",
        "\r\n",
        "Bình là một người rất kĩ tính và chỉ thích những thứ gì cân bằng và đồng đều. Chính vì vậy, anh ấy chỉ thích các ma trận mà có vị trí số một nằm ở giữa. Các bước hợp lệ để thay đổi một ma trận bao gồm: **hoán vị hai hàng liền kề của ma trận và hoán vị hai cột liền kề của ma trận**.\r\n",
        "\r\n",
        "Hãy giúp Bình tìm số bước hợp lệ tối thiểu để biến một ma trận thỏa mãn sở thích của anh ấy.\r\n",
        "\r\n",
        "**INPUT**\r\n",
        "Một ma trận 5x5 chứa 24 số không và 1 số một.\r\n",
        "\r\n",
        "**OUTPUT**\r\n",
        "Số bước hợp lệ tối thiểu để biến đổi ma trận.\r\n"
      ]
    },
    {
      "cell_type": "code",
      "metadata": {
        "colab": {
          "base_uri": "https://localhost:8080/"
        },
        "id": "AG8o_ancqRzC",
        "outputId": "d2d42bf5-a8b7-4bec-945d-ed9f7f4cffb2"
      },
      "source": [
        "i_res=0\r\n",
        "j_res=0\r\n",
        "\r\n",
        "for i in range(5):\r\n",
        "    matrix = input().split()\r\n",
        "    for j in range(5):\r\n",
        "        if matrix[j]=='1':\r\n",
        "            i_res=i\r\n",
        "            j_res=j\r\n",
        "            break\r\n",
        "print(abs(i_res-2)+abs(j_res-2))"
      ],
      "execution_count": 3,
      "outputs": [
        {
          "output_type": "stream",
          "text": [
            "0 0 0 0 0\n",
            "0 0 0 0 1\n",
            "0 0 0 0 0\n",
            "0 0 0 0 0 \n",
            "0 0 0 0 0\n",
            "3\n"
          ],
          "name": "stdout"
        }
      ]
    }
  ]
}