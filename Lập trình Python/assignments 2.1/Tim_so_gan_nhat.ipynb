{
  "nbformat": 4,
  "nbformat_minor": 0,
  "metadata": {
    "colab": {
      "name": "Tim_so_gan_nhat.ipynb",
      "provenance": [],
      "authorship_tag": "ABX9TyMg4LXshxuxhXpVCsFvZ48l",
      "include_colab_link": true
    },
    "kernelspec": {
      "name": "python3",
      "display_name": "Python 3"
    }
  },
  "cells": [
    {
      "cell_type": "markdown",
      "metadata": {
        "id": "view-in-github",
        "colab_type": "text"
      },
      "source": [
        "<a href=\"https://colab.research.google.com/github/lphuong304/CS114.L21/blob/main/L%E1%BA%ADp%20tr%C3%ACnh%20Python/assignments%202.1/Tim_so_gan_nhat.ipynb\" target=\"_parent\"><img src=\"https://colab.research.google.com/assets/colab-badge.svg\" alt=\"Open In Colab\"/></a>"
      ]
    },
    {
      "cell_type": "markdown",
      "metadata": {
        "id": "3VFiFWxcVWgX"
      },
      "source": [
        "#####Người đóng góp: Hoàng Anh Tú\r\n",
        "###ĐỀ BÀI:\r\n",
        "Cho mảng số nguyên A đã sắp xếp tăng dần, tìm trong mảng k số có giá trị gần với giá trị x nhất.\r\n",
        "\r\n",
        "**INPUT**\r\n",
        "\r\n",
        "Dòng đầu tiên cho biết số phần tử của mảng\r\n",
        "\r\n",
        "Dòng thứ 2 là toàn bộ mảng liệt kê trên một hàng, các phần tử cách nhau bởi khoảng trắng\r\n",
        "\r\n",
        "Dòng cuối cùng lần lượt là 02 số k và x\r\n",
        "\r\n",
        "**OUTPUT**\r\n",
        "\r\n",
        "k số có giá trị gần với x nhất trong mảng. Các số này được xuất theo thứ tự tăng dần (trong trường hợp mảng có nhiều số có cùng khoảng cách tới x, ưu tiên chọn số có giá trị nhỏ hơn)\r\n",
        "\r\n",
        "#####Ý tưởng:\r\n",
        "\r\n",
        "* Sử dụng hàm bisect để tìm vị trí upper-bound - giá trị nhỏ nhất lớn hơn x có trong mảng, gán bằng high, lower-bound là high-1\r\n",
        "* Sử dụng vòng lặp so sánh số đứng trước liền kề lower-bound và liền sau uppper-bound(số nào gần với x hơn thì thêm số đó vào mảng kết quả - đến khi đủ k số)"
      ]
    },
    {
      "cell_type": "code",
      "metadata": {
        "id": "pcNgJXLCVNbT"
      },
      "source": [
        "import array as a\r\n",
        "import bisect as bis\r\n",
        "\r\n",
        "n = int(input())\r\n",
        "\r\n",
        "arr = a.array('l', map(int, input().split()))\r\n",
        "\r\n",
        "k, x = map(int, input().split())\r\n",
        "\r\n",
        "high = bis.bisect(arr, x)\r\n",
        "low = high - 1\r\n",
        "\r\n",
        "near_x = a.array('l')\r\n",
        "for i in range(0, k):\r\n",
        "    if (high >= len(arr)):\r\n",
        "        near_x.append(arr[low])\r\n",
        "        low -= 1\r\n",
        "    elif (low < 0):\r\n",
        "        near_x.append(arr[high])\r\n",
        "        high += 1\r\n",
        "    else:\r\n",
        "        if (arr[high] - x < x - arr[low]):\r\n",
        "            near_x.append(arr[high])\r\n",
        "            high += 1\r\n",
        "        else:\r\n",
        "            near_x.append(arr[low])\r\n",
        "            low -= 1\r\n",
        "\r\n",
        "print(*sorted(near_x), sep=' ')"
      ],
      "execution_count": null,
      "outputs": []
    }
  ]
}