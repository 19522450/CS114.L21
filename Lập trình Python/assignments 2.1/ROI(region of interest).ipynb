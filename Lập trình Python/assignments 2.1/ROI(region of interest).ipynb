{
  "nbformat": 4,
  "nbformat_minor": 0,
  "metadata": {
    "colab": {
      "name": " ROI (region of interest).ipynb",
      "provenance": [],
      "authorship_tag": "ABX9TyMw+tCS2xbxq0+F4NO3F3WR",
      "include_colab_link": true
    },
    "kernelspec": {
      "name": "python3",
      "display_name": "Python 3"
    },
    "language_info": {
      "name": "python"
    }
  },
  "cells": [
    {
      "cell_type": "markdown",
      "metadata": {
        "id": "view-in-github",
        "colab_type": "text"
      },
      "source": [
        "<a href=\"https://colab.research.google.com/github/lphuong304/CS114.L21/blob/main/L%E1%BA%ADp%20tr%C3%ACnh%20Python/assignments%202.1/ROI(region%20of%20interest).ipynb\" target=\"_parent\"><img src=\"https://colab.research.google.com/assets/colab-badge.svg\" alt=\"Open In Colab\"/></a>"
      ]
    },
    {
      "cell_type": "markdown",
      "metadata": {
        "id": "AjirnGPNUoqa"
      },
      "source": [
        "**Người đóng góp: Nguyễn Quốc Huy**\n",
        "\n",
        "**ĐỀ BÀI:**\n",
        "\n",
        "Trong xử lý ảnh y khoa, người ta đôi lúc chỉ quan tâm đến một vùng nhỏ của bức ảnh. Với đầu vào là một bức ảnh nhị phân I với các điểm màu trắng (nhận giá trị 1) thể hiện các vùng tế bào có khả năng bị ung thư, các vùng màu đen (nhận giá trị 0) là các vùng không có dấu hiệu của ung thư. Biết chiều cao và chiều rộng của ảnh, hãy giúp các bác sĩ xác định các tế bào có khả năng bị ung thư trong vùng quan tâm của họ biết tọa độ góc trái trên và phải dưới của vùng này lần lượt là (top, left) và (bottom, right).\n",
        "\n",
        "**INPUT**\n",
        "\n",
        "h, w: lần lượt là chiều cao vào chiều rộng của ảnh\n",
        "\n",
        "h dòng tiếp theo, mỗi dòng chứa w số nhận giá trị là 0 hoặc 1 chính là bức ảnh các bác sĩ đang xem xét\n",
        "\n",
        "top, left, bottom, right: lần lượt là toạ độ trên, trái, phải, dưới của vùng được quan tâm\n",
        "\n",
        "**OUTPUT**\n",
        "\n",
        "Một bức ảnh nhị phân có kích thước (h,w) tương tự ảnh đầu vào với các tế bào ung thư nằm ngoài vùng quan tâm được chuyển thành giá trị 0 (màu đen)\n",
        "\n",
        "**Ý tưởng:**\n",
        "\n",
        "Chúng ta tạo mảng hai chiều giả trong list, và những phần tử nằm ngoài khoảng xác định sẽ được gán giá trị 0"
      ]
    },
    {
      "cell_type": "code",
      "metadata": {
        "colab": {
          "base_uri": "https://localhost:8080/"
        },
        "id": "_xUMEtWwVipt",
        "outputId": "58edb363-7f2f-4848-8f70-3f77cd887aba"
      },
      "source": [
        "n, m = map(int, input().split())\n",
        "\n",
        "list_n = []\n",
        "for i in range(n):\n",
        "    list_n.append(list(map(int, input().split(' ')[:m])))\n",
        "\n",
        "t, l, r, b = map(int, input().split())\n",
        "\n",
        "\n",
        "for i in range(n):\n",
        "    for j in range(m):\n",
        "        if i in range(t):\n",
        "            list_n[i][j] = 0\n",
        "        if j in range(l):\n",
        "                list_n[i][j] = 0\n",
        "        if j in range(r+1,m):\n",
        "                list_n[i][j] = 0\n",
        "        if i in range(b+1,n):\n",
        "                list_n[i][j] = 0\n",
        "for i in range(n):\n",
        "    print(*list_n[i], end=\"\\n\")"
      ],
      "execution_count": 1,
      "outputs": [
        {
          "output_type": "stream",
          "text": [
            "3 4\n",
            "0 1 0 1\n",
            "1 1 1 0\n",
            "0 1 1 0\n",
            "0 0 2 2\n",
            "0 1 0 0\n",
            "1 1 1 0\n",
            "0 1 1 0\n"
          ],
          "name": "stdout"
        }
      ]
    }
  ]
}