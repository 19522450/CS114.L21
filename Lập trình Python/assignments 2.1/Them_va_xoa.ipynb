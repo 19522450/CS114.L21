{
  "nbformat": 4,
  "nbformat_minor": 0,
  "metadata": {
    "colab": {
      "name": "Them_va_xoa.ipynb",
      "provenance": [],
      "authorship_tag": "ABX9TyPFhZk8s8jYpZEZD8JQl+NS",
      "include_colab_link": true
    },
    "kernelspec": {
      "name": "python3",
      "display_name": "Python 3"
    }
  },
  "cells": [
    {
      "cell_type": "markdown",
      "metadata": {
        "id": "view-in-github",
        "colab_type": "text"
      },
      "source": [
        "<a href=\"https://colab.research.google.com/github/lphuong304/CS114.L21/blob/main/L%E1%BA%ADp%20tr%C3%ACnh%20Python/assignments%202.1/Them_va_xoa.ipynb\" target=\"_parent\"><img src=\"https://colab.research.google.com/assets/colab-badge.svg\" alt=\"Open In Colab\"/></a>"
      ]
    },
    {
      "cell_type": "markdown",
      "metadata": {
        "id": "2HYwBB6hdzJ6"
      },
      "source": [
        "####Người đóng góp: Hoàng Anh Tú\r\n",
        "####ĐỀ BÀI:\r\n",
        "Không chỉ thuận tiện khi bổ sung phần tử, danh sách liên kết còn hiệu quả khi xóa bỏ phần tử ở đầu danh sách, cuối danh sách hoặc một vị trí đã xác định trong danh sách.\r\n",
        "\r\n",
        "Hãy viết chương trình thực hiện các thao tác trên:\r\n",
        "\r\n",
        "**INPUT**\r\n",
        "\r\n",
        "Input gồm nhiều dòng, mỗi dòng sẽ có cấu trúc ở một trong 7 dạng sau:\r\n",
        "\r\n",
        "- Dạng 0: Dòng bắt đầu bằng con số 0, theo sau là một số nguyên dương < 1000, chương trình cần phải thêm con số này vào đầu danh sách\r\n",
        "- Dạng 1: Dòng này bắt đầu bằng con số 1, theo sau là một số nguyên dương < 1000, chương trình cần phải thêm con số này vào cuối danh sách\r\n",
        "- Dạng 2: Dòng này bắt đầu bằng con số 2, theo sau là 2 số nguyên a, b < 1000, chương trình cần tìm vị trí đầu tiên mà số a xuất hiện trong danh sách, sau đó thêm số b vào sau số này. Nếu số a không có trong danh sách, thêm b vào đầu danh sách\r\n",
        "- Dạng 3: Dòng này bắt đầu bằng con số 3, theo sau là một số nguyên dương n < 1000. Chương trình cần tìm số n đầu tiên trong danh sách và xóa số này.\r\n",
        "- Dạng 4: Dòng này bắt đầu bằng con số 4, theo sau là một số nguyên dương n < 1000. Chương trình cần xóa tất cả số mang giá trị n ra khỏi danh sách.\r\n",
        "- Dạng 5: Dòng này bao gồm con số 5, khi gặp dòng này, chương trình sẽ xóa số đầu tiên trong danh sách.\r\n",
        "- Dạng 6: Dòng này bao gồm một con số 6. Đây là dòng cuối cùng trong input, báo hiệu input kết thúc\r\n",
        "\r\n",
        "**OUTPUT**\r\n",
        "\r\n",
        "In danh sách thu được sau khi thực hiện tất cả các thao tác theo yêu cầu trong input. Danh sách được in trên một dòng với mỗi số cách nhau bởi khoảng trắng. Nếu danh sách rỗng, xuất ra chữ “blank” (không có ngoặc kép)\r\n",
        "\r\n",
        "####Ý tưởng:\r\n",
        "* Sử dụng if...elif để điều khiển các lựa chọn."
      ]
    },
    {
      "cell_type": "code",
      "metadata": {
        "colab": {
          "base_uri": "https://localhost:8080/"
        },
        "id": "WCUB1OHwdXZJ",
        "outputId": "cc383c21-6f69-469b-8f62-424fc5d84fb9"
      },
      "source": [
        "import array as a\r\n",
        "import sys\r\n",
        "\r\n",
        "input = sys.stdin.readline\r\n",
        "\r\n",
        "output = a.array('L')\r\n",
        "\r\n",
        "while True:\r\n",
        "  arrInput = a.array('L', map(int, input().split()))\r\n",
        "\r\n",
        "  if len(arrInput) > 0:\r\n",
        "    if arrInput[0] == 0:\r\n",
        "      output.insert(0, arrInput[1])\r\n",
        "    elif arrInput[0] == 1:\r\n",
        "      output.append(arrInput[1])\r\n",
        "    elif arrInput[0] == 2:\r\n",
        "      x = arrInput[1]\r\n",
        "      y = arrInput[1]\r\n",
        "      if x in output:\r\n",
        "        output.insert(output.index(x) + 1, y)\r\n",
        "      else:\r\n",
        "        output.insert(0, y)\r\n",
        "    elif arrInput[0] == 3:\r\n",
        "      x = arrInput[1]\r\n",
        "      if x in output:\r\n",
        "        output.remove(x)\r\n",
        "    elif arrInput[0] == 4:\r\n",
        "      x = arrInput[1]\r\n",
        "      while x in output:\r\n",
        "        output.remove(x)\r\n",
        "    elif arrInput[0] == 5:\r\n",
        "      if(len(output) > 0):\r\n",
        "        output.remove(output[0])\r\n",
        "    else:\r\n",
        "      break\r\n",
        "\r\n",
        "if len(output) == 0: print(\"blank\")\r\n",
        "else:\r\n",
        "  sys.stdout.write(' '.join(map(str, output))+\"\\n\")"
      ],
      "execution_count": null,
      "outputs": [
        {
          "output_type": "stream",
          "text": [
            "blank\n"
          ],
          "name": "stdout"
        }
      ]
    }
  ]
}