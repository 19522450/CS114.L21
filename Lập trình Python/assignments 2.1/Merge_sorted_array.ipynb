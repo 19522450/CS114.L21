{
  "nbformat": 4,
  "nbformat_minor": 0,
  "metadata": {
    "colab": {
      "name": " Merge_sorted_array.ipynb",
      "provenance": [],
      "collapsed_sections": []
    },
    "kernelspec": {
      "name": "python3",
      "display_name": "Python 3"
    },
    "language_info": {
      "name": "python"
    }
  },
  "cells": [
    {
      "cell_type": "markdown",
      "metadata": {
        "id": "bVJ9f8GW6hNB"
      },
      "source": [
        "**Người đóng góp: Nguyễn Quốc Huy**\n",
        "\n",
        "**ĐỀ BÀI:**\n",
        "\n",
        "Cho 2 dãy số nguyên a có na số và b có nb số, mỗi dãy đã được sắp xếp theo thứ tự tăng dần. Hãy trộn hai dãy này lại để kết quả cuối cùng là một dãy tăng dần với  các phần tử là các phần tử của a và b.\n",
        "\n",
        "**INPUT**\n",
        "\n",
        "Dòng đầu tiên chứa kích thước của hai mảng nhập vào na, nb (0 < na, nb <= 100000)\n",
        "\n",
        "Hai dòng tiếp theo lần lượt chứa các phần tử của mảng a và b\n",
        "\n",
        "**OUTPUT**\n",
        "\n",
        "Mảng gọp lại của a và b đã được sắp xếp\n",
        "\n",
        "**Ý tưởng:**\n",
        "\n",
        "Chúng ta tính cộng hai mảng và sử dụng hàm sort() để sắp xếp thứ tự các phần tử"
      ]
    },
    {
      "cell_type": "code",
      "metadata": {
        "colab": {
          "base_uri": "https://localhost:8080/"
        },
        "id": "4ZsJEYrj7rpi",
        "outputId": "ca299616-a976-4f48-bec9-d00a1999c3a5"
      },
      "source": [
        "n, m = map(int, input().split())\n",
        "\n",
        "a_ar = list(map(int, input().split(' ')[:n]))\n",
        "\n",
        "b_ar = list(map(int, input().split(' ')[:m]))\n",
        "\n",
        "res_ar = a_ar + b_ar\n",
        "\n",
        "res_ar.sort()\n",
        "\n",
        "for i in res_ar:\n",
        "    print(i, end=\" \")"
      ],
      "execution_count": null,
      "outputs": [
        {
          "output_type": "stream",
          "text": [
            "4 5\n",
            "1 2 4 9\n",
            "8 10 20 22 30\n",
            "1 2 4 8 9 10 20 22 30 "
          ],
          "name": "stdout"
        }
      ]
    }
  ]
}