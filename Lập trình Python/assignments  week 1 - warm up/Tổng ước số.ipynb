{
  "nbformat": 4,
  "nbformat_minor": 0,
  "metadata": {
    "colab": {
      "name": "Tổng ước số.ipynb",
      "provenance": [],
      "authorship_tag": "ABX9TyNK77S08eJ1Ew0WtMGm86OG",
      "include_colab_link": true
    },
    "kernelspec": {
      "name": "python3",
      "display_name": "Python 3"
    }
  },
  "cells": [
    {
      "cell_type": "markdown",
      "metadata": {
        "id": "view-in-github",
        "colab_type": "text"
      },
      "source": [
        "<a href=\"https://colab.research.google.com/github/lphuong304/CS114.L21/blob/main/T%E1%BB%95ng_%C6%B0%E1%BB%9Bc_s%E1%BB%91.ipynb\" target=\"_parent\"><img src=\"https://colab.research.google.com/assets/colab-badge.svg\" alt=\"Open In Colab\"/></a>"
      ]
    },
    {
      "cell_type": "markdown",
      "metadata": {
        "id": "gFmqpUZmXpLW"
      },
      "source": [
        "### ĐỀ BÀI\r\n",
        "Viết chương trình tính tổng các ước số thực sự của một số nguyên dương.\r\n",
        "\r\n",
        "**INPUT**\r\n",
        "\r\n",
        "Số nguyên dương n giá trị không quá 1 tỷ.\r\n",
        "\r\n",
        "**OUTPUT**\r\n",
        "\r\n",
        "Tổng các ước số của n (không kể n)"
      ]
    },
    {
      "cell_type": "code",
      "metadata": {
        "colab": {
          "base_uri": "https://localhost:8080/"
        },
        "id": "WIcLf8PeXthx",
        "outputId": "49ac88e5-26f1-4081-ab1e-3f973b59c29b"
      },
      "source": [
        "n=int(input())\r\n",
        "sum=0\r\n",
        "def uoc(sum,n):\r\n",
        "    for i in range(1,n-1):\r\n",
        "        if n % i == 0:\r\n",
        "            sum=sum+i\r\n",
        "    return sum\r\n",
        "print (uoc(sum,n))"
      ],
      "execution_count": null,
      "outputs": [
        {
          "output_type": "stream",
          "text": [
            "27\n",
            "13\n"
          ],
          "name": "stdout"
        }
      ]
    }
  ]
}
