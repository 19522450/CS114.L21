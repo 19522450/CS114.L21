{
  "nbformat": 4,
  "nbformat_minor": 0,
  "metadata": {
    "colab": {
      "name": "Tan suat.ipynb",
      "provenance": [],
      "authorship_tag": "ABX9TyPd+WpJvm6PUwBPdtnKlae1",
      "include_colab_link": true
    },
    "kernelspec": {
      "name": "python3",
      "display_name": "Python 3"
    },
    "language_info": {
      "name": "python"
    }
  },
  "cells": [
    {
      "cell_type": "markdown",
      "metadata": {
        "id": "view-in-github",
        "colab_type": "text"
      },
      "source": [
        "<a href=\"https://colab.research.google.com/github/lphuong304/CS114.L21/blob/main/L%E1%BA%ADp%20tr%C3%ACnh%20Python/assignments%203.1/Tan_suat.ipynb\" target=\"_parent\"><img src=\"https://colab.research.google.com/assets/colab-badge.svg\" alt=\"Open In Colab\"/></a>"
      ]
    },
    {
      "cell_type": "markdown",
      "metadata": {
        "id": "utujmQTpSZwV"
      },
      "source": [
        "####Người đóng góp: Hoàng Anh Tú\n",
        "####ĐỀ BÀI:\n",
        "Viết chương trình nhập vào một dãy gồm n số và biến k. Đếm số lần xuất hiện của k trong dãy đó. \n",
        "\n",
        "**INPUT**\n",
        "\n",
        "Dòng đầu tiên gồm một số nguyên dương q — số lượng testcase. Theo sau mỗi testcase gồm:\n",
        "\n",
        "Dòng thứ nhất là hai số nguyên dương n, k (1 ≤ n ≤ 1000), (−10^5 ≤ k ≤ 10^5) — Số phần tử của dãy và giá trị cần tìm vị trí.\n",
        "\n",
        "Dòng thứ hai là giá trị các phần tử trong dãy a1,a2,...,an (− 10^5 ≤ ai ≤ 10^5)\n",
        "\n",
        "**OUTPUT**\n",
        "\n",
        "Ứng với mỗi testcase, xuất ra trên một dòng số lần xuất hiện của k.\n",
        "\n",
        "####Ý tưởng:\n",
        "* Tìm hiểu cú pháp của python."
      ]
    },
    {
      "cell_type": "code",
      "metadata": {
        "colab": {
          "base_uri": "https://localhost:8080/"
        },
        "id": "Vf4K2oMfSY9K",
        "outputId": "6f72f186-d1dc-43ad-8bbf-47435456c858"
      },
      "source": [
        "q = int(input())\n",
        "for i in range(0, q):\n",
        "    n, k = input().split()\n",
        "    sArr = input().split()\n",
        "\n",
        "    print(sArr.count(k))"
      ],
      "execution_count": 1,
      "outputs": [
        {
          "output_type": "stream",
          "text": [
            "2\n",
            "1 -15\n",
            "15\n",
            "0\n",
            "5 -99\n",
            "-99 -99 -99 -99 -99\n",
            "5\n"
          ],
          "name": "stdout"
        }
      ]
    }
  ]
}