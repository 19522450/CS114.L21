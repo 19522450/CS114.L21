{
  "nbformat": 4,
  "nbformat_minor": 0,
  "metadata": {
    "colab": {
      "name": "Chieu cao cay.ipynb",
      "provenance": [],
      "authorship_tag": "ABX9TyOkTJFn2MFgQrGgCpO4lnAM",
      "include_colab_link": true
    },
    "kernelspec": {
      "name": "python3",
      "display_name": "Python 3"
    },
    "language_info": {
      "name": "python"
    }
  },
  "cells": [
    {
      "cell_type": "markdown",
      "metadata": {
        "id": "view-in-github",
        "colab_type": "text"
      },
      "source": [
        "<a href=\"https://colab.research.google.com/github/lphuong304/CS114.L21/blob/main/L%E1%BA%ADp%20tr%C3%ACnh%20Python/assignments%203.1/Chieu_cao_cay.ipynb\" target=\"_parent\"><img src=\"https://colab.research.google.com/assets/colab-badge.svg\" alt=\"Open In Colab\"/></a>"
      ]
    },
    {
      "cell_type": "markdown",
      "metadata": {
        "id": "5kHr6AT1Ok0N"
      },
      "source": [
        "####Người đóng góp: Hoàng Anh Tú\n",
        "####ĐỀ BÀI:\n",
        "Bạn Bình đã làm xong bài danh sách liên kết giờ chuyển qua bài cây nhị phân tìm kiếm. Hỏi nếu Bình đem danh sách đó nhập vào cây nhị phân tìm kiếm thì cây cao bao nhiêu?\n",
        "\n",
        "**INPUT**\n",
        "\n",
        "Input gồm nhiều dòng, mỗi dòng sẽ có cấu trúc ở 1 trong 4 dạng sau:\n",
        "\n",
        "- Dạng 0: Dòng bắt đầu bằng con số 0, theo sau là một số nguyên dương < 1000, chương trình cần phải thêm con số này vào đầu danh sách\n",
        "\n",
        "- Dạng 1: Dòng này bắt đầu bằng con số 1, theo sau là một số nguyên dương < 1000, chương trình cần phải thêm con số này vào cuối danh sách\n",
        "\n",
        "- Dạng 2: Dòng này bắt đầu bằng con số 2, theo sau là 2 số nguyên a, b < 1000, chương trình cần tìm vị trí đầu tiên mà số a xuất hiện trong danh sách, sau đó thêm số b vào sau số này. Nếu số a không có trong danh sách, thêm b vào đầu danh sách\n",
        "\n",
        "- Dạng 3: Dòng này bao gồm duy nhất một con số 3. Đây là dòng cuối cùng trong input, báo hiệu input kết thúc\n",
        "\n",
        "**OUTPUT**\n",
        "\n",
        "Chiều cao của cây nhị phân tìm kiếm thu được khi lần lượt thêm các số trong danh sách vào cây.\n",
        "\n",
        "####Ý tưởng:\n",
        "* B1: Kiểm tra node rỗng hay không. Nếu rỗng thì trả về 0.\n",
        "* B2: Duyệt tất cả các node bên trái nó để tìm ra chiều cao lớn nhất có thể có ở bên trái (hileft).\n",
        "* B3: Duyệt tất cả các node bên phải nó để tìm ra chiều cao lớn nhất có thể có ở bên phải (hiright).\n",
        "* B4: So sánh hileft và hiright để tìm được chiều cao lớn nhất mà node này có thể đạt được."
      ]
    },
    {
      "cell_type": "code",
      "metadata": {
        "id": "Q8czf8XPOhIV"
      },
      "source": [
        "import sys\n",
        "\n",
        "input = sys.stdin.readline\n",
        "output = sys.stdout.write\n",
        "\n",
        "class leaf:\n",
        "    def __init__(self,val=None,left=None,right=None):\n",
        "        self.val = val\n",
        "        self.left = left\n",
        "        self.right = right \n",
        "\n",
        "\n",
        "def add(root,val):\n",
        "    if root.val == None:\n",
        "        root.val = val \n",
        "        return\n",
        "    \n",
        "    if val>root.val:\n",
        "        if root.right == None:\n",
        "            new = leaf(val)\n",
        "            root.right = new\n",
        "        else:\n",
        "            add(root.right, val)\n",
        "\n",
        "    elif val<root.val:\n",
        "        if root.left == None:\n",
        "            new = leaf(val)\n",
        "            root.left = new\n",
        "        else:\n",
        "            add(root.left,val)\n",
        "\n",
        "def high(root):\n",
        "    if not root or root.val == None:\n",
        "        return 0\n",
        "    hileft = high(root.left)\n",
        "    hiright = high(root.right)\n",
        "\n",
        "    if hileft >= hiright:\n",
        "        return 1 + hileft\n",
        "    return 1 + hiright\n",
        "\n",
        "tree = leaf()\n",
        "\n",
        "from collections import deque\n",
        "\n",
        "que = deque()\n",
        "while True:\n",
        "    x = [int(e) for e in input().split()]\n",
        "    if x[0] == 3:\n",
        "        break\n",
        "    elif x[0] == 0:\n",
        "        que.appendleft(x[1])\n",
        "    elif x[0] == 1:\n",
        "        que.append(x[1])\n",
        "    elif x[0] == 2:\n",
        "        index = 0\n",
        "        exist = True\n",
        "        try:\n",
        "            index = que.index(x[1])\n",
        "        except:\n",
        "            exist = False\n",
        "        if exist :\n",
        "            que.insert(index + 1, x[2])\n",
        "        else:\n",
        "            que.appendleft(x[2])\n",
        "while True:\n",
        "    try:\n",
        "        add(tree, que.popleft())\n",
        "    except :\n",
        "        break\n",
        "\n",
        "print(high(tree))"
      ],
      "execution_count": null,
      "outputs": []
    }
  ]
}