{
  "nbformat": 4,
  "nbformat_minor": 0,
  "metadata": {
    "colab": {
      "name": "So co hau.ipynb",
      "provenance": [],
      "authorship_tag": "ABX9TyO7n/8M7y9LVWj0TferGkcv",
      "include_colab_link": true
    },
    "kernelspec": {
      "name": "python3",
      "display_name": "Python 3"
    },
    "language_info": {
      "name": "python"
    }
  },
  "cells": [
    {
      "cell_type": "markdown",
      "metadata": {
        "id": "view-in-github",
        "colab_type": "text"
      },
      "source": [
        "<a href=\"https://colab.research.google.com/github/lphuong304/CS114.L21/blob/main/L%E1%BA%ADp%20tr%C3%ACnh%20Python/assignments%203.1/So_co_hau.ipynb\" target=\"_parent\"><img src=\"https://colab.research.google.com/assets/colab-badge.svg\" alt=\"Open In Colab\"/></a>"
      ]
    },
    {
      "cell_type": "markdown",
      "metadata": {
        "id": "M3eCsKliT_vv"
      },
      "source": [
        "####Người đóng góp: Hoàng Anh Tú\n",
        "####ĐỀ BÀI:\n",
        "Jim thích các phim và truyện kết thúc có hậu. Một lần gặp may với số n và từ đó Jim rất có cảm tình với tất cả các số nguyên kết thúc bằng n, coi chúng là những số có hậu. Ví dụ với n = 25 thì các số 625, 553325,1025 là những số có hậu, còn 3255 – không có hậu!\n",
        "\n",
        "Jim không thích các ràng buộc và hạn chế. Nhưng trong thế giới thực của chúng ta ràng buộc và hạn chế là điều tất yếu. Một người bạn của Jim khuyên chỉ nên quan tâm đến các số nguyên không vượt quá m và dĩ nhiên, Jim muốn biết có bao nhiêu số có hậu không vượt quá m.\n",
        "\n",
        "**INPUT**\n",
        "\n",
        "Vào từ thiết bị nhập chuẩn gồm một dòng chứa 2 số nguyên n và m (1 ≤ n ≤ m ≤ 2×10^9).\n",
        "\n",
        "**OUTPUT**\n",
        "\n",
        "Đưa ra thiết bị xuất chuẩn một số nguyên – số lượng số có hậu tìm được.\n"
      ]
    },
    {
      "cell_type": "code",
      "metadata": {
        "id": "lgqV9CVjT-Dy"
      },
      "source": [
        "n, end = input().split()\n",
        "\n",
        "end = int(end)\n",
        "numberOfN = len(n)\n",
        "n = int(n)\n",
        "temp = pow(10, numberOfN)\n",
        "\n",
        "print((end - n) // temp + 1)"
      ],
      "execution_count": null,
      "outputs": []
    }
  ]
}