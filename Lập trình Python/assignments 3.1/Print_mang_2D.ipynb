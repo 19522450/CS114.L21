{
  "nbformat": 4,
  "nbformat_minor": 0,
  "metadata": {
    "colab": {
      "name": "Print mang 2D.ipynb",
      "provenance": [],
      "collapsed_sections": [],
      "authorship_tag": "ABX9TyNgJ+cJVkngkPsj4GSDuqkG",
      "include_colab_link": true
    },
    "kernelspec": {
      "name": "python3",
      "display_name": "Python 3"
    },
    "language_info": {
      "name": "python"
    }
  },
  "cells": [
    {
      "cell_type": "markdown",
      "metadata": {
        "id": "view-in-github",
        "colab_type": "text"
      },
      "source": [
        "<a href=\"https://colab.research.google.com/github/lphuong304/CS114.L21/blob/main/L%E1%BA%ADp%20tr%C3%ACnh%20Python/assignments%203.1/Print_mang_2D.ipynb\" target=\"_parent\"><img src=\"https://colab.research.google.com/assets/colab-badge.svg\" alt=\"Open In Colab\"/></a>"
      ]
    },
    {
      "cell_type": "markdown",
      "metadata": {
        "id": "MTlz6kWvSGr6"
      },
      "source": [
        "####Người đóng góp: Hoàng Anh Tú\n",
        "####ĐỀ BÀI:\n",
        "Bình đang làm bài tập mảng 2 chiều nâng rất rất cao. Bình cần xuất mảng ra màn hình để quan sát. Tuy nhiên do các số nguyên trong mảng độ dài khác nhau nên khi xuất ra nhìn rất lộn xộn, không biết được số nào ở cột nào. Bạn hãy viết giúp Bình hàm xuất mảng một cách ngay ngắn.\n",
        "\n",
        "**INPUT**\n",
        "\n",
        "Dòng đầu tiên chứa hai số r và c là số dòng và số cột của mảng, mỗi số không quá 1000.\n",
        "\n",
        "r dòng tiếp theo, mỗi dòng chứa c số nguyên. Đây là các phần tử trong mảng 2 chiều\n",
        "\n",
        "**OUTPUT**\n",
        "\n",
        "Mảng 2 chiều được canh lề phải ở các cột. Tức là chữ số cuối cùng của các cột được viết thẳng hàng với nhau. Các chỗ trống được lấp đầy bằng ký tự khoảng trắng\n",
        "\n",
        "Lưu ý là đê đảm bảo chính xác ở cuối mỗi dòng của ma trận chỉ được xuất ký tự xuống dòng, không được xuất khoảng trắng thừa.\n",
        "\n",
        "####Ý tưởng:\n",
        "* Tìm hiểu cú pháp có sẵn của python để sử dụng."
      ]
    },
    {
      "cell_type": "code",
      "metadata": {
        "id": "rYPuODJKSBwu"
      },
      "source": [
        "import sys\n",
        "\n",
        "input = sys.stdin.readline\n",
        "\n",
        "r, c = map(int, input().split())\n",
        "\n",
        "sArr = []\n",
        "for i in range(0, r):\n",
        "    sArr.append([str(int(x)) for x in input().split()])\n",
        "\n",
        "maxLen = []\n",
        "for i in range(0, c):\n",
        "    maxLen.append(len(sArr[0][i]))\n",
        "\n",
        "for i in range(0, c):\n",
        "    for j in range(1, r):\n",
        "        if len(sArr[j][i]) > maxLen[i]: maxLen[i] = len(sArr[j][i])\n",
        "\n",
        "for i in range(0, r):\n",
        "    for j in range(0, c - 1):\n",
        "        sys.stdout.write(''.join(sArr[i][j].rjust(maxLen[j])) + ' ')\n",
        "    sys.stdout.write(''.join(sArr[i][c-1].rjust(maxLen[c-1])))\n",
        "    print()"
      ],
      "execution_count": null,
      "outputs": []
    }
  ]
}