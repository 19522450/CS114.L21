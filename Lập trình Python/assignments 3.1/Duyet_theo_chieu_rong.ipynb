{
  "nbformat": 4,
  "nbformat_minor": 0,
  "metadata": {
    "colab": {
      "name": "Duyet theo chieu rong.ipynb",
      "provenance": [],
      "collapsed_sections": [],
      "authorship_tag": "ABX9TyOKs0ipMIP6guWq7eOu5kgO",
      "include_colab_link": true
    },
    "kernelspec": {
      "name": "python3",
      "display_name": "Python 3"
    },
    "language_info": {
      "name": "python"
    }
  },
  "cells": [
    {
      "cell_type": "markdown",
      "metadata": {
        "id": "view-in-github",
        "colab_type": "text"
      },
      "source": [
        "<a href=\"https://colab.research.google.com/github/lphuong304/CS114.L21/blob/main/L%E1%BA%ADp%20tr%C3%ACnh%20Python/assignments%203.1/Duyet_theo_chieu_rong.ipynb\" target=\"_parent\"><img src=\"https://colab.research.google.com/assets/colab-badge.svg\" alt=\"Open In Colab\"/></a>"
      ]
    },
    {
      "cell_type": "markdown",
      "metadata": {
        "id": "703vth4q_94y"
      },
      "source": [
        "####Người đóng góp: Hoàng Anh Tú\n",
        "####ĐỀ BÀI:\n",
        "Cho một dãy số. Lần lượt thêm các số trong dãy vào một cây nhị phân tìm kiếm, sau đó duyệt và xuất cây ra màn hình theo thứ tự duyệt theo chiều rộng (các node có mức thấp được xuất trước, đối với các node có cùng mức xuất node có giá trị nhỏ trước)\n",
        "\n",
        "**INPUT**\n",
        "\n",
        "Một dãy số nguyên khác 0, mỗi số trên một hàng. Dãy số tận cùng bằng số 0\n",
        "\n",
        "**OUTPUT**\n",
        "\n",
        "Xuất trên một hàng giá trị các node trên cây khi duyệt theo chiều rộng\n",
        "\n",
        "####Ý tưởng:\n",
        "* https://vimentor.com/vi/lesson/duyet-cay-theo-chieu-rong-1"
      ]
    },
    {
      "cell_type": "code",
      "metadata": {
        "id": "QdPI4dEH6YjZ"
      },
      "source": [
        "import sys\n",
        "\n",
        "input = sys.stdin.readline\n",
        "output = sys.stdout.write\n",
        "\n",
        "class Node:\n",
        "    def __init__(self, val=None, left=None, right=None):\n",
        "        self.val = val\n",
        "        self.left = left\n",
        "        self.right = right \n",
        "\n",
        "def add(root, val):\n",
        "    if root.val == None:\n",
        "        root.val = val \n",
        "        return\n",
        "    \n",
        "    if val > root.val:\n",
        "        if root.right == None:\n",
        "            new = Node(val)\n",
        "            root.right = new\n",
        "        else:\n",
        "            add(root.right, val)\n",
        "\n",
        "    elif val < root.val:\n",
        "        if root.left == None:\n",
        "            new = Node(val)\n",
        "            root.left = new\n",
        "        else:\n",
        "            add(root.left, val)\n",
        "\n",
        "def printLevel(level):\n",
        "    if not level:\n",
        "        return\n",
        "    newLevel = []\n",
        "    for i in level:\n",
        "        output(str(i.val)+' ')\n",
        "        for newnode in [i.left,i.right]:\n",
        "            if newnode!=None:\n",
        "                newLevel.append(newnode)\n",
        "\n",
        "    del level \n",
        "    printLevel(newLevel)\n",
        "\n",
        "tree = Node()\n",
        "iInput = int(input())\n",
        "while iInput != 0:\n",
        "    add(tree, iInput)\n",
        "    iInput = int(input())\n",
        "\n",
        "printLevel([tree])"
      ],
      "execution_count": 22,
      "outputs": []
    }
  ]
}