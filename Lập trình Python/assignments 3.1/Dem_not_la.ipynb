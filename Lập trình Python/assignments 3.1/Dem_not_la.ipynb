{
  "nbformat": 4,
  "nbformat_minor": 0,
  "metadata": {
    "colab": {
      "name": "Dem not la.ipynb",
      "provenance": [],
      "collapsed_sections": [],
      "authorship_tag": "ABX9TyPwavmNKOY1m4IarN4sECfA",
      "include_colab_link": true
    },
    "kernelspec": {
      "name": "python3",
      "display_name": "Python 3"
    },
    "language_info": {
      "name": "python"
    }
  },
  "cells": [
    {
      "cell_type": "markdown",
      "metadata": {
        "id": "view-in-github",
        "colab_type": "text"
      },
      "source": [
        "<a href=\"https://colab.research.google.com/github/lphuong304/CS114.L21/blob/main/L%E1%BA%ADp%20tr%C3%ACnh%20Python/assignments%203.1/Dem_not_la.ipynb\" target=\"_parent\"><img src=\"https://colab.research.google.com/assets/colab-badge.svg\" alt=\"Open In Colab\"/></a>"
      ]
    },
    {
      "cell_type": "markdown",
      "metadata": {
        "id": "3uxT4e8LEm1U"
      },
      "source": [
        "####Người đóng góp: Hoàng Anh Tú\n",
        "####ĐỀ BÀI:\n",
        "Cho một dãy số, hãy cho biết số node lá của cây nhị phân tìm kiếm thu được khi thêm lần lượt các số trong dãy vào cây.\n",
        "\n",
        "**INPUT**\n",
        "\n",
        "Một dãy số nguyên khác 0, mỗi số trên một hàng. Dãy số tận cùng bằng số 0\n",
        "\n",
        "**OUTPUT**\n",
        "\n",
        "Số node lá trong cây\n",
        "\n",
        "####Ý tưởng:\n",
        "* B1: Duyệt từ gốc cây đi xuống theo thứ tự trái sang phải\n",
        "* B2: Nếu xuất hiện có node tiếp theo thì tiếp tục B1. Ngược lại thì số nốt lá cộng thêm 1.\n",
        "* B3: In số nốt lá ra màn hình."
      ]
    },
    {
      "cell_type": "code",
      "metadata": {
        "colab": {
          "base_uri": "https://localhost:8080/"
        },
        "id": "jzXyiI9sEgXH",
        "outputId": "8e85ab45-bc41-4522-b091-5bf13525de02"
      },
      "source": [
        "class Node:\n",
        "    def __init__(self, data, l=None, r=None):\n",
        "        self.data = data\n",
        "        self.l = l\n",
        "        self.r = r\n",
        "\n",
        "\n",
        "def add(root, data):\n",
        "    if root.data == data:\n",
        "        return\n",
        "    if root.data > data:\n",
        "        if root.l is None:\n",
        "            root.l = Node(data)\n",
        "        else:\n",
        "            return add(root.l, data)\n",
        "    else:\n",
        "        if root.r is None:\n",
        "            root.r = Node(data)\n",
        "        else:\n",
        "            return add(root.r, data)\n",
        "\n",
        "\n",
        "def leaf(Node):\n",
        "    current = [Node]\n",
        "    count = 0\n",
        "    while current:\n",
        "        nextStep = list()\n",
        "        for child in current:\n",
        "            if not child.l and not child.r:\n",
        "                count += 1\n",
        "            if child.l:\n",
        "                nextStep.append(child.l)\n",
        "            if child.r:\n",
        "                nextStep.append(child.r)\n",
        "            current = nextStep\n",
        "    print(count)\n",
        "\n",
        "\n",
        "x = int(input())\n",
        "root = Node(x)\n",
        "while(x != 0):\n",
        "    add(root, x)\n",
        "    x = int(input())\n",
        "\n",
        "leaf(root)"
      ],
      "execution_count": 1,
      "outputs": [
        {
          "output_type": "stream",
          "text": [
            "393\n",
            "981\n",
            "841\n",
            "133\n",
            "891\n",
            "739\n",
            "663\n",
            "119\n",
            "497\n",
            "865\n",
            "54\n",
            "631\n",
            "561\n",
            "51\n",
            "227\n",
            "841\n",
            "352\n",
            "996\n",
            "505\n",
            "0\n",
            "5\n"
          ],
          "name": "stdout"
        }
      ]
    }
  ]
}