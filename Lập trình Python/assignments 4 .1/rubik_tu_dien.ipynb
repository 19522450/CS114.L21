{
  "nbformat": 4,
  "nbformat_minor": 0,
  "metadata": {
    "colab": {
      "name": "rubik_tu_dien.ipynb",
      "provenance": [],
      "collapsed_sections": [],
      "authorship_tag": "ABX9TyPW9X9hEo6J1hMj+ywgM8EG",
      "include_colab_link": true
    },
    "kernelspec": {
      "name": "python3",
      "display_name": "Python 3"
    },
    "language_info": {
      "name": "python"
    }
  },
  "cells": [
    {
      "cell_type": "markdown",
      "metadata": {
        "id": "view-in-github",
        "colab_type": "text"
      },
      "source": [
        "<a href=\"https://colab.research.google.com/github/lphuong304/CS114.L21/blob/main/L%E1%BA%ADp%20tr%C3%ACnh%20Python/assignments%204%20.1/rubik_tu_dien.ipynb\" target=\"_parent\"><img src=\"https://colab.research.google.com/assets/colab-badge.svg\" alt=\"Open In Colab\"/></a>"
      ]
    },
    {
      "cell_type": "markdown",
      "metadata": {
        "id": "iH_CrkWL-bis"
      },
      "source": [
        "*Người đóng góp: Nguyễn Ngọc Lan Phương*\n",
        " ## ĐỀ BÀI\n",
        " Chơi rubik khó quá mãi không giải được thế nên Bình muốn tìm hiểu thêm các biến thể đơn giản hơn của trò này. Bình bèn đi mua một cục Pyraminx, đây là một khối tứ diện, mỗi mặt có 9 mảnh màu. Khối tứ diện có 4 đỉnh, được ký hiệu lần lượ là U (đỉnh trên), R (đỉnh phải), L (đỉnh trái), and B (đỉnh phía sau). Mặt trước của khối tứ diện, mặt đối diện người chơi sẽ chứa 03 đỉnh là U, L và R.\n",
        "\n",
        "<img alt=\"\" src=\"https://codefightsuserpics.s3.amazonaws.com/tasks/pyraminxPuzzle/img/notation.gif?_tm=1490636526830\">\n",
        "\n",
        "Để tiện trao đổi với nhau, những người chơi pyraminx ký hiệu các bước xoay pyraminx theo cách sau:\n",
        "\n",
        "* U - Xoay mặt ở tầng trên đỉnh 120° theo chiều kim đồng hồ (Giả định rằng khi nhìn từ trên xuống thì đỉnh U là đỉnh trên cùng của khói tứ diện);\n",
        "* U' - Xoay cùng đỉnh U nhưng theo chiều ngược chiều kim đồng hồ.\n",
        "* u - Xoay 02 tầng trên cùng 120° theo chiều kim đồng hồ.\n",
        "* u' - Xoay 02 tầng trên cùng ngược chiều kim đồng hồ.\n",
        "\n",
        "<img alt=\"\" src=\"https://codefightsuserpics.s3.amazonaws.com/tasks/pyraminxPuzzle/img/moves.png?_tm=1490636527040\">\n",
        "\n",
        "Các đỉnh khác cũng được ký hiệu tương tự:\n",
        "\n",
        "<img alt=\"\" src=\"https://codefightsuserpics.s3.amazonaws.com/tasks/pyraminxPuzzle/img/moves.gif?_tm=1490636527763\">\n",
        "\n",
        "Khối pyraminx mà Bình mua đã được xáo trộn sẵn và bán kèm với lời giải để đưa khối pyraminx đó về trạng thái gốc. Tuy nhiên, sau một lúc quay tới quay lui Bình đã đưa khối pyraminx về trạng thái \"không biết đường nào mà lần\" và chỉ còn một cách là tháo tung khối pyraminx ra rồi ráp lại cho các mặt cùng một màu.\n",
        "\n",
        "Tuy nhiên Bình vẫn không muốn nản chí và vẫn muốn giải khối pyraminx này. Bây giờ Bình muốn tìm cách đưa khối pyraminx sau khi tháo ra ráp lại về trạng thái như được xáo trộn như lúc mới mua, dựa trên lời giải được bán kèm. Nghĩa là giả sử khối Pyraminx bây giờ có 4 màu là **R** (red), **G** (green), **Y** (yellow) và **O** (orange) lần lượt năm trên các mặt theo thứ tư: Mặt trước, dưới, mặt trái, mặt phải. Và lời giải bẵn sẵn là **\"B\", \"b'\", \"u'\", \"R\"** thì trạng thái ban đầu lúc mua của khối Pyraminx sẽ là\n",
        "\n",
        " \n",
        "\n",
        "[['Y', 'Y', 'Y', 'Y', 'R', 'R', 'R', 'R', 'G'],\n",
        "\n",
        " ['G', 'R', 'O', 'O', 'O', 'G', 'G', 'G', 'G'],\n",
        "\n",
        " ['Y', 'O', 'Y', 'G', 'O', 'O', 'G', 'G', 'Y'],\n",
        "\n",
        " ['R', 'O', 'O', 'R', 'O', 'Y', 'Y', 'R', 'R']]\n",
        "\n",
        "Cụ thể:\n",
        "\n",
        "Trạng thái đã tháo ra ráp lại:\n",
        "\n",
        "<img alt=\"\" src=\"https://codefightsuserpics.s3.amazonaws.com/tasks/pyraminxPuzzle/img/end.gif?_tm=1490636527953\">\n",
        "\n",
        "Trước khi thực hiên phép xoay cuối cùng (phép R):\n",
        "\n",
        "<img alt=\"\" src=\"https://codefightsuserpics.s3.amazonaws.com/tasks/pyraminxPuzzle/img/move1.gif?_tm=1490636528147\">\n",
        "\n",
        "Trước đó 1 bước (trước khi xoay phép u'):\n",
        "\n",
        "<img alt=\"\" src=\"https://codefightsuserpics.s3.amazonaws.com/tasks/pyraminxPuzzle/img/move2.gif?_tm=1490636528303\">\n",
        "\n",
        "Trước một bước nữa:\n",
        "\n",
        "<img alt=\"\" src=\"https://codefightsuserpics.s3.amazonaws.com/tasks/pyraminxPuzzle/img/move3.gif?_tm=1490636528447\">\n",
        "\n",
        "Và trạng thái khi mua về là:\n",
        "\n",
        "<img alt=\"\" src=\"https://codefightsuserpics.s3.amazonaws.com/tasks/pyraminxPuzzle/img/move4.gif?_tm=1490636528585\">\n",
        "\n",
        "\n",
        "## INPUT\n",
        "* Dòng đầu tiên chứa 4 ký tự. Đây là 4 màu của khối pyraminx\n",
        "* Dòng thứ hai chứa không quá 100 chuỗi. Mỗi chuỗi sẽ mang một trong các giá trị sau:\n",
        "\n",
        " {\"U\", \"U'\", \"u\", \"u'\", \"L\", \"L'\", \"l\", \"l'\", \n",
        "\n",
        "  \"R\", \"R'\", \"r\", \"r'\", \"B\", \"B'\", \"b\", \"b'\"}.\n",
        "\n",
        "Input kết thúc bởi một hàng chỉ chứa dấu chấm hết (.)\n",
        "\n",
        "## OUTPUT\n",
        " \n",
        "\n",
        "Xuất ra 4 hàng, mỗi hàng chứa 9 ký tự. Mỗi hàng là các màu trên một mặt của khối pyraminx, các mặt được xuất theo thứ tự: Mặt trước, Mặt dưới, Mặt trái, Mặt phải.\n",
        "\n",
        "Trong mỗi hàng, các mảnh của khối pyraminx được đánh số theo thứ tự từ trên xuống dưới, từ trái qua phải bắt đầu từ đỉnh được đặt tên của mặt đó.\n",
        "\n",
        "* *Ý tưởng: Em thao khảo từ nguồn - [pyramid puzzel](https://codereview.stackexchange.com/questions/197287/codefights-pyraminx-puzzle)\n"
      ]
    },
    {
      "cell_type": "code",
      "metadata": {
        "colab": {
          "base_uri": "https://localhost:8080/"
        },
        "id": "9_D1OXOo-Aaz",
        "outputId": "052d1134-64a8-4fc6-9709-1c11f5735b48"
      },
      "source": [
        "#cre: https://codereview.stackexchange.com/\n",
        "def make_moves(moves):\n",
        "    def make_move(new_positions, old_positions):\n",
        "        def move(puzzle):\n",
        "            old_colors = [puzzle[r][c] for r, c in old_positions]\n",
        "            for (r, c), color in zip(new_positions, old_colors):\n",
        "                puzzle[r][c] = color\n",
        "        return move\n",
        "    for turn, pos in moves.items():\n",
        "        \n",
        "        yield turn, make_move(pos[-4:] + pos[:-4], pos)\n",
        "        \n",
        "        yield turn + \"'\", make_move(pos[4:] + pos[:4], pos)\n",
        "        \n",
        "        yield turn.upper(), make_move([pos[i] for i in range(-4, 8, 4)], pos[::4])\n",
        "        \n",
        "        yield turn.upper() + \"'\", make_move([pos[i] for i in range(-8, 4, 4)], pos[::4])\n",
        "\n",
        "MOVES = dict(make_moves({\n",
        "    \"u\": [(0, 0), (0, 1), (0, 2), (0, 3),\n",
        "          (3, 8), (3, 3), (3, 7), (3, 6),\n",
        "          (2, 4), (2, 6), (2, 5), (2, 1)],\n",
        "    \"l\": [(2, 0), (2, 1), (2, 2), (2, 3),\n",
        "          (1, 8), (1, 3), (1, 7), (1, 6),\n",
        "          (0, 4), (0, 6), (0, 5), (0, 1)],\n",
        "    \"r\": [(3, 0), (3, 1), (3, 2), (3, 3),\n",
        "          (0, 8), (0, 3), (0, 7), (0, 6),\n",
        "          (1, 4), (1, 6), (1, 5), (1, 1)],\n",
        "    \"b\": [(1, 0), (1, 1), (1, 2), (1, 3),\n",
        "          (2, 8), (2, 3), (2, 7), (2, 6),\n",
        "          (3, 4), (3, 6), (3, 5), (3, 1)],\n",
        "}))\n",
        "\n",
        "def pyraminx_puzzle(face_colors, moves):\n",
        "    puzzle = [[c] * 9 for c in face_colors]\n",
        "    for move in reversed(moves):\n",
        "        MOVES[move](puzzle)\n",
        "    return puzzle \n",
        "if __name__=='__main__':\n",
        "    face_colours=list(map(str,input().split()))\n",
        "    moves=list(map(str,input().split()))\n",
        "    doc=input()\n",
        "    #while \"'\" in moves:\n",
        "    #    moves.remove(\"'\")\n",
        "    result=pyraminx_puzzle(face_colours,moves)\n",
        "    for i in result:\n",
        "        print(*i)"
      ],
      "execution_count": null,
      "outputs": [
        {
          "output_type": "stream",
          "text": [
            "R G Y O\n",
            "B b' u' R\n",
            ".\n",
            "Y Y Y Y R R R R G\n",
            "G R O O O G G G G\n",
            "Y O Y G O O G G Y\n",
            "R O O R O Y Y R R\n"
          ],
          "name": "stdout"
        }
      ]
    }
  ]
}