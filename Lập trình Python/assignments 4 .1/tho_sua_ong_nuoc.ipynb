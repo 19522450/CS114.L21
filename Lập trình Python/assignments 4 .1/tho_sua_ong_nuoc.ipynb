{
  "nbformat": 4,
  "nbformat_minor": 0,
  "metadata": {
    "colab": {
      "name": "tho_sua_ong_nuoc.ipynb",
      "provenance": [],
      "collapsed_sections": [],
      "authorship_tag": "ABX9TyNW2luChGXP0Dy2dTSlE7lD",
      "include_colab_link": true
    },
    "kernelspec": {
      "name": "python3",
      "display_name": "Python 3"
    },
    "language_info": {
      "name": "python"
    }
  },
  "cells": [
    {
      "cell_type": "markdown",
      "metadata": {
        "id": "view-in-github",
        "colab_type": "text"
      },
      "source": [
        "<a href=\"https://colab.research.google.com/github/lphuong304/CS114.L21/blob/main/L%E1%BA%ADp%20tr%C3%ACnh%20Python/assignments%204%20.1/tho_sua_ong_nuoc.ipynb\" target=\"_parent\"><img src=\"https://colab.research.google.com/assets/colab-badge.svg\" alt=\"Open In Colab\"/></a>"
      ]
    },
    {
      "cell_type": "markdown",
      "metadata": {
        "id": "W0as8FiRnvsl"
      },
      "source": [
        "*Người đóng góp: Nguyễn Ngọc Lan Phương*\n",
        "## ĐỀ BÀI\n",
        "Đường ống nước được ghép từ nhiều đoạn trong đó mỗi đoạn thuộc một trong 7 loại sau\n",
        "\n",
        "* 1 : ống dọc\n",
        "\n",
        "* 2 : ống ngang\n",
        "\n",
        "* 3 – 6 : Ổng rẽ hướng\n",
        "\n",
        "* 7 : Ống giao nhau (Dùng để nối 02 đường ống riêng rẽ cắt nhau)\n",
        "\n",
        "Bức hình sau minh họa cho 7 loại ống theo thứ từ từ 1 đến 7:\n",
        "\n",
        "<img src=\"data:image/png;base64,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\" style=\"width:100%\" alt = \"ong nuoc\">\n",
        "\n",
        "\n",
        "Một trạm bơm có thể kết nối với tối đa 4 đường ống dẫn đi 4 hướng xung quanh. Trên bản đồ, trạm bơm được đánh dấu bằng chữ cái in hoa. Mỗi trạm bơm phải bơm nước đến tối đa 4 hồ chứa, được đánh dấu bằng chữ cái in thường tương ứng.\n",
        "\n",
        "Hệ thống đường ống phải kết nối trạm bơm tới hồ chứa tương ứng và không bị rò rỉ. Bạn hãy viết chương trình kiểm tra hệ thống đường ống này.\n",
        "\n",
        "## INPUT\n",
        "Dòng đầu tiên chứa số N, đây là số hàng trong bản đồ đường ống.\n",
        "\n",
        "N dòng tiếp theo, mỗi dòng chứa một chuỗi ký tự. Các chuỗi ký tự này hợp thành bản đồ đường ống nước, mỗi ký tự đại diện cho một ô trên bản đồ.\n",
        "\n",
        "## OUTPUT\n",
        "\n",
        "Nếu hệ thống đường ống kết nối được các trạm bơm tới các bể chứa tương ứng, xuất ra số ô thật sự có nước chảy qua khi hệ thống hoạt động\n",
        "\n",
        "Nếu hệ thống không kết nối được các trạm bơm và bể chứa, xuất ra số -X. Trong đó X là số lượng các ô đã có nước chảy qua TRƯỚC KHI chỗ rò rỉ đầu tiên xảy ra hoặc nước chảy đến một bể chưa không tương ứng với trạm bơm.\n",
        "\n",
        "\n",
        "* *Ý tưởng*: Em thao khảo từ nguồn - [pipes game](https://codereview.stackexchange.com/questions/178772/codefights-pipes-game?fbclid=IwAR1pVSWrfu8_N2aNpoXCszKAmb7jk4NjHd5AYSDO5IvFnU9cmdmqrzo2uKM)\n"
      ]
    },
    {
      "cell_type": "code",
      "metadata": {
        "colab": {
          "base_uri": "https://localhost:8080/"
        },
        "id": "WP7LhyTknqP-",
        "outputId": "6794d2e5-6379-4bb4-9e48-8095ed3cf0e8"
      },
      "source": [
        "#cre: https://codereview.stackexchange.com/\n",
        "DIRECTION = {\n",
        "             'l': (0, -1),\n",
        "             'r': (0, 1),\n",
        "             'u': (-1, 0),\n",
        "             'd': (1, 0)\n",
        "            }\n",
        "\n",
        "FLOW = {\n",
        "        'l': {'2': 'l', '3': 'd', '6': 'u', '7': 'l'},\n",
        "        'r': {'2': 'r', '4': 'd', '5': 'u', '7': 'r'},\n",
        "        'd': {'1': 'd', '5': 'l', '6': 'r', '7': 'd'},\n",
        "        'u': {'1': 'u', '3': 'r', '4': 'l', '7': 'u'}\n",
        "       }\n",
        "\n",
        "_IN_RANGE = lambda x, y, state: 0<=x<len(state) and 0<=y<len(state[0])\n",
        "\n",
        "def find_starting_points(state):\n",
        "    \"\"\"Finds the starting nodes of the state\"\"\"\n",
        "    pipes = list(filter(lambda x: 'a'<=x<='z',''.join(state)))\n",
        "    starts = {}\n",
        "\n",
        "    for i in range(len(state)):\n",
        "        for j in range(len(state[0])):\n",
        "            if 'a'<=state[i][j]<='z':\n",
        "                starts[state[i][j]] = [i,j]\n",
        "\n",
        "    return starts, pipes\n",
        "\n",
        "def follow_flow(flow, current_path, state, end, final_path):\n",
        "    \"\"\"Recursive function that follows the flow of the pipe\"\"\"\n",
        "    x, y = [x+y for x,y in zip(current_path[-1], DIRECTION[flow])]\n",
        "\n",
        "    if _IN_RANGE(x, y, state) and state[x][y] == end:\n",
        "        final_path.append(current_path + [''])\n",
        "    elif _IN_RANGE(x, y, state) and state[x][y] in FLOW[flow]:\n",
        "        return follow_flow(FLOW[flow][state[x][y]], current_path + [[x, y]], state, end, final_path)\n",
        "    else:\n",
        "        final_path.append(current_path + ['leak'])\n",
        "\n",
        "    return final_path\n",
        "\n",
        "def sum_water(total_path):\n",
        "    \"\"\"\"Sums the water flowed if leakage found return sum * -1\"\"\"\n",
        "    final_cells = set()\n",
        "    first_leak = list(map(lambda x: len(x), filter(lambda x: 'leak' in x, total_path)))\n",
        "    first_leak = 0 if len(first_leak) == 0 else min(first_leak) - 1\n",
        "\n",
        "    for path in total_path:\n",
        "        path = path[:-1]\n",
        "        path = list(map(lambda x: str(x[0]) + ' ' + str(x[1]), path))\n",
        "        idx = min(first_leak, len(path)) if first_leak else len(path)\n",
        "        final_cells |= set(path[:idx])\n",
        "\n",
        "    return len(final_cells) * (-1 if first_leak > 0 else 1)\n",
        "\n",
        "def pipesGame(state):\n",
        "    \"\"\"\"Main CodeFights function\"\"\"\n",
        "    starts, pipes = find_starting_points(state)\n",
        "    total_path = []\n",
        "\n",
        "    for pipe in pipes:\n",
        "        end = pipe.upper()\n",
        "        for di in DIRECTION:\n",
        "            x, y = [x+y for x,y in zip(starts[pipe], DIRECTION[di])]\n",
        "            if _IN_RANGE(x, y, state) and state[x][y] in FLOW[di]:\n",
        "                total_path += follow_flow(FLOW[di][state[x][y]], [[x, y]], state, end, [])\n",
        "\n",
        "    return sum_water(total_path)\n",
        "\n",
        "if __name__ == '__main__':\n",
        "    n=int(input())\n",
        "    lst_pipes=[]\n",
        "    tmp=[]\n",
        "    for i in range(n):\n",
        "        tmp=input()\n",
        "        lst_pipes.append(tmp)\n",
        "    print(pipesGame(lst_pipes))"
      ],
      "execution_count": 2,
      "outputs": [
        {
          "output_type": "stream",
          "text": [
            "5\n",
            "a224C22300000\n",
            "0001643722B00\n",
            "0b27275100000\n",
            "00c7256500000\n",
            "0006A45000000\n",
            "19\n"
          ],
          "name": "stdout"
        }
      ]
    }
  ]
}