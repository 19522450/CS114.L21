{
  "nbformat": 4,
  "nbformat_minor": 0,
  "metadata": {
    "colab": {
      "name": "Áp_suất.ipynb",
      "provenance": [],
      "collapsed_sections": [],
      "authorship_tag": "ABX9TyNgw9/qbxvIbOmAfXFIcsQu",
      "include_colab_link": true
    },
    "kernelspec": {
      "name": "python3",
      "display_name": "Python 3"
    }
  },
  "cells": [
    {
      "cell_type": "markdown",
      "metadata": {
        "id": "view-in-github",
        "colab_type": "text"
      },
      "source": [
        "<a href=\"https://colab.research.google.com/github/lphuong304/CS114.L21/blob/main/L%E1%BA%ADp%20tr%C3%ACnh%20Python/assignments%20week%201%20-%20warm%20up/%C3%81p_su%E1%BA%A5t.ipynb\" target=\"_parent\"><img src=\"https://colab.research.google.com/assets/colab-badge.svg\" alt=\"Open In Colab\"/></a>"
      ]
    },
    {
      "cell_type": "markdown",
      "metadata": {
        "id": "18sybwtInoCS"
      },
      "source": [
        "##### Người đóng góp: Nguyễn Ngọc Lan Phương\n",
        "### ĐỀ BÀI\n",
        "Tìm ra áp suất chất lỏng/khí và cách đo đạt chúng là một vấn đề nghiên cứu vật lý thực nghiệm từng làm đau đầu nhiều nhà khoa học thời trung cổ. Đã có nhiều nhà khoa học khác nhau đề xuất các thang đo khác nhau. Tuy nhiên ngày nay một đơn vị đo áp suất phổ thông mà dễ hiểu là tính lực tác động (theo khối lượng) chia cho diện tích. Khổ nổi trong hệ đo lường quốc tế (SI) và hệ đo Imperial phổ biến ở Mỹ người ta đo khối lượng và áp suất bằng cách đơn vị khác nhau. Bạn Bình vừa mua một con mô-tô phân khối lớn hàng nhập nguyên chiếc từ Mỹ về, tài liệu hướng dẫn của xe ghi áp suất phù hợp khi bơm xe bằng đơn vị **PSI (Pound / square inches - 1 pound lực trên một inch vuông)**. Còn ống bơm của Bình tích hợp đồng hồ đo áp suất bằng đơn vị kg/cm2 (1 kilogram lực trên một centimét vuông).\n",
        "\n",
        "Biết: \n",
        "\n",
        "*1 pound = 0.453592 kg*\n",
        "\n",
        "và *1 inch = 2,54 cm*\n",
        "\n",
        "Viết công thức giúp Bình đổi **PSI sang kg/cm2**\n",
        "\n",
        "**INPUT**\n",
        "\n",
        "Một con số duy nhất theo đơn vị PSI\n",
        "\n",
        "**OUTPUT**\n",
        "\n",
        "Một con số ương ứng theo đơn vị kg/cm2\n",
        "\n",
        "* Ý tưởng: Áp dụng công thức chuyển đổi, chú ý đến làm tròn số sau dấu thập phân"
      ]
    },
    {
      "cell_type": "code",
      "metadata": {
        "colab": {
          "base_uri": "https://localhost:8080/"
        },
        "id": "RKX5XxsannH5",
        "outputId": "7627e284-582b-41a9-ab97-c319ae663ccc"
      },
      "source": [
        "PSI=float(input())\n",
        "from decimal import *\n",
        "getcontext().prec=6\n",
        "print(Decimal(0.453592/2.54**2*PSI).normalize())"
      ],
      "execution_count": null,
      "outputs": [
        {
          "output_type": "stream",
          "text": [
            "2018\n",
            "141.879\n"
          ],
          "name": "stdout"
        }
      ]
    }
  ]
}