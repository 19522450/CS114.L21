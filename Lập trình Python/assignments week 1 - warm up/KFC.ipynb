{
  "nbformat": 4,
  "nbformat_minor": 0,
  "metadata": {
    "colab": {
      "name": "KFC.ipynb",
      "provenance": [],
      "authorship_tag": "ABX9TyPNATbFh6+RzhxCF+vWnm+H",
      "include_colab_link": true
    },
    "kernelspec": {
      "name": "python3",
      "display_name": "Python 3"
    }
  },
  "cells": [
    {
      "cell_type": "markdown",
      "metadata": {
        "id": "view-in-github",
        "colab_type": "text"
      },
      "source": [
        "<a href=\"https://colab.research.google.com/github/lphuong304/CS114.L21/blob/main/L%E1%BA%ADp%20tr%C3%ACnh%20Python/assignments%20week%201%20-%20warm%20up/KFC.ipynb\" target=\"_parent\"><img src=\"https://colab.research.google.com/assets/colab-badge.svg\" alt=\"Open In Colab\"/></a>"
      ]
    },
    {
      "cell_type": "markdown",
      "metadata": {
        "id": "Y7JT2ukqsCgI"
      },
      "source": [
        "#####Người đóng góp: Nguyễn Ngọc Lan Phương\r\n",
        "###ĐỀ BÀI\r\n",
        "Bình vừa mua xách tay một cái nhiệt kế hồng ngoại cực xịn cực chính xác chỉ mỗi tội nó hiển thị nhiệt độ theo thang đo độ **F - Farenheit**. Hãy giúp Bình đổi qua độ **C - Celsius** và độ **K - Kelvin**.\r\n",
        "\r\n",
        "**INPUT**\r\n",
        "\r\n",
        "Một con số - nhiệt độ theo thang F\r\n",
        "\r\n",
        "**OUTPUT**\r\n",
        "\r\n",
        "Hai con số - nhiệt độ theo thang C và thang K\r\n",
        "\r\n",
        "#####Ý tưởng\r\n",
        "Áp dụng công thức chuyển đơn vị nhiệt độ từ F->C và F->K\r\n",
        "\r\n",
        "Chú ý làm tròn 6 chữ số thập phân sau dấu phẩy"
      ]
    },
    {
      "cell_type": "code",
      "metadata": {
        "colab": {
          "base_uri": "https://localhost:8080/"
        },
        "id": "aj_kDlA0rmtu",
        "outputId": "cbc18b25-ad79-4e01-bcfb-86c6f63e2ff1"
      },
      "source": [
        "from decimal import *\r\n",
        "F=float(input())\r\n",
        "C=float(( F - 32.0 ) *(5.0/9.0))\r\n",
        "K= 273.15 + ((F - 32.0) * (5.0/9.0))\r\n",
        "getcontext().prec=6\r\n",
        "print(Decimal(C).normalize(),Decimal(K).normalize())"
      ],
      "execution_count": null,
      "outputs": [
        {
          "output_type": "stream",
          "text": [
            "658.4\n",
            "348 621.15\n"
          ],
          "name": "stdout"
        }
      ]
    }
  ]
}