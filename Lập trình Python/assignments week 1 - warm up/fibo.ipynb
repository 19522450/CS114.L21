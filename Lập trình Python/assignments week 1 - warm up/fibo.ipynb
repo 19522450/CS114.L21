{
  "nbformat": 4,
  "nbformat_minor": 0,
  "metadata": {
    "colab": {
      "name": "fibo.ipynb",
      "provenance": [],
      "authorship_tag": "ABX9TyP9M/aDGSFw9sKMc4oyY3rZ",
      "include_colab_link": true
    },
    "kernelspec": {
      "name": "python3",
      "display_name": "Python 3"
    }
  },
  "cells": [
    {
      "cell_type": "markdown",
      "metadata": {
        "id": "view-in-github",
        "colab_type": "text"
      },
      "source": [
        "<a href=\"https://colab.research.google.com/github/lphuong304/CS114.L21/blob/main/L%E1%BA%ADp%20tr%C3%ACnh%20Python/assignments%20week%201%20-%20warm%20up/fibo.ipynb\" target=\"_parent\"><img src=\"https://colab.research.google.com/assets/colab-badge.svg\" alt=\"Open In Colab\"/></a>"
      ]
    },
    {
      "cell_type": "markdown",
      "metadata": {
        "id": "D9DR-DX7cnLy"
      },
      "source": [
        "\n",
        "#### Người thực hiện: Nguyễn Ngọc Lan Phương\n",
        "### ĐỀ BÀI\n",
        "\n",
        "Nhập vào số nguyên x sao cho **1 ≤ x ≤ 30**. Nếu x không thỏa điều kiện, chương trình xuất ra màn hình thông báo **“So <x> khong nam trong khoang [1,30].”**. Nếu x nằm trong đoạn [1,30], chương trình xuất ra màn hình số **Fibonacci thứ x**.\n",
        "\n",
        "* Ý tưởng: Dùng vòng lặp để tìm ra số nằm trong Fibonacci. Kiểm tra điều kiện đề bài"
      ]
    },
    {
      "cell_type": "code",
      "metadata": {
        "colab": {
          "base_uri": "https://localhost:8080/"
        },
        "id": "HOvgeQ8Gc6HZ",
        "outputId": "84f4f08e-2e8b-449d-8eff-7fc3c8b35c6e"
      },
      "source": [
        "x=int(input())\n",
        "def find_fibo(x):\n",
        "    if x<=2:\n",
        "        return 1\n",
        "    a,b,c=0,1,1\n",
        "    count=0\n",
        "    result=1\n",
        "    while count<=30:\n",
        "        c=a+b\n",
        "        if count==x:\n",
        "            result=a\n",
        "        a=b\n",
        "        b=c\n",
        "        count=count+1\n",
        "    return result\n",
        "if x>=1 and x<=30 :\n",
        "    print(find_fibo(x))\n",
        "else:\n",
        "    print('So', x ,'khong nam trong khoang [1,30].')"
      ],
      "execution_count": null,
      "outputs": [
        {
          "output_type": "stream",
          "text": [
            "-6\n",
            "So -6 khong nam trong khoang [1,30].\n"
          ],
          "name": "stdout"
        }
      ]
    }
  ]
}