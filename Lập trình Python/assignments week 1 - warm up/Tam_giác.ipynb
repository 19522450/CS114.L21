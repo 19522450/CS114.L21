{
  "nbformat": 4,
  "nbformat_minor": 0,
  "metadata": {
    "colab": {
      "name": "Tam_giác.ipynb",
      "provenance": [],
      "authorship_tag": "ABX9TyOkRN9j7EmAVOuZ3yZ9PEZY",
      "include_colab_link": true
    },
    "kernelspec": {
      "name": "python3",
      "display_name": "Python 3"
    }
  },
  "cells": [
    {
      "cell_type": "markdown",
      "metadata": {
        "id": "view-in-github",
        "colab_type": "text"
      },
      "source": [
        "<a href=\"https://colab.research.google.com/github/lphuong304/CS114.L21/blob/main/L%E1%BA%ADp%20tr%C3%ACnh%20Python/assignments%20week%201%20-%20warm%20up/Tam_gi%C3%A1c.ipynb\" target=\"_parent\"><img src=\"https://colab.research.google.com/assets/colab-badge.svg\" alt=\"Open In Colab\"/></a>"
      ]
    },
    {
      "cell_type": "markdown",
      "metadata": {
        "id": "W-GsbQgYkuxR"
      },
      "source": [
        "#####Người đóng góp: Nguyễn Ngọc Lan Phương\n",
        "### ĐỀ BÀI\n",
        "#### Nhận dạng tam giác\n",
        "\n",
        "Viết chương trình nhập vào 3 số thực. Hãy cho biết đó có phải là độ dài 3 cạnh 1 tam giác hay không? Nếu phải thì đó là loại nào trong 4 loại sau: tam giác thường, cân, đều, vuông.\n",
        "\n",
        "Nếu là tam giác tính diện tích tam giác.\n",
        "\n",
        "**INPUT:**\n",
        "\n",
        "Dòng đầu tiên là độ dài cạnh 1.\n",
        "\n",
        "Dòng thứ hai là độ dài cạnh 2.\n",
        "\n",
        "Dòng thứ ba là độ dài cạnh 3.\n",
        "\n",
        "**OUTPUT**\n",
        "\n",
        "Định dạng như ví dụ minh họa. Diện tích làm tròn 02 chữ số sau dấu thập phân.\n",
        "\n",
        "* Ý tưởng: Sử dụng đẳng thức trong tam giác "
      ]
    },
    {
      "cell_type": "code",
      "metadata": {
        "colab": {
          "base_uri": "https://localhost:8080/"
        },
        "id": "OFCJ6fwTkfi0",
        "outputId": "2c44aa2d-95b2-4c06-a55f-f49605c1118e"
      },
      "source": [
        "a=int(input())\n",
        "b=int(input())\n",
        "c=int(input())\n",
        "import math\n",
        "if a+b>c and b+c>a and a+c>b and a>0 and b>0 and c>0 :\n",
        "    P=(a+b+c)/2\n",
        "    S= round(math.sqrt(P*(P-a)*(P-b)*(P-c)),2)\n",
        "    if S == int(S):\n",
        "        S = int(S)\n",
        "    if a==b==c:\n",
        "        print('Tam giac deu, dien tich =',S)\n",
        "    elif (a==b) or (a==c) or (c==b):\n",
        "        print('Tam giac can, dien tich = ',S)\n",
        "    elif (b*b+a*a==c*c) or (a*a+c*c==b*b) or (b*b+c*c==a*a):\n",
        "        print('Tam giac vuong, dien tich =',S)\n",
        "    else:\n",
        "        print('Tam giac thuong, dien tich =',S)\n",
        "else:\n",
        "    print('Khong phai tam giac')4\n",
        "    "
      ],
      "execution_count": null,
      "outputs": [
        {
          "output_type": "stream",
          "text": [
            "3\n",
            "5\n",
            "4\n",
            "Tam giac vuong, dien tich = 6\n"
          ],
          "name": "stdout"
        }
      ]
    }
  ]
}