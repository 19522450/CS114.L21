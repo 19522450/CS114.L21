{
  "nbformat": 4,
  "nbformat_minor": 0,
  "metadata": {
    "colab": {
      "name": "Gà_chó.ipynb",
      "provenance": [],
      "authorship_tag": "ABX9TyN1eKAMP7gDsPvV7QG5Gmoq",
      "include_colab_link": true
    },
    "kernelspec": {
      "name": "python3",
      "display_name": "Python 3"
    }
  },
  "cells": [
    {
      "cell_type": "markdown",
      "metadata": {
        "id": "view-in-github",
        "colab_type": "text"
      },
      "source": [
        "<a href=\"https://colab.research.google.com/github/lphuong304/CS114.L21/blob/main/L%E1%BA%ADp%20tr%C3%ACnh%20Python/assignments%20week%201%20-%20warm%20up/G%C3%A0_ch%C3%B3.ipynb\" target=\"_parent\"><img src=\"https://colab.research.google.com/assets/colab-badge.svg\" alt=\"Open In Colab\"/></a>"
      ]
    },
    {
      "cell_type": "markdown",
      "metadata": {
        "id": "uQivm_rEmNKv"
      },
      "source": [
        "### ĐỀ BÀI\r\n",
        "Gà và Chó\r\n",
        "\r\n",
        "Vừa gà vừa chó\r\n",
        "\r\n",
        "Bó lại cho tròn\r\n",
        "\r\n",
        "**xxx** con\r\n",
        "\r\n",
        "**yy** chân chẵn\r\n",
        "\r\n",
        "Hãy xác định số con gà và số con chó thỏa mãn yêu cầu.\r\n",
        "\r\n",
        "Dữ liệu: Vào từ thiết bị nhập chuẩn gồm 1 dòng ghi 2 số nguyên **xxx** và **yy** **(2≤ xxx, yy ≤ 109)**\r\n",
        "\r\n",
        "**Kết quả**: Đưa ra thiết bị xuất chuẩn một dòng 2 số nguyên số gà và số chó tìm được.\r\n",
        "\r\n",
        "Dữ liệu luôn bảo đảm có kết quả."
      ]
    },
    {
      "cell_type": "code",
      "metadata": {
        "colab": {
          "base_uri": "https://localhost:8080/"
        },
        "id": "yiYwSJmemAzJ",
        "outputId": "8d880935-6fba-41ac-ba36-0e9a2243942b"
      },
      "source": [
        "xxx, yy= map(int, input().split())\r\n",
        "def loop(xxx,yy):\r\n",
        "    i=0\r\n",
        "    while i<=xxx:\r\n",
        "        j=xxx-i\r\n",
        "        if i*4+j*2==yy:\r\n",
        "                print (j,i)\r\n",
        "                break\r\n",
        "        i=i+1\r\n",
        "loop(xxx,yy)"
      ],
      "execution_count": 1,
      "outputs": [
        {
          "output_type": "stream",
          "text": [
            "36 100\n",
            "22 14\n"
          ],
          "name": "stdout"
        }
      ]
    }
  ]
}