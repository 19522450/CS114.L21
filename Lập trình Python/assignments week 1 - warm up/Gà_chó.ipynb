{
  "nbformat": 4,
  "nbformat_minor": 0,
  "metadata": {
    "colab": {
      "name": "Gà_chó.ipynb",
      "provenance": [],
      "authorship_tag": "ABX9TyM3j+qypKBDDKkGt5X7Noka",
      "include_colab_link": true
    },
    "kernelspec": {
      "name": "python3",
      "display_name": "Python 3"
    }
  },
  "cells": [
    {
      "cell_type": "markdown",
      "metadata": {
        "id": "view-in-github",
        "colab_type": "text"
      },
      "source": [
        "<a href=\"https://colab.research.google.com/github/lphuong304/CS114.L21/blob/main/L%E1%BA%ADp%20tr%C3%ACnh%20Python/assignments%20week%201%20-%20warm%20up/G%C3%A0_ch%C3%B3.ipynb\" target=\"_parent\"><img src=\"https://colab.research.google.com/assets/colab-badge.svg\" alt=\"Open In Colab\"/></a>"
      ]
    },
    {
      "cell_type": "markdown",
      "metadata": {
        "id": "uQivm_rEmNKv"
      },
      "source": [
        "#### Người đóng góp: Nguyễn Ngọc Lan Phương\n",
        "\n",
        "### ĐỀ BÀI\n",
        "Gà và Chó\n",
        "\n",
        "Vừa gà vừa chó\n",
        "\n",
        "Bó lại cho tròn\n",
        "\n",
        "**xxx** con\n",
        "\n",
        "**yy** chân chẵn\n",
        "\n",
        "Hãy xác định số con gà và số con chó thỏa mãn yêu cầu.\n",
        "\n",
        "Dữ liệu: Vào từ thiết bị nhập chuẩn gồm 1 dòng ghi 2 số nguyên **xxx** và **yy** **(2≤ xxx, yy ≤ 109)**\n",
        "\n",
        "**Kết quả**: Đưa ra thiết bị xuất chuẩn một dòng 2 số nguyên số gà và số chó tìm được.\n",
        "\n",
        "Dữ liệu luôn bảo đảm có kết quả.\n",
        "\n",
        "* **Ý tưởng:** Sử dụng vòng lặp tìm x và y đến đến khi đảm bảo biểu thức sau đúng: $4x+2y=yy$ và $x+y=xxx$"
      ]
    },
    {
      "cell_type": "code",
      "metadata": {
        "colab": {
          "base_uri": "https://localhost:8080/"
        },
        "id": "yiYwSJmemAzJ",
        "outputId": "8d880935-6fba-41ac-ba36-0e9a2243942b"
      },
      "source": [
        "xxx, yy= map(int, input().split())\n",
        "def loop(xxx,yy):\n",
        "    i=0\n",
        "    while i<=xxx:\n",
        "        j=xxx-i\n",
        "        if i*4+j*2==yy:\n",
        "                print (j,i)\n",
        "                break\n",
        "        i=i+1\n",
        "loop(xxx,yy)"
      ],
      "execution_count": null,
      "outputs": [
        {
          "output_type": "stream",
          "text": [
            "36 100\n",
            "22 14\n"
          ],
          "name": "stdout"
        }
      ]
    }
  ]
}