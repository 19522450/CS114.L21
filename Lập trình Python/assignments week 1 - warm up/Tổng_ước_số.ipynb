{
  "nbformat": 4,
  "nbformat_minor": 0,
  "metadata": {
    "colab": {
      "name": "Tổng ước số.ipynb",
      "provenance": [],
      "authorship_tag": "ABX9TyME9aoYG0R2NK3xOzryP6M7",
      "include_colab_link": true
    },
    "kernelspec": {
      "name": "python3",
      "display_name": "Python 3"
    }
  },
  "cells": [
    {
      "cell_type": "markdown",
      "metadata": {
        "id": "view-in-github",
        "colab_type": "text"
      },
      "source": [
        "<a href=\"https://colab.research.google.com/github/lphuong304/CS114.L21/blob/main/L%E1%BA%ADp%20tr%C3%ACnh%20Python/assignments%20week%201%20-%20warm%20up/T%E1%BB%95ng_%C6%B0%E1%BB%9Bc_s%E1%BB%91.ipynb\" target=\"_parent\"><img src=\"https://colab.research.google.com/assets/colab-badge.svg\" alt=\"Open In Colab\"/></a>"
      ]
    },
    {
      "cell_type": "markdown",
      "metadata": {
        "id": "gFmqpUZmXpLW"
      },
      "source": [
        "###### Người đóng góp: Nguyễn Ngọc Lan Phương\n",
        "### ĐỀ BÀI\n",
        "Viết chương trình tính tổng các ước số thực sự của một số nguyên dương.\n",
        "\n",
        "**INPUT**\n",
        "\n",
        "Số nguyên dương n giá trị không quá 1 tỷ.\n",
        "\n",
        "**OUTPUT**\n",
        "\n",
        "Tổng các ước số của n (không kể n)\n",
        "\n",
        "* Ý tưởng: Sử dụng vòng lặp để tìm các số bé hơn n, là ước của n."
      ]
    },
    {
      "cell_type": "code",
      "metadata": {
        "colab": {
          "base_uri": "https://localhost:8080/"
        },
        "id": "WIcLf8PeXthx",
        "outputId": "49ac88e5-26f1-4081-ab1e-3f973b59c29b"
      },
      "source": [
        "n=int(input())\n",
        "sum=0\n",
        "def uoc(sum,n):\n",
        "    for i in range(1,n-1):\n",
        "        if n % i == 0:\n",
        "            sum=sum+i\n",
        "    return sum\n",
        "print (uoc(sum,n))"
      ],
      "execution_count": null,
      "outputs": [
        {
          "output_type": "stream",
          "text": [
            "27\n",
            "13\n"
          ],
          "name": "stdout"
        }
      ]
    }
  ]
}