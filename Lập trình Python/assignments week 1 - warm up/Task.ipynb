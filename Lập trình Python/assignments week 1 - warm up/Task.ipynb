{
  "nbformat": 4,
  "nbformat_minor": 0,
  "metadata": {
    "colab": {
      "name": "Task.ipynb",
      "provenance": [],
      "authorship_tag": "ABX9TyM29G4qiYF4qHLbQIda19Ti",
      "include_colab_link": true
    },
    "kernelspec": {
      "name": "python3",
      "display_name": "Python 3"
    }
  },
  "cells": [
    {
      "cell_type": "markdown",
      "metadata": {
        "id": "view-in-github",
        "colab_type": "text"
      },
      "source": [
        "<a href=\"https://colab.research.google.com/github/lphuong304/CS114.L21/blob/main/L%E1%BA%ADp%20tr%C3%ACnh%20Python/assignments%20week%201%20-%20warm%20up/Task.ipynb\" target=\"_parent\"><img src=\"https://colab.research.google.com/assets/colab-badge.svg\" alt=\"Open In Colab\"/></a>"
      ]
    },
    {
      "cell_type": "markdown",
      "metadata": {
        "id": "nnn4VLlCnnc_"
      },
      "source": [
        "### ĐỀ BÀI\r\n",
        "\r\n",
        "Alice và Bob là đôi bạn thân trong lớp và thường giúp nhau trong giờ học. Hôm nay sẽ có tiết kiểm tra toán và như mọi khi – sẽ có **k đề** khác nhau. Lớp học có **n học sinh**. Các bàn trong lớp xếp thành một hàng dọc, mỗi bàn 2 người ngồi. Vị trí bên trái của bàn đánh số là 1, vị trí bên phải – đánh số 2. Đề bài được phát bắt đầu từ vị trí 1 của bàn 1 rồi đến vị trí 2 của bàn 1, tiếp theo là vị trí 1 của bàn 2, rồi tới vị trí 2 của bàn 2, . . . lần lượt các đề 1, đề 2, đề 3, . . . cho tới đề k rồi lại quay lại đề 1, đề 2, . . . cho tới khi tất cả các học sinh đều nhận được đề.\r\n",
        "\r\n",
        "Alice đến trước và ngồi vào vị trí quen thuộc của mình: **hàng p** và **vị trí q**. Bob đến sau và muốn ngồi vào nơi sẽ nhận được cùng đề với Alice và ở dãy bàn gần với dãy bàn của Alice nhất. Nếu có 2 cách ngồi thì Bob sẽ chọn bàn ở phía trước của Alice.\r\n",
        "\r\n",
        "Hãy xác định bàn u và vị trí v trong bàn nơi Bob cần phải ngồi. Nếu không có cách ngồi thỏa mãn thì đưa ra một số **-1**.\r\n",
        "\r\n",
        "Dữ liệu: Vào từ thiết bị nhập chuẩn:\r\n",
        "\r\n",
        "Dòng đầu tiên chứa một số nguyên **n (2 ≤ n ≤ 109)**,\r\n",
        "\r\n",
        "Dòng thứ 2 chứa số nguyên **k (2 ≤ k ≤ n)**,\r\n",
        "\r\n",
        "Dòng thứ 3 chứa số nguyên **p (1 ≤ p ≤ (n+1)/2)**,\r\n",
        "\r\n",
        "Dòng thứ 4 chứa số nguyên **q (1 ≤ q ≤ 2)**.\r\n",
        "\r\n",
        "**Kết quả:** Đưa ra thiết bị xuất chuẩn một dòng 2 số nguyên **u** và **v** tìm được hoặc số **-1** nếu không có cách ngồi thỏa mãn điều kiện đã nêu."
      ]
    },
    {
      "cell_type": "code",
      "metadata": {
        "colab": {
          "base_uri": "https://localhost:8080/"
        },
        "id": "o4624KYFnfNg",
        "outputId": "16b1293e-7b6b-40fc-dc5a-f4f8095b58b0"
      },
      "source": [
        "sohocsinh=int(input())\r\n",
        "sode=int(input())\r\n",
        "A_sohang=int(input())\r\n",
        "A_vitri=int(input())\r\n",
        "if sode>sohocsinh:\r\n",
        "    print (-1)\r\n",
        "if (sode%2==0):\r\n",
        "    B_vitri=A_vitri\r\n",
        "else:\r\n",
        "    if (A_vitri==1):\r\n",
        "         B_vitri=2\r\n",
        "    elif(A_vitri==2):\r\n",
        "        B_vitri=1\r\n",
        "B_hang=(A_sohang-1) * 2 + (A_vitri-1)\r\n",
        "if B_hang-sode>=0:\r\n",
        "    print((B_hang-sode)//2+1,B_vitri)\r\n",
        "elif B_hang+sode<=sohocsinh-1:\r\n",
        "    print((B_hang+sode)//2+1,B_vitri)\r\n",
        "else:\r\n",
        "    print(-1)"
      ],
      "execution_count": 1,
      "outputs": [
        {
          "output_type": "stream",
          "text": [
            "25\n",
            "2\n",
            "1\n",
            "2\n",
            "2 2\n"
          ],
          "name": "stdout"
        }
      ]
    }
  ]
}