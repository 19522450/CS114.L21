{
  "nbformat": 4,
  "nbformat_minor": 0,
  "metadata": {
    "colab": {
      "name": "Task.ipynb",
      "provenance": [],
      "authorship_tag": "ABX9TyMVfP2zYTyRtaBclDTCGIlF",
      "include_colab_link": true
    },
    "kernelspec": {
      "name": "python3",
      "display_name": "Python 3"
    }
  },
  "cells": [
    {
      "cell_type": "markdown",
      "metadata": {
        "id": "view-in-github",
        "colab_type": "text"
      },
      "source": [
        "<a href=\"https://colab.research.google.com/github/lphuong304/CS114.L21/blob/main/L%E1%BA%ADp%20tr%C3%ACnh%20Python/assignments%20week%201%20-%20warm%20up/Task.ipynb\" target=\"_parent\"><img src=\"https://colab.research.google.com/assets/colab-badge.svg\" alt=\"Open In Colab\"/></a>"
      ]
    },
    {
      "cell_type": "markdown",
      "metadata": {
        "id": "nnn4VLlCnnc_"
      },
      "source": [
        "#### Người đóng góp: Nguyễn Ngọc Lan Phương\n",
        "### ĐỀ BÀI\n",
        "\n",
        "Alice và Bob là đôi bạn thân trong lớp và thường giúp nhau trong giờ học. Hôm nay sẽ có tiết kiểm tra toán và như mọi khi – sẽ có **k đề** khác nhau. Lớp học có **n học sinh**. Các bàn trong lớp xếp thành một hàng dọc, mỗi bàn 2 người ngồi. Vị trí bên trái của bàn đánh số là 1, vị trí bên phải – đánh số 2. Đề bài được phát bắt đầu từ vị trí 1 của bàn 1 rồi đến vị trí 2 của bàn 1, tiếp theo là vị trí 1 của bàn 2, rồi tới vị trí 2 của bàn 2, . . . lần lượt các đề 1, đề 2, đề 3, . . . cho tới đề k rồi lại quay lại đề 1, đề 2, . . . cho tới khi tất cả các học sinh đều nhận được đề.\n",
        "\n",
        "Alice đến trước và ngồi vào vị trí quen thuộc của mình: **hàng p** và **vị trí q**. Bob đến sau và muốn ngồi vào nơi sẽ nhận được cùng đề với Alice và ở dãy bàn gần với dãy bàn của Alice nhất. Nếu có 2 cách ngồi thì Bob sẽ chọn bàn ở phía trước của Alice.\n",
        "\n",
        "Hãy xác định bàn u và vị trí v trong bàn nơi Bob cần phải ngồi. Nếu không có cách ngồi thỏa mãn thì đưa ra một số **-1**.\n",
        "\n",
        "Dữ liệu: Vào từ thiết bị nhập chuẩn:\n",
        "\n",
        "Dòng đầu tiên chứa một số nguyên **n (2 ≤ n ≤ 109)**,\n",
        "\n",
        "Dòng thứ 2 chứa số nguyên **k (2 ≤ k ≤ n)**,\n",
        "\n",
        "Dòng thứ 3 chứa số nguyên **p (1 ≤ p ≤ (n+1)/2)**,\n",
        "\n",
        "Dòng thứ 4 chứa số nguyên **q (1 ≤ q ≤ 2)**.\n",
        "\n",
        "**Kết quả:** Đưa ra thiết bị xuất chuẩn một dòng 2 số nguyên **u** và **v** tìm được hoặc số **-1** nếu không có cách ngồi thỏa mãn điều kiện đã nêu.\n",
        "\n",
        "* Ý tưởng: \n",
        "1. Tìm vị trí của Bob trong lớp học bằng cách nếu Alice làm đề chẵn thì Bob sẽ ngồi cùng dãy với Alice, ngược lại ngồi khác dãy\n",
        "2. Tìm hàng của Bob bằng cách lấy số hàng cộng cho số đề, lưu ý đến chi tiết B ngồi hàng sau hay hàng trước với A"
      ]
    },
    {
      "cell_type": "code",
      "metadata": {
        "colab": {
          "base_uri": "https://localhost:8080/"
        },
        "id": "o4624KYFnfNg",
        "outputId": "16b1293e-7b6b-40fc-dc5a-f4f8095b58b0"
      },
      "source": [
        "sohocsinh=int(input())\n",
        "sode=int(input())\n",
        "A_sohang=int(input())\n",
        "A_vitri=int(input())\n",
        "if sode>sohocsinh:\n",
        "    print (-1)\n",
        "if (sode%2==0):\n",
        "    B_vitri=A_vitri\n",
        "else:\n",
        "    if (A_vitri==1):\n",
        "         B_vitri=2\n",
        "    elif(A_vitri==2):\n",
        "        B_vitri=1\n",
        "B_hang=(A_sohang-1) * 2 + (A_vitri-1)\n",
        "if B_hang-sode>=0:\n",
        "    print((B_hang-sode)//2+1,B_vitri)\n",
        "elif B_hang+sode<=sohocsinh-1:\n",
        "    print((B_hang+sode)//2+1,B_vitri)\n",
        "else:\n",
        "    print(-1)"
      ],
      "execution_count": null,
      "outputs": [
        {
          "output_type": "stream",
          "text": [
            "25\n",
            "2\n",
            "1\n",
            "2\n",
            "2 2\n"
          ],
          "name": "stdout"
        }
      ]
    }
  ]
}