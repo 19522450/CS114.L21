{
  "nbformat": 4,
  "nbformat_minor": 0,
  "metadata": {
    "colab": {
      "name": "Xử lý chuỗi.ipynb",
      "provenance": [],
      "authorship_tag": "ABX9TyMjoVbVfAm5USLGb8t68OQN",
      "include_colab_link": true
    },
    "kernelspec": {
      "name": "python3",
      "display_name": "Python 3"
    },
    "language_info": {
      "name": "python"
    }
  },
  "cells": [
    {
      "cell_type": "markdown",
      "metadata": {
        "id": "view-in-github",
        "colab_type": "text"
      },
      "source": [
        "<a href=\"https://colab.research.google.com/github/lphuong304/CS114.L21/blob/main/L%E1%BA%ADp%20tr%C3%ACnh%20Python/assignments%201.2/X%E1%BB%AD_l%C3%BD_chu%E1%BB%97i.ipynb\" target=\"_parent\"><img src=\"https://colab.research.google.com/assets/colab-badge.svg\" alt=\"Open In Colab\"/></a>"
      ]
    },
    {
      "cell_type": "markdown",
      "metadata": {
        "id": "wHxtXRje387T"
      },
      "source": [
        "# **Xử lý chuỗi**"
      ]
    },
    {
      "cell_type": "markdown",
      "metadata": {
        "id": "RDFuj29d39Bn"
      },
      "source": [
        "**Người đóng góp: Nguyễn Quốc Huy**"
      ]
    },
    {
      "cell_type": "markdown",
      "metadata": {
        "id": "4xEcF1Ix4DLg"
      },
      "source": [
        "Bob đang tham dự một lớp học lập trình. Bài tập đầu tiên của Bob là viết một chương trình đơn giản. Chương trình sẽ yêu cầu nhập một chuỗi, sau đó nếu có chữ viết hoa trong chuỗi thì thay thế chúng bằng những chữ viết thường. Xóa hết tất cả các nguyên âm và chèn dấu \".\" trước mỗi phụ âm có trong chuỗi đó.\n",
        "\n",
        "Biết nguyên âm là những kí tự \"A\",\"O\",\"Y\",\"E\",\"U\",\"I\", và những kí tự còn lại là phụ âm. Chương trình sẽ sẽ nhận đầu vào là mỗi chuỗi và đầu ra là một chuỗi sau khi xử lí những yêu cầu trên.\n",
        "\n",
        "Bob đang loay hoay không biết làm bài này như thế nào. Bạn hãy giúp Bob nhé.\n",
        "\n",
        "INPUT:\n",
        "\n",
        "Dòng đầu tiên là một chuỗi gồm những cữ cái Latin viết hoa và viết thường, có độ dài từ 1 đến 100.\n",
        "\n",
        "OUTPUT:\n",
        "\n",
        "Chuỗi kết quả."
      ]
    },
    {
      "cell_type": "code",
      "metadata": {
        "colab": {
          "base_uri": "https://localhost:8080/"
        },
        "id": "4P4baCBK36uA",
        "outputId": "366e194f-0cb5-4df8-a3e0-b8a186045813"
      },
      "source": [
        "Bob_str = input()\n",
        "\n",
        "Bob_str = Bob_str.lower()\n",
        "\n",
        "check_str = \"AOYEUIaoyeui\"\n",
        "\n",
        "for i in Bob_str:\n",
        "    for j in check_str:\n",
        "        if i == j:\n",
        "            Bob_str = Bob_str.replace(i,\"\")\n",
        "for i in Bob_str:\n",
        "    print(\".\"+i, end=\"\")"
      ],
      "execution_count": 1,
      "outputs": [
        {
          "output_type": "stream",
          "text": [
            "tour\n",
            ".t.r"
          ],
          "name": "stdout"
        }
      ]
    }
  ]
}