{
  "nbformat": 4,
  "nbformat_minor": 0,
  "metadata": {
    "colab": {
      "name": "Rút gọn phân số.ipynb",
      "provenance": [],
      "collapsed_sections": [],
      "authorship_tag": "ABX9TyMO3bweKyy9PbDeY+UekP8w",
      "include_colab_link": true
    },
    "kernelspec": {
      "name": "python3",
      "display_name": "Python 3"
    },
    "language_info": {
      "name": "python"
    }
  },
  "cells": [
    {
      "cell_type": "markdown",
      "metadata": {
        "id": "view-in-github",
        "colab_type": "text"
      },
      "source": [
        "<a href=\"https://colab.research.google.com/github/lphuong304/CS114.L21/blob/main/L%E1%BA%ADp%20tr%C3%ACnh%20Python/assignments%201.2/R%C3%BAt_g%E1%BB%8Dn_ph%C3%A2n_s%E1%BB%91.ipynb\" target=\"_parent\"><img src=\"https://colab.research.google.com/assets/colab-badge.svg\" alt=\"Open In Colab\"/></a>"
      ]
    },
    {
      "cell_type": "markdown",
      "metadata": {
        "id": "QXFAHIk043j5"
      },
      "source": [
        "# **Rút gọn phân số**"
      ]
    },
    {
      "cell_type": "markdown",
      "metadata": {
        "id": "FN_tSvMI47_C"
      },
      "source": [
        "**Người đóng góp: Nguyễn Quốc Huy**"
      ]
    },
    {
      "cell_type": "markdown",
      "metadata": {
        "id": "nzP0o-fW4-qT"
      },
      "source": [
        "Viết chương trình rút gọn phân số.\n",
        "\n",
        "INPUT\n",
        "\n",
        "Dòng đầu tiên là một số nguyên \n",
        "n\n",
        " \n",
        "(\n",
        "1\n",
        "≤\n",
        "n\n",
        "≤\n",
        "100\n",
        ")\n",
        " — Số lượng phân số cần rút gọn\n",
        "\n",
        "n\n",
        " dòng tiếp theo là hai số nguyên \n",
        "a\n",
        ",\n",
        "b\n",
        "(\n",
        "a\n",
        ",\n",
        "b\n",
        "≥\n",
        "1\n",
        ")\n",
        " — \n",
        "a\n",
        ",\n",
        "b\n",
        " lần lượt là tử số và mẫu số.\n",
        "\n",
        "OUTPUT\n",
        "\n",
        "Ứng với \n",
        "n\n",
        " dòng, in ra theo thứ tự tử số và mẫu số (cách nhau một khoảng trắng) sau khi rút gọn; mẫu số chỉ được in khi lớn hơn 1."
      ]
    },
    {
      "cell_type": "code",
      "metadata": {
        "colab": {
          "base_uri": "https://localhost:8080/"
        },
        "id": "iz_XcRCe4kWE",
        "outputId": "1ee2e18f-928d-43f7-ce84-ee7f4b82087a"
      },
      "source": [
        "import math\n",
        "n = int(input())\n",
        "\n",
        "for i in range(n):\n",
        "    a, b = map(int, input().split())\n",
        "    c = math.gcd(a,b)\n",
        "    if a%b==0:\n",
        "        print(a//b)\n",
        "    else:\n",
        "        a = a // c\n",
        "        b = b // c\n",
        "        print(a,b)"
      ],
      "execution_count": 1,
      "outputs": [
        {
          "output_type": "stream",
          "text": [
            "3\n",
            "4 5\n",
            "4 5\n",
            "4 8\n",
            "1 2\n",
            "9 18\n",
            "1 2\n"
          ],
          "name": "stdout"
        }
      ]
    }
  ]
}