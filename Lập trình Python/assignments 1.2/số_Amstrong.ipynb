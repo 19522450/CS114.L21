{
  "nbformat": 4,
  "nbformat_minor": 0,
  "metadata": {
    "colab": {
      "name": "số Amstrong.ipynb",
      "provenance": [],
      "authorship_tag": "ABX9TyMXT06S5Q2/1RPdvls6SmZl",
      "include_colab_link": true
    },
    "kernelspec": {
      "name": "python3",
      "display_name": "Python 3"
    },
    "language_info": {
      "name": "python"
    }
  },
  "cells": [
    {
      "cell_type": "markdown",
      "metadata": {
        "id": "view-in-github",
        "colab_type": "text"
      },
      "source": [
        "<a href=\"https://colab.research.google.com/github/lphuong304/CS114.L21/blob/main/L%E1%BA%ADp%20tr%C3%ACnh%20Python/assignments%201.2/s%E1%BB%91_Amstrong.ipynb\" target=\"_parent\"><img src=\"https://colab.research.google.com/assets/colab-badge.svg\" alt=\"Open In Colab\"/></a>"
      ]
    },
    {
      "cell_type": "markdown",
      "metadata": {
        "id": "TZdbQFpt01AN"
      },
      "source": [
        "# **Số Amstrong**"
      ]
    },
    {
      "cell_type": "markdown",
      "metadata": {
        "id": "-2Uf4P23061Q"
      },
      "source": [
        "**Người đóng góp: Nguyễn Quốc Huy**"
      ]
    },
    {
      "cell_type": "markdown",
      "metadata": {
        "id": "HuvOYS0L09wQ"
      },
      "source": [
        "Kiểm tra Số Armstrong (Số Armstrong là số có K chữ số và tổng lũy thừa bậc K của các chữ số bằng chính nó)\n",
        "\n",
        "INPUT\n",
        "\n",
        "Một số nguyên không âm\n",
        "\n",
        "OUTPUT\n",
        "\n",
        "Xuất True nếu số nhập vào là số Armstrong, ngược lại False"
      ]
    },
    {
      "cell_type": "code",
      "metadata": {
        "id": "k1xCrGUh0VJQ",
        "colab": {
          "base_uri": "https://localhost:8080/"
        },
        "outputId": "91134461-8fab-4f9e-c910-540818025791"
      },
      "source": [
        "n = int(input())\n",
        "m = n\n",
        "lst = []\n",
        "\n",
        "def tachso(n, lst):\n",
        "    while n > 0:\n",
        "        lst.append(n%10)\n",
        "        n = int(n/10)\n",
        "\n",
        "tachso(n,lst)\n",
        "\n",
        "luythua = 0\n",
        "for i in lst:\n",
        "    luythua = luythua + 1\n",
        "\n",
        "sum = 0\n",
        "for i in lst:\n",
        "    sum = sum + i**luythua\n",
        "\n",
        "if sum == m:\n",
        "    print(True)\n",
        "else:\n",
        "    print(False)"
      ],
      "execution_count": 2,
      "outputs": [
        {
          "output_type": "stream",
          "text": [
            "153\n",
            "True\n"
          ],
          "name": "stdout"
        }
      ]
    }
  ]
}