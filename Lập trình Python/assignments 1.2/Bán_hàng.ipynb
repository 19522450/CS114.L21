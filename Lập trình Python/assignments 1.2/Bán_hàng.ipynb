{
  "nbformat": 4,
  "nbformat_minor": 0,
  "metadata": {
    "colab": {
      "name": "Bán hàng.ipynb",
      "provenance": [],
      "authorship_tag": "ABX9TyPe4+iTHiKK8rxlZdDYmoYD",
      "include_colab_link": true
    },
    "kernelspec": {
      "name": "python3",
      "display_name": "Python 3"
    },
    "language_info": {
      "name": "python"
    }
  },
  "cells": [
    {
      "cell_type": "markdown",
      "metadata": {
        "id": "view-in-github",
        "colab_type": "text"
      },
      "source": [
        "<a href=\"https://colab.research.google.com/github/lphuong304/CS114.L21/blob/main/L%E1%BA%ADp%20tr%C3%ACnh%20Python/assignments%201.2/B%C3%A1n_h%C3%A0ng.ipynb\" target=\"_parent\"><img src=\"https://colab.research.google.com/assets/colab-badge.svg\" alt=\"Open In Colab\"/></a>"
      ]
    },
    {
      "cell_type": "markdown",
      "metadata": {
        "id": "ZIlpqfNo23xi"
      },
      "source": [
        "# **Bán hàng**"
      ]
    },
    {
      "cell_type": "markdown",
      "metadata": {
        "id": "8IJhi26V2_0z"
      },
      "source": [
        "**Người đóng góp: Nguyễn Quốc Huy**"
      ]
    },
    {
      "cell_type": "markdown",
      "metadata": {
        "id": "Me2lGlCQ27Jb"
      },
      "source": [
        "Nam đang là quản lí một cửa hàng nhỏ trong thị trấn. Cửa hàng của Nam có \n",
        "n\n",
        " hàng hóa, mỗi hàng hóa thứ \n",
        "i\n",
        " có giá \n",
        "a\n",
        "i\n",
        " đồng,\n",
        "\n",
        "Mỗi ngày, có rất nhiều khách hàng ghé cửa hàng của Nam và liên tục hỏi giá của từng sản phẩm. Do có quá nhiều hàng hóa nên Nam không thể nào nhớ hết giá của chúng. Vì thế, Nam đã quyết định bán đồng giá tất cả các hàng hóa trong cửa hàng của mình.\n",
        "\n",
        "Tuy nhiên, để không lỗ vốn, Nam muốn sau khi tất cả \n",
        "n\n",
        "  hàng hóa trong cửa hàng được bán hết thì thu được tổng số tiền bằng (hoặc lớn hơn) so với tổng giá hàng hóa bán với giá gốc.\n",
        "\n",
        "Mặt khác, Nam không muốn mất khách nếu giá bán quá lớn. Vì vậy, Nam phải bán \n",
        "n\n",
        " hàng hóa với giá tối thiểu sao cho tổng số tiền thu được sau khi bán hết hàng hóa có trong cửa hàng phải bằng (hoặc lớn hơn tối thiểu) so với tổng giá hàng hóa bán với giá gốc.\n",
        "\n",
        "Với mỗi testcase các bạn hãy giúp Nam tìm ra giá bán phù hợp."
      ]
    },
    {
      "cell_type": "markdown",
      "metadata": {
        "id": "H0Pjip0k3Dlo"
      },
      "source": [
        "INPUT:\n",
        "\n",
        "Dòng đầu tiên là một số nguyên \n",
        "q\n",
        " \n",
        "(\n",
        "1\n",
        "≤\n",
        "q\n",
        "≤\n",
        "100\n",
        ")\n",
        "— số lượng testcase. Theo sau mỗi \n",
        "q\n",
        " dòng là:\n",
        "\n",
        "Dòng đầu tiên của testcase là một số nguyên \n",
        "n\n",
        "  \n",
        "(\n",
        "1\n",
        "≤\n",
        "q\n",
        "≤\n",
        "100\n",
        ")\n",
        " — số lượng hàng hóa. Dòng thứ hai gồm \n",
        "n\n",
        "  số nguyên \n",
        "a\n",
        "1\n",
        ",\n",
        "a\n",
        "2\n",
        ",\n",
        ".\n",
        ".\n",
        ".\n",
        ",\n",
        "a\n",
        "n\n",
        "(\n",
        "1\n",
        "≤\n",
        "a\n",
        "i\n",
        "≤\n",
        "10\n",
        "7\n",
        ")\n",
        " — \n",
        "a\n",
        "i\n",
        " giá gốc của hàng hóa thứ \n",
        "i\n",
        ".\n",
        "\n",
        "OUTPUT:\n",
        "\n",
        "Với mỗi testcase in ra giá bán đồng giá tối thiểu của \n",
        "n\n",
        " hàng hóa sao cho tổng số tiền thu được sau khi bán hết hàng hóa có trong cửa hàng phải bằng (hoặc lớn hơn tối thiểu) so với tổng giá hàng hóa bán với giá gốc."
      ]
    },
    {
      "cell_type": "code",
      "metadata": {
        "colab": {
          "base_uri": "https://localhost:8080/"
        },
        "id": "W-Qw3Uvo21bR",
        "outputId": "50bcb049-ad79-45ec-a4ff-8f4db72fd6ba"
      },
      "source": [
        "import math\n",
        "\n",
        "n_testcase = int(input())\n",
        "\n",
        "for i in range(n_testcase):\n",
        "    n = int(input())\n",
        "    ar = list(map(int, input().split(' ')[:n]))\n",
        "    sum = 0\n",
        "    for j in ar:\n",
        "        sum = sum + j\n",
        "    print(math.ceil(sum/n))"
      ],
      "execution_count": 1,
      "outputs": [
        {
          "output_type": "stream",
          "text": [
            "3\n",
            "5\n",
            "1 2 3 4 5\n",
            "3\n",
            "3\n",
            "1 2 2\n",
            "2\n",
            "4\n",
            "1 5 4 7\n",
            "5\n"
          ],
          "name": "stdout"
        }
      ]
    }
  ]
}