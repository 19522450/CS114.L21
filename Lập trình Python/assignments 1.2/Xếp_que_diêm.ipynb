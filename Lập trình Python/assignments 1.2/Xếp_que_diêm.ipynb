{
  "nbformat": 4,
  "nbformat_minor": 0,
  "metadata": {
    "colab": {
      "name": "Xếp que diêm.ipynb",
      "provenance": [],
      "authorship_tag": "ABX9TyNmFPfOdAaX6g/5zfajjEcH",
      "include_colab_link": true
    },
    "kernelspec": {
      "name": "python3",
      "display_name": "Python 3"
    },
    "language_info": {
      "name": "python"
    }
  },
  "cells": [
    {
      "cell_type": "markdown",
      "metadata": {
        "id": "view-in-github",
        "colab_type": "text"
      },
      "source": [
        "<a href=\"https://colab.research.google.com/github/lphuong304/CS114.L21/blob/main/L%E1%BA%ADp%20tr%C3%ACnh%20Python/assignments%201.2/X%E1%BA%BFp_que_di%C3%AAm.ipynb\" target=\"_parent\"><img src=\"https://colab.research.google.com/assets/colab-badge.svg\" alt=\"Open In Colab\"/></a>"
      ]
    },
    {
      "cell_type": "markdown",
      "metadata": {
        "id": "sbkHqfPV61k4"
      },
      "source": [
        "# **Xếp que diêm**"
      ]
    },
    {
      "cell_type": "markdown",
      "metadata": {
        "id": "9-q41OBg63Yo"
      },
      "source": [
        "**Người đóng góp: Nguyễn Quốc Huy**"
      ]
    },
    {
      "cell_type": "markdown",
      "metadata": {
        "id": "nw1ObmEc65cI"
      },
      "source": [
        "Một phương trình đúng (PTĐ) được định nghĩa là phương trình có dạng a+b=c\n",
        ", trong đó a,b,c>0.\n",
        "\n",
        "Ví dụ: phương trình 2+2=4\n",
        " (| | + | | = | | | |) và 1+2=3\n",
        " (| + | | = | | |) là PTĐ.\n",
        "\n",
        "Còn 1+2=4 (| + | | = | | | |), 2+2=3 (| | + | | = | | |) và 0+1=1 ( + | = |) không phải là PTĐ.\n",
        "\n",
        "Bây giờ bạn có \n",
        "n que diêm. Bạn muốn sử dụng tất cả số que diêm đó để xếp thành một PTĐ. Không may thay, có một số trường hợp bạn không thể xếp được nếu bạn dùng tất cả n que diêm. Nhưng nếu bạn ra chợ mua thêm k que diêm nữa thì bạn có thể xếp được.\n",
        "\n",
        "Ví dụ, n=2, bạn cần mua thêm 2 cây diêm nữa để xếp thành | + | = | |.\n",
        "n=5, bạn cần mua thêm 1 cây diêm nữa để xếp thành | | + | = | | |.\n",
        "\n",
        "Nhiệm vụ của bạn là tìm ra số que diêm cần mua ít nhất để có thể xếp thành PTĐ.\n",
        "\n",
        "INPUT:\n",
        "\n",
        "Dòng đầu tiên là một số nguyên q (1≤q≤100) — số lượng testcase. q dòng tiếp theo, mỗi dòng là một số nguyên n (2≤n≤109) — số lượng que diêm có ban đầu.\n",
        "\n",
        "OUTPUT:\n",
        "\n",
        "Với mỗi testcase xuất ra trên một dòng số lượng que diêm tối thiểu cần phải mua để có thể xếp thành PTĐ."
      ]
    },
    {
      "cell_type": "code",
      "metadata": {
        "colab": {
          "base_uri": "https://localhost:8080/"
        },
        "id": "NJE4Mu9q6zjq",
        "outputId": "03e27628-0dfa-40e6-cf02-8d4dbd23b5a2"
      },
      "source": [
        "test_case = int(input())\n",
        "\n",
        "for i in range(test_case):\n",
        "    n = int(input())\n",
        "    if n == 2:\n",
        "        print(2)\n",
        "    elif n % 2 == 0:\n",
        "        print(0)\n",
        "    else:\n",
        "        print(1)"
      ],
      "execution_count": 1,
      "outputs": [
        {
          "output_type": "stream",
          "text": [
            "4\n",
            "2\n",
            "2\n",
            "5\n",
            "1\n",
            "8\n",
            "0\n",
            "11\n",
            "1\n"
          ],
          "name": "stdout"
        }
      ]
    }
  ]
}