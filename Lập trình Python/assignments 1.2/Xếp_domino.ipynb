{
  "nbformat": 4,
  "nbformat_minor": 0,
  "metadata": {
    "colab": {
      "name": "Xếp domino.ipynb",
      "provenance": [],
      "authorship_tag": "ABX9TyMtcpOYffQGpaKTh1V2+TB2",
      "include_colab_link": true
    },
    "kernelspec": {
      "name": "python3",
      "display_name": "Python 3"
    },
    "language_info": {
      "name": "python"
    }
  },
  "cells": [
    {
      "cell_type": "markdown",
      "metadata": {
        "id": "view-in-github",
        "colab_type": "text"
      },
      "source": [
        "<a href=\"https://colab.research.google.com/github/lphuong304/CS114.L21/blob/main/L%E1%BA%ADp%20tr%C3%ACnh%20Python/assignments%201.2/X%E1%BA%BFp_domino.ipynb\" target=\"_parent\"><img src=\"https://colab.research.google.com/assets/colab-badge.svg\" alt=\"Open In Colab\"/></a>"
      ]
    },
    {
      "cell_type": "markdown",
      "metadata": {
        "id": "0_iaBCf_6BIV"
      },
      "source": [
        "# **Xếp domino**"
      ]
    },
    {
      "cell_type": "markdown",
      "metadata": {
        "id": "0IgDF9qr6DJO"
      },
      "source": [
        "**Người đóng góp: Nguyễn Quốc Huy**"
      ]
    },
    {
      "cell_type": "markdown",
      "metadata": {
        "id": "McQZ9U3d6Fzk"
      },
      "source": [
        "Có một tấm ván gồm MxN hình vuông. Thêm vào đó, có thêm một số lượng không giới hạn các mảnh domino với kích thước 2x1 hình vuông. Bạn được phép quay mảnh domino. Nhiệm vụ cần thực hiện là xếp nhiều mảnh domino nhất lên tấm ván sao cho thỏa các điều kiện sau:\n",
        "\n",
        "- Mỗi mảnh domino phủ toàn bộ 2 hình vuông\n",
        "\n",
        "- Không có mảnh nào bị xếp chồng lên nhau\n",
        "\n",
        "- Mỗi mảnh phải nằm toàn bộ trên mặt ván\n",
        "\n",
        "Tìm số lượng lớn nhất domino có thể xếp lên tấm ván.\n",
        "\n",
        "INPUT\n",
        "\n",
        "Hai số nguyên dương M, N\n",
        "\n",
        "OUTPUT\n",
        "\n",
        "Số lượng tối đa mảnh domino có thể xếp được lên tấm ván"
      ]
    },
    {
      "cell_type": "code",
      "metadata": {
        "colab": {
          "base_uri": "https://localhost:8080/"
        },
        "id": "f3P1wcCQ582-",
        "outputId": "e15beffe-56a7-4d6b-e215-013138a75dc8"
      },
      "source": [
        "a, b = map(int, input().split())\n",
        "import math\n",
        "print(math.floor((a*b)//2))"
      ],
      "execution_count": 1,
      "outputs": [
        {
          "output_type": "stream",
          "text": [
            "2 4\n",
            "4\n"
          ],
          "name": "stdout"
        }
      ]
    }
  ]
}