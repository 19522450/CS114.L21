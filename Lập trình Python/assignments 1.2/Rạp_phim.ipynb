{
  "nbformat": 4,
  "nbformat_minor": 0,
  "metadata": {
    "colab": {
      "name": "Rạp phim.ipynb",
      "provenance": [],
      "authorship_tag": "ABX9TyPEYRX4+zxojQfbLF1FSra5",
      "include_colab_link": true
    },
    "kernelspec": {
      "name": "python3",
      "display_name": "Python 3"
    },
    "language_info": {
      "name": "python"
    }
  },
  "cells": [
    {
      "cell_type": "markdown",
      "metadata": {
        "id": "view-in-github",
        "colab_type": "text"
      },
      "source": [
        "<a href=\"https://colab.research.google.com/github/lphuong304/CS114.L21/blob/main/L%E1%BA%ADp%20tr%C3%ACnh%20Python/assignments%201.2/R%E1%BA%A1p_phim.ipynb\" target=\"_parent\"><img src=\"https://colab.research.google.com/assets/colab-badge.svg\" alt=\"Open In Colab\"/></a>"
      ]
    },
    {
      "cell_type": "markdown",
      "metadata": {
        "id": "2LtmNgPD5ckt"
      },
      "source": [
        "# **Rạp phim**"
      ]
    },
    {
      "cell_type": "markdown",
      "metadata": {
        "id": "4K-hTAXi5cRC"
      },
      "source": [
        "**Người đóng góp: Nguyễn Quốc Huy**"
      ]
    },
    {
      "cell_type": "markdown",
      "metadata": {
        "id": "1XSZo9Tq5jJ8"
      },
      "source": [
        "Một rạp phim có diện tích sàn là n x m. Nhân lễ kỉ niệm, người ta cần lót gạch cho sàn của rạp bằng các viên gạch hình vuông với cạnh có kích thước là a. Xác định số lượng viên gạch cần ít nhất để phủ toàn bộ sàn, biết rằng diện tích toàn bộ số gạch được dùng có thể lớn hơn diện tích thực tế của sàn và các viên gạch phải được giữ nguyên, không được cắt ra.\n",
        "\n",
        "INPUT\n",
        "\n",
        "Ba số nguyên dương n, m, a\n",
        "\n",
        "OUTPUT\n",
        "\n",
        "Số lượng gạch ít nhất cần để lót sàn."
      ]
    },
    {
      "cell_type": "code",
      "metadata": {
        "colab": {
          "base_uri": "https://localhost:8080/"
        },
        "id": "AViGyx3d5W_v",
        "outputId": "1e11853b-50c2-49a0-de7f-6241c645eb21"
      },
      "source": [
        "import math\n",
        "\n",
        "n, m, a = map(float, input().split())\n",
        "\n",
        "print(math.ceil(n/a) * math.ceil(m/a))"
      ],
      "execution_count": 1,
      "outputs": [
        {
          "output_type": "stream",
          "text": [
            "6 6 4\n",
            "4\n"
          ],
          "name": "stdout"
        }
      ]
    }
  ]
}